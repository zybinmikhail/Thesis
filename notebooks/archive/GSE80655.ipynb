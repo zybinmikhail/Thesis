{
 "cells": [
  {
   "cell_type": "code",
   "execution_count": 1,
   "id": "c95eb3c0",
   "metadata": {
    "ExecuteTime": {
     "end_time": "2023-02-28T10:27:12.471637Z",
     "start_time": "2023-02-28T10:27:11.343716Z"
    }
   },
   "outputs": [],
   "source": [
    "import numpy as np\n",
    "import pandas as pd"
   ]
  },
  {
   "cell_type": "code",
   "execution_count": 2,
   "id": "a1398a7a",
   "metadata": {
    "ExecuteTime": {
     "end_time": "2023-02-27T14:40:47.243539Z",
     "start_time": "2023-02-27T14:40:46.143155Z"
    }
   },
   "outputs": [],
   "source": [
    "data = pd.read_csv(\n",
    "    \"../../data/input/GSE80655_GeneExpressionData_Updated_3-26-2018.txt\",\n",
    "    sep=\"\\t\",\n",
    "    index_col=0,\n",
    ")"
   ]
  },
  {
   "cell_type": "code",
   "execution_count": 3,
   "id": "5656af94",
   "metadata": {
    "ExecuteTime": {
     "end_time": "2023-02-27T14:40:47.270197Z",
     "start_time": "2023-02-27T14:40:47.246364Z"
    }
   },
   "outputs": [
    {
     "data": {
      "text/html": [
       "<div>\n",
       "<style scoped>\n",
       "    .dataframe tbody tr th:only-of-type {\n",
       "        vertical-align: middle;\n",
       "    }\n",
       "\n",
       "    .dataframe tbody tr th {\n",
       "        vertical-align: top;\n",
       "    }\n",
       "\n",
       "    .dataframe thead th {\n",
       "        text-align: right;\n",
       "    }\n",
       "</style>\n",
       "<table border=\"1\" class=\"dataframe\">\n",
       "  <thead>\n",
       "    <tr style=\"text-align: right;\">\n",
       "      <th></th>\n",
       "      <th>SL31501</th>\n",
       "      <th>SL31502</th>\n",
       "      <th>SL31503</th>\n",
       "      <th>SL31504</th>\n",
       "      <th>SL31505</th>\n",
       "      <th>SL31506</th>\n",
       "      <th>SL31507</th>\n",
       "      <th>SL31508</th>\n",
       "      <th>SL32225</th>\n",
       "      <th>SL32226</th>\n",
       "      <th>...</th>\n",
       "      <th>SL7849</th>\n",
       "      <th>SL7851</th>\n",
       "      <th>SL7852</th>\n",
       "      <th>SL7853</th>\n",
       "      <th>SL7854</th>\n",
       "      <th>SL7855</th>\n",
       "      <th>SL7856</th>\n",
       "      <th>SL7857</th>\n",
       "      <th>SL7858</th>\n",
       "      <th>SL8435</th>\n",
       "    </tr>\n",
       "    <tr>\n",
       "      <th>gene_id</th>\n",
       "      <th></th>\n",
       "      <th></th>\n",
       "      <th></th>\n",
       "      <th></th>\n",
       "      <th></th>\n",
       "      <th></th>\n",
       "      <th></th>\n",
       "      <th></th>\n",
       "      <th></th>\n",
       "      <th></th>\n",
       "      <th></th>\n",
       "      <th></th>\n",
       "      <th></th>\n",
       "      <th></th>\n",
       "      <th></th>\n",
       "      <th></th>\n",
       "      <th></th>\n",
       "      <th></th>\n",
       "      <th></th>\n",
       "      <th></th>\n",
       "      <th></th>\n",
       "    </tr>\n",
       "  </thead>\n",
       "  <tbody>\n",
       "    <tr>\n",
       "      <th>ENSG00000223972</th>\n",
       "      <td>0</td>\n",
       "      <td>0</td>\n",
       "      <td>0</td>\n",
       "      <td>0</td>\n",
       "      <td>0</td>\n",
       "      <td>0</td>\n",
       "      <td>0</td>\n",
       "      <td>0</td>\n",
       "      <td>3</td>\n",
       "      <td>0</td>\n",
       "      <td>...</td>\n",
       "      <td>1</td>\n",
       "      <td>0</td>\n",
       "      <td>0</td>\n",
       "      <td>0</td>\n",
       "      <td>0</td>\n",
       "      <td>2</td>\n",
       "      <td>0</td>\n",
       "      <td>1</td>\n",
       "      <td>1</td>\n",
       "      <td>0</td>\n",
       "    </tr>\n",
       "    <tr>\n",
       "      <th>ENSG00000227232</th>\n",
       "      <td>93</td>\n",
       "      <td>80</td>\n",
       "      <td>116</td>\n",
       "      <td>50</td>\n",
       "      <td>233</td>\n",
       "      <td>113</td>\n",
       "      <td>119</td>\n",
       "      <td>146</td>\n",
       "      <td>225</td>\n",
       "      <td>156</td>\n",
       "      <td>...</td>\n",
       "      <td>147</td>\n",
       "      <td>166</td>\n",
       "      <td>118</td>\n",
       "      <td>74</td>\n",
       "      <td>88</td>\n",
       "      <td>194</td>\n",
       "      <td>121</td>\n",
       "      <td>83</td>\n",
       "      <td>418</td>\n",
       "      <td>50</td>\n",
       "    </tr>\n",
       "    <tr>\n",
       "      <th>ENSG00000243485</th>\n",
       "      <td>0</td>\n",
       "      <td>0</td>\n",
       "      <td>0</td>\n",
       "      <td>0</td>\n",
       "      <td>0</td>\n",
       "      <td>0</td>\n",
       "      <td>0</td>\n",
       "      <td>0</td>\n",
       "      <td>0</td>\n",
       "      <td>0</td>\n",
       "      <td>...</td>\n",
       "      <td>0</td>\n",
       "      <td>0</td>\n",
       "      <td>0</td>\n",
       "      <td>0</td>\n",
       "      <td>0</td>\n",
       "      <td>0</td>\n",
       "      <td>0</td>\n",
       "      <td>0</td>\n",
       "      <td>0</td>\n",
       "      <td>0</td>\n",
       "    </tr>\n",
       "    <tr>\n",
       "      <th>ENSG00000237613</th>\n",
       "      <td>0</td>\n",
       "      <td>0</td>\n",
       "      <td>0</td>\n",
       "      <td>0</td>\n",
       "      <td>0</td>\n",
       "      <td>0</td>\n",
       "      <td>0</td>\n",
       "      <td>0</td>\n",
       "      <td>0</td>\n",
       "      <td>0</td>\n",
       "      <td>...</td>\n",
       "      <td>0</td>\n",
       "      <td>0</td>\n",
       "      <td>0</td>\n",
       "      <td>0</td>\n",
       "      <td>0</td>\n",
       "      <td>0</td>\n",
       "      <td>0</td>\n",
       "      <td>0</td>\n",
       "      <td>0</td>\n",
       "      <td>0</td>\n",
       "    </tr>\n",
       "    <tr>\n",
       "      <th>ENSG00000268020</th>\n",
       "      <td>1</td>\n",
       "      <td>0</td>\n",
       "      <td>0</td>\n",
       "      <td>1</td>\n",
       "      <td>0</td>\n",
       "      <td>0</td>\n",
       "      <td>0</td>\n",
       "      <td>0</td>\n",
       "      <td>0</td>\n",
       "      <td>0</td>\n",
       "      <td>...</td>\n",
       "      <td>0</td>\n",
       "      <td>0</td>\n",
       "      <td>0</td>\n",
       "      <td>0</td>\n",
       "      <td>2</td>\n",
       "      <td>0</td>\n",
       "      <td>0</td>\n",
       "      <td>0</td>\n",
       "      <td>0</td>\n",
       "      <td>0</td>\n",
       "    </tr>\n",
       "  </tbody>\n",
       "</table>\n",
       "<p>5 rows × 281 columns</p>\n",
       "</div>"
      ],
      "text/plain": [
       "                 SL31501  SL31502  SL31503  SL31504  SL31505  SL31506  \\\n",
       "gene_id                                                                 \n",
       "ENSG00000223972        0        0        0        0        0        0   \n",
       "ENSG00000227232       93       80      116       50      233      113   \n",
       "ENSG00000243485        0        0        0        0        0        0   \n",
       "ENSG00000237613        0        0        0        0        0        0   \n",
       "ENSG00000268020        1        0        0        1        0        0   \n",
       "\n",
       "                 SL31507  SL31508  SL32225  SL32226  ...  SL7849  SL7851  \\\n",
       "gene_id                                              ...                   \n",
       "ENSG00000223972        0        0        3        0  ...       1       0   \n",
       "ENSG00000227232      119      146      225      156  ...     147     166   \n",
       "ENSG00000243485        0        0        0        0  ...       0       0   \n",
       "ENSG00000237613        0        0        0        0  ...       0       0   \n",
       "ENSG00000268020        0        0        0        0  ...       0       0   \n",
       "\n",
       "                 SL7852  SL7853  SL7854  SL7855  SL7856  SL7857  SL7858  \\\n",
       "gene_id                                                                   \n",
       "ENSG00000223972       0       0       0       2       0       1       1   \n",
       "ENSG00000227232     118      74      88     194     121      83     418   \n",
       "ENSG00000243485       0       0       0       0       0       0       0   \n",
       "ENSG00000237613       0       0       0       0       0       0       0   \n",
       "ENSG00000268020       0       0       2       0       0       0       0   \n",
       "\n",
       "                 SL8435  \n",
       "gene_id                  \n",
       "ENSG00000223972       0  \n",
       "ENSG00000227232      50  \n",
       "ENSG00000243485       0  \n",
       "ENSG00000237613       0  \n",
       "ENSG00000268020       0  \n",
       "\n",
       "[5 rows x 281 columns]"
      ]
     },
     "execution_count": 3,
     "metadata": {},
     "output_type": "execute_result"
    }
   ],
   "source": [
    "data.head()"
   ]
  },
  {
   "cell_type": "code",
   "execution_count": 4,
   "id": "7bf78e21",
   "metadata": {
    "ExecuteTime": {
     "end_time": "2023-02-27T14:40:47.279076Z",
     "start_time": "2023-02-27T14:40:47.272565Z"
    }
   },
   "outputs": [
    {
     "data": {
      "text/plain": [
       "(57905, 281)"
      ]
     },
     "execution_count": 4,
     "metadata": {},
     "output_type": "execute_result"
    }
   ],
   "source": [
    "data.shape"
   ]
  },
  {
   "cell_type": "code",
   "execution_count": 5,
   "id": "0e633471",
   "metadata": {
    "ExecuteTime": {
     "end_time": "2023-02-27T14:40:47.285627Z",
     "start_time": "2023-02-27T14:40:47.281605Z"
    }
   },
   "outputs": [],
   "source": [
    "metadata = open(\"../../data/input/GSE80655_family.soft\").read()"
   ]
  },
  {
   "cell_type": "code",
   "execution_count": 6,
   "id": "bdbd37f9",
   "metadata": {
    "ExecuteTime": {
     "end_time": "2023-02-27T14:40:47.423545Z",
     "start_time": "2023-02-27T14:40:47.419478Z"
    }
   },
   "outputs": [],
   "source": [
    "metadata_split = metadata.split(\"^SAMPLE\")[1:]"
   ]
  },
  {
   "cell_type": "code",
   "execution_count": 7,
   "id": "b9d8cece",
   "metadata": {
    "ExecuteTime": {
     "end_time": "2023-02-27T14:40:47.725411Z",
     "start_time": "2023-02-27T14:40:47.719684Z"
    }
   },
   "outputs": [
    {
     "data": {
      "text/plain": [
       "281"
      ]
     },
     "execution_count": 7,
     "metadata": {},
     "output_type": "execute_result"
    }
   ],
   "source": [
    "len(metadata_split)"
   ]
  },
  {
   "cell_type": "code",
   "execution_count": 8,
   "id": "e336406c",
   "metadata": {
    "ExecuteTime": {
     "end_time": "2023-02-27T14:40:48.285805Z",
     "start_time": "2023-02-27T14:40:48.267333Z"
    }
   },
   "outputs": [],
   "source": [
    "name_to_region_diagnosis = {}\n",
    "for i in range(len(metadata_split)):\n",
    "    sample = metadata_split[i].split(\"\\n!\")[1:]\n",
    "    region = sample[11].split(\": \")[-1]\n",
    "    diagnosis = sample[13].split(\": \")[-1]\n",
    "    description = sample[21].split(\" = \")[-1]\n",
    "    human_id = sample[0][15:20]\n",
    "    name_to_region_diagnosis[description] = (human_id, region, diagnosis)"
   ]
  },
  {
   "cell_type": "code",
   "execution_count": 9,
   "id": "74fb1d7c",
   "metadata": {
    "ExecuteTime": {
     "end_time": "2023-02-27T14:40:48.757723Z",
     "start_time": "2023-02-27T14:40:48.730173Z"
    }
   },
   "outputs": [
    {
     "data": {
      "text/html": [
       "<div>\n",
       "<style scoped>\n",
       "    .dataframe tbody tr th:only-of-type {\n",
       "        vertical-align: middle;\n",
       "    }\n",
       "\n",
       "    .dataframe tbody tr th {\n",
       "        vertical-align: top;\n",
       "    }\n",
       "\n",
       "    .dataframe thead th {\n",
       "        text-align: right;\n",
       "    }\n",
       "</style>\n",
       "<table border=\"1\" class=\"dataframe\">\n",
       "  <thead>\n",
       "    <tr style=\"text-align: right;\">\n",
       "      <th></th>\n",
       "      <th>human_id</th>\n",
       "      <th>region</th>\n",
       "      <th>diagnosis</th>\n",
       "    </tr>\n",
       "  </thead>\n",
       "  <tbody>\n",
       "    <tr>\n",
       "      <th>SL31501</th>\n",
       "      <td>X1834</td>\n",
       "      <td>AnCg</td>\n",
       "      <td>Control</td>\n",
       "    </tr>\n",
       "    <tr>\n",
       "      <th>SL31502</th>\n",
       "      <td>X2315</td>\n",
       "      <td>AnCg</td>\n",
       "      <td>Major Depression</td>\n",
       "    </tr>\n",
       "    <tr>\n",
       "      <th>SL31503</th>\n",
       "      <td>X2566</td>\n",
       "      <td>AnCg</td>\n",
       "      <td>Bipolar Disorder</td>\n",
       "    </tr>\n",
       "    <tr>\n",
       "      <th>SL31504</th>\n",
       "      <td>X3031</td>\n",
       "      <td>AnCg</td>\n",
       "      <td>Major Depression</td>\n",
       "    </tr>\n",
       "    <tr>\n",
       "      <th>SL31505</th>\n",
       "      <td>X2353</td>\n",
       "      <td>nAcc</td>\n",
       "      <td>Schizophrenia</td>\n",
       "    </tr>\n",
       "  </tbody>\n",
       "</table>\n",
       "</div>"
      ],
      "text/plain": [
       "        human_id region         diagnosis\n",
       "SL31501    X1834   AnCg           Control\n",
       "SL31502    X2315   AnCg  Major Depression\n",
       "SL31503    X2566   AnCg  Bipolar Disorder\n",
       "SL31504    X3031   AnCg  Major Depression\n",
       "SL31505    X2353   nAcc     Schizophrenia"
      ]
     },
     "execution_count": 9,
     "metadata": {},
     "output_type": "execute_result"
    }
   ],
   "source": [
    "metadata = pd.DataFrame(\n",
    "    name_to_region_diagnosis, index=[\"human_id\", \"region\", \"diagnosis\"]\n",
    ").T\n",
    "metadata.head()"
   ]
  },
  {
   "cell_type": "code",
   "execution_count": 10,
   "id": "521aedbf",
   "metadata": {
    "ExecuteTime": {
     "end_time": "2023-02-27T14:40:49.256021Z",
     "start_time": "2023-02-27T14:40:49.230075Z"
    }
   },
   "outputs": [
    {
     "data": {
      "text/html": [
       "<div>\n",
       "<style scoped>\n",
       "    .dataframe tbody tr th:only-of-type {\n",
       "        vertical-align: middle;\n",
       "    }\n",
       "\n",
       "    .dataframe tbody tr th {\n",
       "        vertical-align: top;\n",
       "    }\n",
       "\n",
       "    .dataframe thead th {\n",
       "        text-align: right;\n",
       "    }\n",
       "</style>\n",
       "<table border=\"1\" class=\"dataframe\">\n",
       "  <thead>\n",
       "    <tr style=\"text-align: right;\">\n",
       "      <th></th>\n",
       "      <th>human_id</th>\n",
       "      <th>region</th>\n",
       "      <th>diagnosis</th>\n",
       "    </tr>\n",
       "  </thead>\n",
       "  <tbody>\n",
       "    <tr>\n",
       "      <th>SL31501</th>\n",
       "      <td>X1834</td>\n",
       "      <td>AnCg</td>\n",
       "      <td>Control</td>\n",
       "    </tr>\n",
       "    <tr>\n",
       "      <th>SL31505</th>\n",
       "      <td>X2353</td>\n",
       "      <td>nAcc</td>\n",
       "      <td>Schizophrenia</td>\n",
       "    </tr>\n",
       "    <tr>\n",
       "      <th>SL31506</th>\n",
       "      <td>X2664</td>\n",
       "      <td>nAcc</td>\n",
       "      <td>Control</td>\n",
       "    </tr>\n",
       "    <tr>\n",
       "      <th>SL31507</th>\n",
       "      <td>X2805</td>\n",
       "      <td>nAcc</td>\n",
       "      <td>Control</td>\n",
       "    </tr>\n",
       "    <tr>\n",
       "      <th>SL31508</th>\n",
       "      <td>X2976</td>\n",
       "      <td>nAcc</td>\n",
       "      <td>Schizophrenia</td>\n",
       "    </tr>\n",
       "  </tbody>\n",
       "</table>\n",
       "</div>"
      ],
      "text/plain": [
       "        human_id region      diagnosis\n",
       "SL31501    X1834   AnCg        Control\n",
       "SL31505    X2353   nAcc  Schizophrenia\n",
       "SL31506    X2664   nAcc        Control\n",
       "SL31507    X2805   nAcc        Control\n",
       "SL31508    X2976   nAcc  Schizophrenia"
      ]
     },
     "execution_count": 10,
     "metadata": {},
     "output_type": "execute_result"
    }
   ],
   "source": [
    "metadata = metadata[metadata.diagnosis.isin([\"Control\", \"Schizophrenia\"])]\n",
    "metadata.head()"
   ]
  },
  {
   "cell_type": "code",
   "execution_count": 11,
   "id": "f997e8b8",
   "metadata": {
    "ExecuteTime": {
     "end_time": "2023-02-27T14:40:49.765000Z",
     "start_time": "2023-02-27T14:40:49.666490Z"
    }
   },
   "outputs": [
    {
     "data": {
      "text/html": [
       "<div>\n",
       "<style scoped>\n",
       "    .dataframe tbody tr th:only-of-type {\n",
       "        vertical-align: middle;\n",
       "    }\n",
       "\n",
       "    .dataframe tbody tr th {\n",
       "        vertical-align: top;\n",
       "    }\n",
       "\n",
       "    .dataframe thead th {\n",
       "        text-align: right;\n",
       "    }\n",
       "</style>\n",
       "<table border=\"1\" class=\"dataframe\">\n",
       "  <thead>\n",
       "    <tr style=\"text-align: right;\">\n",
       "      <th></th>\n",
       "      <th>human_id</th>\n",
       "      <th>region</th>\n",
       "      <th>diagnosis</th>\n",
       "      <th>ENSG00000223972</th>\n",
       "      <th>ENSG00000227232</th>\n",
       "      <th>ENSG00000243485</th>\n",
       "      <th>ENSG00000237613</th>\n",
       "      <th>ENSG00000268020</th>\n",
       "      <th>ENSG00000240361</th>\n",
       "      <th>ENSG00000186092</th>\n",
       "      <th>...</th>\n",
       "      <th>ENSG00000198886</th>\n",
       "      <th>ENSG00000210176</th>\n",
       "      <th>ENSG00000210184</th>\n",
       "      <th>ENSG00000210191</th>\n",
       "      <th>ENSG00000198786</th>\n",
       "      <th>ENSG00000198695</th>\n",
       "      <th>ENSG00000210194</th>\n",
       "      <th>ENSG00000198727</th>\n",
       "      <th>ENSG00000210195</th>\n",
       "      <th>ENSG00000210196</th>\n",
       "    </tr>\n",
       "  </thead>\n",
       "  <tbody>\n",
       "    <tr>\n",
       "      <th>SL31501</th>\n",
       "      <td>X1834</td>\n",
       "      <td>AnCg</td>\n",
       "      <td>Control</td>\n",
       "      <td>0</td>\n",
       "      <td>93</td>\n",
       "      <td>0</td>\n",
       "      <td>0</td>\n",
       "      <td>1</td>\n",
       "      <td>0</td>\n",
       "      <td>0</td>\n",
       "      <td>...</td>\n",
       "      <td>556653</td>\n",
       "      <td>1</td>\n",
       "      <td>0</td>\n",
       "      <td>0</td>\n",
       "      <td>119564</td>\n",
       "      <td>21277</td>\n",
       "      <td>0</td>\n",
       "      <td>195813</td>\n",
       "      <td>13</td>\n",
       "      <td>186</td>\n",
       "    </tr>\n",
       "    <tr>\n",
       "      <th>SL31505</th>\n",
       "      <td>X2353</td>\n",
       "      <td>nAcc</td>\n",
       "      <td>Schizophrenia</td>\n",
       "      <td>0</td>\n",
       "      <td>233</td>\n",
       "      <td>0</td>\n",
       "      <td>0</td>\n",
       "      <td>0</td>\n",
       "      <td>0</td>\n",
       "      <td>0</td>\n",
       "      <td>...</td>\n",
       "      <td>1290628</td>\n",
       "      <td>0</td>\n",
       "      <td>1</td>\n",
       "      <td>0</td>\n",
       "      <td>324555</td>\n",
       "      <td>47014</td>\n",
       "      <td>0</td>\n",
       "      <td>541391</td>\n",
       "      <td>43</td>\n",
       "      <td>613</td>\n",
       "    </tr>\n",
       "    <tr>\n",
       "      <th>SL31506</th>\n",
       "      <td>X2664</td>\n",
       "      <td>nAcc</td>\n",
       "      <td>Control</td>\n",
       "      <td>0</td>\n",
       "      <td>113</td>\n",
       "      <td>0</td>\n",
       "      <td>0</td>\n",
       "      <td>0</td>\n",
       "      <td>0</td>\n",
       "      <td>0</td>\n",
       "      <td>...</td>\n",
       "      <td>840452</td>\n",
       "      <td>2</td>\n",
       "      <td>0</td>\n",
       "      <td>0</td>\n",
       "      <td>242680</td>\n",
       "      <td>42762</td>\n",
       "      <td>2</td>\n",
       "      <td>448690</td>\n",
       "      <td>29</td>\n",
       "      <td>362</td>\n",
       "    </tr>\n",
       "    <tr>\n",
       "      <th>SL31507</th>\n",
       "      <td>X2805</td>\n",
       "      <td>nAcc</td>\n",
       "      <td>Control</td>\n",
       "      <td>0</td>\n",
       "      <td>119</td>\n",
       "      <td>0</td>\n",
       "      <td>0</td>\n",
       "      <td>0</td>\n",
       "      <td>0</td>\n",
       "      <td>0</td>\n",
       "      <td>...</td>\n",
       "      <td>1004983</td>\n",
       "      <td>0</td>\n",
       "      <td>0</td>\n",
       "      <td>1</td>\n",
       "      <td>372854</td>\n",
       "      <td>69277</td>\n",
       "      <td>1</td>\n",
       "      <td>528267</td>\n",
       "      <td>24</td>\n",
       "      <td>634</td>\n",
       "    </tr>\n",
       "    <tr>\n",
       "      <th>SL31508</th>\n",
       "      <td>X2976</td>\n",
       "      <td>nAcc</td>\n",
       "      <td>Schizophrenia</td>\n",
       "      <td>0</td>\n",
       "      <td>146</td>\n",
       "      <td>0</td>\n",
       "      <td>0</td>\n",
       "      <td>0</td>\n",
       "      <td>0</td>\n",
       "      <td>0</td>\n",
       "      <td>...</td>\n",
       "      <td>1073688</td>\n",
       "      <td>0</td>\n",
       "      <td>1</td>\n",
       "      <td>1</td>\n",
       "      <td>287422</td>\n",
       "      <td>42661</td>\n",
       "      <td>0</td>\n",
       "      <td>494724</td>\n",
       "      <td>38</td>\n",
       "      <td>549</td>\n",
       "    </tr>\n",
       "  </tbody>\n",
       "</table>\n",
       "<p>5 rows × 57908 columns</p>\n",
       "</div>"
      ],
      "text/plain": [
       "        human_id region      diagnosis  ENSG00000223972  ENSG00000227232  \\\n",
       "SL31501    X1834   AnCg        Control                0               93   \n",
       "SL31505    X2353   nAcc  Schizophrenia                0              233   \n",
       "SL31506    X2664   nAcc        Control                0              113   \n",
       "SL31507    X2805   nAcc        Control                0              119   \n",
       "SL31508    X2976   nAcc  Schizophrenia                0              146   \n",
       "\n",
       "         ENSG00000243485  ENSG00000237613  ENSG00000268020  ENSG00000240361  \\\n",
       "SL31501                0                0                1                0   \n",
       "SL31505                0                0                0                0   \n",
       "SL31506                0                0                0                0   \n",
       "SL31507                0                0                0                0   \n",
       "SL31508                0                0                0                0   \n",
       "\n",
       "         ENSG00000186092  ...  ENSG00000198886  ENSG00000210176  \\\n",
       "SL31501                0  ...           556653                1   \n",
       "SL31505                0  ...          1290628                0   \n",
       "SL31506                0  ...           840452                2   \n",
       "SL31507                0  ...          1004983                0   \n",
       "SL31508                0  ...          1073688                0   \n",
       "\n",
       "         ENSG00000210184  ENSG00000210191  ENSG00000198786  ENSG00000198695  \\\n",
       "SL31501                0                0           119564            21277   \n",
       "SL31505                1                0           324555            47014   \n",
       "SL31506                0                0           242680            42762   \n",
       "SL31507                0                1           372854            69277   \n",
       "SL31508                1                1           287422            42661   \n",
       "\n",
       "         ENSG00000210194  ENSG00000198727  ENSG00000210195  ENSG00000210196  \n",
       "SL31501                0           195813               13              186  \n",
       "SL31505                0           541391               43              613  \n",
       "SL31506                2           448690               29              362  \n",
       "SL31507                1           528267               24              634  \n",
       "SL31508                0           494724               38              549  \n",
       "\n",
       "[5 rows x 57908 columns]"
      ]
     },
     "execution_count": 11,
     "metadata": {},
     "output_type": "execute_result"
    }
   ],
   "source": [
    "data_with_metadata = metadata.join(data.T)\n",
    "data_with_metadata.head()"
   ]
  },
  {
   "cell_type": "code",
   "execution_count": 12,
   "id": "a743ffb5",
   "metadata": {
    "ExecuteTime": {
     "end_time": "2023-02-27T14:40:50.253540Z",
     "start_time": "2023-02-27T14:40:50.250690Z"
    }
   },
   "outputs": [],
   "source": [
    "replace_dict = {\n",
    "    \"DLPFC\": \"34 Dorsolateral Prefrontal (BA9)\",\n",
    "    \"nAcc\": \"56 Nucleus Accumbens\",\n",
    "    \"AnCg\": \"Cingulate Anterior\",\n",
    "}"
   ]
  },
  {
   "cell_type": "code",
   "execution_count": 13,
   "id": "f7ee1f82",
   "metadata": {
    "ExecuteTime": {
     "end_time": "2023-02-27T14:40:50.935558Z",
     "start_time": "2023-02-27T14:40:50.897833Z"
    }
   },
   "outputs": [
    {
     "data": {
      "text/html": [
       "<div>\n",
       "<style scoped>\n",
       "    .dataframe tbody tr th:only-of-type {\n",
       "        vertical-align: middle;\n",
       "    }\n",
       "\n",
       "    .dataframe tbody tr th {\n",
       "        vertical-align: top;\n",
       "    }\n",
       "\n",
       "    .dataframe thead th {\n",
       "        text-align: right;\n",
       "    }\n",
       "</style>\n",
       "<table border=\"1\" class=\"dataframe\">\n",
       "  <thead>\n",
       "    <tr style=\"text-align: right;\">\n",
       "      <th></th>\n",
       "      <th>human_id</th>\n",
       "      <th>region</th>\n",
       "      <th>diagnosis</th>\n",
       "      <th>ENSG00000223972</th>\n",
       "      <th>ENSG00000227232</th>\n",
       "      <th>ENSG00000243485</th>\n",
       "      <th>ENSG00000237613</th>\n",
       "      <th>ENSG00000268020</th>\n",
       "      <th>ENSG00000240361</th>\n",
       "      <th>ENSG00000186092</th>\n",
       "      <th>...</th>\n",
       "      <th>ENSG00000198886</th>\n",
       "      <th>ENSG00000210176</th>\n",
       "      <th>ENSG00000210184</th>\n",
       "      <th>ENSG00000210191</th>\n",
       "      <th>ENSG00000198786</th>\n",
       "      <th>ENSG00000198695</th>\n",
       "      <th>ENSG00000210194</th>\n",
       "      <th>ENSG00000198727</th>\n",
       "      <th>ENSG00000210195</th>\n",
       "      <th>ENSG00000210196</th>\n",
       "    </tr>\n",
       "  </thead>\n",
       "  <tbody>\n",
       "    <tr>\n",
       "      <th>SL31501</th>\n",
       "      <td>X1834</td>\n",
       "      <td>Cingulate Anterior</td>\n",
       "      <td>Control</td>\n",
       "      <td>0</td>\n",
       "      <td>93</td>\n",
       "      <td>0</td>\n",
       "      <td>0</td>\n",
       "      <td>1</td>\n",
       "      <td>0</td>\n",
       "      <td>0</td>\n",
       "      <td>...</td>\n",
       "      <td>556653</td>\n",
       "      <td>1</td>\n",
       "      <td>0</td>\n",
       "      <td>0</td>\n",
       "      <td>119564</td>\n",
       "      <td>21277</td>\n",
       "      <td>0</td>\n",
       "      <td>195813</td>\n",
       "      <td>13</td>\n",
       "      <td>186</td>\n",
       "    </tr>\n",
       "    <tr>\n",
       "      <th>SL31505</th>\n",
       "      <td>X2353</td>\n",
       "      <td>56 Nucleus Accumbens</td>\n",
       "      <td>Schizophrenia</td>\n",
       "      <td>0</td>\n",
       "      <td>233</td>\n",
       "      <td>0</td>\n",
       "      <td>0</td>\n",
       "      <td>0</td>\n",
       "      <td>0</td>\n",
       "      <td>0</td>\n",
       "      <td>...</td>\n",
       "      <td>1290628</td>\n",
       "      <td>0</td>\n",
       "      <td>1</td>\n",
       "      <td>0</td>\n",
       "      <td>324555</td>\n",
       "      <td>47014</td>\n",
       "      <td>0</td>\n",
       "      <td>541391</td>\n",
       "      <td>43</td>\n",
       "      <td>613</td>\n",
       "    </tr>\n",
       "    <tr>\n",
       "      <th>SL31506</th>\n",
       "      <td>X2664</td>\n",
       "      <td>56 Nucleus Accumbens</td>\n",
       "      <td>Control</td>\n",
       "      <td>0</td>\n",
       "      <td>113</td>\n",
       "      <td>0</td>\n",
       "      <td>0</td>\n",
       "      <td>0</td>\n",
       "      <td>0</td>\n",
       "      <td>0</td>\n",
       "      <td>...</td>\n",
       "      <td>840452</td>\n",
       "      <td>2</td>\n",
       "      <td>0</td>\n",
       "      <td>0</td>\n",
       "      <td>242680</td>\n",
       "      <td>42762</td>\n",
       "      <td>2</td>\n",
       "      <td>448690</td>\n",
       "      <td>29</td>\n",
       "      <td>362</td>\n",
       "    </tr>\n",
       "    <tr>\n",
       "      <th>SL31507</th>\n",
       "      <td>X2805</td>\n",
       "      <td>56 Nucleus Accumbens</td>\n",
       "      <td>Control</td>\n",
       "      <td>0</td>\n",
       "      <td>119</td>\n",
       "      <td>0</td>\n",
       "      <td>0</td>\n",
       "      <td>0</td>\n",
       "      <td>0</td>\n",
       "      <td>0</td>\n",
       "      <td>...</td>\n",
       "      <td>1004983</td>\n",
       "      <td>0</td>\n",
       "      <td>0</td>\n",
       "      <td>1</td>\n",
       "      <td>372854</td>\n",
       "      <td>69277</td>\n",
       "      <td>1</td>\n",
       "      <td>528267</td>\n",
       "      <td>24</td>\n",
       "      <td>634</td>\n",
       "    </tr>\n",
       "    <tr>\n",
       "      <th>SL31508</th>\n",
       "      <td>X2976</td>\n",
       "      <td>56 Nucleus Accumbens</td>\n",
       "      <td>Schizophrenia</td>\n",
       "      <td>0</td>\n",
       "      <td>146</td>\n",
       "      <td>0</td>\n",
       "      <td>0</td>\n",
       "      <td>0</td>\n",
       "      <td>0</td>\n",
       "      <td>0</td>\n",
       "      <td>...</td>\n",
       "      <td>1073688</td>\n",
       "      <td>0</td>\n",
       "      <td>1</td>\n",
       "      <td>1</td>\n",
       "      <td>287422</td>\n",
       "      <td>42661</td>\n",
       "      <td>0</td>\n",
       "      <td>494724</td>\n",
       "      <td>38</td>\n",
       "      <td>549</td>\n",
       "    </tr>\n",
       "  </tbody>\n",
       "</table>\n",
       "<p>5 rows × 57908 columns</p>\n",
       "</div>"
      ],
      "text/plain": [
       "        human_id                region      diagnosis  ENSG00000223972  \\\n",
       "SL31501    X1834    Cingulate Anterior        Control                0   \n",
       "SL31505    X2353  56 Nucleus Accumbens  Schizophrenia                0   \n",
       "SL31506    X2664  56 Nucleus Accumbens        Control                0   \n",
       "SL31507    X2805  56 Nucleus Accumbens        Control                0   \n",
       "SL31508    X2976  56 Nucleus Accumbens  Schizophrenia                0   \n",
       "\n",
       "         ENSG00000227232  ENSG00000243485  ENSG00000237613  ENSG00000268020  \\\n",
       "SL31501               93                0                0                1   \n",
       "SL31505              233                0                0                0   \n",
       "SL31506              113                0                0                0   \n",
       "SL31507              119                0                0                0   \n",
       "SL31508              146                0                0                0   \n",
       "\n",
       "         ENSG00000240361  ENSG00000186092  ...  ENSG00000198886  \\\n",
       "SL31501                0                0  ...           556653   \n",
       "SL31505                0                0  ...          1290628   \n",
       "SL31506                0                0  ...           840452   \n",
       "SL31507                0                0  ...          1004983   \n",
       "SL31508                0                0  ...          1073688   \n",
       "\n",
       "         ENSG00000210176  ENSG00000210184  ENSG00000210191  ENSG00000198786  \\\n",
       "SL31501                1                0                0           119564   \n",
       "SL31505                0                1                0           324555   \n",
       "SL31506                2                0                0           242680   \n",
       "SL31507                0                0                1           372854   \n",
       "SL31508                0                1                1           287422   \n",
       "\n",
       "         ENSG00000198695  ENSG00000210194  ENSG00000198727  ENSG00000210195  \\\n",
       "SL31501            21277                0           195813               13   \n",
       "SL31505            47014                0           541391               43   \n",
       "SL31506            42762                2           448690               29   \n",
       "SL31507            69277                1           528267               24   \n",
       "SL31508            42661                0           494724               38   \n",
       "\n",
       "         ENSG00000210196  \n",
       "SL31501              186  \n",
       "SL31505              613  \n",
       "SL31506              362  \n",
       "SL31507              634  \n",
       "SL31508              549  \n",
       "\n",
       "[5 rows x 57908 columns]"
      ]
     },
     "execution_count": 13,
     "metadata": {},
     "output_type": "execute_result"
    }
   ],
   "source": [
    "data_with_metadata[\"region\"].replace(replace_dict, inplace=True)\n",
    "data_with_metadata.head()"
   ]
  },
  {
   "cell_type": "code",
   "execution_count": 14,
   "id": "08bd6d2b",
   "metadata": {
    "ExecuteTime": {
     "end_time": "2023-02-27T14:41:03.491601Z",
     "start_time": "2023-02-27T14:40:51.427960Z"
    }
   },
   "outputs": [],
   "source": [
    "data_with_metadata.to_csv(\"../../data/intermediate/GSE80655.csv\")"
   ]
  },
  {
   "cell_type": "markdown",
   "id": "7b6e9572",
   "metadata": {},
   "source": [
    "# GSE78936"
   ]
  },
  {
   "cell_type": "code",
   "execution_count": 15,
   "id": "89f3241e",
   "metadata": {
    "ExecuteTime": {
     "end_time": "2023-02-27T14:44:05.530274Z",
     "start_time": "2023-02-27T14:44:05.160817Z"
    }
   },
   "outputs": [
    {
     "name": "stderr",
     "output_type": "stream",
     "text": [
      "/tmp/ipykernel_27600/3674585369.py:1: DtypeWarning: Columns (0) have mixed types. Specify dtype option on import or set low_memory=False.\n",
      "  data = pd.read_csv(\"../../data/input/GSE78936_fpkmMatrix.txt\", sep=\"\\t\")\n"
     ]
    }
   ],
   "source": [
    "data = pd.read_csv(\"../../data/input/GSE78936_fpkmMatrix.txt\", sep=\"\\t\")"
   ]
  },
  {
   "cell_type": "code",
   "execution_count": 17,
   "id": "decaae22",
   "metadata": {
    "ExecuteTime": {
     "end_time": "2023-02-27T14:46:19.410332Z",
     "start_time": "2023-02-27T14:46:19.372585Z"
    }
   },
   "outputs": [
    {
     "data": {
      "text/html": [
       "<div>\n",
       "<style scoped>\n",
       "    .dataframe tbody tr th:only-of-type {\n",
       "        vertical-align: middle;\n",
       "    }\n",
       "\n",
       "    .dataframe tbody tr th {\n",
       "        vertical-align: top;\n",
       "    }\n",
       "\n",
       "    .dataframe thead th {\n",
       "        text-align: right;\n",
       "    }\n",
       "</style>\n",
       "<table border=\"1\" class=\"dataframe\">\n",
       "  <thead>\n",
       "    <tr style=\"text-align: right;\">\n",
       "      <th></th>\n",
       "      <th>BA11_1</th>\n",
       "      <th>BA11_2</th>\n",
       "      <th>BA11_3</th>\n",
       "      <th>BA11_4</th>\n",
       "      <th>BA11_5</th>\n",
       "      <th>BA11_6</th>\n",
       "      <th>BA11_7</th>\n",
       "      <th>BA11_8</th>\n",
       "      <th>BA11_9</th>\n",
       "      <th>BA11_10</th>\n",
       "      <th>...</th>\n",
       "      <th>BA9_10</th>\n",
       "      <th>BA9_11</th>\n",
       "      <th>BA9_12</th>\n",
       "      <th>BA9_13</th>\n",
       "      <th>BA9_14</th>\n",
       "      <th>BA9_15</th>\n",
       "      <th>BA9_16</th>\n",
       "      <th>BA9_17</th>\n",
       "      <th>BA9_18</th>\n",
       "      <th>BA9_19</th>\n",
       "    </tr>\n",
       "  </thead>\n",
       "  <tbody>\n",
       "    <tr>\n",
       "      <th>1</th>\n",
       "      <td>3.909188</td>\n",
       "      <td>1.968322</td>\n",
       "      <td>2.720665</td>\n",
       "      <td>3.229451</td>\n",
       "      <td>2.349099</td>\n",
       "      <td>3.129997</td>\n",
       "      <td>2.703979</td>\n",
       "      <td>3.011143</td>\n",
       "      <td>3.017315</td>\n",
       "      <td>0.377656</td>\n",
       "      <td>...</td>\n",
       "      <td>1.601336</td>\n",
       "      <td>0.910610</td>\n",
       "      <td>0.354513</td>\n",
       "      <td>1.343493</td>\n",
       "      <td>1.205690</td>\n",
       "      <td>1.947324</td>\n",
       "      <td>1.716460</td>\n",
       "      <td>1.162038</td>\n",
       "      <td>1.670975</td>\n",
       "      <td>1.428307</td>\n",
       "    </tr>\n",
       "    <tr>\n",
       "      <th>10</th>\n",
       "      <td>0.000000</td>\n",
       "      <td>0.251369</td>\n",
       "      <td>0.000000</td>\n",
       "      <td>0.000000</td>\n",
       "      <td>0.251997</td>\n",
       "      <td>0.000000</td>\n",
       "      <td>0.000000</td>\n",
       "      <td>0.278464</td>\n",
       "      <td>0.000000</td>\n",
       "      <td>0.000000</td>\n",
       "      <td>...</td>\n",
       "      <td>0.113014</td>\n",
       "      <td>0.000000</td>\n",
       "      <td>0.237688</td>\n",
       "      <td>0.120102</td>\n",
       "      <td>0.000000</td>\n",
       "      <td>0.118692</td>\n",
       "      <td>0.000000</td>\n",
       "      <td>0.239724</td>\n",
       "      <td>0.000000</td>\n",
       "      <td>0.000000</td>\n",
       "    </tr>\n",
       "    <tr>\n",
       "      <th>100</th>\n",
       "      <td>4.286465</td>\n",
       "      <td>0.864368</td>\n",
       "      <td>0.224016</td>\n",
       "      <td>5.753298</td>\n",
       "      <td>1.191477</td>\n",
       "      <td>0.530600</td>\n",
       "      <td>1.558494</td>\n",
       "      <td>0.598460</td>\n",
       "      <td>0.119937</td>\n",
       "      <td>0.653010</td>\n",
       "      <td>...</td>\n",
       "      <td>0.388616</td>\n",
       "      <td>1.049697</td>\n",
       "      <td>0.612993</td>\n",
       "      <td>0.825974</td>\n",
       "      <td>0.496374</td>\n",
       "      <td>2.040692</td>\n",
       "      <td>0.312416</td>\n",
       "      <td>0.515204</td>\n",
       "      <td>0.506895</td>\n",
       "      <td>0.484255</td>\n",
       "    </tr>\n",
       "    <tr>\n",
       "      <th>1000</th>\n",
       "      <td>8.394588</td>\n",
       "      <td>4.736731</td>\n",
       "      <td>1.764683</td>\n",
       "      <td>4.018277</td>\n",
       "      <td>2.337188</td>\n",
       "      <td>3.852677</td>\n",
       "      <td>3.487385</td>\n",
       "      <td>3.771491</td>\n",
       "      <td>5.586674</td>\n",
       "      <td>1.118278</td>\n",
       "      <td>...</td>\n",
       "      <td>6.022812</td>\n",
       "      <td>7.709723</td>\n",
       "      <td>8.467970</td>\n",
       "      <td>9.759894</td>\n",
       "      <td>12.478585</td>\n",
       "      <td>7.828082</td>\n",
       "      <td>7.169154</td>\n",
       "      <td>8.434640</td>\n",
       "      <td>5.833343</td>\n",
       "      <td>8.392375</td>\n",
       "    </tr>\n",
       "    <tr>\n",
       "      <th>10000</th>\n",
       "      <td>8.761966</td>\n",
       "      <td>5.637057</td>\n",
       "      <td>1.449253</td>\n",
       "      <td>4.473051</td>\n",
       "      <td>2.486505</td>\n",
       "      <td>6.444563</td>\n",
       "      <td>4.119753</td>\n",
       "      <td>4.296327</td>\n",
       "      <td>5.331356</td>\n",
       "      <td>1.703467</td>\n",
       "      <td>...</td>\n",
       "      <td>10.279508</td>\n",
       "      <td>14.944918</td>\n",
       "      <td>11.854477</td>\n",
       "      <td>6.593274</td>\n",
       "      <td>9.074382</td>\n",
       "      <td>7.623143</td>\n",
       "      <td>8.280194</td>\n",
       "      <td>16.772853</td>\n",
       "      <td>6.600951</td>\n",
       "      <td>10.429361</td>\n",
       "    </tr>\n",
       "  </tbody>\n",
       "</table>\n",
       "<p>5 rows × 82 columns</p>\n",
       "</div>"
      ],
      "text/plain": [
       "         BA11_1    BA11_2    BA11_3    BA11_4    BA11_5    BA11_6    BA11_7  \\\n",
       "1      3.909188  1.968322  2.720665  3.229451  2.349099  3.129997  2.703979   \n",
       "10     0.000000  0.251369  0.000000  0.000000  0.251997  0.000000  0.000000   \n",
       "100    4.286465  0.864368  0.224016  5.753298  1.191477  0.530600  1.558494   \n",
       "1000   8.394588  4.736731  1.764683  4.018277  2.337188  3.852677  3.487385   \n",
       "10000  8.761966  5.637057  1.449253  4.473051  2.486505  6.444563  4.119753   \n",
       "\n",
       "         BA11_8    BA11_9   BA11_10  ...     BA9_10     BA9_11     BA9_12  \\\n",
       "1      3.011143  3.017315  0.377656  ...   1.601336   0.910610   0.354513   \n",
       "10     0.278464  0.000000  0.000000  ...   0.113014   0.000000   0.237688   \n",
       "100    0.598460  0.119937  0.653010  ...   0.388616   1.049697   0.612993   \n",
       "1000   3.771491  5.586674  1.118278  ...   6.022812   7.709723   8.467970   \n",
       "10000  4.296327  5.331356  1.703467  ...  10.279508  14.944918  11.854477   \n",
       "\n",
       "         BA9_13     BA9_14    BA9_15    BA9_16     BA9_17    BA9_18     BA9_19  \n",
       "1      1.343493   1.205690  1.947324  1.716460   1.162038  1.670975   1.428307  \n",
       "10     0.120102   0.000000  0.118692  0.000000   0.239724  0.000000   0.000000  \n",
       "100    0.825974   0.496374  2.040692  0.312416   0.515204  0.506895   0.484255  \n",
       "1000   9.759894  12.478585  7.828082  7.169154   8.434640  5.833343   8.392375  \n",
       "10000  6.593274   9.074382  7.623143  8.280194  16.772853  6.600951  10.429361  \n",
       "\n",
       "[5 rows x 82 columns]"
      ]
     },
     "execution_count": 17,
     "metadata": {},
     "output_type": "execute_result"
    }
   ],
   "source": [
    "data.head()"
   ]
  },
  {
   "cell_type": "code",
   "execution_count": 18,
   "id": "46574209",
   "metadata": {
    "ExecuteTime": {
     "end_time": "2023-02-27T14:46:53.024170Z",
     "start_time": "2023-02-27T14:46:53.016087Z"
    }
   },
   "outputs": [
    {
     "data": {
      "text/plain": [
       "Index(['BA11_1', 'BA11_2', 'BA11_3', 'BA11_4', 'BA11_5', 'BA11_6', 'BA11_7',\n",
       "       'BA11_8', 'BA11_9', 'BA11_10', 'BA11_11', 'BA11_12', 'BA11_13',\n",
       "       'BA11_14', 'BA11_15', 'BA11_16', 'BA11_17', 'BA11_18', 'BA11_19',\n",
       "       'BA11_20', 'BA11_21', 'BA11_22', 'BA11_23', 'BA11_24', 'BA11_25',\n",
       "       'BA11_26', 'BA11_27', 'BA11_28', 'BA11_29', 'BA11_30', 'BA11_31',\n",
       "       'BA11_32', 'BA11_33', 'BA11_34', 'BA11_35', 'BA11_36', 'BA11_37',\n",
       "       'BA11_38', 'BA11_39', 'BA11_40', 'BA11_41', 'BA11_42', 'BA11_43',\n",
       "       'BA11_44', 'BA24_1', 'BA24_2', 'BA24_3', 'BA24_4', 'BA24_5', 'BA24_6',\n",
       "       'BA24_7', 'BA24_8', 'BA24_9', 'BA24_10', 'BA24_11', 'BA24_12',\n",
       "       'BA24_13', 'BA24_14', 'BA24_15', 'BA24_16', 'BA24_17', 'BA24_18',\n",
       "       'BA24_19', 'BA9_1', 'BA9_2', 'BA9_3', 'BA9_4', 'BA9_5', 'BA9_6',\n",
       "       'BA9_7', 'BA9_8', 'BA9_9', 'BA9_10', 'BA9_11', 'BA9_12', 'BA9_13',\n",
       "       'BA9_14', 'BA9_15', 'BA9_16', 'BA9_17', 'BA9_18', 'BA9_19'],\n",
       "      dtype='object')"
      ]
     },
     "execution_count": 18,
     "metadata": {},
     "output_type": "execute_result"
    }
   ],
   "source": [
    "data.columns"
   ]
  },
  {
   "cell_type": "code",
   "execution_count": 2,
   "id": "bc6f29b2",
   "metadata": {
    "ExecuteTime": {
     "end_time": "2023-02-28T10:27:42.003254Z",
     "start_time": "2023-02-28T10:27:41.494392Z"
    }
   },
   "outputs": [
    {
     "ename": "UnicodeDecodeError",
     "evalue": "'utf-8' codec can't decode byte 0x8c in position 8: invalid start byte",
     "output_type": "error",
     "traceback": [
      "\u001b[0;31m---------------------------------------------------------------------------\u001b[0m",
      "\u001b[0;31mUnicodeDecodeError\u001b[0m                        Traceback (most recent call last)",
      "Cell \u001b[0;32mIn [2], line 1\u001b[0m\n\u001b[0;32m----> 1\u001b[0m data \u001b[38;5;241m=\u001b[39m \u001b[43mpd\u001b[49m\u001b[38;5;241;43m.\u001b[39;49m\u001b[43mread_csv\u001b[49m\u001b[43m(\u001b[49m\u001b[38;5;124;43m\"\u001b[39;49m\u001b[38;5;124;43m../../data/input/GSM1304918_8_SCZ_HPC.CEL\u001b[39;49m\u001b[38;5;124;43m\"\u001b[39;49m\u001b[43m)\u001b[49m\n",
      "File \u001b[0;32m~/anaconda3/envs/thesis/lib/python3.10/site-packages/pandas/util/_decorators.py:211\u001b[0m, in \u001b[0;36mdeprecate_kwarg.<locals>._deprecate_kwarg.<locals>.wrapper\u001b[0;34m(*args, **kwargs)\u001b[0m\n\u001b[1;32m    209\u001b[0m     \u001b[38;5;28;01melse\u001b[39;00m:\n\u001b[1;32m    210\u001b[0m         kwargs[new_arg_name] \u001b[38;5;241m=\u001b[39m new_arg_value\n\u001b[0;32m--> 211\u001b[0m \u001b[38;5;28;01mreturn\u001b[39;00m \u001b[43mfunc\u001b[49m\u001b[43m(\u001b[49m\u001b[38;5;241;43m*\u001b[39;49m\u001b[43margs\u001b[49m\u001b[43m,\u001b[49m\u001b[43m \u001b[49m\u001b[38;5;241;43m*\u001b[39;49m\u001b[38;5;241;43m*\u001b[39;49m\u001b[43mkwargs\u001b[49m\u001b[43m)\u001b[49m\n",
      "File \u001b[0;32m~/anaconda3/envs/thesis/lib/python3.10/site-packages/pandas/util/_decorators.py:331\u001b[0m, in \u001b[0;36mdeprecate_nonkeyword_arguments.<locals>.decorate.<locals>.wrapper\u001b[0;34m(*args, **kwargs)\u001b[0m\n\u001b[1;32m    325\u001b[0m \u001b[38;5;28;01mif\u001b[39;00m \u001b[38;5;28mlen\u001b[39m(args) \u001b[38;5;241m>\u001b[39m num_allow_args:\n\u001b[1;32m    326\u001b[0m     warnings\u001b[38;5;241m.\u001b[39mwarn(\n\u001b[1;32m    327\u001b[0m         msg\u001b[38;5;241m.\u001b[39mformat(arguments\u001b[38;5;241m=\u001b[39m_format_argument_list(allow_args)),\n\u001b[1;32m    328\u001b[0m         \u001b[38;5;167;01mFutureWarning\u001b[39;00m,\n\u001b[1;32m    329\u001b[0m         stacklevel\u001b[38;5;241m=\u001b[39mfind_stack_level(),\n\u001b[1;32m    330\u001b[0m     )\n\u001b[0;32m--> 331\u001b[0m \u001b[38;5;28;01mreturn\u001b[39;00m \u001b[43mfunc\u001b[49m\u001b[43m(\u001b[49m\u001b[38;5;241;43m*\u001b[39;49m\u001b[43margs\u001b[49m\u001b[43m,\u001b[49m\u001b[43m \u001b[49m\u001b[38;5;241;43m*\u001b[39;49m\u001b[38;5;241;43m*\u001b[39;49m\u001b[43mkwargs\u001b[49m\u001b[43m)\u001b[49m\n",
      "File \u001b[0;32m~/anaconda3/envs/thesis/lib/python3.10/site-packages/pandas/io/parsers/readers.py:950\u001b[0m, in \u001b[0;36mread_csv\u001b[0;34m(filepath_or_buffer, sep, delimiter, header, names, index_col, usecols, squeeze, prefix, mangle_dupe_cols, dtype, engine, converters, true_values, false_values, skipinitialspace, skiprows, skipfooter, nrows, na_values, keep_default_na, na_filter, verbose, skip_blank_lines, parse_dates, infer_datetime_format, keep_date_col, date_parser, dayfirst, cache_dates, iterator, chunksize, compression, thousands, decimal, lineterminator, quotechar, quoting, doublequote, escapechar, comment, encoding, encoding_errors, dialect, error_bad_lines, warn_bad_lines, on_bad_lines, delim_whitespace, low_memory, memory_map, float_precision, storage_options)\u001b[0m\n\u001b[1;32m    935\u001b[0m kwds_defaults \u001b[38;5;241m=\u001b[39m _refine_defaults_read(\n\u001b[1;32m    936\u001b[0m     dialect,\n\u001b[1;32m    937\u001b[0m     delimiter,\n\u001b[0;32m   (...)\u001b[0m\n\u001b[1;32m    946\u001b[0m     defaults\u001b[38;5;241m=\u001b[39m{\u001b[38;5;124m\"\u001b[39m\u001b[38;5;124mdelimiter\u001b[39m\u001b[38;5;124m\"\u001b[39m: \u001b[38;5;124m\"\u001b[39m\u001b[38;5;124m,\u001b[39m\u001b[38;5;124m\"\u001b[39m},\n\u001b[1;32m    947\u001b[0m )\n\u001b[1;32m    948\u001b[0m kwds\u001b[38;5;241m.\u001b[39mupdate(kwds_defaults)\n\u001b[0;32m--> 950\u001b[0m \u001b[38;5;28;01mreturn\u001b[39;00m \u001b[43m_read\u001b[49m\u001b[43m(\u001b[49m\u001b[43mfilepath_or_buffer\u001b[49m\u001b[43m,\u001b[49m\u001b[43m \u001b[49m\u001b[43mkwds\u001b[49m\u001b[43m)\u001b[49m\n",
      "File \u001b[0;32m~/anaconda3/envs/thesis/lib/python3.10/site-packages/pandas/io/parsers/readers.py:605\u001b[0m, in \u001b[0;36m_read\u001b[0;34m(filepath_or_buffer, kwds)\u001b[0m\n\u001b[1;32m    602\u001b[0m _validate_names(kwds\u001b[38;5;241m.\u001b[39mget(\u001b[38;5;124m\"\u001b[39m\u001b[38;5;124mnames\u001b[39m\u001b[38;5;124m\"\u001b[39m, \u001b[38;5;28;01mNone\u001b[39;00m))\n\u001b[1;32m    604\u001b[0m \u001b[38;5;66;03m# Create the parser.\u001b[39;00m\n\u001b[0;32m--> 605\u001b[0m parser \u001b[38;5;241m=\u001b[39m \u001b[43mTextFileReader\u001b[49m\u001b[43m(\u001b[49m\u001b[43mfilepath_or_buffer\u001b[49m\u001b[43m,\u001b[49m\u001b[43m \u001b[49m\u001b[38;5;241;43m*\u001b[39;49m\u001b[38;5;241;43m*\u001b[39;49m\u001b[43mkwds\u001b[49m\u001b[43m)\u001b[49m\n\u001b[1;32m    607\u001b[0m \u001b[38;5;28;01mif\u001b[39;00m chunksize \u001b[38;5;129;01mor\u001b[39;00m iterator:\n\u001b[1;32m    608\u001b[0m     \u001b[38;5;28;01mreturn\u001b[39;00m parser\n",
      "File \u001b[0;32m~/anaconda3/envs/thesis/lib/python3.10/site-packages/pandas/io/parsers/readers.py:1442\u001b[0m, in \u001b[0;36mTextFileReader.__init__\u001b[0;34m(self, f, engine, **kwds)\u001b[0m\n\u001b[1;32m   1439\u001b[0m     \u001b[38;5;28mself\u001b[39m\u001b[38;5;241m.\u001b[39moptions[\u001b[38;5;124m\"\u001b[39m\u001b[38;5;124mhas_index_names\u001b[39m\u001b[38;5;124m\"\u001b[39m] \u001b[38;5;241m=\u001b[39m kwds[\u001b[38;5;124m\"\u001b[39m\u001b[38;5;124mhas_index_names\u001b[39m\u001b[38;5;124m\"\u001b[39m]\n\u001b[1;32m   1441\u001b[0m \u001b[38;5;28mself\u001b[39m\u001b[38;5;241m.\u001b[39mhandles: IOHandles \u001b[38;5;241m|\u001b[39m \u001b[38;5;28;01mNone\u001b[39;00m \u001b[38;5;241m=\u001b[39m \u001b[38;5;28;01mNone\u001b[39;00m\n\u001b[0;32m-> 1442\u001b[0m \u001b[38;5;28mself\u001b[39m\u001b[38;5;241m.\u001b[39m_engine \u001b[38;5;241m=\u001b[39m \u001b[38;5;28;43mself\u001b[39;49m\u001b[38;5;241;43m.\u001b[39;49m\u001b[43m_make_engine\u001b[49m\u001b[43m(\u001b[49m\u001b[43mf\u001b[49m\u001b[43m,\u001b[49m\u001b[43m \u001b[49m\u001b[38;5;28;43mself\u001b[39;49m\u001b[38;5;241;43m.\u001b[39;49m\u001b[43mengine\u001b[49m\u001b[43m)\u001b[49m\n",
      "File \u001b[0;32m~/anaconda3/envs/thesis/lib/python3.10/site-packages/pandas/io/parsers/readers.py:1753\u001b[0m, in \u001b[0;36mTextFileReader._make_engine\u001b[0;34m(self, f, engine)\u001b[0m\n\u001b[1;32m   1750\u001b[0m     \u001b[38;5;28;01mraise\u001b[39;00m \u001b[38;5;167;01mValueError\u001b[39;00m(msg)\n\u001b[1;32m   1752\u001b[0m \u001b[38;5;28;01mtry\u001b[39;00m:\n\u001b[0;32m-> 1753\u001b[0m     \u001b[38;5;28;01mreturn\u001b[39;00m \u001b[43mmapping\u001b[49m\u001b[43m[\u001b[49m\u001b[43mengine\u001b[49m\u001b[43m]\u001b[49m\u001b[43m(\u001b[49m\u001b[43mf\u001b[49m\u001b[43m,\u001b[49m\u001b[43m \u001b[49m\u001b[38;5;241;43m*\u001b[39;49m\u001b[38;5;241;43m*\u001b[39;49m\u001b[38;5;28;43mself\u001b[39;49m\u001b[38;5;241;43m.\u001b[39;49m\u001b[43moptions\u001b[49m\u001b[43m)\u001b[49m\n\u001b[1;32m   1754\u001b[0m \u001b[38;5;28;01mexcept\u001b[39;00m \u001b[38;5;167;01mException\u001b[39;00m:\n\u001b[1;32m   1755\u001b[0m     \u001b[38;5;28;01mif\u001b[39;00m \u001b[38;5;28mself\u001b[39m\u001b[38;5;241m.\u001b[39mhandles \u001b[38;5;129;01mis\u001b[39;00m \u001b[38;5;129;01mnot\u001b[39;00m \u001b[38;5;28;01mNone\u001b[39;00m:\n",
      "File \u001b[0;32m~/anaconda3/envs/thesis/lib/python3.10/site-packages/pandas/io/parsers/c_parser_wrapper.py:79\u001b[0m, in \u001b[0;36mCParserWrapper.__init__\u001b[0;34m(self, src, **kwds)\u001b[0m\n\u001b[1;32m     76\u001b[0m     kwds\u001b[38;5;241m.\u001b[39mpop(key, \u001b[38;5;28;01mNone\u001b[39;00m)\n\u001b[1;32m     78\u001b[0m kwds[\u001b[38;5;124m\"\u001b[39m\u001b[38;5;124mdtype\u001b[39m\u001b[38;5;124m\"\u001b[39m] \u001b[38;5;241m=\u001b[39m ensure_dtype_objs(kwds\u001b[38;5;241m.\u001b[39mget(\u001b[38;5;124m\"\u001b[39m\u001b[38;5;124mdtype\u001b[39m\u001b[38;5;124m\"\u001b[39m, \u001b[38;5;28;01mNone\u001b[39;00m))\n\u001b[0;32m---> 79\u001b[0m \u001b[38;5;28mself\u001b[39m\u001b[38;5;241m.\u001b[39m_reader \u001b[38;5;241m=\u001b[39m \u001b[43mparsers\u001b[49m\u001b[38;5;241;43m.\u001b[39;49m\u001b[43mTextReader\u001b[49m\u001b[43m(\u001b[49m\u001b[43msrc\u001b[49m\u001b[43m,\u001b[49m\u001b[43m \u001b[49m\u001b[38;5;241;43m*\u001b[39;49m\u001b[38;5;241;43m*\u001b[39;49m\u001b[43mkwds\u001b[49m\u001b[43m)\u001b[49m\n\u001b[1;32m     81\u001b[0m \u001b[38;5;28mself\u001b[39m\u001b[38;5;241m.\u001b[39munnamed_cols \u001b[38;5;241m=\u001b[39m \u001b[38;5;28mself\u001b[39m\u001b[38;5;241m.\u001b[39m_reader\u001b[38;5;241m.\u001b[39munnamed_cols\n\u001b[1;32m     83\u001b[0m \u001b[38;5;66;03m# error: Cannot determine type of 'names'\u001b[39;00m\n",
      "File \u001b[0;32m~/anaconda3/envs/thesis/lib/python3.10/site-packages/pandas/_libs/parsers.pyx:547\u001b[0m, in \u001b[0;36mpandas._libs.parsers.TextReader.__cinit__\u001b[0;34m()\u001b[0m\n",
      "File \u001b[0;32m~/anaconda3/envs/thesis/lib/python3.10/site-packages/pandas/_libs/parsers.pyx:636\u001b[0m, in \u001b[0;36mpandas._libs.parsers.TextReader._get_header\u001b[0;34m()\u001b[0m\n",
      "File \u001b[0;32m~/anaconda3/envs/thesis/lib/python3.10/site-packages/pandas/_libs/parsers.pyx:852\u001b[0m, in \u001b[0;36mpandas._libs.parsers.TextReader._tokenize_rows\u001b[0;34m()\u001b[0m\n",
      "File \u001b[0;32m~/anaconda3/envs/thesis/lib/python3.10/site-packages/pandas/_libs/parsers.pyx:1965\u001b[0m, in \u001b[0;36mpandas._libs.parsers.raise_parser_error\u001b[0;34m()\u001b[0m\n",
      "\u001b[0;31mUnicodeDecodeError\u001b[0m: 'utf-8' codec can't decode byte 0x8c in position 8: invalid start byte"
     ]
    }
   ],
   "source": [
    "data = pd.read_csv(\"../../data/input/GSM1304918_8_SCZ_HPC.CEL\")"
   ]
  },
  {
   "cell_type": "code",
   "execution_count": 13,
   "id": "528d1e2d",
   "metadata": {
    "ExecuteTime": {
     "end_time": "2023-02-28T11:13:32.092139Z",
     "start_time": "2023-02-28T11:13:31.193249Z"
    }
   },
   "outputs": [],
   "source": [
    "from Bio.Affy import CelFile\n",
    "import gzip\n",
    "\n",
    "with gzip.open(\"../../data/input/GSM1304950_4_C_B46.CEL.gz\") as handle:\n",
    "    c = CelFile.read(handle)"
   ]
  },
  {
   "cell_type": "code",
   "execution_count": 15,
   "id": "f4d0d87c",
   "metadata": {
    "ExecuteTime": {
     "end_time": "2023-02-28T11:13:55.896975Z",
     "start_time": "2023-02-28T11:13:55.892781Z"
    }
   },
   "outputs": [
    {
     "name": "stdout",
     "output_type": "stream",
     "text": [
      "1164 1164\n"
     ]
    }
   ],
   "source": [
    "print(c.ncols, c.nrows)"
   ]
  },
  {
   "cell_type": "code",
   "execution_count": 16,
   "id": "911b78c6",
   "metadata": {
    "ExecuteTime": {
     "end_time": "2023-02-28T11:14:00.759927Z",
     "start_time": "2023-02-28T11:14:00.744967Z"
    }
   },
   "outputs": [
    {
     "name": "stdout",
     "output_type": "stream",
     "text": [
      "[[ 4.61442085e-08  4.53892426e-08  4.61395331e-08 ...  4.53583198e-08\n",
      "   2.30810274e+23  2.32043900e+23]\n",
      " [ 2.31236854e+23 -2.04439552e+08  4.55092959e-08 ... -4.03347484e-23\n",
      "   6.16194655e-39  4.58292106e-08]\n",
      " [ 6.12284472e-39  4.52091626e-08  6.11782247e-39 ...  6.15548937e-39\n",
      "   6.11782247e-39  2.29744974e+23]\n",
      " ...\n",
      " [ 4.54310793e-08  6.11208275e-39 -4.03040522e-23 ... -2.04865536e+08\n",
      "  -2.04763136e+08  6.11495261e-39]\n",
      " [-2.05076480e+08  2.29652740e+23  4.53546818e-08 ...  6.13360669e-39\n",
      "   2.34006244e+23 -2.04177408e+08]\n",
      " [-4.09876223e-23  2.29910995e+23  6.44632046e-39 ... -5.13203308e+02\n",
      "   1.45002424e+14 -1.63770820e+29]]\n"
     ]
    }
   ],
   "source": [
    "print(c.intensities)"
   ]
  },
  {
   "cell_type": "code",
   "execution_count": 17,
   "id": "96f52e2e",
   "metadata": {
    "ExecuteTime": {
     "end_time": "2023-02-28T11:14:07.037383Z",
     "start_time": "2023-02-28T11:14:07.023660Z"
    }
   },
   "outputs": [
    {
     "name": "stdout",
     "output_type": "stream",
     "text": [
      "[[ 1.01876487e-23  1.00322305e-23  1.01872259e-23 ...  1.00027460e-23\n",
      "   1.00417623e-23  1.00811422e-23]\n",
      " [ 1.00579182e-23  1.00054920e-23  1.00431357e-23 ...  1.00193863e-23\n",
      "   1.00206792e-23  1.01035183e-23]\n",
      " [ 1.00069467e-23  9.94943165e-24  1.00020999e-23 ...  1.00142168e-23\n",
      "   9.99079084e-24  1.00001609e-23]\n",
      " ...\n",
      " [ 1.00229409e-23  9.98432849e-24  1.00113083e-23 ...  1.00333609e-23\n",
      "   1.00127622e-23  9.99402201e-24]\n",
      " [ 1.00325531e-23  9.99208299e-24  1.00092084e-23 ...  1.00085623e-23\n",
      "   1.01713374e-23  1.00103388e-23]\n",
      " [ 1.01683611e-23  1.00082389e-23  1.01671423e-23 ... -5.13781433e+02\n",
      "   5.66432629e+11 -2.67630546e+36]]\n"
     ]
    }
   ],
   "source": [
    "print(c.stdevs)"
   ]
  },
  {
   "cell_type": "code",
   "execution_count": 18,
   "id": "5799e931",
   "metadata": {
    "ExecuteTime": {
     "end_time": "2023-02-28T11:14:12.252686Z",
     "start_time": "2023-02-28T11:14:12.237951Z"
    }
   },
   "outputs": [
    {
     "name": "stdout",
     "output_type": "stream",
     "text": [
      "[[    0     0     0 ...     0     0     0]\n",
      " [    0     0     0 ...     0     0     0]\n",
      " [    0     0     0 ...     0     0     0]\n",
      " ...\n",
      " [    0     0     0 ...     0     0     0]\n",
      " [    0     0     0 ...     0     0     0]\n",
      " [    0     0     0 ...  5635 -6652 20739]]\n"
     ]
    }
   ],
   "source": [
    "print(c.npix)"
   ]
  },
  {
   "cell_type": "code",
   "execution_count": null,
   "id": "405c06d8",
   "metadata": {},
   "outputs": [],
   "source": []
  }
 ],
 "metadata": {
  "kernelspec": {
   "display_name": "thesis",
   "language": "python",
   "name": "thesis"
  },
  "language_info": {
   "codemirror_mode": {
    "name": "ipython",
    "version": 3
   },
   "file_extension": ".py",
   "mimetype": "text/x-python",
   "name": "python",
   "nbconvert_exporter": "python",
   "pygments_lexer": "ipython3",
   "version": "3.10.8"
  },
  "toc": {
   "base_numbering": 1,
   "nav_menu": {},
   "number_sections": true,
   "sideBar": true,
   "skip_h1_title": false,
   "title_cell": "Table of Contents",
   "title_sidebar": "Contents",
   "toc_cell": false,
   "toc_position": {},
   "toc_section_display": true,
   "toc_window_display": false
  }
 },
 "nbformat": 4,
 "nbformat_minor": 5
}
