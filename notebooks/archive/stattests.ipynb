{
 "cells": [
  {
   "cell_type": "code",
   "execution_count": 2,
   "id": "77776c50",
   "metadata": {
    "ExecuteTime": {
     "end_time": "2023-01-23T12:50:54.842641Z",
     "start_time": "2023-01-23T12:50:53.528648Z"
    }
   },
   "outputs": [],
   "source": [
    "import numpy as np\n",
    "import pandas as pd\n",
    "import matplotlib.pyplot as plt\n",
    "from tqdm import tqdm\n",
    "from scipy.stats import ttest_ind, mannwhitneyu\n",
    "from statsmodels.stats.multitest import multipletests\n",
    "import pickle"
   ]
  },
  {
   "cell_type": "code",
   "execution_count": 3,
   "id": "5f6ea302",
   "metadata": {
    "ExecuteTime": {
     "end_time": "2023-01-23T12:50:54.871699Z",
     "start_time": "2023-01-23T12:50:54.846327Z"
    }
   },
   "outputs": [],
   "source": [
    "%load_ext autoreload\n",
    "%autoreload 2\n",
    "\n",
    "import sys\n",
    "\n",
    "sys.path.append(\"..\")\n",
    "from utils import get_tr_data, get_lipids_data"
   ]
  },
  {
   "cell_type": "markdown",
   "id": "42be5a65",
   "metadata": {
    "heading_collapsed": true
   },
   "source": [
    "# Transcriptomis data"
   ]
  },
  {
   "cell_type": "code",
   "execution_count": 4,
   "id": "1161ce92",
   "metadata": {
    "ExecuteTime": {
     "end_time": "2023-01-23T12:50:56.037742Z",
     "start_time": "2023-01-23T12:50:54.873573Z"
    },
    "hidden": true
   },
   "outputs": [],
   "source": [
    "healthy_data = get_tr_data(True)\n",
    "sz_data = get_tr_data(False)"
   ]
  },
  {
   "cell_type": "code",
   "execution_count": 5,
   "id": "d174cb3c",
   "metadata": {
    "ExecuteTime": {
     "end_time": "2023-01-23T12:50:56.064481Z",
     "start_time": "2023-01-23T12:50:56.040524Z"
    },
    "hidden": true
   },
   "outputs": [],
   "source": [
    "region_names = healthy_data.region.unique().tolist()"
   ]
  },
  {
   "cell_type": "code",
   "execution_count": 6,
   "id": "20785896",
   "metadata": {
    "ExecuteTime": {
     "end_time": "2023-01-23T12:50:56.701876Z",
     "start_time": "2023-01-23T12:50:56.068679Z"
    },
    "hidden": true
   },
   "outputs": [],
   "source": [
    "common_genes = list(\n",
    "    set(healthy_data.columns) & set(sz_data.columns) - set([\"region\", \"batch\"])\n",
    ")\n",
    "A = healthy_data.groupby(\"region\")[common_genes].apply(pd.Series.tolist).tolist()\n",
    "A = np.array(A)\n",
    "B = sz_data.groupby(\"region\")[common_genes].apply(pd.Series.tolist).tolist()\n",
    "B = np.array(B)"
   ]
  },
  {
   "cell_type": "code",
   "execution_count": 7,
   "id": "491d12f7",
   "metadata": {
    "ExecuteTime": {
     "end_time": "2023-01-23T12:50:57.696487Z",
     "start_time": "2023-01-23T12:50:56.703683Z"
    },
    "hidden": true
   },
   "outputs": [
    {
     "data": {
      "text/plain": [
       "0.9714285714285714"
      ]
     },
     "execution_count": 7,
     "metadata": {},
     "output_type": "execute_result"
    }
   ],
   "source": [
    "sz_var = B.var(axis=1)\n",
    "h_var = A.var(axis=1)\n",
    "\n",
    "stattest = mannwhitneyu(sz_var, h_var, axis=1)\n",
    "\n",
    "(stattest.pvalue < 0.05).mean()"
   ]
  },
  {
   "cell_type": "code",
   "execution_count": 8,
   "id": "e4153699",
   "metadata": {
    "ExecuteTime": {
     "end_time": "2023-01-23T12:50:57.720628Z",
     "start_time": "2023-01-23T12:50:57.699155Z"
    },
    "hidden": true
   },
   "outputs": [],
   "source": [
    "alternative = \"greater\""
   ]
  },
  {
   "cell_type": "code",
   "execution_count": 9,
   "id": "9239aead",
   "metadata": {
    "ExecuteTime": {
     "end_time": "2023-01-23T12:50:58.068068Z",
     "start_time": "2023-01-23T12:50:57.725496Z"
    },
    "hidden": true
   },
   "outputs": [],
   "source": [
    "stattest = ttest_ind(A, B, alternative=alternative, equal_var=False, axis=1)"
   ]
  },
  {
   "cell_type": "code",
   "execution_count": 10,
   "id": "1831e285",
   "metadata": {
    "ExecuteTime": {
     "end_time": "2023-01-23T12:50:58.097588Z",
     "start_time": "2023-01-23T12:50:58.072349Z"
    },
    "hidden": true
   },
   "outputs": [
    {
     "data": {
      "text/plain": [
       "0.1899233164380939"
      ]
     },
     "execution_count": 10,
     "metadata": {},
     "output_type": "execute_result"
    }
   ],
   "source": [
    "(stattest.pvalue < 0.05).mean()"
   ]
  },
  {
   "cell_type": "code",
   "execution_count": 11,
   "id": "abe7e1f3",
   "metadata": {
    "ExecuteTime": {
     "end_time": "2023-01-23T12:50:58.537761Z",
     "start_time": "2023-01-23T12:50:58.100480Z"
    },
    "hidden": true
   },
   "outputs": [
    {
     "name": "stdout",
     "output_type": "stream",
     "text": [
      "fdr_bh 0.019284757000775903\n",
      "fdr_by 0.0\n",
      "fdr_tsbh 0.019980048166547425\n",
      "fdr_tsbky 0.01800098751498907\n"
     ]
    }
   ],
   "source": [
    "for method in [\"fdr_bh\", \"fdr_by\", \"fdr_tsbh\", \"fdr_tsbky\"]:\n",
    "    p_vals_corrected = multipletests(\n",
    "        stattest.pvalue.reshape(\n",
    "            -1,\n",
    "        ),\n",
    "        alpha=0.05,\n",
    "        method=method,\n",
    "    )\n",
    "    print(method, (p_vals_corrected[1] < 0.05).mean())"
   ]
  },
  {
   "cell_type": "code",
   "execution_count": 12,
   "id": "b9f68c00",
   "metadata": {
    "ExecuteTime": {
     "end_time": "2023-01-23T12:50:58.663714Z",
     "start_time": "2023-01-23T12:50:58.540320Z"
    },
    "hidden": true
   },
   "outputs": [],
   "source": [
    "p_vals_corrected = multipletests(\n",
    "    stattest.pvalue.reshape(\n",
    "        -1,\n",
    "    ),\n",
    "    alpha=0.05,\n",
    "    method=\"fdr_tsbh\",\n",
    ")"
   ]
  },
  {
   "cell_type": "code",
   "execution_count": 13,
   "id": "d15a91b4",
   "metadata": {
    "ExecuteTime": {
     "end_time": "2023-01-23T12:50:58.683725Z",
     "start_time": "2023-01-23T12:50:58.665461Z"
    },
    "hidden": true
   },
   "outputs": [],
   "source": [
    "p_vals_corrected = p_vals_corrected[1].reshape(35, -1)"
   ]
  },
  {
   "cell_type": "code",
   "execution_count": 14,
   "id": "86c17ba7",
   "metadata": {
    "ExecuteTime": {
     "end_time": "2023-01-23T12:50:58.712363Z",
     "start_time": "2023-01-23T12:50:58.686184Z"
    },
    "hidden": true
   },
   "outputs": [],
   "source": [
    "p_vals_corrected = pd.DataFrame(\n",
    "    p_vals_corrected, index=healthy_data.region.unique(), columns=common_genes\n",
    ")"
   ]
  },
  {
   "cell_type": "code",
   "execution_count": 15,
   "id": "7ab0c2a4",
   "metadata": {
    "ExecuteTime": {
     "end_time": "2023-01-23T12:50:58.743187Z",
     "start_time": "2023-01-23T12:50:58.716485Z"
    },
    "hidden": true
   },
   "outputs": [
    {
     "data": {
      "text/plain": [
       "0.019980048166547425"
      ]
     },
     "execution_count": 15,
     "metadata": {},
     "output_type": "execute_result"
    }
   ],
   "source": [
    "(p_vals_corrected < 0.05).mean().mean()"
   ]
  },
  {
   "cell_type": "code",
   "execution_count": 16,
   "id": "fe43d38b",
   "metadata": {
    "ExecuteTime": {
     "end_time": "2023-01-23T12:50:58.815882Z",
     "start_time": "2023-01-23T12:50:58.745909Z"
    },
    "hidden": true
   },
   "outputs": [
    {
     "data": {
      "text/plain": [
       "1  Cerebellar Grey Matter   ENSG00000090382    0.041462\n",
       "                            ENSG00000082212    0.040922\n",
       "                            ENSG00000146243    0.035675\n",
       "                            ENSG00000143450    0.028103\n",
       "                            ENSG00000164975    0.036790\n",
       "                                                 ...   \n",
       "75 Cerebellar White Matter  ENSG00000156162    0.021517\n",
       "                            ENSG00000133773    0.041953\n",
       "                            ENSG00000213463    0.028968\n",
       "                            ENSG00000151881    0.036245\n",
       "                            ENSG00000189403    0.044333\n",
       "Length: 9914, dtype: float64"
      ]
     },
     "execution_count": 16,
     "metadata": {},
     "output_type": "execute_result"
    }
   ],
   "source": [
    "genes = p_vals_corrected[p_vals_corrected < 0.05].stack()\n",
    "genes"
   ]
  },
  {
   "cell_type": "code",
   "execution_count": 17,
   "id": "2d67c8f0",
   "metadata": {
    "ExecuteTime": {
     "end_time": "2023-01-23T12:50:59.566781Z",
     "start_time": "2023-01-23T12:50:59.516985Z"
    },
    "hidden": true
   },
   "outputs": [
    {
     "data": {
      "text/plain": [
       "9914"
      ]
     },
     "execution_count": 17,
     "metadata": {},
     "output_type": "execute_result"
    }
   ],
   "source": [
    "len(genes)"
   ]
  },
  {
   "cell_type": "code",
   "execution_count": 18,
   "id": "c9a6f055",
   "metadata": {
    "ExecuteTime": {
     "end_time": "2023-01-23T12:51:00.175514Z",
     "start_time": "2023-01-23T12:51:00.098652Z"
    },
    "hidden": true
   },
   "outputs": [],
   "source": [
    "for region_name in region_names:\n",
    "    difference = genes[region_name].index.tolist()\n",
    "    with open(\n",
    "        f\"../../data/output/{region_name.replace('/', '|')} {alternative}.txt\", \"w\"\n",
    "    ) as fout:\n",
    "        fout.write(\"\\n\".join(difference))"
   ]
  },
  {
   "cell_type": "markdown",
   "id": "fb4de77b",
   "metadata": {},
   "source": [
    "# Lipids"
   ]
  },
  {
   "cell_type": "code",
   "execution_count": 20,
   "id": "3ba0bb79",
   "metadata": {
    "ExecuteTime": {
     "end_time": "2023-01-23T12:51:08.566620Z",
     "start_time": "2023-01-23T12:51:08.518761Z"
    }
   },
   "outputs": [
    {
     "data": {
      "text/html": [
       "<div>\n",
       "<style scoped>\n",
       "    .dataframe tbody tr th:only-of-type {\n",
       "        vertical-align: middle;\n",
       "    }\n",
       "\n",
       "    .dataframe tbody tr th {\n",
       "        vertical-align: top;\n",
       "    }\n",
       "\n",
       "    .dataframe thead th {\n",
       "        text-align: right;\n",
       "    }\n",
       "</style>\n",
       "<table border=\"1\" class=\"dataframe\">\n",
       "  <thead>\n",
       "    <tr style=\"text-align: right;\">\n",
       "      <th></th>\n",
       "      <th>Unnamed: 0</th>\n",
       "      <th>polarity_peak</th>\n",
       "      <th>Lipid.class</th>\n",
       "      <th>Lipid.species</th>\n",
       "      <th>fragmentation</th>\n",
       "      <th>adduct</th>\n",
       "      <th>other.mode</th>\n",
       "      <th>MZ.target</th>\n",
       "      <th>RT.data</th>\n",
       "      <th>init_peak</th>\n",
       "      <th>polarity</th>\n",
       "      <th>schiz_peak</th>\n",
       "      <th>healthy_predicted</th>\n",
       "      <th>rt_error</th>\n",
       "      <th>ppm_error</th>\n",
       "      <th>schiz_peak_WO_</th>\n",
       "      <th>corr_all</th>\n",
       "      <th>corr_HC</th>\n",
       "      <th>polarity_schiz_peak</th>\n",
       "    </tr>\n",
       "  </thead>\n",
       "  <tbody>\n",
       "    <tr>\n",
       "      <th>0</th>\n",
       "      <td>0</td>\n",
       "      <td>posFT21454</td>\n",
       "      <td>DG</td>\n",
       "      <td>DG 34:1</td>\n",
       "      <td>DG(16:0_18:1). DG(16:1_18:0)</td>\n",
       "      <td>M+NH4</td>\n",
       "      <td>negFT09400</td>\n",
       "      <td>612.557849</td>\n",
       "      <td>9.833337</td>\n",
       "      <td>FT21454</td>\n",
       "      <td>pos</td>\n",
       "      <td>FT24227</td>\n",
       "      <td>FT21454</td>\n",
       "      <td>0.010223</td>\n",
       "      <td>0.330946</td>\n",
       "      <td>FT24227</td>\n",
       "      <td>0.534097</td>\n",
       "      <td>0.977170</td>\n",
       "      <td>posFT24227</td>\n",
       "    </tr>\n",
       "    <tr>\n",
       "      <th>1</th>\n",
       "      <td>1</td>\n",
       "      <td>posFT22500</td>\n",
       "      <td>DG</td>\n",
       "      <td>DG 35:1</td>\n",
       "      <td>DG(17:1_18:0)</td>\n",
       "      <td>M+NH4</td>\n",
       "      <td>negFT09832</td>\n",
       "      <td>626.573761</td>\n",
       "      <td>10.592758</td>\n",
       "      <td>FT22500</td>\n",
       "      <td>pos</td>\n",
       "      <td>FT25123</td>\n",
       "      <td>FT22500</td>\n",
       "      <td>0.014286</td>\n",
       "      <td>0.299755</td>\n",
       "      <td>FT25123</td>\n",
       "      <td>0.689857</td>\n",
       "      <td>0.875110</td>\n",
       "      <td>posFT25123</td>\n",
       "    </tr>\n",
       "    <tr>\n",
       "      <th>2</th>\n",
       "      <td>2</td>\n",
       "      <td>posFT23044</td>\n",
       "      <td>DG</td>\n",
       "      <td>DG 36:4</td>\n",
       "      <td>DG(16:0_20:4)</td>\n",
       "      <td>M+NH4</td>\n",
       "      <td>negFT10106</td>\n",
       "      <td>634.542347</td>\n",
       "      <td>8.601461</td>\n",
       "      <td>FT23044</td>\n",
       "      <td>pos</td>\n",
       "      <td>FT25655</td>\n",
       "      <td>FT23044</td>\n",
       "      <td>0.014547</td>\n",
       "      <td>-0.445968</td>\n",
       "      <td>FT25655</td>\n",
       "      <td>0.588468</td>\n",
       "      <td>0.973725</td>\n",
       "      <td>posFT25655</td>\n",
       "    </tr>\n",
       "    <tr>\n",
       "      <th>3</th>\n",
       "      <td>3</td>\n",
       "      <td>posFT23164</td>\n",
       "      <td>DG</td>\n",
       "      <td>DG 36:3</td>\n",
       "      <td>DG(16:0_20:3). DG(18:1_18:2)</td>\n",
       "      <td>M+NH4</td>\n",
       "      <td>negFT10169</td>\n",
       "      <td>636.557585</td>\n",
       "      <td>9.128819</td>\n",
       "      <td>FT23164</td>\n",
       "      <td>pos</td>\n",
       "      <td>FT25793</td>\n",
       "      <td>FT23164</td>\n",
       "      <td>0.013258</td>\n",
       "      <td>-0.156961</td>\n",
       "      <td>FT25793</td>\n",
       "      <td>0.432344</td>\n",
       "      <td>0.979049</td>\n",
       "      <td>posFT25793</td>\n",
       "    </tr>\n",
       "    <tr>\n",
       "      <th>4</th>\n",
       "      <td>4</td>\n",
       "      <td>posFT23296</td>\n",
       "      <td>DG</td>\n",
       "      <td>DG 36:2</td>\n",
       "      <td>DG(18:0_18:2). DG(18:1_18:1)</td>\n",
       "      <td>M+NH4</td>\n",
       "      <td>negFT10242</td>\n",
       "      <td>638.573939</td>\n",
       "      <td>10.122875</td>\n",
       "      <td>FT23296</td>\n",
       "      <td>pos</td>\n",
       "      <td>FT25962</td>\n",
       "      <td>FT23296</td>\n",
       "      <td>0.004684</td>\n",
       "      <td>0.119584</td>\n",
       "      <td>FT25962</td>\n",
       "      <td>0.511568</td>\n",
       "      <td>0.976847</td>\n",
       "      <td>posFT25962</td>\n",
       "    </tr>\n",
       "  </tbody>\n",
       "</table>\n",
       "</div>"
      ],
      "text/plain": [
       "   Unnamed: 0 polarity_peak Lipid.class Lipid.species  \\\n",
       "0           0    posFT21454          DG       DG 34:1   \n",
       "1           1    posFT22500          DG       DG 35:1   \n",
       "2           2    posFT23044          DG       DG 36:4   \n",
       "3           3    posFT23164          DG       DG 36:3   \n",
       "4           4    posFT23296          DG       DG 36:2   \n",
       "\n",
       "                  fragmentation adduct  other.mode   MZ.target    RT.data  \\\n",
       "0  DG(16:0_18:1). DG(16:1_18:0)  M+NH4  negFT09400  612.557849   9.833337   \n",
       "1                 DG(17:1_18:0)  M+NH4  negFT09832  626.573761  10.592758   \n",
       "2                 DG(16:0_20:4)  M+NH4  negFT10106  634.542347   8.601461   \n",
       "3  DG(16:0_20:3). DG(18:1_18:2)  M+NH4  negFT10169  636.557585   9.128819   \n",
       "4  DG(18:0_18:2). DG(18:1_18:1)  M+NH4  negFT10242  638.573939  10.122875   \n",
       "\n",
       "  init_peak polarity schiz_peak healthy_predicted  rt_error  ppm_error  \\\n",
       "0   FT21454      pos    FT24227           FT21454  0.010223   0.330946   \n",
       "1   FT22500      pos    FT25123           FT22500  0.014286   0.299755   \n",
       "2   FT23044      pos    FT25655           FT23044  0.014547  -0.445968   \n",
       "3   FT23164      pos    FT25793           FT23164  0.013258  -0.156961   \n",
       "4   FT23296      pos    FT25962           FT23296  0.004684   0.119584   \n",
       "\n",
       "  schiz_peak_WO_  corr_all   corr_HC polarity_schiz_peak  \n",
       "0        FT24227  0.534097  0.977170          posFT24227  \n",
       "1        FT25123  0.689857  0.875110          posFT25123  \n",
       "2        FT25655  0.588468  0.973725          posFT25655  \n",
       "3        FT25793  0.432344  0.979049          posFT25793  \n",
       "4        FT25962  0.511568  0.976847          posFT25962  "
      ]
     },
     "execution_count": 20,
     "metadata": {},
     "output_type": "execute_result"
    }
   ],
   "source": [
    "lipids_meta = pd.read_csv(\"../../data/input/TL_combined.csv\")\n",
    "lipids_meta.head()"
   ]
  },
  {
   "cell_type": "code",
   "execution_count": 21,
   "id": "09e410ea",
   "metadata": {
    "ExecuteTime": {
     "end_time": "2023-01-23T12:51:08.870091Z",
     "start_time": "2023-01-23T12:51:08.846978Z"
    }
   },
   "outputs": [],
   "source": [
    "columns = [\n",
    "    \"polarity_peak\",\n",
    "    \"polarity_schiz_peak\",\n",
    "    \"Lipid.class\",\n",
    "    \"Lipid.species\",\n",
    "]\n",
    "lipids_meta = lipids_meta[columns]"
   ]
  },
  {
   "cell_type": "code",
   "execution_count": 22,
   "id": "a9f7e070",
   "metadata": {
    "ExecuteTime": {
     "end_time": "2023-01-23T12:51:10.621820Z",
     "start_time": "2023-01-23T12:51:10.580432Z"
    }
   },
   "outputs": [],
   "source": [
    "lipids_meta.columns = [\"h_id\", \"sz_id\", \"class\", \"species\"]"
   ]
  },
  {
   "cell_type": "code",
   "execution_count": 23,
   "id": "817e3493",
   "metadata": {
    "ExecuteTime": {
     "end_time": "2023-01-23T12:51:10.923164Z",
     "start_time": "2023-01-23T12:51:10.893437Z"
    }
   },
   "outputs": [
    {
     "name": "stdout",
     "output_type": "stream",
     "text": [
      "['DG' 'SM' 'Cer' 'HexCer' 'CAR' 'CE' 'PS' 'TG' 'Cholesterol' 'LPC' 'PE'\n",
      " 'LPE' 'PG' 'PE_P' 'PE_O' 'PC' 'PC_P' 'PC_O' 'PI' 'SulfoHexCer' 'FA']\n"
     ]
    }
   ],
   "source": [
    "print(lipids_meta[\"class\"].unique())"
   ]
  },
  {
   "cell_type": "code",
   "execution_count": 24,
   "id": "15e7917e",
   "metadata": {
    "ExecuteTime": {
     "end_time": "2023-01-23T12:51:11.233980Z",
     "start_time": "2023-01-23T12:51:11.196894Z"
    }
   },
   "outputs": [
    {
     "data": {
      "text/html": [
       "<div>\n",
       "<style scoped>\n",
       "    .dataframe tbody tr th:only-of-type {\n",
       "        vertical-align: middle;\n",
       "    }\n",
       "\n",
       "    .dataframe tbody tr th {\n",
       "        vertical-align: top;\n",
       "    }\n",
       "\n",
       "    .dataframe thead th {\n",
       "        text-align: right;\n",
       "    }\n",
       "</style>\n",
       "<table border=\"1\" class=\"dataframe\">\n",
       "  <thead>\n",
       "    <tr style=\"text-align: right;\">\n",
       "      <th></th>\n",
       "      <th>h_id</th>\n",
       "      <th>sz_id</th>\n",
       "      <th>class</th>\n",
       "      <th>species</th>\n",
       "    </tr>\n",
       "  </thead>\n",
       "  <tbody>\n",
       "    <tr>\n",
       "      <th>0</th>\n",
       "      <td>posFT21454</td>\n",
       "      <td>posFT24227</td>\n",
       "      <td>DG</td>\n",
       "      <td>DG 34:1</td>\n",
       "    </tr>\n",
       "    <tr>\n",
       "      <th>1</th>\n",
       "      <td>posFT22500</td>\n",
       "      <td>posFT25123</td>\n",
       "      <td>DG</td>\n",
       "      <td>DG 35:1</td>\n",
       "    </tr>\n",
       "    <tr>\n",
       "      <th>5</th>\n",
       "      <td>posFT23406</td>\n",
       "      <td>posFT26104</td>\n",
       "      <td>DG</td>\n",
       "      <td>DG 36:1</td>\n",
       "    </tr>\n",
       "    <tr>\n",
       "      <th>11</th>\n",
       "      <td>posFT28338</td>\n",
       "      <td>posFT31217</td>\n",
       "      <td>SM</td>\n",
       "      <td>SM d35:1</td>\n",
       "    </tr>\n",
       "    <tr>\n",
       "      <th>13</th>\n",
       "      <td>posFT29177</td>\n",
       "      <td>posFT32121</td>\n",
       "      <td>SM</td>\n",
       "      <td>SM d36:1</td>\n",
       "    </tr>\n",
       "    <tr>\n",
       "      <th>...</th>\n",
       "      <td>...</td>\n",
       "      <td>...</td>\n",
       "      <td>...</td>\n",
       "      <td>...</td>\n",
       "    </tr>\n",
       "    <tr>\n",
       "      <th>358</th>\n",
       "      <td>negFT01882</td>\n",
       "      <td>negFT01689</td>\n",
       "      <td>FA</td>\n",
       "      <td>FA 19:1</td>\n",
       "    </tr>\n",
       "    <tr>\n",
       "      <th>360</th>\n",
       "      <td>negFT02166</td>\n",
       "      <td>negFT01929</td>\n",
       "      <td>FA</td>\n",
       "      <td>FA 20:1</td>\n",
       "    </tr>\n",
       "    <tr>\n",
       "      <th>367</th>\n",
       "      <td>negFT03015</td>\n",
       "      <td>negFT02744</td>\n",
       "      <td>FA</td>\n",
       "      <td>FA 22:1</td>\n",
       "    </tr>\n",
       "    <tr>\n",
       "      <th>374</th>\n",
       "      <td>negFT03483</td>\n",
       "      <td>negFT03339</td>\n",
       "      <td>FA</td>\n",
       "      <td>FA 24:1</td>\n",
       "    </tr>\n",
       "    <tr>\n",
       "      <th>378</th>\n",
       "      <td>negFT04068</td>\n",
       "      <td>negFT04014</td>\n",
       "      <td>FA</td>\n",
       "      <td>FA 26:1</td>\n",
       "    </tr>\n",
       "  </tbody>\n",
       "</table>\n",
       "<p>90 rows × 4 columns</p>\n",
       "</div>"
      ],
      "text/plain": [
       "           h_id       sz_id class   species\n",
       "0    posFT21454  posFT24227    DG   DG 34:1\n",
       "1    posFT22500  posFT25123    DG   DG 35:1\n",
       "5    posFT23406  posFT26104    DG   DG 36:1\n",
       "11   posFT28338  posFT31217    SM  SM d35:1\n",
       "13   posFT29177  posFT32121    SM  SM d36:1\n",
       "..          ...         ...   ...       ...\n",
       "358  negFT01882  negFT01689    FA   FA 19:1\n",
       "360  negFT02166  negFT01929    FA   FA 20:1\n",
       "367  negFT03015  negFT02744    FA   FA 22:1\n",
       "374  negFT03483  negFT03339    FA   FA 24:1\n",
       "378  negFT04068  negFT04014    FA   FA 26:1\n",
       "\n",
       "[90 rows x 4 columns]"
      ]
     },
     "execution_count": 24,
     "metadata": {},
     "output_type": "execute_result"
    }
   ],
   "source": [
    "lipids_meta[lipids_meta[\"species\"].str.endswith(\"1\")]"
   ]
  },
  {
   "cell_type": "code",
   "execution_count": 25,
   "id": "d5bea468",
   "metadata": {
    "ExecuteTime": {
     "end_time": "2023-01-23T12:51:17.704926Z",
     "start_time": "2023-01-23T12:51:17.653742Z"
    }
   },
   "outputs": [],
   "source": [
    "meta_fa_only = lipids_meta[lipids_meta[\"class\"] == \"FA\"]"
   ]
  },
  {
   "cell_type": "code",
   "execution_count": 80,
   "id": "0821f20a",
   "metadata": {
    "ExecuteTime": {
     "end_time": "2023-01-23T13:16:31.159943Z",
     "start_time": "2023-01-23T13:16:31.048483Z"
    }
   },
   "outputs": [],
   "source": [
    "healthy_data = get_lipids_data(True)\n",
    "sz_data = get_lipids_data(False)"
   ]
  },
  {
   "cell_type": "markdown",
   "id": "a757b4fd",
   "metadata": {},
   "source": [
    "### entorhinal cortex"
   ]
  },
  {
   "cell_type": "code",
   "execution_count": 70,
   "id": "73436a67",
   "metadata": {
    "ExecuteTime": {
     "end_time": "2023-01-22T12:51:11.620982Z",
     "start_time": "2023-01-22T12:51:11.560334Z"
    }
   },
   "outputs": [],
   "source": [
    "healthy_54 = healthy_data.loc[\n",
    "    healthy_data.region.str.contains(\"Entorhinal\"), meta_fa_only.h_id\n",
    "].astype(float)\n",
    "\n",
    "sz_54 = sz_data.loc[\n",
    "    sz_data.region.str.contains(\"Entorhinal\"), meta_fa_only.sz_id\n",
    "].astype(float)\n",
    "\n",
    "stattest = ttest_ind(healthy_54, sz_54, axis=0, alternative=\"greater\")"
   ]
  },
  {
   "cell_type": "code",
   "execution_count": 71,
   "id": "c0cfa525",
   "metadata": {
    "ExecuteTime": {
     "end_time": "2023-01-22T12:51:12.073712Z",
     "start_time": "2023-01-22T12:51:12.034944Z"
    }
   },
   "outputs": [
    {
     "data": {
      "text/plain": [
       "array([0.56704359, 0.7266679 , 0.94340542, 0.43483154, 0.78986893,\n",
       "       0.75880588, 0.09098458, 0.19710794, 0.41651129, 0.84920179,\n",
       "       0.88522033, 0.77153827, 0.79347765, 0.41765456, 0.2149289 ,\n",
       "       0.336984  , 0.87945113, 0.87862532, 0.99240367, 0.94484974,\n",
       "       0.9283771 , 0.2040184 , 0.03317193, 0.04605322, 0.33896465,\n",
       "       0.9850159 , 0.88304087, 0.93321042, 0.34004906, 0.97774103])"
      ]
     },
     "execution_count": 71,
     "metadata": {},
     "output_type": "execute_result"
    }
   ],
   "source": [
    "stattest.pvalue"
   ]
  },
  {
   "cell_type": "code",
   "execution_count": 72,
   "id": "acb53ba3",
   "metadata": {
    "ExecuteTime": {
     "end_time": "2023-01-22T12:51:15.162017Z",
     "start_time": "2023-01-22T12:51:15.116895Z"
    }
   },
   "outputs": [
    {
     "name": "stdout",
     "output_type": "stream",
     "text": [
      "fdr_bh 0.0\n",
      "fdr_by 0.0\n",
      "fdr_tsbh 0.0\n",
      "fdr_tsbky 0.0\n"
     ]
    }
   ],
   "source": [
    "for method in [\"fdr_bh\", \"fdr_by\", \"fdr_tsbh\", \"fdr_tsbky\"]:\n",
    "    p_vals_corrected = multipletests(\n",
    "        stattest.pvalue.reshape(\n",
    "            -1,\n",
    "        ),\n",
    "        alpha=0.05,\n",
    "        method=method,\n",
    "    )\n",
    "    print(method, (p_vals_corrected[1] < 0.05).mean())"
   ]
  },
  {
   "cell_type": "code",
   "execution_count": null,
   "id": "b3776d56",
   "metadata": {
    "ExecuteTime": {
     "end_time": "2023-01-10T11:51:57.218951Z",
     "start_time": "2023-01-10T11:51:57.138802Z"
    }
   },
   "outputs": [],
   "source": [
    "pvals_corrected = multipletests(stattest.pvalue, method=\"Bonferroni\")\n",
    "df = pd.DataFrame(\n",
    "    np.stack([stattest.pvalue, pvals_corrected[1]]).T,\n",
    "    index=meta_fa_only.species.values,\n",
    "    columns=[\"pval\", \"padj\"],\n",
    ")\n",
    "df.sort_values(\"pval\")"
   ]
  },
  {
   "cell_type": "markdown",
   "id": "1e3a1f65",
   "metadata": {},
   "source": [
    "### prefrontal cortex [Brodmann area (BA) 8]."
   ]
  },
  {
   "cell_type": "code",
   "execution_count": 81,
   "id": "be0731e7",
   "metadata": {
    "ExecuteTime": {
     "end_time": "2023-01-23T13:16:35.347095Z",
     "start_time": "2023-01-23T13:16:35.273698Z"
    }
   },
   "outputs": [
    {
     "data": {
      "text/html": [
       "<div>\n",
       "<style scoped>\n",
       "    .dataframe tbody tr th:only-of-type {\n",
       "        vertical-align: middle;\n",
       "    }\n",
       "\n",
       "    .dataframe tbody tr th {\n",
       "        vertical-align: top;\n",
       "    }\n",
       "\n",
       "    .dataframe thead th {\n",
       "        text-align: right;\n",
       "    }\n",
       "</style>\n",
       "<table border=\"1\" class=\"dataframe\">\n",
       "  <thead>\n",
       "    <tr style=\"text-align: right;\">\n",
       "      <th></th>\n",
       "      <th>batch</th>\n",
       "      <th>region</th>\n",
       "      <th>human</th>\n",
       "      <th>posFT21454</th>\n",
       "      <th>posFT22500</th>\n",
       "      <th>posFT23044</th>\n",
       "      <th>posFT23164</th>\n",
       "      <th>posFT23296</th>\n",
       "      <th>posFT23406</th>\n",
       "      <th>posFT24809</th>\n",
       "      <th>...</th>\n",
       "      <th>negFT02655</th>\n",
       "      <th>negFT02623</th>\n",
       "      <th>negFT02583</th>\n",
       "      <th>negFT02495</th>\n",
       "      <th>negFT02443</th>\n",
       "      <th>negFT03339</th>\n",
       "      <th>negFT03175</th>\n",
       "      <th>negFT03147</th>\n",
       "      <th>negFT03110</th>\n",
       "      <th>negFT04014</th>\n",
       "    </tr>\n",
       "  </thead>\n",
       "  <tbody>\n",
       "    <tr>\n",
       "      <th>0</th>\n",
       "      <td>170426_BM_pos_1-30_MS1_HA_259</td>\n",
       "      <td>25 Posterior Inferior Temporal (BA20p)</td>\n",
       "      <td>HA</td>\n",
       "      <td>-0.321858</td>\n",
       "      <td>-0.186670</td>\n",
       "      <td>-0.831546</td>\n",
       "      <td>-0.481312</td>\n",
       "      <td>-0.317817</td>\n",
       "      <td>-0.273785</td>\n",
       "      <td>-0.657452</td>\n",
       "      <td>...</td>\n",
       "      <td>NaN</td>\n",
       "      <td>NaN</td>\n",
       "      <td>NaN</td>\n",
       "      <td>NaN</td>\n",
       "      <td>NaN</td>\n",
       "      <td>NaN</td>\n",
       "      <td>NaN</td>\n",
       "      <td>NaN</td>\n",
       "      <td>NaN</td>\n",
       "      <td>NaN</td>\n",
       "    </tr>\n",
       "    <tr>\n",
       "      <th>1</th>\n",
       "      <td>170426_BM_pos_1-30_MS2_HA_502</td>\n",
       "      <td>2  Anterior Supramarginal (BA40a)</td>\n",
       "      <td>HA</td>\n",
       "      <td>-0.269051</td>\n",
       "      <td>-0.324846</td>\n",
       "      <td>-0.691367</td>\n",
       "      <td>-0.309655</td>\n",
       "      <td>-0.263693</td>\n",
       "      <td>-0.467548</td>\n",
       "      <td>-0.870317</td>\n",
       "      <td>...</td>\n",
       "      <td>NaN</td>\n",
       "      <td>NaN</td>\n",
       "      <td>NaN</td>\n",
       "      <td>NaN</td>\n",
       "      <td>NaN</td>\n",
       "      <td>NaN</td>\n",
       "      <td>NaN</td>\n",
       "      <td>NaN</td>\n",
       "      <td>NaN</td>\n",
       "      <td>NaN</td>\n",
       "    </tr>\n",
       "    <tr>\n",
       "      <th>2</th>\n",
       "      <td>170426_BM_pos_1-30_MS3_HA_16</td>\n",
       "      <td>21 FEF Lateral (BA8)</td>\n",
       "      <td>HA</td>\n",
       "      <td>-1.155970</td>\n",
       "      <td>-1.659437</td>\n",
       "      <td>-1.220121</td>\n",
       "      <td>-1.535495</td>\n",
       "      <td>-1.000576</td>\n",
       "      <td>-1.353224</td>\n",
       "      <td>-1.436105</td>\n",
       "      <td>...</td>\n",
       "      <td>NaN</td>\n",
       "      <td>NaN</td>\n",
       "      <td>NaN</td>\n",
       "      <td>NaN</td>\n",
       "      <td>NaN</td>\n",
       "      <td>NaN</td>\n",
       "      <td>NaN</td>\n",
       "      <td>NaN</td>\n",
       "      <td>NaN</td>\n",
       "      <td>NaN</td>\n",
       "    </tr>\n",
       "    <tr>\n",
       "      <th>3</th>\n",
       "      <td>170426_BM_pos_1-30_MS4_HA_556</td>\n",
       "      <td>65 Hippocampus, CA1</td>\n",
       "      <td>HA</td>\n",
       "      <td>0.163326</td>\n",
       "      <td>0.432867</td>\n",
       "      <td>0.555181</td>\n",
       "      <td>0.311151</td>\n",
       "      <td>-0.064507</td>\n",
       "      <td>0.258723</td>\n",
       "      <td>0.458305</td>\n",
       "      <td>...</td>\n",
       "      <td>NaN</td>\n",
       "      <td>NaN</td>\n",
       "      <td>NaN</td>\n",
       "      <td>NaN</td>\n",
       "      <td>NaN</td>\n",
       "      <td>NaN</td>\n",
       "      <td>NaN</td>\n",
       "      <td>NaN</td>\n",
       "      <td>NaN</td>\n",
       "      <td>NaN</td>\n",
       "    </tr>\n",
       "    <tr>\n",
       "      <th>4</th>\n",
       "      <td>170426_BM_pos_1-30_MS5_HA_98</td>\n",
       "      <td>29 Precuneus (BA7m)</td>\n",
       "      <td>HA</td>\n",
       "      <td>-1.429402</td>\n",
       "      <td>-1.037357</td>\n",
       "      <td>-1.572588</td>\n",
       "      <td>-0.774326</td>\n",
       "      <td>-1.081257</td>\n",
       "      <td>-1.344704</td>\n",
       "      <td>-1.608834</td>\n",
       "      <td>...</td>\n",
       "      <td>NaN</td>\n",
       "      <td>NaN</td>\n",
       "      <td>NaN</td>\n",
       "      <td>NaN</td>\n",
       "      <td>NaN</td>\n",
       "      <td>NaN</td>\n",
       "      <td>NaN</td>\n",
       "      <td>NaN</td>\n",
       "      <td>NaN</td>\n",
       "      <td>NaN</td>\n",
       "    </tr>\n",
       "    <tr>\n",
       "      <th>...</th>\n",
       "      <td>...</td>\n",
       "      <td>...</td>\n",
       "      <td>...</td>\n",
       "      <td>...</td>\n",
       "      <td>...</td>\n",
       "      <td>...</td>\n",
       "      <td>...</td>\n",
       "      <td>...</td>\n",
       "      <td>...</td>\n",
       "      <td>...</td>\n",
       "      <td>...</td>\n",
       "      <td>...</td>\n",
       "      <td>...</td>\n",
       "      <td>...</td>\n",
       "      <td>...</td>\n",
       "      <td>...</td>\n",
       "      <td>...</td>\n",
       "      <td>...</td>\n",
       "      <td>...</td>\n",
       "      <td>...</td>\n",
       "      <td>...</td>\n",
       "    </tr>\n",
       "    <tr>\n",
       "      <th>287</th>\n",
       "      <td>Batch4_Sch_Br_x30_pos_5-08_275</td>\n",
       "      <td>8  Cingulate Posterior (BA23a)</td>\n",
       "      <td>H5</td>\n",
       "      <td>NaN</td>\n",
       "      <td>NaN</td>\n",
       "      <td>NaN</td>\n",
       "      <td>NaN</td>\n",
       "      <td>NaN</td>\n",
       "      <td>NaN</td>\n",
       "      <td>NaN</td>\n",
       "      <td>...</td>\n",
       "      <td>0.451108</td>\n",
       "      <td>0.546410</td>\n",
       "      <td>0.471613</td>\n",
       "      <td>0.687231</td>\n",
       "      <td>0.313841</td>\n",
       "      <td>0.757708</td>\n",
       "      <td>0.796724</td>\n",
       "      <td>0.499958</td>\n",
       "      <td>0.595330</td>\n",
       "      <td>0.779982</td>\n",
       "    </tr>\n",
       "    <tr>\n",
       "      <th>288</th>\n",
       "      <td>Batch1_Sch_Br_x30_pos_1-09_23</td>\n",
       "      <td>9  2ary Somatosensory Cortex</td>\n",
       "      <td>H1</td>\n",
       "      <td>NaN</td>\n",
       "      <td>NaN</td>\n",
       "      <td>NaN</td>\n",
       "      <td>NaN</td>\n",
       "      <td>NaN</td>\n",
       "      <td>NaN</td>\n",
       "      <td>NaN</td>\n",
       "      <td>...</td>\n",
       "      <td>-0.681754</td>\n",
       "      <td>-0.135017</td>\n",
       "      <td>0.186984</td>\n",
       "      <td>0.407401</td>\n",
       "      <td>0.527567</td>\n",
       "      <td>-0.694895</td>\n",
       "      <td>-0.918294</td>\n",
       "      <td>-0.297782</td>\n",
       "      <td>0.029223</td>\n",
       "      <td>-1.063673</td>\n",
       "    </tr>\n",
       "    <tr>\n",
       "      <th>289</th>\n",
       "      <td>Batch2_Sch_Br_x30_pos_2-09_97</td>\n",
       "      <td>9  2ary Somatosensory Cortex</td>\n",
       "      <td>H2</td>\n",
       "      <td>NaN</td>\n",
       "      <td>NaN</td>\n",
       "      <td>NaN</td>\n",
       "      <td>NaN</td>\n",
       "      <td>NaN</td>\n",
       "      <td>NaN</td>\n",
       "      <td>NaN</td>\n",
       "      <td>...</td>\n",
       "      <td>-0.991031</td>\n",
       "      <td>-0.609883</td>\n",
       "      <td>-0.024355</td>\n",
       "      <td>-0.126096</td>\n",
       "      <td>0.386976</td>\n",
       "      <td>-1.307066</td>\n",
       "      <td>-1.151982</td>\n",
       "      <td>-0.760314</td>\n",
       "      <td>-0.678591</td>\n",
       "      <td>-1.469617</td>\n",
       "    </tr>\n",
       "    <tr>\n",
       "      <th>290</th>\n",
       "      <td>Batch3_Sch_Br_x30_pos_3-09_232</td>\n",
       "      <td>9  2ary Somatosensory Cortex</td>\n",
       "      <td>H3</td>\n",
       "      <td>NaN</td>\n",
       "      <td>NaN</td>\n",
       "      <td>NaN</td>\n",
       "      <td>NaN</td>\n",
       "      <td>NaN</td>\n",
       "      <td>NaN</td>\n",
       "      <td>NaN</td>\n",
       "      <td>...</td>\n",
       "      <td>1.944500</td>\n",
       "      <td>1.007795</td>\n",
       "      <td>0.392589</td>\n",
       "      <td>-1.421747</td>\n",
       "      <td>-1.449170</td>\n",
       "      <td>2.025034</td>\n",
       "      <td>2.588376</td>\n",
       "      <td>1.943208</td>\n",
       "      <td>0.247463</td>\n",
       "      <td>2.129110</td>\n",
       "    </tr>\n",
       "    <tr>\n",
       "      <th>291</th>\n",
       "      <td>Batch4_Sch_Br_x30_pos_5-09_312</td>\n",
       "      <td>9  2ary Somatosensory Cortex</td>\n",
       "      <td>H5</td>\n",
       "      <td>NaN</td>\n",
       "      <td>NaN</td>\n",
       "      <td>NaN</td>\n",
       "      <td>NaN</td>\n",
       "      <td>NaN</td>\n",
       "      <td>NaN</td>\n",
       "      <td>NaN</td>\n",
       "      <td>...</td>\n",
       "      <td>-0.858613</td>\n",
       "      <td>-0.380347</td>\n",
       "      <td>-0.271629</td>\n",
       "      <td>0.130410</td>\n",
       "      <td>0.009161</td>\n",
       "      <td>-1.124879</td>\n",
       "      <td>-1.156973</td>\n",
       "      <td>-0.798132</td>\n",
       "      <td>-0.408012</td>\n",
       "      <td>-0.794768</td>\n",
       "    </tr>\n",
       "  </tbody>\n",
       "</table>\n",
       "<p>588 rows × 757 columns</p>\n",
       "</div>"
      ],
      "text/plain": [
       "                              batch                                  region  \\\n",
       "0     170426_BM_pos_1-30_MS1_HA_259  25 Posterior Inferior Temporal (BA20p)   \n",
       "1     170426_BM_pos_1-30_MS2_HA_502       2  Anterior Supramarginal (BA40a)   \n",
       "2      170426_BM_pos_1-30_MS3_HA_16                    21 FEF Lateral (BA8)   \n",
       "3     170426_BM_pos_1-30_MS4_HA_556                     65 Hippocampus, CA1   \n",
       "4      170426_BM_pos_1-30_MS5_HA_98                     29 Precuneus (BA7m)   \n",
       "..                              ...                                     ...   \n",
       "287  Batch4_Sch_Br_x30_pos_5-08_275          8  Cingulate Posterior (BA23a)   \n",
       "288   Batch1_Sch_Br_x30_pos_1-09_23            9  2ary Somatosensory Cortex   \n",
       "289   Batch2_Sch_Br_x30_pos_2-09_97            9  2ary Somatosensory Cortex   \n",
       "290  Batch3_Sch_Br_x30_pos_3-09_232            9  2ary Somatosensory Cortex   \n",
       "291  Batch4_Sch_Br_x30_pos_5-09_312            9  2ary Somatosensory Cortex   \n",
       "\n",
       "    human  posFT21454  posFT22500  posFT23044  posFT23164  posFT23296  \\\n",
       "0      HA   -0.321858   -0.186670   -0.831546   -0.481312   -0.317817   \n",
       "1      HA   -0.269051   -0.324846   -0.691367   -0.309655   -0.263693   \n",
       "2      HA   -1.155970   -1.659437   -1.220121   -1.535495   -1.000576   \n",
       "3      HA    0.163326    0.432867    0.555181    0.311151   -0.064507   \n",
       "4      HA   -1.429402   -1.037357   -1.572588   -0.774326   -1.081257   \n",
       "..    ...         ...         ...         ...         ...         ...   \n",
       "287    H5         NaN         NaN         NaN         NaN         NaN   \n",
       "288    H1         NaN         NaN         NaN         NaN         NaN   \n",
       "289    H2         NaN         NaN         NaN         NaN         NaN   \n",
       "290    H3         NaN         NaN         NaN         NaN         NaN   \n",
       "291    H5         NaN         NaN         NaN         NaN         NaN   \n",
       "\n",
       "     posFT23406  posFT24809  ...  negFT02655  negFT02623  negFT02583  \\\n",
       "0     -0.273785   -0.657452  ...         NaN         NaN         NaN   \n",
       "1     -0.467548   -0.870317  ...         NaN         NaN         NaN   \n",
       "2     -1.353224   -1.436105  ...         NaN         NaN         NaN   \n",
       "3      0.258723    0.458305  ...         NaN         NaN         NaN   \n",
       "4     -1.344704   -1.608834  ...         NaN         NaN         NaN   \n",
       "..          ...         ...  ...         ...         ...         ...   \n",
       "287         NaN         NaN  ...    0.451108    0.546410    0.471613   \n",
       "288         NaN         NaN  ...   -0.681754   -0.135017    0.186984   \n",
       "289         NaN         NaN  ...   -0.991031   -0.609883   -0.024355   \n",
       "290         NaN         NaN  ...    1.944500    1.007795    0.392589   \n",
       "291         NaN         NaN  ...   -0.858613   -0.380347   -0.271629   \n",
       "\n",
       "     negFT02495  negFT02443  negFT03339  negFT03175  negFT03147  negFT03110  \\\n",
       "0           NaN         NaN         NaN         NaN         NaN         NaN   \n",
       "1           NaN         NaN         NaN         NaN         NaN         NaN   \n",
       "2           NaN         NaN         NaN         NaN         NaN         NaN   \n",
       "3           NaN         NaN         NaN         NaN         NaN         NaN   \n",
       "4           NaN         NaN         NaN         NaN         NaN         NaN   \n",
       "..          ...         ...         ...         ...         ...         ...   \n",
       "287    0.687231    0.313841    0.757708    0.796724    0.499958    0.595330   \n",
       "288    0.407401    0.527567   -0.694895   -0.918294   -0.297782    0.029223   \n",
       "289   -0.126096    0.386976   -1.307066   -1.151982   -0.760314   -0.678591   \n",
       "290   -1.421747   -1.449170    2.025034    2.588376    1.943208    0.247463   \n",
       "291    0.130410    0.009161   -1.124879   -1.156973   -0.798132   -0.408012   \n",
       "\n",
       "     negFT04014  \n",
       "0           NaN  \n",
       "1           NaN  \n",
       "2           NaN  \n",
       "3           NaN  \n",
       "4           NaN  \n",
       "..          ...  \n",
       "287    0.779982  \n",
       "288   -1.063673  \n",
       "289   -1.469617  \n",
       "290    2.129110  \n",
       "291   -0.794768  \n",
       "\n",
       "[588 rows x 757 columns]"
      ]
     },
     "execution_count": 81,
     "metadata": {},
     "output_type": "execute_result"
    }
   ],
   "source": [
    "pd.concat([healthy_data, sz_data], a)"
   ]
  },
  {
   "cell_type": "code",
   "execution_count": 76,
   "id": "0ae25333",
   "metadata": {
    "ExecuteTime": {
     "end_time": "2023-01-23T13:15:52.593734Z",
     "start_time": "2023-01-23T13:15:52.513340Z"
    }
   },
   "outputs": [],
   "source": [
    "shapes = (\n",
    "    pd.concat([healthy_data, sz_data])\n",
    "    .groupby(\"region\")\n",
    "    .apply(lambda x: x.shape[0] == 4)\n",
    ")\n",
    "all_fours = shapes[shapes].index.tolist()\n",
    "\n",
    "healthy_data = healthy_data[healthy_data.region.isin(all_fours)]\n",
    "sz_data = sz_data[sz_data.region.isin(all_fours)]"
   ]
  },
  {
   "cell_type": "code",
   "execution_count": 77,
   "id": "ba564fa2",
   "metadata": {
    "ExecuteTime": {
     "end_time": "2023-01-23T13:15:53.309835Z",
     "start_time": "2023-01-23T13:15:53.287385Z"
    }
   },
   "outputs": [
    {
     "data": {
      "text/plain": [
       "((0, 382), (0, 382))"
      ]
     },
     "execution_count": 77,
     "metadata": {},
     "output_type": "execute_result"
    }
   ],
   "source": [
    "healthy_data.shape, sz_data.shape"
   ]
  },
  {
   "cell_type": "code",
   "execution_count": 72,
   "id": "98b33b77",
   "metadata": {
    "ExecuteTime": {
     "end_time": "2023-01-23T13:14:23.534871Z",
     "start_time": "2023-01-23T13:14:23.504482Z"
    }
   },
   "outputs": [
    {
     "name": "stderr",
     "output_type": "stream",
     "text": [
      "/tmp/ipykernel_8673/3685090230.py:5: VisibleDeprecationWarning: Creating an ndarray from ragged nested sequences (which is a list-or-tuple of lists-or-tuples-or ndarrays with different lengths or shapes) is deprecated. If you meant to do this, you must specify 'dtype=object' when creating the ndarray.\n",
      "  B = np.array(B)\n"
     ]
    }
   ],
   "source": [
    "common_genes = list(\n",
    "    set(healthy_data.columns) & set(sz_data.columns) - set([\"region\", \"batch\", \"human\"])\n",
    ")\n",
    "A = healthy_data.groupby(\"region\")[common_genes].apply(pd.Series.tolist).tolist()\n",
    "A = np.array(A)\n",
    "B = sz_data.groupby(\"region\")[common_genes].apply(pd.Series.tolist).tolist()\n",
    "B = np.array(B)"
   ]
  },
  {
   "cell_type": "code",
   "execution_count": 73,
   "id": "8cd3110c",
   "metadata": {
    "ExecuteTime": {
     "end_time": "2023-01-23T13:14:25.337627Z",
     "start_time": "2023-01-23T13:14:25.305635Z"
    }
   },
   "outputs": [
    {
     "data": {
      "text/plain": [
       "(59, 4, 4)"
      ]
     },
     "execution_count": 73,
     "metadata": {},
     "output_type": "execute_result"
    }
   ],
   "source": [
    "A.shape"
   ]
  },
  {
   "cell_type": "code",
   "execution_count": 36,
   "id": "0f3b47c5",
   "metadata": {
    "ExecuteTime": {
     "end_time": "2023-01-23T12:54:41.869171Z",
     "start_time": "2023-01-23T12:54:41.791030Z"
    }
   },
   "outputs": [],
   "source": [
    "healthy_ba8 = (\n",
    "    healthy_data[healthy_data.region.str.contains(\"BA8\")]\n",
    "    .drop(columns=[\"batch\", \"region\", \"human\"])\n",
    "    .astype(float)\n",
    ")\n",
    "\n",
    "sz_ba8 = (\n",
    "    sz_data[sz_data.region.str.contains(\"BA8\")]\n",
    "    .drop(columns=[\"batch\", \"region\", \"human\"])\n",
    "    .astype(float)\n",
    ")\n",
    "\n",
    "stattest = mannwhitneyu(healthy_ba8, sz_ba8, axis=0, method=\"exact\")"
   ]
  },
  {
   "cell_type": "code",
   "execution_count": 40,
   "id": "93d6baa6",
   "metadata": {
    "ExecuteTime": {
     "end_time": "2023-01-23T12:58:54.577629Z",
     "start_time": "2023-01-23T12:58:54.526685Z"
    }
   },
   "outputs": [
    {
     "data": {
      "text/plain": [
       "(379,)"
      ]
     },
     "execution_count": 40,
     "metadata": {},
     "output_type": "execute_result"
    }
   ],
   "source": [
    "stattest.pvalue.shape"
   ]
  },
  {
   "cell_type": "code",
   "execution_count": 39,
   "id": "74d04108",
   "metadata": {
    "ExecuteTime": {
     "end_time": "2023-01-23T12:55:04.485628Z",
     "start_time": "2023-01-23T12:55:04.437836Z"
    }
   },
   "outputs": [
    {
     "name": "stdout",
     "output_type": "stream",
     "text": [
      "fdr_bh 0.0\n",
      "fdr_by 0.0\n",
      "fdr_tsbh 0.0\n",
      "fdr_tsbky 0.0\n"
     ]
    }
   ],
   "source": [
    "for method in [\"fdr_bh\", \"fdr_by\", \"fdr_tsbh\", \"fdr_tsbky\"]:\n",
    "    p_vals_corrected = multipletests(\n",
    "        stattest.pvalue.reshape(\n",
    "            -1,\n",
    "        ),\n",
    "        alpha=0.05,\n",
    "        method=method,\n",
    "    )\n",
    "    print(method, (p_vals_corrected[1] < 0.05).mean())"
   ]
  },
  {
   "cell_type": "code",
   "execution_count": null,
   "id": "9bfa57a5",
   "metadata": {
    "ExecuteTime": {
     "end_time": "2023-01-10T11:36:06.660287Z",
     "start_time": "2023-01-10T11:36:06.595936Z"
    }
   },
   "outputs": [],
   "source": [
    "A = healthy_data.groupby(\"region\")[\"human\"].apply(pd.Series.tolist)\n",
    "B = sz_data.groupby(\"region\")[\"human\"].apply(pd.Series.tolist)\n",
    "\n",
    "all_fours = set(A[A.apply(len) == 4].index) & set(B[B.apply(len) == 4].index)\n",
    "\n",
    "A = (\n",
    "    healthy_data[healthy_data.region.isin(all_fours)]\n",
    "    .groupby(\"region\")\n",
    "    .apply(pd.Series.tolist)\n",
    ")"
   ]
  },
  {
   "cell_type": "code",
   "execution_count": null,
   "id": "ccc02469",
   "metadata": {
    "ExecuteTime": {
     "end_time": "2023-01-10T09:26:19.979242Z",
     "start_time": "2023-01-10T09:26:19.664187Z"
    }
   },
   "outputs": [],
   "source": [
    "A = np.array(A.sort_index().tolist())[:, :, 3:].astype(float)\n",
    "\n",
    "B = sz_data[sz_data.region.isin(all_fours)].groupby(\"region\").apply(pd.Series.tolist)\n",
    "B = np.array(B.sort_index().tolist())[:, :, 3:].astype(float)\n",
    "\n",
    "stattest = ttest_ind(A, B, axis=1)\n",
    "p_vals_corrected = multipletests(\n",
    "    stattest.pvalue.reshape(\n",
    "        -1,\n",
    "    ),\n",
    "    alpha=0.05,\n",
    "    method=\"holm-sidak\",\n",
    ")\n",
    "p_vals_corrected = p_vals_corrected[1].reshape(52, -1)\n",
    "p_vals_corrected = pd.DataFrame(p_vals_corrected, index=list(all_fours))\n",
    "lipids = p_vals_corrected[p_vals_corrected < 0.05].stack()\n",
    "lipids"
   ]
  },
  {
   "cell_type": "code",
   "execution_count": null,
   "id": "f856b2fd",
   "metadata": {
    "ExecuteTime": {
     "end_time": "2023-01-10T09:26:32.814242Z",
     "start_time": "2023-01-10T09:26:32.765243Z"
    }
   },
   "outputs": [],
   "source": [
    "A.shape"
   ]
  },
  {
   "cell_type": "code",
   "execution_count": null,
   "id": "f25a9024",
   "metadata": {},
   "outputs": [],
   "source": []
  }
 ],
 "metadata": {
  "kernelspec": {
   "display_name": "thesis",
   "language": "python",
   "name": "thesis"
  },
  "language_info": {
   "codemirror_mode": {
    "name": "ipython",
    "version": 3
   },
   "file_extension": ".py",
   "mimetype": "text/x-python",
   "name": "python",
   "nbconvert_exporter": "python",
   "pygments_lexer": "ipython3",
   "version": "3.10.10"
  },
  "toc": {
   "base_numbering": 1,
   "nav_menu": {},
   "number_sections": true,
   "sideBar": true,
   "skip_h1_title": false,
   "title_cell": "Table of Contents",
   "title_sidebar": "Contents",
   "toc_cell": false,
   "toc_position": {},
   "toc_section_display": true,
   "toc_window_display": false
  }
 },
 "nbformat": 4,
 "nbformat_minor": 5
}
