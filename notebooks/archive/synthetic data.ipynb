{
 "cells": [
  {
   "cell_type": "code",
   "execution_count": 1,
   "metadata": {
    "ExecuteTime": {
     "end_time": "2023-01-23T10:11:52.308486Z",
     "start_time": "2023-01-23T10:11:50.944379Z"
    }
   },
   "outputs": [],
   "source": [
    "import numpy as np\n",
    "import pandas as pd\n",
    "import matplotlib.pyplot as plt\n",
    "from sklearn.decomposition import PCA\n",
    "from sklearn.manifold import TSNE\n",
    "from sklearn.linear_model import LogisticRegressionCV, LogisticRegression\n",
    "from sklearn.ensemble import RandomForestClassifier\n",
    "from sklearn.model_selection import KFold, train_test_split, GridSearchCV\n",
    "from sklearn.metrics import f1_score, accuracy_score\n",
    "from tqdm import tqdm\n",
    "from scipy.stats import ttest_ind\n",
    "from statsmodels.stats.multitest import multipletests\n",
    "import pickle"
   ]
  },
  {
   "cell_type": "code",
   "execution_count": 2,
   "metadata": {
    "ExecuteTime": {
     "end_time": "2023-01-23T10:11:52.934468Z",
     "start_time": "2023-01-23T10:11:52.901326Z"
    }
   },
   "outputs": [],
   "source": [
    "%load_ext autoreload\n",
    "%autoreload 2\n",
    "\n",
    "import sys\n",
    "sys.path.append(\"..\")\n",
    "from utils import get_tr_data, get_lipids_data"
   ]
  },
  {
   "cell_type": "markdown",
   "metadata": {},
   "source": [
    "# Transcriptomis data"
   ]
  },
  {
   "cell_type": "code",
   "execution_count": 3,
   "metadata": {
    "ExecuteTime": {
     "end_time": "2023-01-23T10:11:56.591235Z",
     "start_time": "2023-01-23T10:11:55.071333Z"
    }
   },
   "outputs": [],
   "source": [
    "healthy_data = get_tr_data(True)\n",
    "sz_data = get_tr_data(False)"
   ]
  },
  {
   "cell_type": "code",
   "execution_count": 4,
   "metadata": {
    "ExecuteTime": {
     "end_time": "2023-01-23T10:11:57.244376Z",
     "start_time": "2023-01-23T10:11:56.593455Z"
    }
   },
   "outputs": [],
   "source": [
    "common_genes = list(set(healthy_data.columns) & set(sz_data.columns) - set([\"region\", \"batch\"]))\n",
    "A = healthy_data.groupby(\"region\")[common_genes].apply(pd.Series.tolist).tolist()\n",
    "A = np.array(A)\n",
    "B = sz_data.groupby(\"region\")[common_genes].apply(pd.Series.tolist).tolist()\n",
    "B = np.array(B)"
   ]
  },
  {
   "cell_type": "code",
   "execution_count": 5,
   "metadata": {
    "ExecuteTime": {
     "end_time": "2023-01-23T10:11:57.689188Z",
     "start_time": "2023-01-23T10:11:57.660265Z"
    }
   },
   "outputs": [
    {
     "data": {
      "text/plain": [
       "(35, 4, 14177)"
      ]
     },
     "execution_count": 5,
     "metadata": {},
     "output_type": "execute_result"
    }
   ],
   "source": [
    "A.shape"
   ]
  },
  {
   "cell_type": "code",
   "execution_count": 6,
   "metadata": {
    "ExecuteTime": {
     "end_time": "2023-01-23T10:11:58.005525Z",
     "start_time": "2023-01-23T10:11:57.980448Z"
    }
   },
   "outputs": [
    {
     "data": {
      "text/plain": [
       "(35, 4, 14177)"
      ]
     },
     "execution_count": 6,
     "metadata": {},
     "output_type": "execute_result"
    }
   ],
   "source": [
    "B.shape"
   ]
  },
  {
   "cell_type": "code",
   "execution_count": 7,
   "metadata": {
    "ExecuteTime": {
     "end_time": "2023-01-23T10:11:59.739204Z",
     "start_time": "2023-01-23T10:11:59.711361Z"
    }
   },
   "outputs": [],
   "source": [
    "rng = np.random.default_rng()"
   ]
  },
  {
   "cell_type": "code",
   "execution_count": 17,
   "metadata": {
    "ExecuteTime": {
     "end_time": "2023-01-23T10:14:23.278509Z",
     "start_time": "2023-01-23T10:14:23.259593Z"
    }
   },
   "outputs": [],
   "source": [
    "N_SAMPLES = 50"
   ]
  },
  {
   "cell_type": "code",
   "execution_count": 18,
   "metadata": {
    "ExecuteTime": {
     "end_time": "2023-01-23T10:14:23.603918Z",
     "start_time": "2023-01-23T10:14:23.472772Z"
    }
   },
   "outputs": [],
   "source": [
    "h_synth = rng.choice(A, axis=1, size=N_SAMPLES).reshape(N_SAMPLES*35,-1)\n",
    "sz_synth = rng.choice(B, axis=1, size=N_SAMPLES).reshape(N_SAMPLES*35,-1)"
   ]
  },
  {
   "cell_type": "code",
   "execution_count": 19,
   "metadata": {
    "ExecuteTime": {
     "end_time": "2023-01-23T10:14:23.723458Z",
     "start_time": "2023-01-23T10:14:23.687698Z"
    }
   },
   "outputs": [
    {
     "data": {
      "text/plain": [
       "(1750, 14177)"
      ]
     },
     "execution_count": 19,
     "metadata": {},
     "output_type": "execute_result"
    }
   ],
   "source": [
    "h_synth.shape"
   ]
  },
  {
   "cell_type": "code",
   "execution_count": 20,
   "metadata": {
    "ExecuteTime": {
     "end_time": "2023-01-23T10:14:23.917891Z",
     "start_time": "2023-01-23T10:14:23.896585Z"
    }
   },
   "outputs": [],
   "source": [
    "pca = PCA(n_components=2, random_state=2093487)"
   ]
  },
  {
   "cell_type": "code",
   "execution_count": 21,
   "metadata": {
    "ExecuteTime": {
     "end_time": "2023-01-23T10:14:24.295121Z",
     "start_time": "2023-01-23T10:14:24.140610Z"
    }
   },
   "outputs": [],
   "source": [
    "pca_data_raw = np.concatenate([h_synth, sz_synth])"
   ]
  },
  {
   "cell_type": "code",
   "execution_count": 22,
   "metadata": {
    "ExecuteTime": {
     "end_time": "2023-01-23T10:14:24.408870Z",
     "start_time": "2023-01-23T10:14:24.384756Z"
    }
   },
   "outputs": [
    {
     "data": {
      "text/plain": [
       "(3500, 14177)"
      ]
     },
     "execution_count": 22,
     "metadata": {},
     "output_type": "execute_result"
    }
   ],
   "source": [
    "pca_data_raw.shape"
   ]
  },
  {
   "cell_type": "code",
   "execution_count": 23,
   "metadata": {
    "ExecuteTime": {
     "end_time": "2023-01-23T10:14:26.165802Z",
     "start_time": "2023-01-23T10:14:24.721401Z"
    }
   },
   "outputs": [],
   "source": [
    "pca_data = pca.fit_transform(pca_data_raw)"
   ]
  },
  {
   "cell_type": "code",
   "execution_count": 24,
   "metadata": {
    "ExecuteTime": {
     "end_time": "2023-01-23T10:14:26.206113Z",
     "start_time": "2023-01-23T10:14:26.167808Z"
    }
   },
   "outputs": [
    {
     "data": {
      "text/plain": [
       "(3500, 2)"
      ]
     },
     "execution_count": 24,
     "metadata": {},
     "output_type": "execute_result"
    }
   ],
   "source": [
    "pca_data.shape"
   ]
  },
  {
   "cell_type": "code",
   "execution_count": 25,
   "metadata": {
    "ExecuteTime": {
     "end_time": "2023-01-23T10:14:26.606986Z",
     "start_time": "2023-01-23T10:14:26.216375Z"
    }
   },
   "outputs": [
    {
     "data": {
      "image/png": "[encoded data removed]",
      "text/plain": [
       "<Figure size 640x480 with 1 Axes>"
      ]
     },
     "metadata": {},
     "output_type": "display_data"
    }
   ],
   "source": [
    "# import matplotlib.cm as cm\n",
    "# cmap = cm.ScalarMappable(cmap='rainbow')\n",
    "cmap = \"rainbow\"\n",
    "\n",
    "plt.scatter(pca_data[:N_SAMPLES*35, 0], pca_data[:N_SAMPLES*35, 1], c=np.arange(N_SAMPLES*35), cmap=cmap, marker=\"h\")\n",
    "plt.scatter(pca_data[N_SAMPLES*35:, 0], pca_data[N_SAMPLES*35:, 1], c=np.arange(N_SAMPLES*35), cmap=cmap, marker=\"s\")\n",
    "\n",
    "\n",
    "# for i in range(len(pca_data)):\n",
    "#     plt.annotate(annotations[i], (pca_data[i, 0], pca_data[i, 1]))\n",
    "\n",
    "plt.xlabel(\"PC1\")\n",
    "plt.ylabel(\"PC2\")\n",
    "plt.tight_layout()    \n",
    "# plt.savefig(\"../../data/intermediate/pics/genes_pca_all_regions.pdf\", dpi=200)"
   ]
  },
  {
   "cell_type": "raw",
   "metadata": {},
   "source": []
  },
  {
   "cell_type": "code",
   "execution_count": null,
   "metadata": {},
   "outputs": [],
   "source": []
  }
 ],
 "metadata": {
  "kernelspec": {
   "display_name": "Python 3",
   "language": "python",
   "name": "python3"
  },
  "language_info": {
   "codemirror_mode": {
    "name": "ipython",
    "version": 3
   },
   "file_extension": ".py",
   "mimetype": "text/x-python",
   "name": "python",
   "nbconvert_exporter": "python",
   "pygments_lexer": "ipython3",
   "version": "3.8.3"
  },
  "toc": {
   "base_numbering": 1,
   "nav_menu": {},
   "number_sections": true,
   "sideBar": true,
   "skip_h1_title": false,
   "title_cell": "Table of Contents",
   "title_sidebar": "Contents",
   "toc_cell": false,
   "toc_position": {},
   "toc_section_display": true,
   "toc_window_display": false
  }
 },
 "nbformat": 4,
 "nbformat_minor": 5
}
