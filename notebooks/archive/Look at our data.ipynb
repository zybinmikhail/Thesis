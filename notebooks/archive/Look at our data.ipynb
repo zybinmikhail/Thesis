{
 "cells": [
  {
   "cell_type": "code",
   "execution_count": 1,
   "metadata": {
    "ExecuteTime": {
     "end_time": "2023-03-07T08:02:02.873233Z",
     "start_time": "2023-03-07T08:02:01.513302Z"
    }
   },
   "outputs": [],
   "source": [
    "import numpy as np\n",
    "import pandas as pd\n",
    "import matplotlib.pyplot as plt\n",
    "from sklearn.decomposition import PCA\n",
    "from sklearn.manifold import TSNE\n",
    "from sklearn.linear_model import LogisticRegressionCV, LogisticRegression\n",
    "from sklearn.ensemble import RandomForestClassifier\n",
    "from sklearn.model_selection import KFold, train_test_split, GridSearchCV\n",
    "from sklearn.metrics import f1_score, accuracy_score\n",
    "from tqdm import tqdm\n",
    "from scipy.stats import ttest_ind\n",
    "from statsmodels.stats.multitest import multipletests\n",
    "import pickle"
   ]
  },
  {
   "cell_type": "code",
   "execution_count": 2,
   "metadata": {
    "ExecuteTime": {
     "end_time": "2023-03-07T08:02:02.905615Z",
     "start_time": "2023-03-07T08:02:02.875552Z"
    }
   },
   "outputs": [],
   "source": [
    "%load_ext autoreload\n",
    "%autoreload 2\n",
    "\n",
    "import sys\n",
    "sys.path.append(\"..\")\n",
    "from utils import get_tr_data"
   ]
  },
  {
   "cell_type": "code",
   "execution_count": 3,
   "metadata": {
    "ExecuteTime": {
     "end_time": "2023-03-07T08:02:04.439935Z",
     "start_time": "2023-03-07T08:02:02.908170Z"
    }
   },
   "outputs": [],
   "source": [
    "healthy_data = get_tr_data(True)\n",
    "sz_data = get_tr_data(False)\n",
    "\n",
    "healthy_data.insert(2, \"is_control\", 1)\n",
    "sz_data.insert(2, \"is_control\", 0)\n",
    "\n",
    "all_data = pd.concat([healthy_data, sz_data]).reset_index().drop(columns=[\"batch\"])"
   ]
  },
  {
   "cell_type": "code",
   "execution_count": 5,
   "metadata": {
    "ExecuteTime": {
     "end_time": "2023-03-07T08:02:13.352377Z",
     "start_time": "2023-03-07T08:02:13.329087Z"
    }
   },
   "outputs": [
    {
     "data": {
      "text/plain": [
       "array(['1  Cerebellar Grey Matter', '15 1ary Motor (BA4)',\n",
       "       '16 1ary Auditory (BA41/42)', '17 1ary Visual Anterior (BA17a)',\n",
       "       '18 1ary Somatosensory (BA3/1/2)',\n",
       "       '27 2ary/3ary Visual Anterior (BA18/19a)',\n",
       "       '28 2ary Auditory, Wernicke (BA22p)', '29 Precuneus (BA7m)',\n",
       "       '30 Premotor Anterior Lateral (BA6a)',\n",
       "       '31 Supramarginal Posterior (BA40p)',\n",
       "       '32 Ventrolateral Prefrontal, Broca (BA44)',\n",
       "       '33 Anterior Inferior Temporal (BA20a)',\n",
       "       '34 Dorsolateral Prefrontal (BA9)',\n",
       "       '37 2ary Auditory Anterior (BA21a)', '43 Temporopolar (BA38)',\n",
       "       '46 Prefrontal Medial (BA10m)', '47 Cingulate Posterior (BA31)',\n",
       "       '48 Cingulate Anterior (BA24)', '49 Cingulate Anterior (BA32)',\n",
       "       '50 Orbitofrontal (BA11)', '52 Amygdala',\n",
       "       '53 Insular Posterior Cortex', '54 Entorhinal Cortex',\n",
       "       '55 Hippocampus, CA3 / Dentate Gyrus', '56 Nucleus Accumbens',\n",
       "       '57 Caudate', '58 Putamen', '63 Substantia Nigra',\n",
       "       '64 Globus Pallidus', '68 Medial Dorsal Thalamus',\n",
       "       '69 Hypothalamus', '72 Internal Capsule',\n",
       "       '73 Corpus Callosum Anterior', '74 Corpus Callosum Posterior',\n",
       "       '75 Cerebellar White Matter'], dtype=object)"
      ]
     },
     "execution_count": 5,
     "metadata": {},
     "output_type": "execute_result"
    }
   ],
   "source": [
    "all_data.region.unique()"
   ]
  },
  {
   "cell_type": "code",
   "execution_count": 5,
   "metadata": {
    "ExecuteTime": {
     "end_time": "2023-03-04T06:57:34.717370Z",
     "start_time": "2023-03-04T06:57:34.680081Z"
    }
   },
   "outputs": [
    {
     "data": {
      "text/plain": [
       "14180"
      ]
     },
     "execution_count": 5,
     "metadata": {},
     "output_type": "execute_result"
    }
   ],
   "source": [
    "len(set(healthy_data.columns) & set(sz_data.columns))"
   ]
  },
  {
   "cell_type": "code",
   "execution_count": 6,
   "metadata": {
    "ExecuteTime": {
     "end_time": "2023-03-04T06:57:34.760151Z",
     "start_time": "2023-03-04T06:57:34.722911Z"
    }
   },
   "outputs": [
    {
     "data": {
      "text/plain": [
       "(15016, 14307)"
      ]
     },
     "execution_count": 6,
     "metadata": {},
     "output_type": "execute_result"
    }
   ],
   "source": [
    "len(set(healthy_data.columns)), len(set(sz_data.columns))"
   ]
  },
  {
   "cell_type": "code",
   "execution_count": 7,
   "metadata": {
    "ExecuteTime": {
     "end_time": "2023-03-04T06:57:36.396146Z",
     "start_time": "2023-03-04T06:57:34.762059Z"
    }
   },
   "outputs": [
    {
     "data": {
      "text/plain": [
       "(280, 14180)"
      ]
     },
     "execution_count": 7,
     "metadata": {},
     "output_type": "execute_result"
    }
   ],
   "source": [
    "all_data = all_data.T.dropna().T\n",
    "all_data.shape"
   ]
  },
  {
   "cell_type": "code",
   "execution_count": 9,
   "metadata": {
    "ExecuteTime": {
     "end_time": "2023-03-04T06:58:10.788288Z",
     "start_time": "2023-03-04T06:58:04.714767Z"
    }
   },
   "outputs": [],
   "source": [
    "all_data.to_csv(\"../data/ours_maria_version/genes.csv\")"
   ]
  },
  {
   "cell_type": "code",
   "execution_count": null,
   "metadata": {},
   "outputs": [],
   "source": []
  }
 ],
 "metadata": {
  "kernelspec": {
   "display_name": "Python 3",
   "language": "python",
   "name": "python3"
  },
  "language_info": {
   "codemirror_mode": {
    "name": "ipython",
    "version": 3
   },
   "file_extension": ".py",
   "mimetype": "text/x-python",
   "name": "python",
   "nbconvert_exporter": "python",
   "pygments_lexer": "ipython3",
   "version": "3.8.3"
  },
  "toc": {
   "base_numbering": 1,
   "nav_menu": {},
   "number_sections": true,
   "sideBar": true,
   "skip_h1_title": false,
   "title_cell": "Table of Contents",
   "title_sidebar": "Contents",
   "toc_cell": false,
   "toc_position": {},
   "toc_section_display": true,
   "toc_window_display": false
  }
 },
 "nbformat": 4,
 "nbformat_minor": 5
}
