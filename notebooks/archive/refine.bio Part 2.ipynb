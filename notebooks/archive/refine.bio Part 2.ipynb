{
 "cells": [
  {
   "cell_type": "markdown",
   "id": "068e772c",
   "metadata": {},
   "source": [
    "This notebook was used for some visualizations before the counts data was obtained from Maria."
   ]
  },
  {
   "cell_type": "code",
   "execution_count": 9,
   "id": "007b01d2",
   "metadata": {
    "ExecuteTime": {
     "end_time": "2023-03-05T09:51:41.290772Z",
     "start_time": "2023-03-05T09:51:41.284745Z"
    }
   },
   "outputs": [],
   "source": [
    "import numpy as np\n",
    "import pandas as pd\n",
    "import seaborn as sns\n",
    "\n",
    "import matplotlib.pyplot as plt\n",
    "from statsmodels.graphics.gofplots import qqplot_2samples\n",
    "from scipy.stats import mannwhitneyu, shapiro, normaltest"
   ]
  },
  {
   "cell_type": "markdown",
   "id": "ca416ed0",
   "metadata": {},
   "source": [
    "# read the data"
   ]
  },
  {
   "cell_type": "code",
   "execution_count": 10,
   "id": "a6a29171",
   "metadata": {
    "ExecuteTime": {
     "end_time": "2023-03-05T09:51:54.018370Z",
     "start_time": "2023-03-05T09:51:41.842373Z"
    }
   },
   "outputs": [],
   "source": [
    "PATH = \"../data/refine.bio/\"\n",
    "microarray = pd.read_csv(PATH + \"microarray.csv\", index_col=0)\n",
    "rnaseq = pd.read_csv(PATH + \"rnaseq.csv\", index_col=0)\n",
    "ours = pd.read_csv(\"../data/ours_maria_version/genes.csv\", index_col=0)"
   ]
  },
  {
   "cell_type": "code",
   "execution_count": 11,
   "id": "bf89d426",
   "metadata": {
    "ExecuteTime": {
     "end_time": "2023-03-05T09:51:54.028865Z",
     "start_time": "2023-03-05T09:51:54.022211Z"
    }
   },
   "outputs": [
    {
     "name": "stdout",
     "output_type": "stream",
     "text": [
      "(247, 20059)\n",
      "(163, 43366)\n",
      "(280, 14180)\n"
     ]
    }
   ],
   "source": [
    "print(microarray.shape)\n",
    "print(rnaseq.shape)\n",
    "print(ours.shape)"
   ]
  },
  {
   "cell_type": "code",
   "execution_count": 12,
   "id": "bf662d08",
   "metadata": {
    "ExecuteTime": {
     "end_time": "2023-03-05T09:51:54.067476Z",
     "start_time": "2023-03-05T09:51:54.031360Z"
    }
   },
   "outputs": [
    {
     "data": {
      "text/plain": [
       "False"
      ]
     },
     "execution_count": 12,
     "metadata": {},
     "output_type": "execute_result"
    }
   ],
   "source": [
    "rnaseq.isna().sum().any()"
   ]
  },
  {
   "cell_type": "markdown",
   "id": "c5440e5b",
   "metadata": {},
   "source": [
    "## head"
   ]
  },
  {
   "cell_type": "code",
   "execution_count": 13,
   "id": "b461b4bc",
   "metadata": {
    "ExecuteTime": {
     "end_time": "2023-03-05T09:51:54.107854Z",
     "start_time": "2023-03-05T09:51:54.071982Z"
    }
   },
   "outputs": [
    {
     "data": {
      "text/html": [
       "<div>\n",
       "<style scoped>\n",
       "    .dataframe tbody tr th:only-of-type {\n",
       "        vertical-align: middle;\n",
       "    }\n",
       "\n",
       "    .dataframe tbody tr th {\n",
       "        vertical-align: top;\n",
       "    }\n",
       "\n",
       "    .dataframe thead th {\n",
       "        text-align: right;\n",
       "    }\n",
       "</style>\n",
       "<table border=\"1\" class=\"dataframe\">\n",
       "  <thead>\n",
       "    <tr style=\"text-align: right;\">\n",
       "      <th></th>\n",
       "      <th>human</th>\n",
       "      <th>region</th>\n",
       "      <th>is_control</th>\n",
       "      <th>ENSG00000000003</th>\n",
       "      <th>ENSG00000000005</th>\n",
       "      <th>ENSG00000000419</th>\n",
       "      <th>ENSG00000000457</th>\n",
       "      <th>ENSG00000000460</th>\n",
       "      <th>ENSG00000000938</th>\n",
       "      <th>ENSG00000000971</th>\n",
       "      <th>...</th>\n",
       "      <th>ENSG00000283307</th>\n",
       "      <th>ENSG00000283597</th>\n",
       "      <th>ENSG00000283632</th>\n",
       "      <th>ENSG00000283703</th>\n",
       "      <th>ENSG00000283709</th>\n",
       "      <th>ENSG00000283849</th>\n",
       "      <th>ENSG00000283945</th>\n",
       "      <th>ENSG00000284048</th>\n",
       "      <th>ENSG00000284309</th>\n",
       "      <th>ENSG00000284543</th>\n",
       "    </tr>\n",
       "  </thead>\n",
       "  <tbody>\n",
       "    <tr>\n",
       "      <th>GSM439778</th>\n",
       "      <td>S014_Scz_M_74</td>\n",
       "      <td>BA10</td>\n",
       "      <td>0</td>\n",
       "      <td>1.448569</td>\n",
       "      <td>-0.001471</td>\n",
       "      <td>9.000389</td>\n",
       "      <td>0.575834</td>\n",
       "      <td>-0.081877</td>\n",
       "      <td>0.909567</td>\n",
       "      <td>0.485215</td>\n",
       "      <td>...</td>\n",
       "      <td>0.398692</td>\n",
       "      <td>0.102587</td>\n",
       "      <td>1.941111</td>\n",
       "      <td>0.236185</td>\n",
       "      <td>2.408422</td>\n",
       "      <td>0.334848</td>\n",
       "      <td>0.061013</td>\n",
       "      <td>-0.193307</td>\n",
       "      <td>0.213981</td>\n",
       "      <td>0.859307</td>\n",
       "    </tr>\n",
       "    <tr>\n",
       "      <th>GSM439779</th>\n",
       "      <td>C017_Control_M_72</td>\n",
       "      <td>BA10</td>\n",
       "      <td>1</td>\n",
       "      <td>1.547945</td>\n",
       "      <td>-0.096677</td>\n",
       "      <td>10.525544</td>\n",
       "      <td>0.947314</td>\n",
       "      <td>0.050933</td>\n",
       "      <td>1.039868</td>\n",
       "      <td>1.147053</td>\n",
       "      <td>...</td>\n",
       "      <td>0.531480</td>\n",
       "      <td>0.111803</td>\n",
       "      <td>1.635247</td>\n",
       "      <td>0.277716</td>\n",
       "      <td>1.733994</td>\n",
       "      <td>0.201200</td>\n",
       "      <td>0.144816</td>\n",
       "      <td>-0.160775</td>\n",
       "      <td>0.276903</td>\n",
       "      <td>0.756167</td>\n",
       "    </tr>\n",
       "    <tr>\n",
       "      <th>GSM439780</th>\n",
       "      <td>C011_Control_F_89</td>\n",
       "      <td>BA10</td>\n",
       "      <td>1</td>\n",
       "      <td>2.044714</td>\n",
       "      <td>-0.070425</td>\n",
       "      <td>10.354863</td>\n",
       "      <td>0.739052</td>\n",
       "      <td>-0.059632</td>\n",
       "      <td>0.929071</td>\n",
       "      <td>1.624510</td>\n",
       "      <td>...</td>\n",
       "      <td>0.413677</td>\n",
       "      <td>0.016422</td>\n",
       "      <td>2.193743</td>\n",
       "      <td>0.332062</td>\n",
       "      <td>1.588256</td>\n",
       "      <td>0.402333</td>\n",
       "      <td>0.077335</td>\n",
       "      <td>-0.166745</td>\n",
       "      <td>0.351504</td>\n",
       "      <td>0.755419</td>\n",
       "    </tr>\n",
       "    <tr>\n",
       "      <th>GSM439781</th>\n",
       "      <td>S017_Scz_F_85</td>\n",
       "      <td>BA10</td>\n",
       "      <td>0</td>\n",
       "      <td>1.402853</td>\n",
       "      <td>-0.030728</td>\n",
       "      <td>10.128362</td>\n",
       "      <td>0.807083</td>\n",
       "      <td>-0.086455</td>\n",
       "      <td>1.062902</td>\n",
       "      <td>0.839434</td>\n",
       "      <td>...</td>\n",
       "      <td>0.513321</td>\n",
       "      <td>0.138528</td>\n",
       "      <td>1.862529</td>\n",
       "      <td>0.297130</td>\n",
       "      <td>1.775727</td>\n",
       "      <td>0.340995</td>\n",
       "      <td>0.029836</td>\n",
       "      <td>-0.200705</td>\n",
       "      <td>0.436485</td>\n",
       "      <td>0.864911</td>\n",
       "    </tr>\n",
       "    <tr>\n",
       "      <th>GSM439782</th>\n",
       "      <td>C013_Control_M_61</td>\n",
       "      <td>BA10</td>\n",
       "      <td>1</td>\n",
       "      <td>0.983013</td>\n",
       "      <td>-0.071798</td>\n",
       "      <td>9.631223</td>\n",
       "      <td>0.502486</td>\n",
       "      <td>-0.108668</td>\n",
       "      <td>0.823590</td>\n",
       "      <td>1.221449</td>\n",
       "      <td>...</td>\n",
       "      <td>0.555014</td>\n",
       "      <td>0.151806</td>\n",
       "      <td>2.129795</td>\n",
       "      <td>0.382301</td>\n",
       "      <td>2.108699</td>\n",
       "      <td>0.430916</td>\n",
       "      <td>0.051561</td>\n",
       "      <td>-0.217781</td>\n",
       "      <td>0.162355</td>\n",
       "      <td>0.808082</td>\n",
       "    </tr>\n",
       "  </tbody>\n",
       "</table>\n",
       "<p>5 rows × 20059 columns</p>\n",
       "</div>"
      ],
      "text/plain": [
       "                       human region  is_control  ENSG00000000003  \\\n",
       "GSM439778      S014_Scz_M_74   BA10           0         1.448569   \n",
       "GSM439779  C017_Control_M_72   BA10           1         1.547945   \n",
       "GSM439780  C011_Control_F_89   BA10           1         2.044714   \n",
       "GSM439781      S017_Scz_F_85   BA10           0         1.402853   \n",
       "GSM439782  C013_Control_M_61   BA10           1         0.983013   \n",
       "\n",
       "           ENSG00000000005  ENSG00000000419  ENSG00000000457  ENSG00000000460  \\\n",
       "GSM439778        -0.001471         9.000389         0.575834        -0.081877   \n",
       "GSM439779        -0.096677        10.525544         0.947314         0.050933   \n",
       "GSM439780        -0.070425        10.354863         0.739052        -0.059632   \n",
       "GSM439781        -0.030728        10.128362         0.807083        -0.086455   \n",
       "GSM439782        -0.071798         9.631223         0.502486        -0.108668   \n",
       "\n",
       "           ENSG00000000938  ENSG00000000971  ...  ENSG00000283307  \\\n",
       "GSM439778         0.909567         0.485215  ...         0.398692   \n",
       "GSM439779         1.039868         1.147053  ...         0.531480   \n",
       "GSM439780         0.929071         1.624510  ...         0.413677   \n",
       "GSM439781         1.062902         0.839434  ...         0.513321   \n",
       "GSM439782         0.823590         1.221449  ...         0.555014   \n",
       "\n",
       "           ENSG00000283597  ENSG00000283632  ENSG00000283703  ENSG00000283709  \\\n",
       "GSM439778         0.102587         1.941111         0.236185         2.408422   \n",
       "GSM439779         0.111803         1.635247         0.277716         1.733994   \n",
       "GSM439780         0.016422         2.193743         0.332062         1.588256   \n",
       "GSM439781         0.138528         1.862529         0.297130         1.775727   \n",
       "GSM439782         0.151806         2.129795         0.382301         2.108699   \n",
       "\n",
       "           ENSG00000283849  ENSG00000283945  ENSG00000284048  ENSG00000284309  \\\n",
       "GSM439778         0.334848         0.061013        -0.193307         0.213981   \n",
       "GSM439779         0.201200         0.144816        -0.160775         0.276903   \n",
       "GSM439780         0.402333         0.077335        -0.166745         0.351504   \n",
       "GSM439781         0.340995         0.029836        -0.200705         0.436485   \n",
       "GSM439782         0.430916         0.051561        -0.217781         0.162355   \n",
       "\n",
       "           ENSG00000284543  \n",
       "GSM439778         0.859307  \n",
       "GSM439779         0.756167  \n",
       "GSM439780         0.755419  \n",
       "GSM439781         0.864911  \n",
       "GSM439782         0.808082  \n",
       "\n",
       "[5 rows x 20059 columns]"
      ]
     },
     "execution_count": 13,
     "metadata": {},
     "output_type": "execute_result"
    }
   ],
   "source": [
    "microarray.head()"
   ]
  },
  {
   "cell_type": "code",
   "execution_count": 14,
   "id": "b8ca7755",
   "metadata": {
    "ExecuteTime": {
     "end_time": "2023-03-05T09:51:54.156562Z",
     "start_time": "2023-03-05T09:51:54.111007Z"
    }
   },
   "outputs": [
    {
     "data": {
      "text/html": [
       "<div>\n",
       "<style scoped>\n",
       "    .dataframe tbody tr th:only-of-type {\n",
       "        vertical-align: middle;\n",
       "    }\n",
       "\n",
       "    .dataframe tbody tr th {\n",
       "        vertical-align: top;\n",
       "    }\n",
       "\n",
       "    .dataframe thead th {\n",
       "        text-align: right;\n",
       "    }\n",
       "</style>\n",
       "<table border=\"1\" class=\"dataframe\">\n",
       "  <thead>\n",
       "    <tr style=\"text-align: right;\">\n",
       "      <th></th>\n",
       "      <th>human</th>\n",
       "      <th>region</th>\n",
       "      <th>is_control</th>\n",
       "      <th>ENSG00000000003</th>\n",
       "      <th>ENSG00000000005</th>\n",
       "      <th>ENSG00000000419</th>\n",
       "      <th>ENSG00000000457</th>\n",
       "      <th>ENSG00000000460</th>\n",
       "      <th>ENSG00000000938</th>\n",
       "      <th>ENSG00000000971</th>\n",
       "      <th>...</th>\n",
       "      <th>ENSG00000286262</th>\n",
       "      <th>ENSG00000286263</th>\n",
       "      <th>ENSG00000286264</th>\n",
       "      <th>ENSG00000286265</th>\n",
       "      <th>ENSG00000286266</th>\n",
       "      <th>ENSG00000286268</th>\n",
       "      <th>ENSG00000286269</th>\n",
       "      <th>ENSG00000286270</th>\n",
       "      <th>ENSG00000286271</th>\n",
       "      <th>ENSG00000286272</th>\n",
       "    </tr>\n",
       "  </thead>\n",
       "  <tbody>\n",
       "    <tr>\n",
       "      <th>SRR3438555</th>\n",
       "      <td>X1834_control</td>\n",
       "      <td>Cingulate Anterior</td>\n",
       "      <td>1</td>\n",
       "      <td>1.942959</td>\n",
       "      <td>-0.048304</td>\n",
       "      <td>2.104093</td>\n",
       "      <td>2.324989</td>\n",
       "      <td>1.378368</td>\n",
       "      <td>1.922795</td>\n",
       "      <td>2.202207</td>\n",
       "      <td>...</td>\n",
       "      <td>-0.048304</td>\n",
       "      <td>0.599989</td>\n",
       "      <td>2.787198</td>\n",
       "      <td>-0.048304</td>\n",
       "      <td>0.985860</td>\n",
       "      <td>0.496252</td>\n",
       "      <td>2.780853</td>\n",
       "      <td>-0.048304</td>\n",
       "      <td>0.861214</td>\n",
       "      <td>1.428780</td>\n",
       "    </tr>\n",
       "    <tr>\n",
       "      <th>SRR3438559</th>\n",
       "      <td>X2353_schizophrenia</td>\n",
       "      <td>56 Nucleus Accumbens</td>\n",
       "      <td>0</td>\n",
       "      <td>2.399769</td>\n",
       "      <td>0.270970</td>\n",
       "      <td>2.226805</td>\n",
       "      <td>2.204324</td>\n",
       "      <td>1.501263</td>\n",
       "      <td>2.563732</td>\n",
       "      <td>3.239068</td>\n",
       "      <td>...</td>\n",
       "      <td>-0.046871</td>\n",
       "      <td>0.464062</td>\n",
       "      <td>3.686122</td>\n",
       "      <td>-0.046871</td>\n",
       "      <td>1.105357</td>\n",
       "      <td>0.680343</td>\n",
       "      <td>2.549532</td>\n",
       "      <td>0.311412</td>\n",
       "      <td>1.024190</td>\n",
       "      <td>1.547774</td>\n",
       "    </tr>\n",
       "    <tr>\n",
       "      <th>SRR3438560</th>\n",
       "      <td>X2664_control</td>\n",
       "      <td>56 Nucleus Accumbens</td>\n",
       "      <td>1</td>\n",
       "      <td>2.177106</td>\n",
       "      <td>-0.051191</td>\n",
       "      <td>2.198438</td>\n",
       "      <td>2.362276</td>\n",
       "      <td>1.721814</td>\n",
       "      <td>1.548758</td>\n",
       "      <td>2.025757</td>\n",
       "      <td>...</td>\n",
       "      <td>-0.051191</td>\n",
       "      <td>0.151359</td>\n",
       "      <td>3.367909</td>\n",
       "      <td>-0.051191</td>\n",
       "      <td>1.241474</td>\n",
       "      <td>0.564202</td>\n",
       "      <td>2.302717</td>\n",
       "      <td>0.242799</td>\n",
       "      <td>0.775214</td>\n",
       "      <td>1.310010</td>\n",
       "    </tr>\n",
       "    <tr>\n",
       "      <th>SRR3438561</th>\n",
       "      <td>X2805_control</td>\n",
       "      <td>56 Nucleus Accumbens</td>\n",
       "      <td>1</td>\n",
       "      <td>2.681150</td>\n",
       "      <td>0.086147</td>\n",
       "      <td>2.105902</td>\n",
       "      <td>2.245252</td>\n",
       "      <td>1.474583</td>\n",
       "      <td>2.027043</td>\n",
       "      <td>1.865736</td>\n",
       "      <td>...</td>\n",
       "      <td>0.155626</td>\n",
       "      <td>0.197531</td>\n",
       "      <td>3.360096</td>\n",
       "      <td>0.263979</td>\n",
       "      <td>1.192620</td>\n",
       "      <td>0.533281</td>\n",
       "      <td>2.297624</td>\n",
       "      <td>0.203276</td>\n",
       "      <td>0.639282</td>\n",
       "      <td>1.543373</td>\n",
       "    </tr>\n",
       "    <tr>\n",
       "      <th>SRR3438562</th>\n",
       "      <td>X2976_schizophrenia</td>\n",
       "      <td>56 Nucleus Accumbens</td>\n",
       "      <td>0</td>\n",
       "      <td>2.197950</td>\n",
       "      <td>0.210492</td>\n",
       "      <td>2.116410</td>\n",
       "      <td>2.264167</td>\n",
       "      <td>1.500013</td>\n",
       "      <td>1.805623</td>\n",
       "      <td>2.133254</td>\n",
       "      <td>...</td>\n",
       "      <td>-0.047541</td>\n",
       "      <td>0.299811</td>\n",
       "      <td>3.588706</td>\n",
       "      <td>-0.047541</td>\n",
       "      <td>1.133778</td>\n",
       "      <td>0.748311</td>\n",
       "      <td>1.976020</td>\n",
       "      <td>0.202908</td>\n",
       "      <td>0.480480</td>\n",
       "      <td>1.359628</td>\n",
       "    </tr>\n",
       "  </tbody>\n",
       "</table>\n",
       "<p>5 rows × 43366 columns</p>\n",
       "</div>"
      ],
      "text/plain": [
       "                          human                region  is_control  \\\n",
       "SRR3438555        X1834_control    Cingulate Anterior           1   \n",
       "SRR3438559  X2353_schizophrenia  56 Nucleus Accumbens           0   \n",
       "SRR3438560        X2664_control  56 Nucleus Accumbens           1   \n",
       "SRR3438561        X2805_control  56 Nucleus Accumbens           1   \n",
       "SRR3438562  X2976_schizophrenia  56 Nucleus Accumbens           0   \n",
       "\n",
       "            ENSG00000000003  ENSG00000000005  ENSG00000000419  \\\n",
       "SRR3438555         1.942959        -0.048304         2.104093   \n",
       "SRR3438559         2.399769         0.270970         2.226805   \n",
       "SRR3438560         2.177106        -0.051191         2.198438   \n",
       "SRR3438561         2.681150         0.086147         2.105902   \n",
       "SRR3438562         2.197950         0.210492         2.116410   \n",
       "\n",
       "            ENSG00000000457  ENSG00000000460  ENSG00000000938  \\\n",
       "SRR3438555         2.324989         1.378368         1.922795   \n",
       "SRR3438559         2.204324         1.501263         2.563732   \n",
       "SRR3438560         2.362276         1.721814         1.548758   \n",
       "SRR3438561         2.245252         1.474583         2.027043   \n",
       "SRR3438562         2.264167         1.500013         1.805623   \n",
       "\n",
       "            ENSG00000000971  ...  ENSG00000286262  ENSG00000286263  \\\n",
       "SRR3438555         2.202207  ...        -0.048304         0.599989   \n",
       "SRR3438559         3.239068  ...        -0.046871         0.464062   \n",
       "SRR3438560         2.025757  ...        -0.051191         0.151359   \n",
       "SRR3438561         1.865736  ...         0.155626         0.197531   \n",
       "SRR3438562         2.133254  ...        -0.047541         0.299811   \n",
       "\n",
       "            ENSG00000286264  ENSG00000286265  ENSG00000286266  \\\n",
       "SRR3438555         2.787198        -0.048304         0.985860   \n",
       "SRR3438559         3.686122        -0.046871         1.105357   \n",
       "SRR3438560         3.367909        -0.051191         1.241474   \n",
       "SRR3438561         3.360096         0.263979         1.192620   \n",
       "SRR3438562         3.588706        -0.047541         1.133778   \n",
       "\n",
       "            ENSG00000286268  ENSG00000286269  ENSG00000286270  \\\n",
       "SRR3438555         0.496252         2.780853        -0.048304   \n",
       "SRR3438559         0.680343         2.549532         0.311412   \n",
       "SRR3438560         0.564202         2.302717         0.242799   \n",
       "SRR3438561         0.533281         2.297624         0.203276   \n",
       "SRR3438562         0.748311         1.976020         0.202908   \n",
       "\n",
       "            ENSG00000286271  ENSG00000286272  \n",
       "SRR3438555         0.861214         1.428780  \n",
       "SRR3438559         1.024190         1.547774  \n",
       "SRR3438560         0.775214         1.310010  \n",
       "SRR3438561         0.639282         1.543373  \n",
       "SRR3438562         0.480480         1.359628  \n",
       "\n",
       "[5 rows x 43366 columns]"
      ]
     },
     "execution_count": 14,
     "metadata": {},
     "output_type": "execute_result"
    }
   ],
   "source": [
    "rnaseq.head()"
   ]
  },
  {
   "cell_type": "code",
   "execution_count": 15,
   "id": "73688f08",
   "metadata": {
    "ExecuteTime": {
     "end_time": "2023-03-05T09:51:54.188106Z",
     "start_time": "2023-03-05T09:51:54.159254Z"
    }
   },
   "outputs": [
    {
     "data": {
      "text/html": [
       "<div>\n",
       "<style scoped>\n",
       "    .dataframe tbody tr th:only-of-type {\n",
       "        vertical-align: middle;\n",
       "    }\n",
       "\n",
       "    .dataframe tbody tr th {\n",
       "        vertical-align: top;\n",
       "    }\n",
       "\n",
       "    .dataframe thead th {\n",
       "        text-align: right;\n",
       "    }\n",
       "</style>\n",
       "<table border=\"1\" class=\"dataframe\">\n",
       "  <thead>\n",
       "    <tr style=\"text-align: right;\">\n",
       "      <th></th>\n",
       "      <th>human</th>\n",
       "      <th>region</th>\n",
       "      <th>is_control</th>\n",
       "      <th>ENSG00000000003</th>\n",
       "      <th>ENSG00000000419</th>\n",
       "      <th>ENSG00000000457</th>\n",
       "      <th>ENSG00000000460</th>\n",
       "      <th>ENSG00000000938</th>\n",
       "      <th>ENSG00000000971</th>\n",
       "      <th>ENSG00000001036</th>\n",
       "      <th>...</th>\n",
       "      <th>ENSG00000283765</th>\n",
       "      <th>ENSG00000284024</th>\n",
       "      <th>ENSG00000284194</th>\n",
       "      <th>ENSG00000284292</th>\n",
       "      <th>ENSG00000284308</th>\n",
       "      <th>ENSG00000284341</th>\n",
       "      <th>ENSG00000284479</th>\n",
       "      <th>ENSG00000284505</th>\n",
       "      <th>ENSG00000284512</th>\n",
       "      <th>ENSG00000284691</th>\n",
       "    </tr>\n",
       "  </thead>\n",
       "  <tbody>\n",
       "    <tr>\n",
       "      <th>0</th>\n",
       "      <td>HA</td>\n",
       "      <td>1  Cerebellar Grey Matter</td>\n",
       "      <td>1</td>\n",
       "      <td>-0.596049</td>\n",
       "      <td>0.141666</td>\n",
       "      <td>-0.267044</td>\n",
       "      <td>-0.661620</td>\n",
       "      <td>-1.023894</td>\n",
       "      <td>-0.762093</td>\n",
       "      <td>-0.151804</td>\n",
       "      <td>...</td>\n",
       "      <td>-0.284310</td>\n",
       "      <td>-0.620350</td>\n",
       "      <td>-0.945761</td>\n",
       "      <td>-1.747471</td>\n",
       "      <td>-0.463782</td>\n",
       "      <td>-1.080750</td>\n",
       "      <td>-1.318549</td>\n",
       "      <td>-0.782920</td>\n",
       "      <td>-2.027809</td>\n",
       "      <td>-0.563310</td>\n",
       "    </tr>\n",
       "    <tr>\n",
       "      <th>1</th>\n",
       "      <td>HA</td>\n",
       "      <td>15 1ary Motor (BA4)</td>\n",
       "      <td>1</td>\n",
       "      <td>-0.317893</td>\n",
       "      <td>0.136090</td>\n",
       "      <td>-0.528817</td>\n",
       "      <td>-1.106894</td>\n",
       "      <td>-0.629645</td>\n",
       "      <td>-0.401154</td>\n",
       "      <td>0.004785</td>\n",
       "      <td>...</td>\n",
       "      <td>-0.656352</td>\n",
       "      <td>-0.912935</td>\n",
       "      <td>-0.855248</td>\n",
       "      <td>-1.093126</td>\n",
       "      <td>-0.368197</td>\n",
       "      <td>-0.402339</td>\n",
       "      <td>-1.343430</td>\n",
       "      <td>-0.754116</td>\n",
       "      <td>-1.293022</td>\n",
       "      <td>0.459234</td>\n",
       "    </tr>\n",
       "    <tr>\n",
       "      <th>2</th>\n",
       "      <td>HA</td>\n",
       "      <td>16 1ary Auditory (BA41/42)</td>\n",
       "      <td>1</td>\n",
       "      <td>-0.383780</td>\n",
       "      <td>0.220198</td>\n",
       "      <td>-0.446192</td>\n",
       "      <td>-1.061985</td>\n",
       "      <td>-0.765968</td>\n",
       "      <td>-0.571556</td>\n",
       "      <td>0.011798</td>\n",
       "      <td>...</td>\n",
       "      <td>-0.061832</td>\n",
       "      <td>-0.788491</td>\n",
       "      <td>-0.713770</td>\n",
       "      <td>-1.251902</td>\n",
       "      <td>-0.268735</td>\n",
       "      <td>-2.379126</td>\n",
       "      <td>0.006324</td>\n",
       "      <td>-0.678809</td>\n",
       "      <td>-1.371943</td>\n",
       "      <td>-0.243236</td>\n",
       "    </tr>\n",
       "    <tr>\n",
       "      <th>3</th>\n",
       "      <td>HA</td>\n",
       "      <td>17 1ary Visual Anterior (BA17a)</td>\n",
       "      <td>1</td>\n",
       "      <td>-0.407656</td>\n",
       "      <td>0.241953</td>\n",
       "      <td>-0.485536</td>\n",
       "      <td>-1.129223</td>\n",
       "      <td>-0.931815</td>\n",
       "      <td>-0.523907</td>\n",
       "      <td>-0.039029</td>\n",
       "      <td>...</td>\n",
       "      <td>-0.474113</td>\n",
       "      <td>-0.724664</td>\n",
       "      <td>-0.898585</td>\n",
       "      <td>-0.454411</td>\n",
       "      <td>-0.384277</td>\n",
       "      <td>-2.420034</td>\n",
       "      <td>0.217227</td>\n",
       "      <td>-0.441917</td>\n",
       "      <td>-1.253151</td>\n",
       "      <td>0.477616</td>\n",
       "    </tr>\n",
       "    <tr>\n",
       "      <th>4</th>\n",
       "      <td>HA</td>\n",
       "      <td>18 1ary Somatosensory (BA3/1/2)</td>\n",
       "      <td>1</td>\n",
       "      <td>-0.217254</td>\n",
       "      <td>0.219317</td>\n",
       "      <td>-0.455956</td>\n",
       "      <td>-1.025259</td>\n",
       "      <td>-0.856438</td>\n",
       "      <td>0.026612</td>\n",
       "      <td>-0.018152</td>\n",
       "      <td>...</td>\n",
       "      <td>-0.829870</td>\n",
       "      <td>-0.715136</td>\n",
       "      <td>-1.093177</td>\n",
       "      <td>-1.066396</td>\n",
       "      <td>-0.482353</td>\n",
       "      <td>-2.509890</td>\n",
       "      <td>-1.446660</td>\n",
       "      <td>-0.911031</td>\n",
       "      <td>-1.155920</td>\n",
       "      <td>-0.251482</td>\n",
       "    </tr>\n",
       "  </tbody>\n",
       "</table>\n",
       "<p>5 rows × 14180 columns</p>\n",
       "</div>"
      ],
      "text/plain": [
       "  human                           region  is_control  ENSG00000000003  \\\n",
       "0    HA        1  Cerebellar Grey Matter           1        -0.596049   \n",
       "1    HA              15 1ary Motor (BA4)           1        -0.317893   \n",
       "2    HA       16 1ary Auditory (BA41/42)           1        -0.383780   \n",
       "3    HA  17 1ary Visual Anterior (BA17a)           1        -0.407656   \n",
       "4    HA  18 1ary Somatosensory (BA3/1/2)           1        -0.217254   \n",
       "\n",
       "   ENSG00000000419  ENSG00000000457  ENSG00000000460  ENSG00000000938  \\\n",
       "0         0.141666        -0.267044        -0.661620        -1.023894   \n",
       "1         0.136090        -0.528817        -1.106894        -0.629645   \n",
       "2         0.220198        -0.446192        -1.061985        -0.765968   \n",
       "3         0.241953        -0.485536        -1.129223        -0.931815   \n",
       "4         0.219317        -0.455956        -1.025259        -0.856438   \n",
       "\n",
       "   ENSG00000000971  ENSG00000001036  ...  ENSG00000283765  ENSG00000284024  \\\n",
       "0        -0.762093        -0.151804  ...        -0.284310        -0.620350   \n",
       "1        -0.401154         0.004785  ...        -0.656352        -0.912935   \n",
       "2        -0.571556         0.011798  ...        -0.061832        -0.788491   \n",
       "3        -0.523907        -0.039029  ...        -0.474113        -0.724664   \n",
       "4         0.026612        -0.018152  ...        -0.829870        -0.715136   \n",
       "\n",
       "   ENSG00000284194  ENSG00000284292  ENSG00000284308  ENSG00000284341  \\\n",
       "0        -0.945761        -1.747471        -0.463782        -1.080750   \n",
       "1        -0.855248        -1.093126        -0.368197        -0.402339   \n",
       "2        -0.713770        -1.251902        -0.268735        -2.379126   \n",
       "3        -0.898585        -0.454411        -0.384277        -2.420034   \n",
       "4        -1.093177        -1.066396        -0.482353        -2.509890   \n",
       "\n",
       "   ENSG00000284479  ENSG00000284505  ENSG00000284512  ENSG00000284691  \n",
       "0        -1.318549        -0.782920        -2.027809        -0.563310  \n",
       "1        -1.343430        -0.754116        -1.293022         0.459234  \n",
       "2         0.006324        -0.678809        -1.371943        -0.243236  \n",
       "3         0.217227        -0.441917        -1.253151         0.477616  \n",
       "4        -1.446660        -0.911031        -1.155920        -0.251482  \n",
       "\n",
       "[5 rows x 14180 columns]"
      ]
     },
     "execution_count": 15,
     "metadata": {},
     "output_type": "execute_result"
    }
   ],
   "source": [
    "ours.head()"
   ]
  },
  {
   "cell_type": "markdown",
   "id": "4cdef771",
   "metadata": {},
   "source": [
    "## value counts"
   ]
  },
  {
   "cell_type": "code",
   "execution_count": 16,
   "id": "3f3b98ba",
   "metadata": {
    "ExecuteTime": {
     "end_time": "2023-03-05T09:51:54.207410Z",
     "start_time": "2023-03-05T09:51:54.190205Z"
    },
    "scrolled": true
   },
   "outputs": [
    {
     "data": {
      "text/plain": [
       "BA46                                                 89\n",
       "BA10                                                 50\n",
       "superior temporal cortex (Brodmann Area 22, BA22)    39\n",
       "Associative striatum                                 36\n",
       "hippocampus                                          33\n",
       "Name: region, dtype: int64"
      ]
     },
     "execution_count": 16,
     "metadata": {},
     "output_type": "execute_result"
    }
   ],
   "source": [
    "microarray.region.value_counts()"
   ]
  },
  {
   "cell_type": "code",
   "execution_count": 17,
   "id": "8b910dd9",
   "metadata": {
    "ExecuteTime": {
     "end_time": "2023-03-05T09:51:54.227580Z",
     "start_time": "2023-03-05T09:51:54.210191Z"
    }
   },
   "outputs": [
    {
     "data": {
      "text/plain": [
       "34 Dorsolateral Prefrontal (BA9)    56\n",
       "Cingulate Anterior                  55\n",
       "56 Nucleus Accumbens                52\n",
       "Name: region, dtype: int64"
      ]
     },
     "execution_count": 17,
     "metadata": {},
     "output_type": "execute_result"
    }
   ],
   "source": [
    "rnaseq.region.value_counts()"
   ]
  },
  {
   "cell_type": "code",
   "execution_count": 18,
   "id": "15f1253c",
   "metadata": {
    "ExecuteTime": {
     "end_time": "2023-03-05T09:51:54.247204Z",
     "start_time": "2023-03-05T09:51:54.231506Z"
    }
   },
   "outputs": [
    {
     "data": {
      "text/plain": [
       "1  Cerebellar Grey Matter                    8\n",
       "58 Putamen                                   8\n",
       "52 Amygdala                                  8\n",
       "53 Insular Posterior Cortex                  8\n",
       "54 Entorhinal Cortex                         8\n",
       "55 Hippocampus, CA3 / Dentate Gyrus          8\n",
       "56 Nucleus Accumbens                         8\n",
       "57 Caudate                                   8\n",
       "63 Substantia Nigra                          8\n",
       "49 Cingulate Anterior (BA32)                 8\n",
       "64 Globus Pallidus                           8\n",
       "68 Medial Dorsal Thalamus                    8\n",
       "69 Hypothalamus                              8\n",
       "72 Internal Capsule                          8\n",
       "73 Corpus Callosum Anterior                  8\n",
       "74 Corpus Callosum Posterior                 8\n",
       "50 Orbitofrontal (BA11)                      8\n",
       "48 Cingulate Anterior (BA24)                 8\n",
       "15 1ary Motor (BA4)                          8\n",
       "30 Premotor Anterior Lateral (BA6a)          8\n",
       "16 1ary Auditory (BA41/42)                   8\n",
       "17 1ary Visual Anterior (BA17a)              8\n",
       "18 1ary Somatosensory (BA3/1/2)              8\n",
       "27 2ary/3ary Visual Anterior (BA18/19a)      8\n",
       "28 2ary Auditory, Wernicke (BA22p)           8\n",
       "29 Precuneus (BA7m)                          8\n",
       "31 Supramarginal Posterior (BA40p)           8\n",
       "47 Cingulate Posterior (BA31)                8\n",
       "32 Ventrolateral Prefrontal, Broca (BA44)    8\n",
       "33 Anterior Inferior Temporal (BA20a)        8\n",
       "34 Dorsolateral Prefrontal (BA9)             8\n",
       "37 2ary Auditory Anterior (BA21a)            8\n",
       "43 Temporopolar (BA38)                       8\n",
       "46 Prefrontal Medial (BA10m)                 8\n",
       "75 Cerebellar White Matter                   8\n",
       "Name: region, dtype: int64"
      ]
     },
     "execution_count": 18,
     "metadata": {},
     "output_type": "execute_result"
    }
   ],
   "source": [
    "ours.region.value_counts()"
   ]
  },
  {
   "cell_type": "code",
   "execution_count": 19,
   "id": "a5424daa",
   "metadata": {
    "ExecuteTime": {
     "end_time": "2023-03-05T09:51:54.269348Z",
     "start_time": "2023-03-05T09:51:54.252944Z"
    }
   },
   "outputs": [
    {
     "data": {
      "text/html": [
       "<div>\n",
       "<style scoped>\n",
       "    .dataframe tbody tr th:only-of-type {\n",
       "        vertical-align: middle;\n",
       "    }\n",
       "\n",
       "    .dataframe tbody tr th {\n",
       "        vertical-align: top;\n",
       "    }\n",
       "\n",
       "    .dataframe thead th {\n",
       "        text-align: right;\n",
       "    }\n",
       "</style>\n",
       "<table border=\"1\" class=\"dataframe\">\n",
       "  <thead>\n",
       "    <tr style=\"text-align: right;\">\n",
       "      <th></th>\n",
       "      <th></th>\n",
       "      <th>0</th>\n",
       "    </tr>\n",
       "    <tr>\n",
       "      <th>region</th>\n",
       "      <th>is_control</th>\n",
       "      <th></th>\n",
       "    </tr>\n",
       "  </thead>\n",
       "  <tbody>\n",
       "    <tr>\n",
       "      <th rowspan=\"2\" valign=\"top\">34 Dorsolateral Prefrontal (BA9)</th>\n",
       "      <th>0</th>\n",
       "      <td>28</td>\n",
       "    </tr>\n",
       "    <tr>\n",
       "      <th>1</th>\n",
       "      <td>28</td>\n",
       "    </tr>\n",
       "    <tr>\n",
       "      <th>Cingulate Anterior</th>\n",
       "      <th>1</th>\n",
       "      <td>28</td>\n",
       "    </tr>\n",
       "    <tr>\n",
       "      <th>56 Nucleus Accumbens</th>\n",
       "      <th>1</th>\n",
       "      <td>27</td>\n",
       "    </tr>\n",
       "    <tr>\n",
       "      <th>Cingulate Anterior</th>\n",
       "      <th>0</th>\n",
       "      <td>27</td>\n",
       "    </tr>\n",
       "    <tr>\n",
       "      <th>56 Nucleus Accumbens</th>\n",
       "      <th>0</th>\n",
       "      <td>25</td>\n",
       "    </tr>\n",
       "  </tbody>\n",
       "</table>\n",
       "</div>"
      ],
      "text/plain": [
       "                                              0\n",
       "region                           is_control    \n",
       "34 Dorsolateral Prefrontal (BA9) 0           28\n",
       "                                 1           28\n",
       "Cingulate Anterior               1           28\n",
       "56 Nucleus Accumbens             1           27\n",
       "Cingulate Anterior               0           27\n",
       "56 Nucleus Accumbens             0           25"
      ]
     },
     "execution_count": 19,
     "metadata": {},
     "output_type": "execute_result"
    }
   ],
   "source": [
    "pd.DataFrame(rnaseq[[\"region\", \"is_control\"]].value_counts())"
   ]
  },
  {
   "cell_type": "code",
   "execution_count": 20,
   "id": "488cde4b",
   "metadata": {
    "ExecuteTime": {
     "end_time": "2023-03-05T09:51:54.286352Z",
     "start_time": "2023-03-05T09:51:54.272749Z"
    }
   },
   "outputs": [
    {
     "data": {
      "text/html": [
       "<div>\n",
       "<style scoped>\n",
       "    .dataframe tbody tr th:only-of-type {\n",
       "        vertical-align: middle;\n",
       "    }\n",
       "\n",
       "    .dataframe tbody tr th {\n",
       "        vertical-align: top;\n",
       "    }\n",
       "\n",
       "    .dataframe thead th {\n",
       "        text-align: right;\n",
       "    }\n",
       "</style>\n",
       "<table border=\"1\" class=\"dataframe\">\n",
       "  <thead>\n",
       "    <tr style=\"text-align: right;\">\n",
       "      <th></th>\n",
       "      <th></th>\n",
       "      <th>0</th>\n",
       "    </tr>\n",
       "    <tr>\n",
       "      <th>region</th>\n",
       "      <th>is_control</th>\n",
       "      <th></th>\n",
       "    </tr>\n",
       "  </thead>\n",
       "  <tbody>\n",
       "    <tr>\n",
       "      <th rowspan=\"2\" valign=\"top\">BA46</th>\n",
       "      <th>1</th>\n",
       "      <td>47</td>\n",
       "    </tr>\n",
       "    <tr>\n",
       "      <th>0</th>\n",
       "      <td>42</td>\n",
       "    </tr>\n",
       "    <tr>\n",
       "      <th rowspan=\"2\" valign=\"top\">BA10</th>\n",
       "      <th>0</th>\n",
       "      <td>28</td>\n",
       "    </tr>\n",
       "    <tr>\n",
       "      <th>1</th>\n",
       "      <td>22</td>\n",
       "    </tr>\n",
       "    <tr>\n",
       "      <th>superior temporal cortex (Brodmann Area 22, BA22)</th>\n",
       "      <th>0</th>\n",
       "      <td>22</td>\n",
       "    </tr>\n",
       "    <tr>\n",
       "      <th rowspan=\"2\" valign=\"top\">Associative striatum</th>\n",
       "      <th>0</th>\n",
       "      <td>18</td>\n",
       "    </tr>\n",
       "    <tr>\n",
       "      <th>1</th>\n",
       "      <td>18</td>\n",
       "    </tr>\n",
       "    <tr>\n",
       "      <th>hippocampus</th>\n",
       "      <th>1</th>\n",
       "      <td>18</td>\n",
       "    </tr>\n",
       "    <tr>\n",
       "      <th>superior temporal cortex (Brodmann Area 22, BA22)</th>\n",
       "      <th>1</th>\n",
       "      <td>17</td>\n",
       "    </tr>\n",
       "    <tr>\n",
       "      <th>hippocampus</th>\n",
       "      <th>0</th>\n",
       "      <td>15</td>\n",
       "    </tr>\n",
       "  </tbody>\n",
       "</table>\n",
       "</div>"
      ],
      "text/plain": [
       "                                                               0\n",
       "region                                            is_control    \n",
       "BA46                                              1           47\n",
       "                                                  0           42\n",
       "BA10                                              0           28\n",
       "                                                  1           22\n",
       "superior temporal cortex (Brodmann Area 22, BA22) 0           22\n",
       "Associative striatum                              0           18\n",
       "                                                  1           18\n",
       "hippocampus                                       1           18\n",
       "superior temporal cortex (Brodmann Area 22, BA22) 1           17\n",
       "hippocampus                                       0           15"
      ]
     },
     "execution_count": 20,
     "metadata": {},
     "output_type": "execute_result"
    }
   ],
   "source": [
    "pd.DataFrame(microarray[[\"region\", \"is_control\"]].value_counts())"
   ]
  },
  {
   "cell_type": "markdown",
   "id": "0501b3ec",
   "metadata": {},
   "source": [
    "# Comparing genes"
   ]
  },
  {
   "cell_type": "code",
   "execution_count": 21,
   "id": "cb52bafa",
   "metadata": {
    "ExecuteTime": {
     "end_time": "2023-03-05T09:51:54.296811Z",
     "start_time": "2023-03-05T09:51:54.289118Z"
    }
   },
   "outputs": [],
   "source": [
    "region_nm = \"56 Nucleus Accumbens\""
   ]
  },
  {
   "cell_type": "code",
   "execution_count": 22,
   "id": "35789603",
   "metadata": {
    "ExecuteTime": {
     "end_time": "2023-03-05T09:51:54.334428Z",
     "start_time": "2023-03-05T09:51:54.299624Z"
    }
   },
   "outputs": [],
   "source": [
    "our_region = ours[ours.region == region_nm]\n",
    "their_region = rnaseq[rnaseq.region == region_nm]"
   ]
  },
  {
   "cell_type": "code",
   "execution_count": 23,
   "id": "07551578",
   "metadata": {
    "ExecuteTime": {
     "end_time": "2023-03-05T09:51:54.346625Z",
     "start_time": "2023-03-05T09:51:54.336826Z"
    }
   },
   "outputs": [],
   "source": [
    "random_genes = np.random.choice(our_region.columns, 10)"
   ]
  },
  {
   "cell_type": "code",
   "execution_count": 24,
   "id": "dc3c51ff",
   "metadata": {
    "ExecuteTime": {
     "end_time": "2023-03-05T09:51:54.381667Z",
     "start_time": "2023-03-05T09:51:54.350975Z"
    },
    "scrolled": false
   },
   "outputs": [
    {
     "ename": "AttributeError",
     "evalue": "'DataFrame' object has no attribute 'is_ill'",
     "output_type": "error",
     "traceback": [
      "\u001b[0;31m---------------------------------------------------------------------------\u001b[0m",
      "\u001b[0;31mAttributeError\u001b[0m                            Traceback (most recent call last)",
      "Cell \u001b[0;32mIn [24], line 4\u001b[0m\n\u001b[1;32m      1\u001b[0m \u001b[38;5;28;01mfor\u001b[39;00m i \u001b[38;5;129;01min\u001b[39;00m \u001b[38;5;28mrange\u001b[39m(\u001b[38;5;28mlen\u001b[39m(random_genes)):\n\u001b[1;32m      2\u001b[0m     random_gene \u001b[38;5;241m=\u001b[39m random_genes[i]\n\u001b[0;32m----> 4\u001b[0m     our_distr \u001b[38;5;241m=\u001b[39m our_region\u001b[38;5;241m.\u001b[39mloc[\u001b[43mour_region\u001b[49m\u001b[38;5;241;43m.\u001b[39;49m\u001b[43mis_ill\u001b[49m, random_gene]\u001b[38;5;241m.\u001b[39mvalues\n\u001b[1;32m      5\u001b[0m     their_distr \u001b[38;5;241m=\u001b[39m their_region\u001b[38;5;241m.\u001b[39mloc[their_region\u001b[38;5;241m.\u001b[39mis_ill, random_gene]\u001b[38;5;241m.\u001b[39mvalues\n\u001b[1;32m      6\u001b[0m \u001b[38;5;66;03m#     print(mannwhitneyu(our_distr, their_distr))\u001b[39;00m\n",
      "File \u001b[0;32m~/anaconda3/envs/thesis/lib/python3.10/site-packages/pandas/core/generic.py:5902\u001b[0m, in \u001b[0;36mNDFrame.__getattr__\u001b[0;34m(self, name)\u001b[0m\n\u001b[1;32m   5895\u001b[0m \u001b[38;5;28;01mif\u001b[39;00m (\n\u001b[1;32m   5896\u001b[0m     name \u001b[38;5;129;01mnot\u001b[39;00m \u001b[38;5;129;01min\u001b[39;00m \u001b[38;5;28mself\u001b[39m\u001b[38;5;241m.\u001b[39m_internal_names_set\n\u001b[1;32m   5897\u001b[0m     \u001b[38;5;129;01mand\u001b[39;00m name \u001b[38;5;129;01mnot\u001b[39;00m \u001b[38;5;129;01min\u001b[39;00m \u001b[38;5;28mself\u001b[39m\u001b[38;5;241m.\u001b[39m_metadata\n\u001b[1;32m   5898\u001b[0m     \u001b[38;5;129;01mand\u001b[39;00m name \u001b[38;5;129;01mnot\u001b[39;00m \u001b[38;5;129;01min\u001b[39;00m \u001b[38;5;28mself\u001b[39m\u001b[38;5;241m.\u001b[39m_accessors\n\u001b[1;32m   5899\u001b[0m     \u001b[38;5;129;01mand\u001b[39;00m \u001b[38;5;28mself\u001b[39m\u001b[38;5;241m.\u001b[39m_info_axis\u001b[38;5;241m.\u001b[39m_can_hold_identifiers_and_holds_name(name)\n\u001b[1;32m   5900\u001b[0m ):\n\u001b[1;32m   5901\u001b[0m     \u001b[38;5;28;01mreturn\u001b[39;00m \u001b[38;5;28mself\u001b[39m[name]\n\u001b[0;32m-> 5902\u001b[0m \u001b[38;5;28;01mreturn\u001b[39;00m \u001b[38;5;28;43mobject\u001b[39;49m\u001b[38;5;241;43m.\u001b[39;49m\u001b[38;5;21;43m__getattribute__\u001b[39;49m\u001b[43m(\u001b[49m\u001b[38;5;28;43mself\u001b[39;49m\u001b[43m,\u001b[49m\u001b[43m \u001b[49m\u001b[43mname\u001b[49m\u001b[43m)\u001b[49m\n",
      "\u001b[0;31mAttributeError\u001b[0m: 'DataFrame' object has no attribute 'is_ill'"
     ]
    }
   ],
   "source": [
    "for i in range(len(random_genes)):\n",
    "    random_gene = random_genes[i]\n",
    "\n",
    "    our_distr = our_region.loc[our_region.is_ill, random_gene].values\n",
    "    their_distr = their_region.loc[their_region.is_ill, random_gene].values\n",
    "#     print(mannwhitneyu(our_distr, their_distr))\n",
    "\n",
    "    qqplot_2samples(our_distr, their_distr)\n",
    "    plt.show()\n"
   ]
  },
  {
   "cell_type": "markdown",
   "id": "db684ec5",
   "metadata": {},
   "source": [
    "## normality test"
   ]
  },
  {
   "cell_type": "code",
   "execution_count": null,
   "id": "19f64ff9",
   "metadata": {
    "ExecuteTime": {
     "end_time": "2023-03-05T09:51:54.385079Z",
     "start_time": "2023-03-05T09:51:54.385044Z"
    }
   },
   "outputs": [],
   "source": [
    "for is_ill in [0, 1]:\n",
    "    for region in microarray.region.unique():\n",
    "        microarray.loc[(microarray.is_ill == is_ill) & (microarray.region == region)]\n",
    "\n",
    "        data = microarray.loc[(microarray.is_ill == is_ill) & (microarray.region == region)].values[:, 2:-1].astype(float)\n",
    "        if data.shape[0] > 0:\n",
    "            print(is_ill, region, (normaltest(data).pvalue < .05 / data.shape[0]).mean())"
   ]
  },
  {
   "cell_type": "markdown",
   "id": "062100ea",
   "metadata": {},
   "source": [
    "Not everything is normal even with Bonferroni correction"
   ]
  },
  {
   "cell_type": "markdown",
   "id": "9dfce7e6",
   "metadata": {},
   "source": [
    "# per sample distributions"
   ]
  },
  {
   "cell_type": "code",
   "execution_count": 25,
   "id": "6f55d4fd",
   "metadata": {
    "ExecuteTime": {
     "end_time": "2023-03-05T09:53:25.470188Z",
     "start_time": "2023-03-05T09:52:39.786950Z"
    }
   },
   "outputs": [
    {
     "data": {
      "image/png": "[encoded data removed]",
      "text/plain": [
       "<Figure size 640x480 with 2 Axes>"
      ]
     },
     "metadata": {},
     "output_type": "display_data"
    }
   ],
   "source": [
    "fig, axs = plt.subplots(1, 2, sharey=True)\n",
    "sns.kdeplot(data=microarray.iloc[:, 3:].values.T, ax=axs[0], legend=False)\n",
    "sns.kdeplot(data=rnaseq.iloc[:, 3:].values.T, ax=axs[1], legend=False)\n",
    "plt.tight_layout()"
   ]
  },
  {
   "cell_type": "code",
   "execution_count": 26,
   "id": "eb5150b0",
   "metadata": {
    "ExecuteTime": {
     "end_time": "2023-03-05T09:53:25.500783Z",
     "start_time": "2023-03-05T09:53:25.472768Z"
    }
   },
   "outputs": [],
   "source": [
    "common_genes = list(set(microarray.columns) & set(rnaseq.columns) & set(ours.columns) - set(ours.columns[:3]))\n",
    "\n",
    "# common_genes = common_genes[:500]"
   ]
  },
  {
   "cell_type": "code",
   "execution_count": 27,
   "id": "ce940c6b",
   "metadata": {
    "ExecuteTime": {
     "end_time": "2023-03-05T09:53:25.516608Z",
     "start_time": "2023-03-05T09:53:25.503237Z"
    }
   },
   "outputs": [],
   "source": [
    "reference_distr = pd.read_csv(\"../data/refine.bio/reference_distr.tsv\", sep=\"\\t\", header=None)"
   ]
  },
  {
   "cell_type": "code",
   "execution_count": 28,
   "id": "145ba7e3",
   "metadata": {
    "ExecuteTime": {
     "end_time": "2023-03-05T09:53:59.461295Z",
     "start_time": "2023-03-05T09:53:25.520322Z"
    }
   },
   "outputs": [
    {
     "data": {
      "image/png": "[encoded data removed]",
      "text/plain": [
       "<Figure size 1200x300 with 3 Axes>"
      ]
     },
     "metadata": {},
     "output_type": "display_data"
    }
   ],
   "source": [
    "fig, axs = plt.subplots(1, 3, sharey=True, figsize=(4*3, 3))\n",
    "sns.kdeplot(data=microarray[common_genes].values.T, ax=axs[0], legend=False)\n",
    "sns.kdeplot(data=rnaseq[common_genes].values.T, ax=axs[1], legend=False)\n",
    "sns.kdeplot(data=np.exp(ours[common_genes].T.dropna().values) - 1, ax=axs[2], legend=False)\n",
    "plt.tight_layout()"
   ]
  },
  {
   "cell_type": "code",
   "execution_count": 29,
   "id": "acbad38d",
   "metadata": {
    "ExecuteTime": {
     "end_time": "2023-03-05T09:54:33.565920Z",
     "start_time": "2023-03-05T09:53:59.463913Z"
    }
   },
   "outputs": [
    {
     "data": {
      "image/png": "[encoded data removed]",
      "text/plain": [
       "<Figure size 1200x300 with 3 Axes>"
      ]
     },
     "metadata": {},
     "output_type": "display_data"
    }
   ],
   "source": [
    "fig, axs = plt.subplots(1, 3, sharey=True, figsize=(4*3, 3))\n",
    "\n",
    "sns.kdeplot(\n",
    "    data=np.log1p(microarray[common_genes].values.T), ax=axs[0], legend=False,\n",
    "    common_norm=False,\n",
    ")\n",
    "sns.kdeplot(np.log1p(reference_distr), ax=axs[0])\n",
    "\n",
    "sns.kdeplot(\n",
    "    data=np.log1p(rnaseq[common_genes].values.T), ax=axs[1], legend=False,\n",
    "    common_norm=False,\n",
    ")\n",
    "sns.kdeplot(np.log1p(reference_distr), ax=axs[1])\n",
    "\n",
    "sns.kdeplot(\n",
    "    data=np.log(10) * ours[common_genes].T.dropna().values, ax=axs[2], legend=False,\n",
    "    common_norm=False,\n",
    ")\n",
    "sns.kdeplot(np.log1p(reference_distr), ax=axs[2])\n",
    "\n",
    "plt.tight_layout()"
   ]
  },
  {
   "cell_type": "code",
   "execution_count": 30,
   "id": "6e0377a0",
   "metadata": {
    "ExecuteTime": {
     "end_time": "2023-03-05T09:54:34.082383Z",
     "start_time": "2023-03-05T09:54:33.567894Z"
    }
   },
   "outputs": [
    {
     "data": {
      "text/plain": [
       "<AxesSubplot:ylabel='Density'>"
      ]
     },
     "execution_count": 30,
     "metadata": {},
     "output_type": "execute_result"
    },
    {
     "data": {
      "image/png": "[encoded data removed]",
      "text/plain": [
       "<Figure size 640x480 with 1 Axes>"
      ]
     },
     "metadata": {},
     "output_type": "display_data"
    }
   ],
   "source": [
    "sns.kdeplot(microarray.iloc[:, 3:].values.mean(axis=0))\n",
    "sns.kdeplot(rnaseq.iloc[:, 3:].values.mean(axis=0))"
   ]
  },
  {
   "cell_type": "code",
   "execution_count": 31,
   "id": "a2b16c15",
   "metadata": {
    "ExecuteTime": {
     "end_time": "2023-03-05T09:54:34.123065Z",
     "start_time": "2023-03-05T09:54:34.084656Z"
    }
   },
   "outputs": [
    {
     "data": {
      "text/plain": [
       "-0.11206619574183778"
      ]
     },
     "execution_count": 31,
     "metadata": {},
     "output_type": "execute_result"
    }
   ],
   "source": [
    "microarray.iloc[:, 3:].mean().quantile(.05)"
   ]
  },
  {
   "cell_type": "code",
   "execution_count": 32,
   "id": "0bdd509c",
   "metadata": {
    "ExecuteTime": {
     "end_time": "2023-03-05T09:54:34.175700Z",
     "start_time": "2023-03-05T09:54:34.126921Z"
    }
   },
   "outputs": [
    {
     "data": {
      "text/plain": [
       "-0.042704113539659194"
      ]
     },
     "execution_count": 32,
     "metadata": {},
     "output_type": "execute_result"
    }
   ],
   "source": [
    "rnaseq.iloc[:, 3:].mean().quantile(.05)"
   ]
  },
  {
   "cell_type": "code",
   "execution_count": 38,
   "id": "072070f1",
   "metadata": {
    "ExecuteTime": {
     "end_time": "2023-03-05T10:27:38.224221Z",
     "start_time": "2023-03-05T10:27:38.218089Z"
    }
   },
   "outputs": [
    {
     "data": {
      "text/plain": [
       "(247, 20059)"
      ]
     },
     "execution_count": 38,
     "metadata": {},
     "output_type": "execute_result"
    }
   ],
   "source": [
    "microarray.shape"
   ]
  },
  {
   "cell_type": "code",
   "execution_count": 39,
   "id": "900492ca",
   "metadata": {
    "ExecuteTime": {
     "end_time": "2023-03-05T10:27:57.095694Z",
     "start_time": "2023-03-05T10:27:57.089784Z"
    }
   },
   "outputs": [
    {
     "data": {
      "text/plain": [
       "(163, 43366)"
      ]
     },
     "execution_count": 39,
     "metadata": {},
     "output_type": "execute_result"
    }
   ],
   "source": [
    "rnaseq.shape"
   ]
  },
  {
   "cell_type": "code",
   "execution_count": 42,
   "id": "a55788a7",
   "metadata": {
    "ExecuteTime": {
     "end_time": "2023-03-05T10:30:42.939393Z",
     "start_time": "2023-03-05T10:29:39.326038Z"
    }
   },
   "outputs": [
    {
     "data": {
      "image/png": "[encoded data removed]",
      "text/plain": [
       "<Figure size 1200x300 with 3 Axes>"
      ]
     },
     "metadata": {},
     "output_type": "display_data"
    }
   ],
   "source": [
    "fig, axs = plt.subplots(1, 3, sharey=True, figsize=(4*3, 3))\n",
    "\n",
    "sns.kdeplot(\n",
    "    data=np.log1p(microarray.iloc[:, 3:].values.T), ax=axs[0], legend=False,\n",
    "    common_norm=False,\n",
    ")\n",
    "sns.kdeplot(np.log1p(reference_distr), ax=axs[0], label=\"reference distribution\")\n",
    "axs[0].set_title(\"Microarray, 247 samples, 20059 genes\")\n",
    "\n",
    "sns.kdeplot(\n",
    "    data=np.log1p(rnaseq.iloc[:, 3:].values.T), ax=axs[1], legend=False,\n",
    "    common_norm=False,\n",
    ")\n",
    "sns.kdeplot(np.log1p(reference_distr), ax=axs[1], label=\"reference distribution\")\n",
    "axs[1].set_title(\"RNA-seq, 163 samples, 43366 genes\")\n",
    "\n",
    "sns.kdeplot(\n",
    "    data=np.log(10) * ours.iloc[:, 3:].values.T, ax=axs[2], legend=False,\n",
    "    common_norm=False,\n",
    ")\n",
    "sns.kdeplot(np.log1p(reference_distr), ax=axs[2])\n",
    "\n",
    "plt.tight_layout()"
   ]
  },
  {
   "cell_type": "code",
   "execution_count": 43,
   "id": "c9a6b5a2",
   "metadata": {
    "ExecuteTime": {
     "end_time": "2023-03-05T10:30:42.947465Z",
     "start_time": "2023-03-05T10:30:42.941936Z"
    }
   },
   "outputs": [
    {
     "data": {
      "text/plain": [
       "19479"
      ]
     },
     "execution_count": 43,
     "metadata": {},
     "output_type": "execute_result"
    }
   ],
   "source": [
    "len(common_genes_refine_bio)"
   ]
  },
  {
   "cell_type": "code",
   "execution_count": 44,
   "id": "1fe1c390",
   "metadata": {
    "ExecuteTime": {
     "end_time": "2023-03-05T10:31:39.007361Z",
     "start_time": "2023-03-05T10:31:04.839697Z"
    }
   },
   "outputs": [
    {
     "data": {
      "image/png": "[encoded data removed]",
      "text/plain": [
       "<Figure size 800x300 with 2 Axes>"
      ]
     },
     "metadata": {},
     "output_type": "display_data"
    }
   ],
   "source": [
    "fig, axs = plt.subplots(1, 2, sharey=True, figsize=(4*2, 3))\n",
    "common_genes_refine_bio = list(set(microarray.columns) & set(rnaseq.columns) - set(ours.columns[:3]))\n",
    "\n",
    "sns.kdeplot(\n",
    "    data=np.log1p(microarray[common_genes_refine_bio].values.T), ax=axs[0], legend=False,\n",
    "    common_norm=False,\n",
    ")\n",
    "sns.kdeplot(np.log1p(reference_distr), ax=axs[0], label=\"reference distribution\")\n",
    "axs[0].set_title(\"Microarray, 247 samples, 19479 common genes\")\n",
    "\n",
    "sns.kdeplot(\n",
    "    data=np.log1p(rnaseq[common_genes_refine_bio].values.T), ax=axs[1], legend=False,\n",
    "    common_norm=False,\n",
    ")\n",
    "sns.kdeplot(np.log1p(reference_distr), ax=axs[1], label=\"reference distribution\")\n",
    "axs[1].set_title(\"RNA-seq, 163 samples, 19479 common genes\")\n",
    "\n",
    "plt.tight_layout()"
   ]
  },
  {
   "cell_type": "code",
   "execution_count": 37,
   "id": "e06e3d1f",
   "metadata": {
    "ExecuteTime": {
     "end_time": "2023-03-05T10:02:37.917081Z",
     "start_time": "2023-03-05T10:01:51.379978Z"
    }
   },
   "outputs": [
    {
     "data": {
      "image/png": "[encoded data removed]",
      "text/plain": [
       "<Figure size 800x300 with 2 Axes>"
      ]
     },
     "metadata": {},
     "output_type": "display_data"
    }
   ],
   "source": [
    "fig, axs = plt.subplots(1, 2, sharey=True, figsize=(4*2, 3))\n",
    "\n",
    "sns.kdeplot(\n",
    "    data=(microarray.iloc[:, 3:].values.T), ax=axs[0], legend=False,\n",
    "    common_norm=False,\n",
    ")\n",
    "sns.kdeplot((reference_distr), ax=axs[0])\n",
    "\n",
    "sns.kdeplot(\n",
    "    data=(rnaseq.iloc[:, 3:].values.T), ax=axs[1], legend=False,\n",
    "    common_norm=False,\n",
    ")\n",
    "sns.kdeplot((reference_distr), ax=axs[1])\n",
    "\n",
    "plt.tight_layout()"
   ]
  },
  {
   "cell_type": "code",
   "execution_count": null,
   "id": "779c8fe2",
   "metadata": {},
   "outputs": [],
   "source": []
  }
 ],
 "metadata": {
  "kernelspec": {
   "display_name": "thesis",
   "language": "python",
   "name": "thesis"
  },
  "language_info": {
   "codemirror_mode": {
    "name": "ipython",
    "version": 3
   },
   "file_extension": ".py",
   "mimetype": "text/x-python",
   "name": "python",
   "nbconvert_exporter": "python",
   "pygments_lexer": "ipython3",
   "version": "3.10.8"
  },
  "toc": {
   "base_numbering": 1,
   "nav_menu": {},
   "number_sections": true,
   "sideBar": true,
   "skip_h1_title": false,
   "title_cell": "Table of Contents",
   "title_sidebar": "Contents",
   "toc_cell": false,
   "toc_position": {},
   "toc_section_display": true,
   "toc_window_display": false
  }
 },
 "nbformat": 4,
 "nbformat_minor": 5
}
