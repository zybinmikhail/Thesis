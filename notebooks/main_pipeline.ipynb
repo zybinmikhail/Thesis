{
 "cells": [
  {
   "cell_type": "code",
   "execution_count": 35,
   "metadata": {
    "ExecuteTime": {
     "end_time": "2023-05-12T12:48:37.855661Z",
     "start_time": "2023-05-12T12:48:34.809803Z"
    }
   },
   "outputs": [],
   "source": [
    "import numpy as np\n",
    "import pandas as pd\n",
    "import matplotlib.pyplot as plt\n",
    "import seaborn as sns\n",
    "\n",
    "# from sklearnex import patch_sklearn\n",
    "# patch_sklearn()\n",
    "\n",
    "from sklearn.decomposition import PCA\n",
    "from sklearn.ensemble import RandomForestClassifier\n",
    "from sklearn.inspection import permutation_importance\n",
    "from sklearn.linear_model import LogisticRegression\n",
    "from sklearn.manifold import MDS\n",
    "from sklearn.metrics import accuracy_score\n",
    "from sklearn.model_selection import train_test_split\n",
    "from sklearn.preprocessing import StandardScaler\n",
    "from scipy.stats import norm\n",
    "from sklearn.svm import LinearSVC\n",
    "from copy import copy\n",
    "\n",
    "import warnings\n",
    "\n",
    "warnings.filterwarnings(\"ignore\")"
   ]
  },
  {
   "cell_type": "code",
   "execution_count": 36,
   "metadata": {
    "ExecuteTime": {
     "end_time": "2023-05-12T12:48:37.865487Z",
     "start_time": "2023-05-12T12:48:37.859959Z"
    }
   },
   "outputs": [],
   "source": [
    "sns.set_theme()\n",
    "sns.set(context=\"paper\", palette=\"Set2\", font_scale=2)"
   ]
  },
  {
   "cell_type": "code",
   "execution_count": 37,
   "metadata": {},
   "outputs": [],
   "source": [
    "# sns.set(font=\"Times New Roman\")"
   ]
  },
  {
   "cell_type": "markdown",
   "metadata": {},
   "source": [
    "# Helpful functions"
   ]
  },
  {
   "cell_type": "code",
   "execution_count": 38,
   "metadata": {
    "ExecuteTime": {
     "end_time": "2023-05-12T12:48:37.888181Z",
     "start_time": "2023-05-12T12:48:37.871674Z"
    }
   },
   "outputs": [],
   "source": [
    "def get_only_four(lipids):\n",
    "    \"\"\"Obtain the regions for which exactly four observations for distinct brains are available.\"\"\"\n",
    "    brains_per_region = lipids.groupby(\"region\")[\"human\"].apply(\n",
    "        lambda x: str(sorted(list(x)))\n",
    "    )\n",
    "    brains_set = str(sorted(list(set(lipids.human.unique()))))\n",
    "    only_four = set(brains_per_region[brains_per_region == brains_set].index)\n",
    "    return only_four\n",
    "\n",
    "\n",
    "def normalize_slow(dataset):\n",
    "    \"\"\"Subtract mean over regions for every molecule in each brain.\"\"\"\n",
    "    new_dataset = []\n",
    "    for brain in sorted(dataset.human.unique()):\n",
    "        existing_values = dataset[dataset[\"human\"] == brain].iloc[:, 2:]\n",
    "        mean_per_brain = existing_values.mean()\n",
    "        new_dataset.append(existing_values.values - mean_per_brain.values)\n",
    "\n",
    "    new_dataset = pd.DataFrame(np.concatenate(new_dataset))\n",
    "    new_dataset.insert(loc=0, column=\"human\", value=dataset.human.values)\n",
    "    new_dataset.insert(loc=1, column=\"region\", value=dataset.region.values)\n",
    "    new_dataset.columns = dataset.columns\n",
    "    return new_dataset\n",
    "\n",
    "\n",
    "def normalize(dataset):\n",
    "    means = dataset.drop(columns=[\"region\"]).groupby(\"human\").mean().reset_index()\n",
    "    mean_repeated = means.iloc[\n",
    "        means.index.repeat(dataset.region.nunique())\n",
    "    ].reset_index(drop=True)\n",
    "    dataset.iloc[:, 2:] = dataset.iloc[:, 2:] - mean_repeated.iloc[:, 1:]\n",
    "    return dataset\n",
    "\n",
    "\n",
    "def prepare_for_dim_reduction(dataset):\n",
    "    \"\"\"Reshape the dataset in such a way that all observation for each brain become a single vector.\"\"\"\n",
    "    new_dataset = []\n",
    "    for brain in sorted(dataset.human.unique()):\n",
    "        existing_values = (\n",
    "            dataset[dataset[\"human\"] == brain].iloc[:, 2:].values.reshape(1, -1)\n",
    "        )\n",
    "        new_dataset.append(existing_values)\n",
    "    new_dataset = np.concatenate(new_dataset)\n",
    "    return new_dataset\n",
    "\n",
    "\n",
    "def check_normalization(dataset):\n",
    "    for brain in dataset.human.unique():\n",
    "        if abs(dataset[dataset.human == brain].mean().mean()) > 1e-10:\n",
    "            print(\"Unnormalized\")\n",
    "            return\n",
    "    print(\"Normalized\")\n",
    "    return"
   ]
  },
  {
   "cell_type": "code",
   "execution_count": null,
   "metadata": {},
   "outputs": [],
   "source": []
  },
  {
   "cell_type": "code",
   "execution_count": 39,
   "metadata": {
    "ExecuteTime": {
     "end_time": "2023-05-12T12:48:37.926766Z",
     "start_time": "2023-05-12T12:48:37.893349Z"
    }
   },
   "outputs": [],
   "source": [
    "# %load_ext autoreload\n",
    "# %autoreload 2\n",
    "\n",
    "import sys\n",
    "\n",
    "sys.path.append(\"..\")\n",
    "from utils import get_tr_data"
   ]
  },
  {
   "cell_type": "markdown",
   "metadata": {},
   "source": [
    "# read the data"
   ]
  },
  {
   "cell_type": "code",
   "execution_count": 40,
   "metadata": {
    "ExecuteTime": {
     "end_time": "2023-05-12T12:48:37.954620Z",
     "start_time": "2023-05-12T12:48:37.929656Z"
    }
   },
   "outputs": [],
   "source": [
    "use_genes = False"
   ]
  },
  {
   "cell_type": "code",
   "execution_count": 41,
   "metadata": {
    "ExecuteTime": {
     "end_time": "2023-05-12T12:48:39.557324Z",
     "start_time": "2023-05-12T12:48:37.957202Z"
    }
   },
   "outputs": [],
   "source": [
    "onebatch = pd.read_csv(\"../data/OneBatch3_FINAL2.csv\").sort_values(\n",
    "    by=[\"Donor\", \"Region\"]\n",
    ")\n",
    "\n",
    "h_molecules = pd.read_csv(\n",
    "    \"../data/ours_maria_version/rtmz_H_pos_std_weight_norm_TL_COMBINED.csv\", index_col=0\n",
    ")\n",
    "sz_molecules = pd.read_csv(\n",
    "    \"../data/ours_maria_version/rtmz_SZ_pos_std_weight_norm_TL_COMBINED.csv\",\n",
    "    index_col=0,\n",
    ")\n",
    "\n",
    "h_molecules.index = h_molecules.index.str.split(\".\").str[0]\n",
    "\n",
    "meta = pd.read_csv(\"../data/ours_maria_version/meta_pos_COMBINED.csv\")\n",
    "meta = meta[[\"Sample\", \"Brain_abbr\", \"Region_detailed\"]].set_index(\"Sample\")\n",
    "\n",
    "sz_molecules = meta.join(sz_molecules, how=\"inner\")\n",
    "# sz_molecules[\"region_id\"] = sz_molecules.Region_detailed.str.split(\" \").str[0].astype(int)\n",
    "\n",
    "h_molecules = meta.join(h_molecules, how=\"inner\")\n",
    "# h_molecules[\"region_id\"] = h_molecules.Region_detailed.str.split(\" \").str[0].astype(int)\n",
    "\n",
    "meta_lipids = pd.read_csv(\"../data/ours_maria_version/TL_combined.csv\")\n",
    "lipid_species_colon_replaced = (\n",
    "    meta_lipids[\"Lipid.species\"].str.replace(\":\", \" \", regex=False).tolist()\n",
    ")\n",
    "lipids_columns = [\"Brain_abbr\", \"Region_detailed\"] + lipid_species_colon_replaced\n",
    "h_molecules.columns = lipids_columns\n",
    "sz_molecules.columns = lipids_columns\n",
    "\n",
    "h_molecules = (\n",
    "    h_molecules.sort_values(by=[\"Brain_abbr\", \"Region_detailed\"])\n",
    "    .rename(columns={\"Brain_abbr\": \"human\", \"Region_detailed\": \"region\"})\n",
    "    .reset_index(drop=True)\n",
    ")\n",
    "sz_molecules = sz_molecules.sort_values(by=[\"Brain_abbr\", \"Region_detailed\"]).rename(\n",
    "    columns={\"Brain_abbr\": \"human\", \"Region_detailed\": \"region\"}\n",
    ")\n",
    "\n",
    "if use_genes:\n",
    "    h_molecules = get_tr_data(True).reset_index().drop(columns=[\"batch\"])\n",
    "    sz_molecules = get_tr_data(False).reset_index().drop(columns=[\"batch\"])\n",
    "    common_columns = list(h_molecules.columns[:2]) + sorted(\n",
    "        list(set(h_molecules.columns[2:]) & set(sz_molecules.columns[2:]))\n",
    "    )\n",
    "    h_molecules = h_molecules[common_columns]\n",
    "    sz_molecules = sz_molecules[common_columns]"
   ]
  },
  {
   "cell_type": "code",
   "execution_count": 42,
   "metadata": {
    "ExecuteTime": {
     "end_time": "2023-05-12T12:48:39.602641Z",
     "start_time": "2023-05-12T12:48:39.559832Z"
    }
   },
   "outputs": [
    {
     "data": {
      "text/plain": [
       "region\n",
       "1  Cerebellar Grey Matter                   4\n",
       "10 2ary/3ary Visual Posterior (BA18/19p)    4\n",
       "11 2ary Auditory Posterior (BA21p)          5\n",
       "12 Premotor Posterior (BA6p)                2\n",
       "13 Premotor Precentral (BA6prc)             2\n",
       "                                           ..\n",
       "73 Corpus Callosum Anterior                 4\n",
       "74 Corpus Callosum Posterior                4\n",
       "75 Cerebellar White Matter                  4\n",
       "8  Cingulate Posterior (BA23a)              4\n",
       "9  2ary Somatosensory Cortex                5\n",
       "Name: human, Length: 75, dtype: int64"
      ]
     },
     "execution_count": 42,
     "metadata": {},
     "output_type": "execute_result"
    }
   ],
   "source": [
    "h_molecules.groupby(\"region\")[\"human\"].apply(len)"
   ]
  },
  {
   "cell_type": "code",
   "execution_count": 43,
   "metadata": {
    "ExecuteTime": {
     "end_time": "2023-05-12T12:48:39.644795Z",
     "start_time": "2023-05-12T12:48:39.605043Z"
    }
   },
   "outputs": [],
   "source": [
    "vc_h = h_molecules.region.value_counts()\n",
    "vc_sz = sz_molecules.region.value_counts()"
   ]
  },
  {
   "cell_type": "code",
   "execution_count": 44,
   "metadata": {
    "ExecuteTime": {
     "end_time": "2023-05-12T12:48:39.681948Z",
     "start_time": "2023-05-12T12:48:39.648040Z"
    }
   },
   "outputs": [],
   "source": [
    "vc = pd.concat([vc_h, vc_sz], axis=1).reset_index()\n",
    "vc.columns = [\"Region\", \"HC samples\", \"SZ samples\"]\n",
    "vc.Region = vc.Region.apply(lambda x: \" \".join(x.split()[1:]))"
   ]
  },
  {
   "cell_type": "code",
   "execution_count": 45,
   "metadata": {
    "ExecuteTime": {
     "end_time": "2023-05-12T12:48:39.715996Z",
     "start_time": "2023-05-12T12:48:39.688414Z"
    }
   },
   "outputs": [],
   "source": [
    "# print(\", \".join(vc[(vc[\"HC samples\"] == 4) & (vc[\"SZ samples\"] == 4)].Region.tolist()))"
   ]
  },
  {
   "cell_type": "code",
   "execution_count": 46,
   "metadata": {
    "ExecuteTime": {
     "end_time": "2023-05-12T12:48:39.743273Z",
     "start_time": "2023-05-12T12:48:39.719518Z"
    }
   },
   "outputs": [],
   "source": [
    "# print(vc[(vc[\"HC samples\"] != 4) | (vc[\"SZ samples\"] != 4)].reset_index(drop=True).to_latex(index=False))\n",
    "# print(vc.reset_index(drop=True).to_latex(index=False))"
   ]
  },
  {
   "cell_type": "markdown",
   "metadata": {},
   "source": [
    "## Investigate"
   ]
  },
  {
   "cell_type": "code",
   "execution_count": 47,
   "metadata": {
    "ExecuteTime": {
     "end_time": "2023-05-12T12:48:39.810865Z",
     "start_time": "2023-05-12T12:48:39.745924Z"
    }
   },
   "outputs": [
    {
     "name": "stdout",
     "output_type": "stream",
     "text": [
      "Lipids in 75 regions dataset, lipids in onebathc dataset, common lipids:\n",
      "347 445 58\n",
      "\n",
      "Common lipids after removing duplicates:\n",
      "53\n",
      "\n",
      "Num of regions for which there are 4 SZ and 4 HC observations\n",
      "50\n"
     ]
    }
   ],
   "source": [
    "regions_75_lipids = meta_lipids[\"Lipid.species\"].str.replace(\":\", \" \").unique().tolist()\n",
    "onebatch_molecules = onebatch.columns[9:].str.replace(\".\", \" \", regex=False).tolist()\n",
    "common_molecules = list(set(regions_75_lipids) & set(onebatch_molecules))\n",
    "common_molecules = np.array(common_molecules)\n",
    "print(\"Lipids in 75 regions dataset, lipids in onebathc dataset, common lipids:\")\n",
    "print(len(regions_75_lipids), len(onebatch_molecules), len(common_molecules))\n",
    "duplicates = h_molecules.columns.value_counts()[\n",
    "    h_molecules.columns.value_counts() != 1\n",
    "].index\n",
    "print(\"\\nCommon lipids after removing duplicates:\")\n",
    "common_molecules = list(set(common_molecules) - set(duplicates))\n",
    "print(len(common_molecules))\n",
    "\n",
    "h_only_four = get_only_four(h_molecules)\n",
    "sz_only_four = get_only_four(sz_molecules)\n",
    "regions_only_four = list(h_only_four & sz_only_four)\n",
    "print(\"\\nNum of regions for which there are 4 SZ and 4 HC observations\")\n",
    "print(len(regions_only_four))"
   ]
  },
  {
   "cell_type": "code",
   "execution_count": 48,
   "metadata": {
    "ExecuteTime": {
     "end_time": "2023-05-12T12:48:39.871221Z",
     "start_time": "2023-05-12T12:48:39.813487Z"
    }
   },
   "outputs": [
    {
     "data": {
      "text/html": [
       "<div>\n",
       "<style scoped>\n",
       "    .dataframe tbody tr th:only-of-type {\n",
       "        vertical-align: middle;\n",
       "    }\n",
       "\n",
       "    .dataframe tbody tr th {\n",
       "        vertical-align: top;\n",
       "    }\n",
       "\n",
       "    .dataframe thead th {\n",
       "        text-align: right;\n",
       "    }\n",
       "</style>\n",
       "<table border=\"1\" class=\"dataframe\">\n",
       "  <thead>\n",
       "    <tr style=\"text-align: right;\">\n",
       "      <th></th>\n",
       "      <th>Unnamed: 0</th>\n",
       "      <th>Sample</th>\n",
       "      <th>SZ</th>\n",
       "      <th>Type</th>\n",
       "      <th>Region</th>\n",
       "      <th>human</th>\n",
       "      <th>Order</th>\n",
       "      <th>Mass</th>\n",
       "      <th>MassCoef</th>\n",
       "      <th>LPC 20 3</th>\n",
       "      <th>...</th>\n",
       "      <th>LPC 18 0</th>\n",
       "      <th>LPE 24 4</th>\n",
       "      <th>FA 24 1</th>\n",
       "      <th>FA 20 5</th>\n",
       "      <th>PC 35 3</th>\n",
       "      <th>FA 18 2</th>\n",
       "      <th>PC 37 1</th>\n",
       "      <th>LPE 20 4</th>\n",
       "      <th>PC 37 2</th>\n",
       "      <th>LPE 18 0</th>\n",
       "    </tr>\n",
       "  </thead>\n",
       "  <tbody>\n",
       "    <tr>\n",
       "      <th>3</th>\n",
       "      <td>V22</td>\n",
       "      <td>HC10M_f_36_CCp_x2_NEG_068</td>\n",
       "      <td>HC</td>\n",
       "      <td>Sample</td>\n",
       "      <td>BA22</td>\n",
       "      <td>HC10M</td>\n",
       "      <td>68</td>\n",
       "      <td>18.6</td>\n",
       "      <td>-0.048999</td>\n",
       "      <td>5.411370</td>\n",
       "      <td>...</td>\n",
       "      <td>6.609476</td>\n",
       "      <td>4.629900</td>\n",
       "      <td>4.399409</td>\n",
       "      <td>5.625274</td>\n",
       "      <td>6.017982</td>\n",
       "      <td>6.255731</td>\n",
       "      <td>5.659006</td>\n",
       "      <td>6.938006</td>\n",
       "      <td>5.860528</td>\n",
       "      <td>5.858920</td>\n",
       "    </tr>\n",
       "    <tr>\n",
       "      <th>1</th>\n",
       "      <td>V20</td>\n",
       "      <td>HC10M_f_36_BA9_x2_NEG_041</td>\n",
       "      <td>HC</td>\n",
       "      <td>Sample</td>\n",
       "      <td>BA9</td>\n",
       "      <td>HC10M</td>\n",
       "      <td>41</td>\n",
       "      <td>16.4</td>\n",
       "      <td>-0.230605</td>\n",
       "      <td>5.323759</td>\n",
       "      <td>...</td>\n",
       "      <td>6.479667</td>\n",
       "      <td>4.413117</td>\n",
       "      <td>4.125364</td>\n",
       "      <td>5.341771</td>\n",
       "      <td>6.187377</td>\n",
       "      <td>5.999318</td>\n",
       "      <td>5.420468</td>\n",
       "      <td>6.796520</td>\n",
       "      <td>5.585510</td>\n",
       "      <td>5.934678</td>\n",
       "    </tr>\n",
       "    <tr>\n",
       "      <th>0</th>\n",
       "      <td>V19</td>\n",
       "      <td>HC10M_f_36_BA22p_x2_NEG_093</td>\n",
       "      <td>HC</td>\n",
       "      <td>Sample</td>\n",
       "      <td>CCp</td>\n",
       "      <td>HC10M</td>\n",
       "      <td>93</td>\n",
       "      <td>24.9</td>\n",
       "      <td>0.371845</td>\n",
       "      <td>4.924550</td>\n",
       "      <td>...</td>\n",
       "      <td>6.390225</td>\n",
       "      <td>5.094628</td>\n",
       "      <td>5.425013</td>\n",
       "      <td>5.391641</td>\n",
       "      <td>5.466151</td>\n",
       "      <td>5.961067</td>\n",
       "      <td>6.222331</td>\n",
       "      <td>6.243931</td>\n",
       "      <td>7.021830</td>\n",
       "      <td>4.746306</td>\n",
       "    </tr>\n",
       "    <tr>\n",
       "      <th>2</th>\n",
       "      <td>V21</td>\n",
       "      <td>HC10M_f_36_CCa_x2_NEG_092</td>\n",
       "      <td>HC</td>\n",
       "      <td>Sample</td>\n",
       "      <td>Cca</td>\n",
       "      <td>HC10M</td>\n",
       "      <td>92</td>\n",
       "      <td>21.1</td>\n",
       "      <td>0.132942</td>\n",
       "      <td>4.763908</td>\n",
       "      <td>...</td>\n",
       "      <td>6.389490</td>\n",
       "      <td>5.089776</td>\n",
       "      <td>5.494129</td>\n",
       "      <td>5.789852</td>\n",
       "      <td>4.460293</td>\n",
       "      <td>6.226076</td>\n",
       "      <td>5.952537</td>\n",
       "      <td>6.407568</td>\n",
       "      <td>6.774656</td>\n",
       "      <td>4.831972</td>\n",
       "    </tr>\n",
       "    <tr>\n",
       "      <th>4</th>\n",
       "      <td>V23</td>\n",
       "      <td>HC16M_f_54_BA22p_x2_NEG_006</td>\n",
       "      <td>HC</td>\n",
       "      <td>Sample</td>\n",
       "      <td>BA22</td>\n",
       "      <td>HC16M</td>\n",
       "      <td>6</td>\n",
       "      <td>14.6</td>\n",
       "      <td>-0.398333</td>\n",
       "      <td>4.792293</td>\n",
       "      <td>...</td>\n",
       "      <td>6.449459</td>\n",
       "      <td>5.245931</td>\n",
       "      <td>4.812282</td>\n",
       "      <td>5.124707</td>\n",
       "      <td>5.984818</td>\n",
       "      <td>5.701896</td>\n",
       "      <td>5.460669</td>\n",
       "      <td>6.733909</td>\n",
       "      <td>6.001885</td>\n",
       "      <td>5.595182</td>\n",
       "    </tr>\n",
       "  </tbody>\n",
       "</table>\n",
       "<p>5 rows × 62 columns</p>\n",
       "</div>"
      ],
      "text/plain": [
       "  Unnamed: 0                       Sample  SZ    Type Region  human  Order  \\\n",
       "3        V22    HC10M_f_36_CCp_x2_NEG_068  HC  Sample   BA22  HC10M     68   \n",
       "1        V20    HC10M_f_36_BA9_x2_NEG_041  HC  Sample    BA9  HC10M     41   \n",
       "0        V19  HC10M_f_36_BA22p_x2_NEG_093  HC  Sample    CCp  HC10M     93   \n",
       "2        V21    HC10M_f_36_CCa_x2_NEG_092  HC  Sample    Cca  HC10M     92   \n",
       "4        V23  HC16M_f_54_BA22p_x2_NEG_006  HC  Sample   BA22  HC16M      6   \n",
       "\n",
       "   Mass  MassCoef  LPC 20 3  ...  LPC 18 0  LPE 24 4   FA 24 1   FA 20 5  \\\n",
       "3  18.6 -0.048999  5.411370  ...  6.609476  4.629900  4.399409  5.625274   \n",
       "1  16.4 -0.230605  5.323759  ...  6.479667  4.413117  4.125364  5.341771   \n",
       "0  24.9  0.371845  4.924550  ...  6.390225  5.094628  5.425013  5.391641   \n",
       "2  21.1  0.132942  4.763908  ...  6.389490  5.089776  5.494129  5.789852   \n",
       "4  14.6 -0.398333  4.792293  ...  6.449459  5.245931  4.812282  5.124707   \n",
       "\n",
       "    PC 35 3   FA 18 2   PC 37 1  LPE 20 4   PC 37 2  LPE 18 0  \n",
       "3  6.017982  6.255731  5.659006  6.938006  5.860528  5.858920  \n",
       "1  6.187377  5.999318  5.420468  6.796520  5.585510  5.934678  \n",
       "0  5.466151  5.961067  6.222331  6.243931  7.021830  4.746306  \n",
       "2  4.460293  6.226076  5.952537  6.407568  6.774656  4.831972  \n",
       "4  5.984818  5.701896  5.460669  6.733909  6.001885  5.595182  \n",
       "\n",
       "[5 rows x 62 columns]"
      ]
     },
     "execution_count": 48,
     "metadata": {},
     "output_type": "execute_result"
    }
   ],
   "source": [
    "onebatch = onebatch.rename(columns={\"Donor\": \"human\"})\n",
    "onebatch.columns = onebatch.columns.str.replace(\".\", \" \", regex=False)\n",
    "onebatch_only_common = copy(onebatch[onebatch.columns[:9].tolist() + common_molecules])\n",
    "onebatch_only_common.iloc[:, 9:] *= np.log10(2)\n",
    "onebatch_only_common.head()"
   ]
  },
  {
   "cell_type": "markdown",
   "metadata": {},
   "source": [
    "OneBatch is log2 data. 75_regions is log10 data. Therefore, we multiply Onebatch by $\\log_{10}(2)$, because $\\log_{10}(x) = \\log_{10}(2) \\times \\log_2(x)$"
   ]
  },
  {
   "cell_type": "markdown",
   "metadata": {},
   "source": [
    "## Normalize (make mean value for each molecule in each brain zero)"
   ]
  },
  {
   "cell_type": "code",
   "execution_count": 49,
   "metadata": {
    "ExecuteTime": {
     "end_time": "2023-05-12T12:48:39.940297Z",
     "start_time": "2023-05-12T12:48:39.874843Z"
    }
   },
   "outputs": [],
   "source": [
    "dataset = onebatch\n",
    "new_dataset = []\n",
    "for brain in dataset.human.unique():\n",
    "    existing_values = dataset[dataset[\"human\"] == brain].iloc[:, 9:]\n",
    "    mean_per_brain = existing_values.mean()\n",
    "    new_dataset.append((existing_values.values - mean_per_brain.values))\n",
    "\n",
    "new_dataset = pd.DataFrame(np.concatenate(new_dataset))\n",
    "\n",
    "new_dataset = pd.concat([onebatch.iloc[:, :9], new_dataset], axis=1)\n",
    "new_dataset.columns = onebatch.columns\n",
    "onebatch = new_dataset"
   ]
  },
  {
   "cell_type": "code",
   "execution_count": 50,
   "metadata": {
    "ExecuteTime": {
     "end_time": "2023-05-12T12:48:41.851125Z",
     "start_time": "2023-05-12T12:48:39.942316Z"
    }
   },
   "outputs": [],
   "source": [
    "sz_molecules = sz_molecules[sz_molecules.region.isin(regions_only_four)].reset_index(\n",
    "    drop=True\n",
    ")\n",
    "sz_molecules = normalize(sz_molecules)"
   ]
  },
  {
   "cell_type": "code",
   "execution_count": 51,
   "metadata": {
    "ExecuteTime": {
     "end_time": "2023-05-12T12:48:43.967787Z",
     "start_time": "2023-05-12T12:48:41.853255Z"
    }
   },
   "outputs": [],
   "source": [
    "h_molecules = h_molecules[h_molecules.region.isin(regions_only_four)].reset_index(\n",
    "    drop=True\n",
    ")\n",
    "h_molecules = normalize(h_molecules)"
   ]
  },
  {
   "cell_type": "code",
   "execution_count": 52,
   "metadata": {
    "ExecuteTime": {
     "end_time": "2023-05-12T12:48:44.062738Z",
     "start_time": "2023-05-12T12:48:43.969988Z"
    }
   },
   "outputs": [],
   "source": [
    "# Check normalization\n",
    "# check_normalization(sz_molecules)\n",
    "# check_normalization(onebatch)\n",
    "# check_normalization(h_molecules)"
   ]
  },
  {
   "cell_type": "code",
   "execution_count": 53,
   "metadata": {
    "ExecuteTime": {
     "end_time": "2023-05-12T12:48:44.137820Z",
     "start_time": "2023-05-12T12:48:44.065606Z"
    }
   },
   "outputs": [],
   "source": [
    "all_observations_combined_75 = np.concatenate(\n",
    "    [h_molecules.iloc[:, 2:].values, sz_molecules.iloc[:, 2:].values]\n",
    ").reshape(\n",
    "    -1,\n",
    ")"
   ]
  },
  {
   "cell_type": "code",
   "execution_count": 54,
   "metadata": {
    "ExecuteTime": {
     "end_time": "2023-05-12T12:48:44.175586Z",
     "start_time": "2023-05-12T12:48:44.141689Z"
    }
   },
   "outputs": [
    {
     "data": {
      "text/plain": [
       "(151600,)"
      ]
     },
     "execution_count": 54,
     "metadata": {},
     "output_type": "execute_result"
    }
   ],
   "source": [
    "all_observations_combined_75.shape"
   ]
  },
  {
   "cell_type": "code",
   "execution_count": 55,
   "metadata": {
    "ExecuteTime": {
     "end_time": "2023-05-12T12:48:44.215860Z",
     "start_time": "2023-05-12T12:48:44.178994Z"
    }
   },
   "outputs": [
    {
     "data": {
      "text/plain": [
       "array([-0.50398727, -1.18887342, -0.47377342, ...,  0.52677074,\n",
       "        0.58360673,  0.92461069])"
      ]
     },
     "execution_count": 55,
     "metadata": {},
     "output_type": "execute_result"
    }
   ],
   "source": [
    "all_observations_combined_75"
   ]
  },
  {
   "cell_type": "code",
   "execution_count": 56,
   "metadata": {
    "ExecuteTime": {
     "end_time": "2023-05-12T12:48:52.534446Z",
     "start_time": "2023-05-12T12:48:44.219126Z"
    }
   },
   "outputs": [
    {
     "data": {
      "image/png": "[encoded data removed]",
      "text/plain": [
       "<Figure size 432x288 with 1 Axes>"
      ]
     },
     "metadata": {},
     "output_type": "display_data"
    }
   ],
   "source": [
    "left_point = norm.ppf(\n",
    "    0.0001,\n",
    "    loc=all_observations_combined_75.mean(),\n",
    "    scale=all_observations_combined_75.std(),\n",
    ")\n",
    "right_point = (\n",
    "    norm.ppf(\n",
    "        0.9999,\n",
    "        loc=all_observations_combined_75.mean(),\n",
    "        scale=all_observations_combined_75.std(),\n",
    "    ),\n",
    ")\n",
    "x = np.linspace(left_point, right_point, 1000)\n",
    "plt.plot(\n",
    "    x, norm.pdf(x), c=\"C1\", label=\"Normal distribution with the same mean and variance\"\n",
    ")\n",
    "sns.histplot(\n",
    "    all_observations_combined_75, stat=\"density\", label=\"Observed distribution\"\n",
    ")\n",
    "plt.legend()\n",
    "plt.show()"
   ]
  },
  {
   "cell_type": "markdown",
   "metadata": {},
   "source": [
    "## Data visualization"
   ]
  },
  {
   "cell_type": "markdown",
   "metadata": {},
   "source": [
    "### 75_regions (normalized), brain as object"
   ]
  },
  {
   "cell_type": "code",
   "execution_count": 57,
   "metadata": {
    "ExecuteTime": {
     "end_time": "2023-05-12T12:48:54.030085Z",
     "start_time": "2023-05-12T12:48:52.537369Z"
    }
   },
   "outputs": [
    {
     "data": {
      "image/png": "[encoded data removed]",
      "text/plain": [
       "<Figure size 432x288 with 1 Axes>"
      ]
     },
     "metadata": {},
     "output_type": "display_data"
    }
   ],
   "source": [
    "h_molecules_dim_reduction = prepare_for_dim_reduction(\n",
    "    h_molecules[h_molecules.region.isin(regions_only_four)]\n",
    ")\n",
    "sz_molecules_dim_reduction = prepare_for_dim_reduction(\n",
    "    sz_molecules[sz_molecules.region.isin(regions_only_four)]\n",
    ")\n",
    "\n",
    "dim_reduction = PCA(n_components=2)\n",
    "\n",
    "lipids_dim_reduction = dim_reduction.fit_transform(\n",
    "    np.concatenate([h_molecules_dim_reduction, sz_molecules_dim_reduction])\n",
    ")\n",
    "\n",
    "plt.scatter(lipids_dim_reduction[:4, 0], lipids_dim_reduction[:4, 1], label=\"HC\")\n",
    "plt.scatter(lipids_dim_reduction[4:, 0], lipids_dim_reduction[4:, 1], label=\"SZ\")\n",
    "plt.xlabel(f\"PC1, {dim_reduction.explained_variance_ratio_[0] * 100 :.1f} %\")\n",
    "plt.ylabel(f\"PC2, {dim_reduction.explained_variance_ratio_[1] * 100 :.1f} %\")\n",
    "# plt.title(f\"75 regions dataset (50 taken)\")\n",
    "\n",
    "plt.legend()\n",
    "plt.savefig(\n",
    "    f\"../data/pics/{'genes' if use_genes else 'lipids'}_brain_as_object_real.png\"\n",
    ")\n",
    "plt.savefig(\n",
    "    f\"../data/pics/{'genes' if use_genes else 'lipids'}_brain_as_object_real.pdf\",\n",
    "    bbox_inches=\"tight\",\n",
    ")"
   ]
  },
  {
   "cell_type": "code",
   "execution_count": 58,
   "metadata": {
    "ExecuteTime": {
     "end_time": "2023-05-12T12:48:54.779816Z",
     "start_time": "2023-05-12T12:48:54.032902Z"
    }
   },
   "outputs": [
    {
     "data": {
      "image/png": "[encoded data removed]",
      "text/plain": [
       "<Figure size 432x288 with 1 Axes>"
      ]
     },
     "metadata": {},
     "output_type": "display_data"
    }
   ],
   "source": [
    "h_molecules_dim_reduction = h_molecules[\n",
    "    h_molecules.region.isin(regions_only_four)\n",
    "].iloc[:, 2:]\n",
    "sz_molecules_dim_reduction = sz_molecules[\n",
    "    sz_molecules.region.isin(regions_only_four)\n",
    "].iloc[:, 2:]\n",
    "\n",
    "dim_reduction = PCA(n_components=2)\n",
    "\n",
    "lipids_dim_reduction = dim_reduction.fit_transform(\n",
    "    np.concatenate([h_molecules_dim_reduction, sz_molecules_dim_reduction])\n",
    ")\n",
    "\n",
    "border = lipids_dim_reduction.shape[0] // 2\n",
    "\n",
    "plt.scatter(\n",
    "    lipids_dim_reduction[:border, 0], lipids_dim_reduction[:border, 1], label=\"HC\"\n",
    ")\n",
    "plt.scatter(\n",
    "    lipids_dim_reduction[border:, 0], lipids_dim_reduction[border:, 1], label=\"SZ\"\n",
    ")\n",
    "plt.xlabel(f\"PC1, {dim_reduction.explained_variance_ratio_[0] * 100 :.1f} %\")\n",
    "plt.ylabel(f\"PC2, {dim_reduction.explained_variance_ratio_[1] * 100 :.1f} %\")\n",
    "# plt.title(f\"75 regions dataset (50 taken)\")\n",
    "\n",
    "plt.legend()\n",
    "plt.savefig(\n",
    "    f\"../data/pics/{'genes' if use_genes else 'lipids'}_region_as_object_real.png\"\n",
    ")\n",
    "plt.savefig(\n",
    "    f\"../data/pics/{'genes' if use_genes else 'lipids'}_region_as_object_real.pdf\",\n",
    "    bbox_inches=\"tight\",\n",
    ")"
   ]
  },
  {
   "cell_type": "markdown",
   "metadata": {},
   "source": [
    "### One batch (normalized), brain as object"
   ]
  },
  {
   "cell_type": "code",
   "execution_count": 59,
   "metadata": {
    "ExecuteTime": {
     "end_time": "2023-05-12T12:48:55.163601Z",
     "start_time": "2023-05-12T12:48:54.782055Z"
    }
   },
   "outputs": [
    {
     "data": {
      "image/png": "[encoded data removed]",
      "text/plain": [
       "<Figure size 432x288 with 1 Axes>"
      ]
     },
     "metadata": {},
     "output_type": "display_data"
    }
   ],
   "source": [
    "new_onebatch = []\n",
    "for brain in onebatch.human.unique():\n",
    "    existing_values = (\n",
    "        onebatch[onebatch[\"human\"] == brain].iloc[:, 9:].values.reshape(1, -1)\n",
    "    )\n",
    "    new_onebatch.append(existing_values)\n",
    "new_onebatch = np.concatenate(new_onebatch)\n",
    "\n",
    "dim_reduction = PCA(n_components=2)\n",
    "\n",
    "dim_reduction_fitted = dim_reduction.fit_transform(new_onebatch)\n",
    "\n",
    "plt.scatter(dim_reduction_fitted[:12, 0], dim_reduction_fitted[:12, 1], label=\"HC\")\n",
    "plt.scatter(dim_reduction_fitted[12:, 0], dim_reduction_fitted[12:, 1], label=\"SZ\")\n",
    "plt.legend()\n",
    "plt.show()"
   ]
  },
  {
   "cell_type": "markdown",
   "metadata": {},
   "source": [
    "## Example lipid profile"
   ]
  },
  {
   "cell_type": "code",
   "execution_count": 60,
   "metadata": {
    "ExecuteTime": {
     "end_time": "2023-05-12T12:48:55.194250Z",
     "start_time": "2023-05-12T12:48:55.165846Z"
    }
   },
   "outputs": [
    {
     "data": {
      "image/png": "[encoded data removed]",
      "text/plain": [
       "<Figure size 432x288 with 1 Axes>"
      ]
     },
     "metadata": {},
     "output_type": "display_data"
    }
   ],
   "source": [
    "if not use_genes:\n",
    "    sns.lineplot(\n",
    "        h_molecules[h_molecules[\"human\"] == \"HA\"].loc[\n",
    "            :, h_molecules.columns.str.contains(\"FA\")\n",
    "        ],\n",
    "        legend=None,\n",
    "    )\n",
    "    plt.ylim(-6, 10)\n",
    "    #     plt.title(\"All Fatty Acid profiles in one of the brains\")\n",
    "    #     plt.legend(False)\n",
    "    plt.savefig(\"../data/pics/example_profiles.pdf\", bbox_inches=\"tight\")"
   ]
  },
  {
   "cell_type": "markdown",
   "metadata": {},
   "source": [
    "- BA9: 35 Dorsolateral Prefrontal Medial (BA9m), 34 Dorsolateral Prefrontal (BA9)\n",
    "- BA22: 26 2ary Auditory, language (BA22a), 28 2ary Auditory, Wernicke (BA22p)"
   ]
  },
  {
   "cell_type": "code",
   "execution_count": 61,
   "metadata": {
    "ExecuteTime": {
     "end_time": "2023-05-12T12:48:55.224441Z",
     "start_time": "2023-05-12T12:48:55.196519Z"
    }
   },
   "outputs": [],
   "source": [
    "# region_translate = {\n",
    "#     \"CCp\": '74 Corpus Callosum Posterior',\n",
    "#     \"BA9\": \"34 Dorsolateral Prefrontal (BA9)\",\n",
    "#     \"Cca\": '73 Corpus Callosum Anterior',\n",
    "#     \"BA22\": \"28 2ary Auditory, Wernicke (BA22p)\",\n",
    "# }\n",
    "\n",
    "region_translate = {\n",
    "    \"74 Corpus Callosum Posterior\": \"CCp\",\n",
    "    \"34 Dorsolateral Prefrontal (BA9)\": \"BA9\",\n",
    "    \"73 Corpus Callosum Anterior\": \"Cca\",\n",
    "    \"28 2ary Auditory, Wernicke (BA22p)\": \"BA22\",\n",
    "}"
   ]
  },
  {
   "cell_type": "markdown",
   "metadata": {},
   "source": [
    "# Generate fake dataset"
   ]
  },
  {
   "cell_type": "markdown",
   "metadata": {},
   "source": [
    "## Prepare the labels"
   ]
  },
  {
   "cell_type": "code",
   "execution_count": 62,
   "metadata": {
    "ExecuteTime": {
     "end_time": "2023-05-12T12:48:55.258729Z",
     "start_time": "2023-05-12T12:48:55.227084Z"
    }
   },
   "outputs": [],
   "source": [
    "N_SAMPLES = 100 if use_genes else 1000\n",
    "# for each class SZ and SZ\n",
    "# 100 for lipids is too few\n",
    "# 1000 for genes makes the kernel die\n",
    "# 10000 for lipids makes the kernel die\n",
    "\n",
    "\n",
    "brains_labels_hc = [f\"HC{i + 1}\" for i in range(N_SAMPLES)] * len(regions_only_four)\n",
    "brains_labels_sz = [f\"SZ{i + 1}\" for i in range(N_SAMPLES)] * len(regions_only_four)\n",
    "brains_labels = np.array(brains_labels_hc + brains_labels_sz)\n",
    "\n",
    "regions_labels = np.concatenate(\n",
    "    [np.array([region] * N_SAMPLES) for region in regions_only_four]\n",
    ")\n",
    "regions_labels = np.concatenate([regions_labels, regions_labels])"
   ]
  },
  {
   "cell_type": "markdown",
   "metadata": {},
   "source": [
    "## Sampling"
   ]
  },
  {
   "cell_type": "code",
   "execution_count": 63,
   "metadata": {
    "ExecuteTime": {
     "end_time": "2023-05-12T12:48:55.292602Z",
     "start_time": "2023-05-12T12:48:55.264588Z"
    }
   },
   "outputs": [],
   "source": [
    "if use_genes:\n",
    "    common_molecules = np.array(h_molecules.columns[2:].tolist())\n",
    "else:\n",
    "    vc = pd.Series(h_molecules.columns[2:]).value_counts()\n",
    "    common_molecules = vc[vc == 1].index.tolist()"
   ]
  },
  {
   "cell_type": "code",
   "execution_count": 83,
   "metadata": {
    "ExecuteTime": {
     "end_time": "2023-05-12T12:49:00.283861Z",
     "start_time": "2023-05-12T12:48:55.295546Z"
    }
   },
   "outputs": [
    {
     "ename": "KeyError",
     "evalue": "\"['PE_P 41 7', 'PE_O 42 7', 'PC 29 0', 'PE_P 39 2', 'PE_P 39 4', 'LPE 22 3', 'PE_P 40 2', 'PC_P 38 6', 'PC_P 38 5', 'PE_P 42 4', 'PC_P 38 4', 'PC_O 36 2', 'PE_P 40 7', 'PC_P 34 1', 'PC_P 30 0', 'PC_P 34 2', 'PC_P 38 2', 'PE_P 40 8', 'PC_O 36 4', 'PE_P 41 5', 'PC_P 36 2', 'PC_P 36 1', 'PC_P 32 1', 'DG 34 1', 'PE_P 38 1', 'PE 42 6', 'PE 40 6', 'PE 40 4', 'PE 40 3', 'PE 39 4', 'PE 38 7', 'PE 38 2', 'PE 38 1', 'PE 37 4', 'PE 36 6', 'PE 36 5', 'PE 35 2', 'PE 35 1', 'PE 34 3', 'PE 34 2', 'PE 32 1', 'PE 42 5', 'PE 42 10', 'PE_P 37 4', 'PE 42 7', 'PE_P 37 3', 'PC 31 1', 'PE_P 37 2', 'PE_P 37 1', 'PE_P 36 5', 'PE_P 36 3', 'PE_P 36 2', 'PE_P 35 2', 'PE_P 35 1', 'PE_P 34 2', 'PE_P 33 1', 'PE_P 32 1', 'PG 42 9', 'PG 40 8', 'PG 40 7', 'PG 38 6', 'PG 34 2', 'PC 31 0', 'PC 35 4', 'PC 33 2', 'SulfoHexCer t43 2', 'FA 17 1', 'FA 14 0', 'SulfoHexCer t44 2', 'SulfoHexCer d44 2', 'FA 19 0', 'SulfoHexCer t42 1', 'SulfoHexCer d43 1', 'SulfoHexCer t42 2', 'SulfoHexCer d43 2', 'SulfoHexCer t41 1', 'SulfoHexCer d42 1', 'SulfoHexCer d42 2', 'SulfoHexCer t40 1', 'FA 18 3', 'FA 19 1', 'SulfoHexCer d40 1', 'FA 24 6', 'FA 22 7', 'FA 21 3', 'FA 20 2', 'SulfoHexCer d41 1', 'PI 40 6', 'PC 34 4', 'PC 40 1', 'PE_O 38 4', 'PE_P 34 0', 'PE 40 8', 'PE 39 6', 'PE 38 5', 'PC 40 5', 'PC 40 2', 'PC_O 32 1', 'PC 36 5', 'PC 36 4', 'PC 35 0', 'PE_O 40 4', 'PC_P 37 1', 'PI 38 6', 'PC_O 38 5', 'PI 38 5', 'PI 38 4', 'PI 36 4', 'PC_O 40 7', 'PC_P 40 5', 'PC_P 40 4', 'PC_O 40 4', 'PC_O 38 6', 'PC_O 38 1', 'PC_P 38 1', 'PC_O 36 1', 'PC_O 35 2', 'PC_O 34 2', 'PC_O 34 1', 'PC_O 34 0', 'PC_O 32 0', 'PC_O 30 0', 'PC_P 40 2', 'PC 40 8', 'Cer m44 2', 'Cer m43 2', 'Cer m42 2', 'Cer m41 2', 'Cer m39 1', 'Cer d38 2', 'Cer t36 0', 'Cer m38 1', 'Cer d36 0', 'Cer m36 0', 'Cer d35 1', 'Cer m36 1', 'HexCer t43 2', 'HexCer d44 2', 'HexCer d43 2', 'HexCer d42 1', 'HexCer d41 1', 'HexCer d36 1', 'DG 37 4', 'DG 38 5', 'DG 38 1', 'PS 40 5', 'CE 22 6', 'CE 22 4', 'CE 20 4', 'CE 20 3', 'CE 18 2', 'CE 18 1', 'HexCer t36 2', 'SM d38 0', 'SM d32 0', 'HexCer d43 1', 'HexCer t41 2', 'HexCer t40 2', 'HexCer d40 1', 'HexCer d38 1', 'HexCer d36 2', 'Cer d41 2', 'PC 42 10', 'Cer d40 1', 'DG 42 4', 'HexCer d42 2', 'Cer d43 2', 'Cer d42 2', 'Cer m44 1', 'SM d36 1', 'SM d36 2', 'SM d35 1', 'SM d34 2', 'DG 40 2', 'DG 40 4', 'DG 38 2', 'DG 38 4', 'DG 36 1', 'DG 36 2', 'DG 36 3', 'DG 36 4', 'SM d32 1', 'SM d33 1', 'SM d34 1', 'SM d41 1', 'Cer m41 1', 'Cer m40 1', 'Cer d36 2', 'SM d44 2', 'SM d43 2', 'SM d42 1', 'SM d42 2', 'SM d41 2', 'SM d34 0', 'SM d40 1', 'SM d40 2', 'SM d38 1', 'SM d37 1', 'SM d37 2', 'SM d36 0', 'SM d35 2', 'PS 40 6', 'TG 50 3', 'TG 52 4', 'TG 52 3', 'PC 36 2', 'PC 36 1', 'PC 35 2', 'PC 35 1', 'PC 34 1', 'PC 34 0', 'PC 33 1', 'PC 32 1', 'PC 32 0', 'PC 30 1', 'PC 30 0', 'PC 28 0', 'LPC 16 1', 'PE_O 40 5', 'PC 37 3', 'PC 38 2', 'PC 38 3', 'PC 42 3', 'PC 46 5', 'PC 46 3', 'PC 46 2', 'PC 45 2', 'PC 44 2', 'PC 44 1', 'PC 38 4', 'DG 35 1', 'PC 40 7', 'PC 40 3', 'PC 38 7', 'PC 38 6', 'PC 38 5', 'PE_P 40 4', 'PE_P 36 4', 'PE_P 36 1', 'TG 58 9', 'Cholesterol', 'TG 60 10', 'TG 60 11', 'TG 60 12', 'TG 58 6', 'TG 58 7', 'TG 58 8', 'TG 58 10', 'TG 56 4', 'TG 56 5', 'TG 56 7', 'TG 54 4', 'TG 54 5', 'TG 54 6', 'TG 52 2', 'PE_P 34 1', 'PE 38 6', 'PG 42 10', 'PE 42 8', 'PE 40 7', 'PE 38 3', 'PE 36 3', 'PE 36 2', 'PE 36 1', 'PE 34 1'] not in index\"",
     "output_type": "error",
     "traceback": [
      "\u001b[0;31m---------------------------------------------------------------------------\u001b[0m",
      "\u001b[0;31mKeyError\u001b[0m                                  Traceback (most recent call last)",
      "\u001b[0;32m<ipython-input-83-185469beef2c>\u001b[0m in \u001b[0;36m<module>\u001b[0;34m\u001b[0m\n\u001b[1;32m     28\u001b[0m                     \u001b[0;34m&\u001b[0m \u001b[0;34m(\u001b[0m\u001b[0monebatch_only_common\u001b[0m\u001b[0;34m.\u001b[0m\u001b[0mRegion\u001b[0m \u001b[0;34m==\u001b[0m \u001b[0mregion_translate\u001b[0m\u001b[0;34m[\u001b[0m\u001b[0mregion_nm\u001b[0m\u001b[0;34m]\u001b[0m\u001b[0;34m)\u001b[0m\u001b[0;34m\u001b[0m\u001b[0;34m\u001b[0m\u001b[0m\n\u001b[1;32m     29\u001b[0m                 ]\n\u001b[0;32m---> 30\u001b[0;31m                 \u001b[0monebatch_molecules\u001b[0m \u001b[0;34m=\u001b[0m \u001b[0mto_plot\u001b[0m\u001b[0;34m[\u001b[0m\u001b[0mcommon_molecules\u001b[0m\u001b[0;34m]\u001b[0m\u001b[0;34m\u001b[0m\u001b[0;34m\u001b[0m\u001b[0m\n\u001b[0m\u001b[1;32m     31\u001b[0m \u001b[0;34m\u001b[0m\u001b[0m\n\u001b[1;32m     32\u001b[0m                 \u001b[0;31m# We save the mean fold-difference between variances\u001b[0m\u001b[0;34m\u001b[0m\u001b[0;34m\u001b[0m\u001b[0;34m\u001b[0m\u001b[0m\n",
      "\u001b[0;32m~/.local/lib/python3.8/site-packages/pandas/core/frame.py\u001b[0m in \u001b[0;36m__getitem__\u001b[0;34m(self, key)\u001b[0m\n\u001b[1;32m   3809\u001b[0m             \u001b[0;32mif\u001b[0m \u001b[0mis_iterator\u001b[0m\u001b[0;34m(\u001b[0m\u001b[0mkey\u001b[0m\u001b[0;34m)\u001b[0m\u001b[0;34m:\u001b[0m\u001b[0;34m\u001b[0m\u001b[0;34m\u001b[0m\u001b[0m\n\u001b[1;32m   3810\u001b[0m                 \u001b[0mkey\u001b[0m \u001b[0;34m=\u001b[0m \u001b[0mlist\u001b[0m\u001b[0;34m(\u001b[0m\u001b[0mkey\u001b[0m\u001b[0;34m)\u001b[0m\u001b[0;34m\u001b[0m\u001b[0;34m\u001b[0m\u001b[0m\n\u001b[0;32m-> 3811\u001b[0;31m             \u001b[0mindexer\u001b[0m \u001b[0;34m=\u001b[0m \u001b[0mself\u001b[0m\u001b[0;34m.\u001b[0m\u001b[0mcolumns\u001b[0m\u001b[0;34m.\u001b[0m\u001b[0m_get_indexer_strict\u001b[0m\u001b[0;34m(\u001b[0m\u001b[0mkey\u001b[0m\u001b[0;34m,\u001b[0m \u001b[0;34m\"columns\"\u001b[0m\u001b[0;34m)\u001b[0m\u001b[0;34m[\u001b[0m\u001b[0;36m1\u001b[0m\u001b[0;34m]\u001b[0m\u001b[0;34m\u001b[0m\u001b[0;34m\u001b[0m\u001b[0m\n\u001b[0m\u001b[1;32m   3812\u001b[0m \u001b[0;34m\u001b[0m\u001b[0m\n\u001b[1;32m   3813\u001b[0m         \u001b[0;31m# take() does not accept boolean indexers\u001b[0m\u001b[0;34m\u001b[0m\u001b[0;34m\u001b[0m\u001b[0;34m\u001b[0m\u001b[0m\n",
      "\u001b[0;32m~/.local/lib/python3.8/site-packages/pandas/core/indexes/base.py\u001b[0m in \u001b[0;36m_get_indexer_strict\u001b[0;34m(self, key, axis_name)\u001b[0m\n\u001b[1;32m   6106\u001b[0m             \u001b[0mkeyarr\u001b[0m\u001b[0;34m,\u001b[0m \u001b[0mindexer\u001b[0m\u001b[0;34m,\u001b[0m \u001b[0mnew_indexer\u001b[0m \u001b[0;34m=\u001b[0m \u001b[0mself\u001b[0m\u001b[0;34m.\u001b[0m\u001b[0m_reindex_non_unique\u001b[0m\u001b[0;34m(\u001b[0m\u001b[0mkeyarr\u001b[0m\u001b[0;34m)\u001b[0m\u001b[0;34m\u001b[0m\u001b[0;34m\u001b[0m\u001b[0m\n\u001b[1;32m   6107\u001b[0m \u001b[0;34m\u001b[0m\u001b[0m\n\u001b[0;32m-> 6108\u001b[0;31m         \u001b[0mself\u001b[0m\u001b[0;34m.\u001b[0m\u001b[0m_raise_if_missing\u001b[0m\u001b[0;34m(\u001b[0m\u001b[0mkeyarr\u001b[0m\u001b[0;34m,\u001b[0m \u001b[0mindexer\u001b[0m\u001b[0;34m,\u001b[0m \u001b[0maxis_name\u001b[0m\u001b[0;34m)\u001b[0m\u001b[0;34m\u001b[0m\u001b[0;34m\u001b[0m\u001b[0m\n\u001b[0m\u001b[1;32m   6109\u001b[0m \u001b[0;34m\u001b[0m\u001b[0m\n\u001b[1;32m   6110\u001b[0m         \u001b[0mkeyarr\u001b[0m \u001b[0;34m=\u001b[0m \u001b[0mself\u001b[0m\u001b[0;34m.\u001b[0m\u001b[0mtake\u001b[0m\u001b[0;34m(\u001b[0m\u001b[0mindexer\u001b[0m\u001b[0;34m)\u001b[0m\u001b[0;34m\u001b[0m\u001b[0;34m\u001b[0m\u001b[0m\n",
      "\u001b[0;32m~/.local/lib/python3.8/site-packages/pandas/core/indexes/base.py\u001b[0m in \u001b[0;36m_raise_if_missing\u001b[0;34m(self, key, indexer, axis_name)\u001b[0m\n\u001b[1;32m   6169\u001b[0m \u001b[0;34m\u001b[0m\u001b[0m\n\u001b[1;32m   6170\u001b[0m             \u001b[0mnot_found\u001b[0m \u001b[0;34m=\u001b[0m \u001b[0mlist\u001b[0m\u001b[0;34m(\u001b[0m\u001b[0mensure_index\u001b[0m\u001b[0;34m(\u001b[0m\u001b[0mkey\u001b[0m\u001b[0;34m)\u001b[0m\u001b[0;34m[\u001b[0m\u001b[0mmissing_mask\u001b[0m\u001b[0;34m.\u001b[0m\u001b[0mnonzero\u001b[0m\u001b[0;34m(\u001b[0m\u001b[0;34m)\u001b[0m\u001b[0;34m[\u001b[0m\u001b[0;36m0\u001b[0m\u001b[0;34m]\u001b[0m\u001b[0;34m]\u001b[0m\u001b[0;34m.\u001b[0m\u001b[0munique\u001b[0m\u001b[0;34m(\u001b[0m\u001b[0;34m)\u001b[0m\u001b[0;34m)\u001b[0m\u001b[0;34m\u001b[0m\u001b[0;34m\u001b[0m\u001b[0m\n\u001b[0;32m-> 6171\u001b[0;31m             \u001b[0;32mraise\u001b[0m \u001b[0mKeyError\u001b[0m\u001b[0;34m(\u001b[0m\u001b[0;34mf\"{not_found} not in index\"\u001b[0m\u001b[0;34m)\u001b[0m\u001b[0;34m\u001b[0m\u001b[0;34m\u001b[0m\u001b[0m\n\u001b[0m\u001b[1;32m   6172\u001b[0m \u001b[0;34m\u001b[0m\u001b[0m\n\u001b[1;32m   6173\u001b[0m     \u001b[0;34m@\u001b[0m\u001b[0moverload\u001b[0m\u001b[0;34m\u001b[0m\u001b[0;34m\u001b[0m\u001b[0m\n",
      "\u001b[0;31mKeyError\u001b[0m: \"['PE_P 41 7', 'PE_O 42 7', 'PC 29 0', 'PE_P 39 2', 'PE_P 39 4', 'LPE 22 3', 'PE_P 40 2', 'PC_P 38 6', 'PC_P 38 5', 'PE_P 42 4', 'PC_P 38 4', 'PC_O 36 2', 'PE_P 40 7', 'PC_P 34 1', 'PC_P 30 0', 'PC_P 34 2', 'PC_P 38 2', 'PE_P 40 8', 'PC_O 36 4', 'PE_P 41 5', 'PC_P 36 2', 'PC_P 36 1', 'PC_P 32 1', 'DG 34 1', 'PE_P 38 1', 'PE 42 6', 'PE 40 6', 'PE 40 4', 'PE 40 3', 'PE 39 4', 'PE 38 7', 'PE 38 2', 'PE 38 1', 'PE 37 4', 'PE 36 6', 'PE 36 5', 'PE 35 2', 'PE 35 1', 'PE 34 3', 'PE 34 2', 'PE 32 1', 'PE 42 5', 'PE 42 10', 'PE_P 37 4', 'PE 42 7', 'PE_P 37 3', 'PC 31 1', 'PE_P 37 2', 'PE_P 37 1', 'PE_P 36 5', 'PE_P 36 3', 'PE_P 36 2', 'PE_P 35 2', 'PE_P 35 1', 'PE_P 34 2', 'PE_P 33 1', 'PE_P 32 1', 'PG 42 9', 'PG 40 8', 'PG 40 7', 'PG 38 6', 'PG 34 2', 'PC 31 0', 'PC 35 4', 'PC 33 2', 'SulfoHexCer t43 2', 'FA 17 1', 'FA 14 0', 'SulfoHexCer t44 2', 'SulfoHexCer d44 2', 'FA 19 0', 'SulfoHexCer t42 1', 'SulfoHexCer d43 1', 'SulfoHexCer t42 2', 'SulfoHexCer d43 2', 'SulfoHexCer t41 1', 'SulfoHexCer d42 1', 'SulfoHexCer d42 2', 'SulfoHexCer t40 1', 'FA 18 3', 'FA 19 1', 'SulfoHexCer d40 1', 'FA 24 6', 'FA 22 7', 'FA 21 3', 'FA 20 2', 'SulfoHexCer d41 1', 'PI 40 6', 'PC 34 4', 'PC 40 1', 'PE_O 38 4', 'PE_P 34 0', 'PE 40 8', 'PE 39 6', 'PE 38 5', 'PC 40 5', 'PC 40 2', 'PC_O 32 1', 'PC 36 5', 'PC 36 4', 'PC 35 0', 'PE_O 40 4', 'PC_P 37 1', 'PI 38 6', 'PC_O 38 5', 'PI 38 5', 'PI 38 4', 'PI 36 4', 'PC_O 40 7', 'PC_P 40 5', 'PC_P 40 4', 'PC_O 40 4', 'PC_O 38 6', 'PC_O 38 1', 'PC_P 38 1', 'PC_O 36 1', 'PC_O 35 2', 'PC_O 34 2', 'PC_O 34 1', 'PC_O 34 0', 'PC_O 32 0', 'PC_O 30 0', 'PC_P 40 2', 'PC 40 8', 'Cer m44 2', 'Cer m43 2', 'Cer m42 2', 'Cer m41 2', 'Cer m39 1', 'Cer d38 2', 'Cer t36 0', 'Cer m38 1', 'Cer d36 0', 'Cer m36 0', 'Cer d35 1', 'Cer m36 1', 'HexCer t43 2', 'HexCer d44 2', 'HexCer d43 2', 'HexCer d42 1', 'HexCer d41 1', 'HexCer d36 1', 'DG 37 4', 'DG 38 5', 'DG 38 1', 'PS 40 5', 'CE 22 6', 'CE 22 4', 'CE 20 4', 'CE 20 3', 'CE 18 2', 'CE 18 1', 'HexCer t36 2', 'SM d38 0', 'SM d32 0', 'HexCer d43 1', 'HexCer t41 2', 'HexCer t40 2', 'HexCer d40 1', 'HexCer d38 1', 'HexCer d36 2', 'Cer d41 2', 'PC 42 10', 'Cer d40 1', 'DG 42 4', 'HexCer d42 2', 'Cer d43 2', 'Cer d42 2', 'Cer m44 1', 'SM d36 1', 'SM d36 2', 'SM d35 1', 'SM d34 2', 'DG 40 2', 'DG 40 4', 'DG 38 2', 'DG 38 4', 'DG 36 1', 'DG 36 2', 'DG 36 3', 'DG 36 4', 'SM d32 1', 'SM d33 1', 'SM d34 1', 'SM d41 1', 'Cer m41 1', 'Cer m40 1', 'Cer d36 2', 'SM d44 2', 'SM d43 2', 'SM d42 1', 'SM d42 2', 'SM d41 2', 'SM d34 0', 'SM d40 1', 'SM d40 2', 'SM d38 1', 'SM d37 1', 'SM d37 2', 'SM d36 0', 'SM d35 2', 'PS 40 6', 'TG 50 3', 'TG 52 4', 'TG 52 3', 'PC 36 2', 'PC 36 1', 'PC 35 2', 'PC 35 1', 'PC 34 1', 'PC 34 0', 'PC 33 1', 'PC 32 1', 'PC 32 0', 'PC 30 1', 'PC 30 0', 'PC 28 0', 'LPC 16 1', 'PE_O 40 5', 'PC 37 3', 'PC 38 2', 'PC 38 3', 'PC 42 3', 'PC 46 5', 'PC 46 3', 'PC 46 2', 'PC 45 2', 'PC 44 2', 'PC 44 1', 'PC 38 4', 'DG 35 1', 'PC 40 7', 'PC 40 3', 'PC 38 7', 'PC 38 6', 'PC 38 5', 'PE_P 40 4', 'PE_P 36 4', 'PE_P 36 1', 'TG 58 9', 'Cholesterol', 'TG 60 10', 'TG 60 11', 'TG 60 12', 'TG 58 6', 'TG 58 7', 'TG 58 8', 'TG 58 10', 'TG 56 4', 'TG 56 5', 'TG 56 7', 'TG 54 4', 'TG 54 5', 'TG 54 6', 'TG 52 2', 'PE_P 34 1', 'PE 38 6', 'PG 42 10', 'PE 42 8', 'PE 40 7', 'PE 38 3', 'PE 36 3', 'PE 36 2', 'PE 36 1', 'PE 34 1'] not in index\""
     ]
    }
   ],
   "source": [
    "fake_dataset = []\n",
    "fake_dataset_75 = []\n",
    "std_comparison = []\n",
    "\n",
    "hc_column = []\n",
    "region_nm_column = []\n",
    "\n",
    "for human_type in [\"HC\", \"SZ\"]:\n",
    "    for region_nm in regions_only_four:\n",
    "\n",
    "        # First, we generate the data based on 75_regions (taking 50 of them)\n",
    "        # In this loop we generate N_SAMPLES individuals for each region_nm\n",
    "        if human_type == \"HC\":\n",
    "            regions_75_lipids = h_molecules[h_molecules[\"region\"] == region_nm][\n",
    "                common_molecules\n",
    "            ]\n",
    "        else:\n",
    "            regions_75_lipids = sz_molecules[sz_molecules[\"region\"] == region_nm][\n",
    "                common_molecules\n",
    "            ]\n",
    "\n",
    "        generated_75 = np.random.normal(\n",
    "            loc=regions_75_lipids.mean(),\n",
    "            scale=regions_75_lipids.std(),\n",
    "            size=(N_SAMPLES, len(common_molecules)),\n",
    "        )\n",
    "        fake_dataset_75.append(generated_75)\n",
    "\n",
    "        # Second, we generate the data based on OneBatch\n",
    "        if not use_genes:\n",
    "            if region_nm in region_translate:\n",
    "                to_plot = onebatch_only_common[\n",
    "                    (onebatch_only_common.SZ == human_type)\n",
    "                    & (onebatch_only_common.Region == region_translate[region_nm])\n",
    "                ]\n",
    "                onebatch_molecules = to_plot[common_molecules]\n",
    "\n",
    "                # We save the mean fold-difference between variances\n",
    "                std_comparison.append(\n",
    "                    [\n",
    "                        human_type,\n",
    "                        region_nm,\n",
    "                        (regions_75_lipids.var() / onebatch_molecules.var()).mean(),\n",
    "                    ]\n",
    "                )\n",
    "\n",
    "                generated = np.random.normal(\n",
    "                    loc=onebatch_molecules.mean(),\n",
    "                    scale=onebatch_molecules.std(),\n",
    "                    size=(N_SAMPLES, len(common_molecules)),\n",
    "                )\n",
    "                fake_dataset.append(generated)"
   ]
  },
  {
   "cell_type": "code",
   "execution_count": 65,
   "metadata": {
    "ExecuteTime": {
     "end_time": "2023-05-12T12:49:00.310213Z",
     "start_time": "2023-05-12T12:49:00.286114Z"
    }
   },
   "outputs": [],
   "source": [
    "# print(\"Standard deviation comparison, 75 divide by onebatch\")\n",
    "# pd.DataFrame(np.array(std_comparison), columns=[\"SZ\", \"region\", \"mean fold-change\"])"
   ]
  },
  {
   "cell_type": "markdown",
   "metadata": {},
   "source": [
    "## Normalize"
   ]
  },
  {
   "cell_type": "code",
   "execution_count": 66,
   "metadata": {
    "ExecuteTime": {
     "end_time": "2023-05-12T12:49:00.567450Z",
     "start_time": "2023-05-12T12:49:00.312879Z"
    }
   },
   "outputs": [],
   "source": [
    "fake_dataset_75 = pd.DataFrame(np.concatenate(fake_dataset_75))"
   ]
  },
  {
   "cell_type": "code",
   "execution_count": 67,
   "metadata": {
    "ExecuteTime": {
     "end_time": "2023-05-12T12:49:00.599422Z",
     "start_time": "2023-05-12T12:49:00.570146Z"
    }
   },
   "outputs": [],
   "source": [
    "fake_dataset_75.insert(0, \"human\", brains_labels)"
   ]
  },
  {
   "cell_type": "code",
   "execution_count": 68,
   "metadata": {
    "ExecuteTime": {
     "end_time": "2023-05-12T12:49:14.391845Z",
     "start_time": "2023-05-12T12:49:00.602056Z"
    }
   },
   "outputs": [],
   "source": [
    "fake_dataset_75.insert(1, \"region\", regions_labels)\n",
    "fake_dataset_75 = fake_dataset_75.sort_values(by=[\"human\", \"region\"])\n",
    "fake_dataset_75 = normalize(fake_dataset_75)\n",
    "# check_normalization(fake_dataset_75)"
   ]
  },
  {
   "cell_type": "code",
   "execution_count": 69,
   "metadata": {
    "ExecuteTime": {
     "end_time": "2023-05-12T12:49:14.431782Z",
     "start_time": "2023-05-12T12:49:14.395475Z"
    }
   },
   "outputs": [],
   "source": [
    "# fake_dataset_75.to_csv(\"../data/to_normalize/fake_dataset_75.csv\", index=None)\n",
    "\n",
    "# Now you must execute ./normalize.py ../data/to_normalize/fake_dataset_75.csv\n",
    "\n",
    "# fake_dataset_75_normalized = pd.read_csv(\"../data/to_normalize/fake_dataset_75_normalized.csv\")"
   ]
  },
  {
   "cell_type": "code",
   "execution_count": 70,
   "metadata": {
    "ExecuteTime": {
     "end_time": "2023-05-12T12:49:14.500421Z",
     "start_time": "2023-05-12T12:49:14.435336Z"
    }
   },
   "outputs": [
    {
     "data": {
      "text/html": [
       "<div>\n",
       "<style scoped>\n",
       "    .dataframe tbody tr th:only-of-type {\n",
       "        vertical-align: middle;\n",
       "    }\n",
       "\n",
       "    .dataframe tbody tr th {\n",
       "        vertical-align: top;\n",
       "    }\n",
       "\n",
       "    .dataframe thead th {\n",
       "        text-align: right;\n",
       "    }\n",
       "</style>\n",
       "<table border=\"1\" class=\"dataframe\">\n",
       "  <thead>\n",
       "    <tr style=\"text-align: right;\">\n",
       "      <th></th>\n",
       "      <th>human</th>\n",
       "      <th>region</th>\n",
       "      <th>0</th>\n",
       "      <th>1</th>\n",
       "      <th>2</th>\n",
       "      <th>3</th>\n",
       "      <th>4</th>\n",
       "      <th>5</th>\n",
       "      <th>6</th>\n",
       "      <th>7</th>\n",
       "      <th>...</th>\n",
       "      <th>308</th>\n",
       "      <th>309</th>\n",
       "      <th>310</th>\n",
       "      <th>311</th>\n",
       "      <th>312</th>\n",
       "      <th>313</th>\n",
       "      <th>314</th>\n",
       "      <th>315</th>\n",
       "      <th>316</th>\n",
       "      <th>317</th>\n",
       "    </tr>\n",
       "  </thead>\n",
       "  <tbody>\n",
       "    <tr>\n",
       "      <th>11000</th>\n",
       "      <td>HC1</td>\n",
       "      <td>1  Cerebellar Grey Matter</td>\n",
       "      <td>-4.025821</td>\n",
       "      <td>-1.578073</td>\n",
       "      <td>0.117521</td>\n",
       "      <td>1.110531</td>\n",
       "      <td>-1.504467</td>\n",
       "      <td>0.448944</td>\n",
       "      <td>0.173662</td>\n",
       "      <td>-0.498489</td>\n",
       "      <td>...</td>\n",
       "      <td>0.278248</td>\n",
       "      <td>0.001362</td>\n",
       "      <td>-0.210314</td>\n",
       "      <td>-0.336747</td>\n",
       "      <td>-0.581564</td>\n",
       "      <td>-0.185226</td>\n",
       "      <td>-0.396416</td>\n",
       "      <td>1.417541</td>\n",
       "      <td>0.531821</td>\n",
       "      <td>0.129623</td>\n",
       "    </tr>\n",
       "    <tr>\n",
       "      <th>44000</th>\n",
       "      <td>HC1</td>\n",
       "      <td>10 2ary/3ary Visual Posterior (BA18/19p)</td>\n",
       "      <td>0.514499</td>\n",
       "      <td>1.030878</td>\n",
       "      <td>0.785163</td>\n",
       "      <td>1.482083</td>\n",
       "      <td>-1.142172</td>\n",
       "      <td>1.924982</td>\n",
       "      <td>0.081164</td>\n",
       "      <td>0.632420</td>\n",
       "      <td>...</td>\n",
       "      <td>-0.615634</td>\n",
       "      <td>0.229226</td>\n",
       "      <td>-0.154038</td>\n",
       "      <td>-0.357141</td>\n",
       "      <td>0.146341</td>\n",
       "      <td>-0.294121</td>\n",
       "      <td>-0.166695</td>\n",
       "      <td>0.576078</td>\n",
       "      <td>1.009160</td>\n",
       "      <td>-0.026415</td>\n",
       "    </tr>\n",
       "    <tr>\n",
       "      <th>12000</th>\n",
       "      <td>HC1</td>\n",
       "      <td>14 1ary Visual Posterior (BA17p)</td>\n",
       "      <td>-0.127565</td>\n",
       "      <td>0.497280</td>\n",
       "      <td>0.127479</td>\n",
       "      <td>0.474501</td>\n",
       "      <td>-0.588582</td>\n",
       "      <td>-0.098446</td>\n",
       "      <td>0.617103</td>\n",
       "      <td>-0.278496</td>\n",
       "      <td>...</td>\n",
       "      <td>0.114844</td>\n",
       "      <td>0.766413</td>\n",
       "      <td>0.969222</td>\n",
       "      <td>0.109876</td>\n",
       "      <td>-0.280484</td>\n",
       "      <td>0.077482</td>\n",
       "      <td>0.226846</td>\n",
       "      <td>1.419944</td>\n",
       "      <td>1.167200</td>\n",
       "      <td>0.844398</td>\n",
       "    </tr>\n",
       "    <tr>\n",
       "      <th>14000</th>\n",
       "      <td>HC1</td>\n",
       "      <td>15 1ary Motor (BA4)</td>\n",
       "      <td>-0.757311</td>\n",
       "      <td>0.003811</td>\n",
       "      <td>-0.275097</td>\n",
       "      <td>0.544319</td>\n",
       "      <td>0.091799</td>\n",
       "      <td>3.983624</td>\n",
       "      <td>0.683191</td>\n",
       "      <td>0.649111</td>\n",
       "      <td>...</td>\n",
       "      <td>-0.437193</td>\n",
       "      <td>0.684806</td>\n",
       "      <td>0.478391</td>\n",
       "      <td>0.291775</td>\n",
       "      <td>0.155773</td>\n",
       "      <td>-0.467137</td>\n",
       "      <td>0.169737</td>\n",
       "      <td>0.766590</td>\n",
       "      <td>0.418182</td>\n",
       "      <td>1.249254</td>\n",
       "    </tr>\n",
       "    <tr>\n",
       "      <th>47000</th>\n",
       "      <td>HC1</td>\n",
       "      <td>16 1ary Auditory (BA41/42)</td>\n",
       "      <td>0.297390</td>\n",
       "      <td>1.502747</td>\n",
       "      <td>0.817913</td>\n",
       "      <td>1.227250</td>\n",
       "      <td>0.213933</td>\n",
       "      <td>-2.091529</td>\n",
       "      <td>-0.199654</td>\n",
       "      <td>0.394678</td>\n",
       "      <td>...</td>\n",
       "      <td>-0.239369</td>\n",
       "      <td>0.100746</td>\n",
       "      <td>0.161342</td>\n",
       "      <td>0.297423</td>\n",
       "      <td>0.292756</td>\n",
       "      <td>0.224302</td>\n",
       "      <td>-0.168361</td>\n",
       "      <td>-0.628170</td>\n",
       "      <td>0.597959</td>\n",
       "      <td>0.665202</td>\n",
       "    </tr>\n",
       "  </tbody>\n",
       "</table>\n",
       "<p>5 rows × 320 columns</p>\n",
       "</div>"
      ],
      "text/plain": [
       "      human                                    region         0         1  \\\n",
       "11000   HC1                 1  Cerebellar Grey Matter -4.025821 -1.578073   \n",
       "44000   HC1  10 2ary/3ary Visual Posterior (BA18/19p)  0.514499  1.030878   \n",
       "12000   HC1          14 1ary Visual Posterior (BA17p) -0.127565  0.497280   \n",
       "14000   HC1                       15 1ary Motor (BA4) -0.757311  0.003811   \n",
       "47000   HC1                16 1ary Auditory (BA41/42)  0.297390  1.502747   \n",
       "\n",
       "              2         3         4         5         6         7  ...  \\\n",
       "11000  0.117521  1.110531 -1.504467  0.448944  0.173662 -0.498489  ...   \n",
       "44000  0.785163  1.482083 -1.142172  1.924982  0.081164  0.632420  ...   \n",
       "12000  0.127479  0.474501 -0.588582 -0.098446  0.617103 -0.278496  ...   \n",
       "14000 -0.275097  0.544319  0.091799  3.983624  0.683191  0.649111  ...   \n",
       "47000  0.817913  1.227250  0.213933 -2.091529 -0.199654  0.394678  ...   \n",
       "\n",
       "            308       309       310       311       312       313       314  \\\n",
       "11000  0.278248  0.001362 -0.210314 -0.336747 -0.581564 -0.185226 -0.396416   \n",
       "44000 -0.615634  0.229226 -0.154038 -0.357141  0.146341 -0.294121 -0.166695   \n",
       "12000  0.114844  0.766413  0.969222  0.109876 -0.280484  0.077482  0.226846   \n",
       "14000 -0.437193  0.684806  0.478391  0.291775  0.155773 -0.467137  0.169737   \n",
       "47000 -0.239369  0.100746  0.161342  0.297423  0.292756  0.224302 -0.168361   \n",
       "\n",
       "            315       316       317  \n",
       "11000  1.417541  0.531821  0.129623  \n",
       "44000  0.576078  1.009160 -0.026415  \n",
       "12000  1.419944  1.167200  0.844398  \n",
       "14000  0.766590  0.418182  1.249254  \n",
       "47000 -0.628170  0.597959  0.665202  \n",
       "\n",
       "[5 rows x 320 columns]"
      ]
     },
     "execution_count": 70,
     "metadata": {},
     "output_type": "execute_result"
    }
   ],
   "source": [
    "fake_dataset_75.head()"
   ]
  },
  {
   "cell_type": "code",
   "execution_count": 71,
   "metadata": {
    "ExecuteTime": {
     "end_time": "2023-05-12T12:49:14.543493Z",
     "start_time": "2023-05-12T12:49:14.504216Z"
    }
   },
   "outputs": [
    {
     "data": {
      "text/plain": [
       "(100000, 320)"
      ]
     },
     "execution_count": 71,
     "metadata": {},
     "output_type": "execute_result"
    }
   ],
   "source": [
    "fake_dataset_75.shape"
   ]
  },
  {
   "cell_type": "code",
   "execution_count": 72,
   "metadata": {},
   "outputs": [
    {
     "data": {
      "text/plain": [
       "70000"
      ]
     },
     "execution_count": 72,
     "metadata": {},
     "output_type": "execute_result"
    }
   ],
   "source": [
    "2000 * 35"
   ]
  },
  {
   "cell_type": "code",
   "execution_count": 73,
   "metadata": {
    "ExecuteTime": {
     "end_time": "2023-05-12T12:49:16.090797Z",
     "start_time": "2023-05-12T12:49:14.547529Z"
    }
   },
   "outputs": [
    {
     "data": {
      "text/plain": [
       "(2000, 15900)"
      ]
     },
     "execution_count": 73,
     "metadata": {},
     "output_type": "execute_result"
    }
   ],
   "source": [
    "fake_dataset_75_reduction = prepare_for_dim_reduction(fake_dataset_75)\n",
    "fake_dataset_75_reduction.shape"
   ]
  },
  {
   "cell_type": "markdown",
   "metadata": {},
   "source": [
    "## Plot fake dataset (normalized)"
   ]
  },
  {
   "cell_type": "markdown",
   "metadata": {},
   "source": [
    "### brain as object"
   ]
  },
  {
   "cell_type": "code",
   "execution_count": 74,
   "metadata": {
    "ExecuteTime": {
     "end_time": "2023-05-12T12:49:22.951294Z",
     "start_time": "2023-05-12T12:49:16.093578Z"
    }
   },
   "outputs": [
    {
     "data": {
      "image/png": "[encoded data removed]",
      "text/plain": [
       "<Figure size 432x288 with 1 Axes>"
      ]
     },
     "metadata": {},
     "output_type": "display_data"
    }
   ],
   "source": [
    "dim_reduction = PCA(n_components=2)\n",
    "fake_dataset_dim_reduction = dim_reduction.fit_transform(fake_dataset_75_reduction)\n",
    "plt.scatter(\n",
    "    fake_dataset_dim_reduction[:N_SAMPLES, 0],\n",
    "    fake_dataset_dim_reduction[:N_SAMPLES, 1],\n",
    "    label=\"HC\",\n",
    ")\n",
    "plt.scatter(\n",
    "    fake_dataset_dim_reduction[N_SAMPLES:, 0],\n",
    "    fake_dataset_dim_reduction[N_SAMPLES:, 1],\n",
    "    label=\"SZ\",\n",
    ")\n",
    "plt.xlabel(f\"PC1, {dim_reduction.explained_variance_ratio_[0] * 100 :.1f} %\")\n",
    "plt.ylabel(f\"PC2, {dim_reduction.explained_variance_ratio_[1] * 100 :.1f} %\")\n",
    "# plt.title(f\"n={N_SAMPLES} for each class\")\n",
    "plt.legend()\n",
    "plt.savefig(\n",
    "    f\"../data/pics/{'genes' if use_genes else 'lipids'}_brain_as_object_75_gen.png\"\n",
    ")\n",
    "plt.savefig(\n",
    "    f\"../data/pics/{'genes' if use_genes else 'lipids'}_brain_as_object_75_gen.pdf\",\n",
    "    bbox_inches=\"tight\",\n",
    ")"
   ]
  },
  {
   "cell_type": "markdown",
   "metadata": {},
   "source": [
    "### region as object"
   ]
  },
  {
   "cell_type": "code",
   "execution_count": 75,
   "metadata": {
    "ExecuteTime": {
     "end_time": "2023-05-12T12:49:22.989144Z",
     "start_time": "2023-05-12T12:49:22.954399Z"
    }
   },
   "outputs": [
    {
     "data": {
      "text/plain": [
       "(100000, 320)"
      ]
     },
     "execution_count": 75,
     "metadata": {},
     "output_type": "execute_result"
    }
   ],
   "source": [
    "fake_dataset_75.shape"
   ]
  },
  {
   "cell_type": "code",
   "execution_count": 76,
   "metadata": {
    "ExecuteTime": {
     "end_time": "2023-05-12T12:49:23.032379Z",
     "start_time": "2023-05-12T12:49:22.993838Z"
    }
   },
   "outputs": [],
   "source": [
    "from sklearn.manifold import TSNE, Isomap, LocallyLinearEmbedding"
   ]
  },
  {
   "cell_type": "code",
   "execution_count": 77,
   "metadata": {
    "ExecuteTime": {
     "end_time": "2023-05-12T12:49:23.074900Z",
     "start_time": "2023-05-12T12:49:23.039041Z"
    }
   },
   "outputs": [],
   "source": [
    "from sklearn.decomposition import KernelPCA, TruncatedSVD"
   ]
  },
  {
   "cell_type": "code",
   "execution_count": 78,
   "metadata": {
    "ExecuteTime": {
     "end_time": "2023-05-12T12:49:27.348567Z",
     "start_time": "2023-05-12T12:49:23.080465Z"
    }
   },
   "outputs": [],
   "source": [
    "use_PCA = True\n",
    "if use_PCA:\n",
    "    dim_reduction = PCA(n_components=2)\n",
    "else:\n",
    "    dim_reduction = Isomap(n_components=2)\n",
    "\n",
    "fake_dataset_dim_reduction = dim_reduction.fit_transform(fake_dataset_75.iloc[:, 2:])"
   ]
  },
  {
   "cell_type": "code",
   "execution_count": 79,
   "metadata": {
    "ExecuteTime": {
     "end_time": "2023-05-12T12:49:27.383087Z",
     "start_time": "2023-05-12T12:49:27.352072Z"
    }
   },
   "outputs": [],
   "source": [
    "border = fake_dataset_dim_reduction.shape[0] // 2"
   ]
  },
  {
   "cell_type": "code",
   "execution_count": 80,
   "metadata": {
    "ExecuteTime": {
     "end_time": "2023-05-12T12:49:28.070442Z",
     "start_time": "2023-05-12T12:49:27.387473Z"
    }
   },
   "outputs": [
    {
     "data": {
      "image/png": "[encoded data removed]",
      "text/plain": [
       "<Figure size 432x288 with 1 Axes>"
      ]
     },
     "metadata": {},
     "output_type": "display_data"
    }
   ],
   "source": [
    "plt.scatter(\n",
    "    fake_dataset_dim_reduction[:border, 0],\n",
    "    fake_dataset_dim_reduction[:border, 1],\n",
    "    label=\"HC\",\n",
    "    s=1,\n",
    ")\n",
    "plt.scatter(\n",
    "    fake_dataset_dim_reduction[border:, 0],\n",
    "    fake_dataset_dim_reduction[border:, 1],\n",
    "    label=\"SZ\",\n",
    "    s=1,\n",
    ")\n",
    "if use_PCA:\n",
    "    plt.xlabel(f\"PC1, {dim_reduction.explained_variance_ratio_[0] * 100 :.1f} %\")\n",
    "    plt.ylabel(f\"PC2, {dim_reduction.explained_variance_ratio_[1] * 100 :.1f} %\")\n",
    "# plt.title(f\"Each point is a region\\nn={N_SAMPLES} for each class\\ndataset is normalized\\nno variance added\")\n",
    "plt.legend()\n",
    "plt.savefig(\n",
    "    f\"../data/pics/{'genes' if use_genes else 'lipids'}_region_as_object_75_gen_{'PCA' if use_PCA else 'tsne'}.png\"\n",
    ")\n",
    "plt.savefig(\n",
    "    f\"../data/pics/{'genes' if use_genes else 'lipids'}_region_as_object_75_gen_{'PCA' if use_PCA else 'tsne'}.pdf\",\n",
    "    bbox_inches=\"tight\",\n",
    ")"
   ]
  },
  {
   "cell_type": "markdown",
   "metadata": {},
   "source": [
    "## Plot lipids"
   ]
  },
  {
   "cell_type": "code",
   "execution_count": 82,
   "metadata": {
    "ExecuteTime": {
     "end_time": "2023-05-12T12:49:28.110647Z",
     "start_time": "2023-05-12T12:49:28.074607Z"
    }
   },
   "outputs": [
    {
     "ename": "NameError",
     "evalue": "name 'to_plot' is not defined",
     "output_type": "error",
     "traceback": [
      "\u001b[0;31m---------------------------------------------------------------------------\u001b[0m",
      "\u001b[0;31mNameError\u001b[0m                                 Traceback (most recent call last)",
      "\u001b[0;32m<ipython-input-82-92bd2118ccb3>\u001b[0m in \u001b[0;36m<module>\u001b[0;34m\u001b[0m\n\u001b[1;32m      2\u001b[0m \u001b[0maxs\u001b[0m \u001b[0;34m=\u001b[0m \u001b[0maxs\u001b[0m\u001b[0;34m.\u001b[0m\u001b[0mflatten\u001b[0m\u001b[0;34m(\u001b[0m\u001b[0;34m)\u001b[0m\u001b[0;34m\u001b[0m\u001b[0;34m\u001b[0m\u001b[0m\n\u001b[1;32m      3\u001b[0m \u001b[0;32mfor\u001b[0m \u001b[0mi\u001b[0m \u001b[0;32min\u001b[0m \u001b[0mrange\u001b[0m\u001b[0;34m(\u001b[0m\u001b[0;36m25\u001b[0m\u001b[0;34m)\u001b[0m\u001b[0;34m:\u001b[0m\u001b[0;34m\u001b[0m\u001b[0;34m\u001b[0m\u001b[0m\n\u001b[0;32m----> 4\u001b[0;31m     \u001b[0msns\u001b[0m\u001b[0;34m.\u001b[0m\u001b[0mhistplot\u001b[0m\u001b[0;34m(\u001b[0m\u001b[0mto_plot\u001b[0m\u001b[0;34m.\u001b[0m\u001b[0miloc\u001b[0m\u001b[0;34m[\u001b[0m\u001b[0;34m:\u001b[0m\u001b[0;34m,\u001b[0m \u001b[0mi\u001b[0m \u001b[0;34m+\u001b[0m \u001b[0;36m9\u001b[0m\u001b[0;34m]\u001b[0m\u001b[0;34m,\u001b[0m \u001b[0mkde\u001b[0m\u001b[0;34m=\u001b[0m\u001b[0;32mTrue\u001b[0m\u001b[0;34m,\u001b[0m \u001b[0mstat\u001b[0m\u001b[0;34m=\u001b[0m\u001b[0;34m\"density\"\u001b[0m\u001b[0;34m,\u001b[0m \u001b[0max\u001b[0m\u001b[0;34m=\u001b[0m\u001b[0maxs\u001b[0m\u001b[0;34m[\u001b[0m\u001b[0mi\u001b[0m\u001b[0;34m]\u001b[0m\u001b[0;34m)\u001b[0m\u001b[0;34m\u001b[0m\u001b[0;34m\u001b[0m\u001b[0m\n\u001b[0m\u001b[1;32m      5\u001b[0m     \u001b[0msns\u001b[0m\u001b[0;34m.\u001b[0m\u001b[0mrugplot\u001b[0m\u001b[0;34m(\u001b[0m\u001b[0mto_plot\u001b[0m\u001b[0;34m.\u001b[0m\u001b[0miloc\u001b[0m\u001b[0;34m[\u001b[0m\u001b[0;34m:\u001b[0m\u001b[0;34m,\u001b[0m \u001b[0mi\u001b[0m \u001b[0;34m+\u001b[0m \u001b[0;36m9\u001b[0m\u001b[0;34m]\u001b[0m\u001b[0;34m,\u001b[0m \u001b[0max\u001b[0m\u001b[0;34m=\u001b[0m\u001b[0maxs\u001b[0m\u001b[0;34m[\u001b[0m\u001b[0mi\u001b[0m\u001b[0;34m]\u001b[0m\u001b[0;34m,\u001b[0m \u001b[0mheight\u001b[0m\u001b[0;34m=\u001b[0m\u001b[0;36m0.1\u001b[0m\u001b[0;34m,\u001b[0m \u001b[0mlinewidth\u001b[0m\u001b[0;34m=\u001b[0m\u001b[0;36m2\u001b[0m\u001b[0;34m)\u001b[0m\u001b[0;34m\u001b[0m\u001b[0;34m\u001b[0m\u001b[0m\n\u001b[1;32m      6\u001b[0m     \u001b[0maxs\u001b[0m\u001b[0;34m[\u001b[0m\u001b[0mi\u001b[0m\u001b[0;34m]\u001b[0m\u001b[0;34m.\u001b[0m\u001b[0mset_xlabel\u001b[0m\u001b[0;34m(\u001b[0m\u001b[0;34m\"\"\u001b[0m\u001b[0;34m)\u001b[0m\u001b[0;34m\u001b[0m\u001b[0;34m\u001b[0m\u001b[0m\n",
      "\u001b[0;31mNameError\u001b[0m: name 'to_plot' is not defined"
     ]
    },
    {
     "data": {
      "image/png": "[encoded data removed]",
      "text/plain": [
       "<Figure size 2160x1440 with 25 Axes>"
      ]
     },
     "metadata": {},
     "output_type": "display_data"
    }
   ],
   "source": [
    "fig, axs = plt.subplots(ncols=5, nrows=5, figsize=(5 * 6, 5 * 4))\n",
    "axs = axs.flatten()\n",
    "for i in range(25):\n",
    "    sns.histplot(to_plot.iloc[:, i + 9], kde=True, stat=\"density\", ax=axs[i])\n",
    "    sns.rugplot(to_plot.iloc[:, i + 9], ax=axs[i], height=0.1, linewidth=2)\n",
    "    axs[i].set_xlabel(\"\")\n",
    "    axs[i].set_ylabel(\"\")\n",
    "plt.savefig(\"../data/pics/lipids_distr.pdf\", bbox_inches=\"tight\")"
   ]
  },
  {
   "cell_type": "markdown",
   "metadata": {},
   "source": [
    "# Training"
   ]
  },
  {
   "cell_type": "markdown",
   "metadata": {},
   "source": [
    "## brain as object"
   ]
  },
  {
   "cell_type": "code",
   "execution_count": 48,
   "metadata": {
    "ExecuteTime": {
     "end_time": "2023-05-12T12:49:28.860969Z",
     "start_time": "2023-05-12T12:49:28.115086Z"
    }
   },
   "outputs": [],
   "source": [
    "half_len = len(fake_dataset_75) // 2\n",
    "num_people = fake_dataset_75.human.nunique() // 2\n",
    "hc_fake = fake_dataset_75.iloc[:half_len, 2:].values.reshape(num_people, -1)\n",
    "sz_fake = fake_dataset_75.iloc[half_len:, 2:].values.reshape(num_people, -1)\n",
    "train_dataset = np.vstack([hc_fake, sz_fake])\n",
    "y = np.ones(2 * N_SAMPLES)\n",
    "y[:N_SAMPLES] = 0"
   ]
  },
  {
   "cell_type": "code",
   "execution_count": 49,
   "metadata": {
    "ExecuteTime": {
     "end_time": "2023-05-12T12:49:28.905047Z",
     "start_time": "2023-05-12T12:49:28.863710Z"
    }
   },
   "outputs": [
    {
     "data": {
      "text/plain": [
       "(2000, 15900)"
      ]
     },
     "execution_count": 49,
     "metadata": {},
     "output_type": "execute_result"
    }
   ],
   "source": [
    "train_dataset.shape"
   ]
  },
  {
   "cell_type": "code",
   "execution_count": 50,
   "metadata": {
    "ExecuteTime": {
     "end_time": "2023-05-12T12:49:29.371893Z",
     "start_time": "2023-05-12T12:49:28.915181Z"
    }
   },
   "outputs": [],
   "source": [
    "X_train, X_test, y_train, y_test = train_test_split(\n",
    "    train_dataset, y, test_size=0.2, shuffle=True, random_state=435132\n",
    ")"
   ]
  },
  {
   "cell_type": "markdown",
   "metadata": {},
   "source": [
    "### Random Forest"
   ]
  },
  {
   "cell_type": "code",
   "execution_count": 51,
   "metadata": {
    "ExecuteTime": {
     "end_time": "2023-05-12T12:49:29.404479Z",
     "start_time": "2023-05-12T12:49:29.376351Z"
    }
   },
   "outputs": [],
   "source": [
    "rf = RandomForestClassifier(criterion=\"gini\", random_state=3643216)"
   ]
  },
  {
   "cell_type": "code",
   "execution_count": 52,
   "metadata": {
    "ExecuteTime": {
     "end_time": "2023-05-12T12:50:36.159988Z",
     "start_time": "2023-05-12T12:50:32.860885Z"
    }
   },
   "outputs": [
    {
     "data": {
      "text/plain": [
       "1.0"
      ]
     },
     "execution_count": 52,
     "metadata": {},
     "output_type": "execute_result"
    }
   ],
   "source": [
    "rf.fit(X_train, y_train)\n",
    "accuracy_score(rf.predict(X_test), y_test)"
   ]
  },
  {
   "cell_type": "code",
   "execution_count": 53,
   "metadata": {
    "ExecuteTime": {
     "end_time": "2023-05-12T12:50:42.052049Z",
     "start_time": "2023-05-12T12:50:41.276759Z"
    }
   },
   "outputs": [
    {
     "data": {
      "image/png": "[encoded data removed]",
      "text/plain": [
       "<Figure size 432x288 with 1 Axes>"
      ]
     },
     "metadata": {},
     "output_type": "display_data"
    }
   ],
   "source": [
    "plt.hist(rf.feature_importances_)\n",
    "plt.show()"
   ]
  },
  {
   "cell_type": "code",
   "execution_count": 54,
   "metadata": {
    "ExecuteTime": {
     "end_time": "2023-05-12T12:50:42.947918Z",
     "start_time": "2023-05-12T12:50:42.055517Z"
    }
   },
   "outputs": [
    {
     "name": "stdout",
     "output_type": "stream",
     "text": [
      "['65 Hippocampus, CA1_PC_P 38 2' '8  Cingulate Posterior (BA23a)_PC 44 1'\n",
      " '61 Pulvinar Thalamus_FA 22 5' '23 Insular Anterior Cortex_HexCer t41 2']\n"
     ]
    }
   ],
   "source": [
    "feature_names = []\n",
    "for region_nm in regions_only_four:\n",
    "    feature_names += ((region_nm + \"_\") + pd.Series(common_molecules)).values.tolist()\n",
    "feature_names = np.array(feature_names)\n",
    "\n",
    "print(feature_names[rf.feature_importances_.argsort()[:-5:-1]])"
   ]
  },
  {
   "cell_type": "code",
   "execution_count": 55,
   "metadata": {
    "ExecuteTime": {
     "end_time": "2023-05-12T12:50:45.421844Z",
     "start_time": "2023-05-12T12:50:42.952019Z"
    }
   },
   "outputs": [],
   "source": [
    "importances_df = pd.DataFrame(\n",
    "    np.vstack([feature_names, rf.feature_importances_]).T,\n",
    "    columns=[\"feature name\", \"importance\"],\n",
    ")\n",
    "importances_df = importances_df.sort_values(\n",
    "    by=\"importance\", ascending=False\n",
    ").reset_index(drop=True)\n",
    "importances_df.to_csv(\n",
    "    f\"../data/importances/{'genes' if use_genes else 'lipids'}_brain_rf_2.csv\"\n",
    ")"
   ]
  },
  {
   "cell_type": "markdown",
   "metadata": {},
   "source": [
    "### Logreg + permutation"
   ]
  },
  {
   "cell_type": "code",
   "execution_count": 56,
   "metadata": {
    "ExecuteTime": {
     "end_time": "2023-05-12T12:50:48.148011Z",
     "start_time": "2023-05-12T12:50:47.961085Z"
    }
   },
   "outputs": [],
   "source": [
    "X_train = np.array(X_train)"
   ]
  },
  {
   "cell_type": "code",
   "execution_count": 57,
   "metadata": {
    "ExecuteTime": {
     "end_time": "2023-05-12T12:50:50.312330Z",
     "start_time": "2023-05-12T12:50:50.292053Z"
    }
   },
   "outputs": [],
   "source": [
    "scaler = StandardScaler()"
   ]
  },
  {
   "cell_type": "code",
   "execution_count": 58,
   "metadata": {
    "ExecuteTime": {
     "end_time": "2023-05-12T12:50:52.645110Z",
     "start_time": "2023-05-12T12:50:51.223876Z"
    }
   },
   "outputs": [],
   "source": [
    "X_train_scaled = scaler.fit_transform(X_train)"
   ]
  },
  {
   "cell_type": "code",
   "execution_count": 59,
   "metadata": {
    "ExecuteTime": {
     "end_time": "2023-05-12T12:50:52.674976Z",
     "start_time": "2023-05-12T12:50:52.648002Z"
    }
   },
   "outputs": [
    {
     "data": {
      "text/plain": [
       "(1600, 15900)"
      ]
     },
     "execution_count": 59,
     "metadata": {},
     "output_type": "execute_result"
    }
   ],
   "source": [
    "X_train.shape"
   ]
  },
  {
   "cell_type": "code",
   "execution_count": 60,
   "metadata": {
    "ExecuteTime": {
     "end_time": "2023-05-12T13:13:18.680745Z",
     "start_time": "2023-05-12T13:00:48.608048Z"
    }
   },
   "outputs": [],
   "source": [
    "def make_importances(clf, X_train, y_train, feature_names, mode_name, clf_name):\n",
    "    result = permutation_importance(\n",
    "        clf, X_train, y_train, n_repeats=5, random_state=234325, n_jobs=-1\n",
    "    )\n",
    "    importances_df = pd.DataFrame(\n",
    "        np.vstack([feature_names, result.importances_mean]).T,\n",
    "        columns=[\"feature name\", \"importance\"],\n",
    "    )\n",
    "    importances_df = importances_df.sort_values(\n",
    "        by=\"importance\", ascending=False\n",
    "    ).reset_index(drop=True)\n",
    "    importances_df.to_csv(\n",
    "        f\"../data/importances/{'genes' if use_genes else 'lipids'}_{mode_name}_perm_{clf_name}_2.csv\"\n",
    "    )"
   ]
  },
  {
   "cell_type": "code",
   "execution_count": 58,
   "metadata": {
    "ExecuteTime": {
     "end_time": "2023-05-12T12:51:01.555181Z",
     "start_time": "2023-05-12T12:50:55.363359Z"
    }
   },
   "outputs": [],
   "source": [
    "clf1 = LogisticRegression(solver=\"lbfgs\", random_state=9843595, n_jobs=-1).fit(\n",
    "    X_train_scaled, y_train\n",
    ")\n",
    "clf2 = LinearSVC(random_state=28734).fit(X_train_scaled, y_train)"
   ]
  },
  {
   "cell_type": "code",
   "execution_count": null,
   "metadata": {},
   "outputs": [],
   "source": [
    "make_importances(clf1, X_train_scaled, y_train, feature_names, \"brain\", \"logreg\")\n",
    "make_importances(clf2, X_train_scaled, y_train, feature_names, \"brain\", \"svm\")"
   ]
  },
  {
   "cell_type": "markdown",
   "metadata": {},
   "source": [
    "## Region as object"
   ]
  },
  {
   "cell_type": "code",
   "execution_count": 60,
   "metadata": {
    "ExecuteTime": {
     "end_time": "2023-05-12T13:13:24.313430Z",
     "start_time": "2023-05-12T13:13:22.557535Z"
    }
   },
   "outputs": [
    {
     "data": {
      "text/html": [
       "<div>\n",
       "<style scoped>\n",
       "    .dataframe tbody tr th:only-of-type {\n",
       "        vertical-align: middle;\n",
       "    }\n",
       "\n",
       "    .dataframe tbody tr th {\n",
       "        vertical-align: top;\n",
       "    }\n",
       "\n",
       "    .dataframe thead th {\n",
       "        text-align: right;\n",
       "    }\n",
       "</style>\n",
       "<table border=\"1\" class=\"dataframe\">\n",
       "  <thead>\n",
       "    <tr style=\"text-align: right;\">\n",
       "      <th></th>\n",
       "      <th>human</th>\n",
       "      <th>region</th>\n",
       "      <th>0</th>\n",
       "      <th>1</th>\n",
       "      <th>2</th>\n",
       "      <th>3</th>\n",
       "      <th>4</th>\n",
       "      <th>5</th>\n",
       "      <th>6</th>\n",
       "      <th>7</th>\n",
       "      <th>...</th>\n",
       "      <th>14167</th>\n",
       "      <th>14168</th>\n",
       "      <th>14169</th>\n",
       "      <th>14170</th>\n",
       "      <th>14171</th>\n",
       "      <th>14172</th>\n",
       "      <th>14173</th>\n",
       "      <th>14174</th>\n",
       "      <th>14175</th>\n",
       "      <th>14176</th>\n",
       "    </tr>\n",
       "  </thead>\n",
       "  <tbody>\n",
       "    <tr>\n",
       "      <th>100</th>\n",
       "      <td>HC1</td>\n",
       "      <td>1  Cerebellar Grey Matter</td>\n",
       "      <td>-0.037698</td>\n",
       "      <td>-0.010649</td>\n",
       "      <td>0.176352</td>\n",
       "      <td>0.285609</td>\n",
       "      <td>-0.094256</td>\n",
       "      <td>-0.178571</td>\n",
       "      <td>-0.287203</td>\n",
       "      <td>-0.198786</td>\n",
       "      <td>...</td>\n",
       "      <td>1.322768</td>\n",
       "      <td>0.221017</td>\n",
       "      <td>-1.057745</td>\n",
       "      <td>-0.251455</td>\n",
       "      <td>-0.196477</td>\n",
       "      <td>-0.280805</td>\n",
       "      <td>-0.621037</td>\n",
       "      <td>0.195510</td>\n",
       "      <td>-0.375003</td>\n",
       "      <td>-0.048085</td>\n",
       "    </tr>\n",
       "    <tr>\n",
       "      <th>600</th>\n",
       "      <td>HC1</td>\n",
       "      <td>15 1ary Motor (BA4)</td>\n",
       "      <td>-0.426097</td>\n",
       "      <td>-0.044475</td>\n",
       "      <td>-0.055471</td>\n",
       "      <td>0.050353</td>\n",
       "      <td>0.053122</td>\n",
       "      <td>-0.201770</td>\n",
       "      <td>-0.011539</td>\n",
       "      <td>-0.025544</td>\n",
       "      <td>...</td>\n",
       "      <td>-0.136521</td>\n",
       "      <td>-0.008161</td>\n",
       "      <td>0.080811</td>\n",
       "      <td>0.804801</td>\n",
       "      <td>0.359058</td>\n",
       "      <td>0.494292</td>\n",
       "      <td>-0.131432</td>\n",
       "      <td>0.192751</td>\n",
       "      <td>0.398988</td>\n",
       "      <td>0.124403</td>\n",
       "    </tr>\n",
       "    <tr>\n",
       "      <th>1000</th>\n",
       "      <td>HC1</td>\n",
       "      <td>16 1ary Auditory (BA41/42)</td>\n",
       "      <td>-0.895576</td>\n",
       "      <td>0.026246</td>\n",
       "      <td>-0.122641</td>\n",
       "      <td>-0.064093</td>\n",
       "      <td>0.151654</td>\n",
       "      <td>-0.129899</td>\n",
       "      <td>-0.029164</td>\n",
       "      <td>0.012658</td>\n",
       "      <td>...</td>\n",
       "      <td>-0.195332</td>\n",
       "      <td>0.045030</td>\n",
       "      <td>-0.065205</td>\n",
       "      <td>-0.617080</td>\n",
       "      <td>-0.037194</td>\n",
       "      <td>1.084546</td>\n",
       "      <td>0.122761</td>\n",
       "      <td>-0.228213</td>\n",
       "      <td>0.057733</td>\n",
       "      <td>0.563484</td>\n",
       "    </tr>\n",
       "    <tr>\n",
       "      <th>1900</th>\n",
       "      <td>HC1</td>\n",
       "      <td>17 1ary Visual Anterior (BA17a)</td>\n",
       "      <td>-0.139748</td>\n",
       "      <td>-0.058677</td>\n",
       "      <td>0.037892</td>\n",
       "      <td>-0.055781</td>\n",
       "      <td>-0.267894</td>\n",
       "      <td>0.081073</td>\n",
       "      <td>-0.238367</td>\n",
       "      <td>-0.188169</td>\n",
       "      <td>...</td>\n",
       "      <td>0.890670</td>\n",
       "      <td>0.062651</td>\n",
       "      <td>0.462929</td>\n",
       "      <td>-0.264278</td>\n",
       "      <td>0.108055</td>\n",
       "      <td>0.702541</td>\n",
       "      <td>1.005390</td>\n",
       "      <td>0.163447</td>\n",
       "      <td>0.124246</td>\n",
       "      <td>-0.135866</td>\n",
       "    </tr>\n",
       "    <tr>\n",
       "      <th>2000</th>\n",
       "      <td>HC1</td>\n",
       "      <td>18 1ary Somatosensory (BA3/1/2)</td>\n",
       "      <td>0.391075</td>\n",
       "      <td>-0.063929</td>\n",
       "      <td>-0.055294</td>\n",
       "      <td>0.350292</td>\n",
       "      <td>-0.052095</td>\n",
       "      <td>-0.521547</td>\n",
       "      <td>-0.106466</td>\n",
       "      <td>0.096598</td>\n",
       "      <td>...</td>\n",
       "      <td>1.116170</td>\n",
       "      <td>-0.034027</td>\n",
       "      <td>-0.320868</td>\n",
       "      <td>-1.194609</td>\n",
       "      <td>-0.101099</td>\n",
       "      <td>-1.076620</td>\n",
       "      <td>-0.947130</td>\n",
       "      <td>-0.289876</td>\n",
       "      <td>0.448579</td>\n",
       "      <td>0.074630</td>\n",
       "    </tr>\n",
       "  </tbody>\n",
       "</table>\n",
       "<p>5 rows × 14179 columns</p>\n",
       "</div>"
      ],
      "text/plain": [
       "     human                           region         0         1         2  \\\n",
       "100    HC1        1  Cerebellar Grey Matter -0.037698 -0.010649  0.176352   \n",
       "600    HC1              15 1ary Motor (BA4) -0.426097 -0.044475 -0.055471   \n",
       "1000   HC1       16 1ary Auditory (BA41/42) -0.895576  0.026246 -0.122641   \n",
       "1900   HC1  17 1ary Visual Anterior (BA17a) -0.139748 -0.058677  0.037892   \n",
       "2000   HC1  18 1ary Somatosensory (BA3/1/2)  0.391075 -0.063929 -0.055294   \n",
       "\n",
       "             3         4         5         6         7  ...     14167  \\\n",
       "100   0.285609 -0.094256 -0.178571 -0.287203 -0.198786  ...  1.322768   \n",
       "600   0.050353  0.053122 -0.201770 -0.011539 -0.025544  ... -0.136521   \n",
       "1000 -0.064093  0.151654 -0.129899 -0.029164  0.012658  ... -0.195332   \n",
       "1900 -0.055781 -0.267894  0.081073 -0.238367 -0.188169  ...  0.890670   \n",
       "2000  0.350292 -0.052095 -0.521547 -0.106466  0.096598  ...  1.116170   \n",
       "\n",
       "         14168     14169     14170     14171     14172     14173     14174  \\\n",
       "100   0.221017 -1.057745 -0.251455 -0.196477 -0.280805 -0.621037  0.195510   \n",
       "600  -0.008161  0.080811  0.804801  0.359058  0.494292 -0.131432  0.192751   \n",
       "1000  0.045030 -0.065205 -0.617080 -0.037194  1.084546  0.122761 -0.228213   \n",
       "1900  0.062651  0.462929 -0.264278  0.108055  0.702541  1.005390  0.163447   \n",
       "2000 -0.034027 -0.320868 -1.194609 -0.101099 -1.076620 -0.947130 -0.289876   \n",
       "\n",
       "         14175     14176  \n",
       "100  -0.375003 -0.048085  \n",
       "600   0.398988  0.124403  \n",
       "1000  0.057733  0.563484  \n",
       "1900  0.124246 -0.135866  \n",
       "2000  0.448579  0.074630  \n",
       "\n",
       "[5 rows x 14179 columns]"
      ]
     },
     "execution_count": 60,
     "metadata": {},
     "output_type": "execute_result"
    }
   ],
   "source": [
    "fake_dataset_75.head()"
   ]
  },
  {
   "cell_type": "code",
   "execution_count": 61,
   "metadata": {
    "ExecuteTime": {
     "end_time": "2023-05-12T13:13:26.319271Z",
     "start_time": "2023-05-12T13:13:24.318894Z"
    }
   },
   "outputs": [],
   "source": [
    "train_dataset = fake_dataset_75.iloc[:, 2:]\n",
    "y = np.ones(fake_dataset_75.shape[0])\n",
    "y[: fake_dataset_75.shape[0] // 2] = 0\n",
    "X_train, X_test, y_train, y_test, regions_train, regions_test = train_test_split(\n",
    "    train_dataset,\n",
    "    y,\n",
    "    fake_dataset_75.region,\n",
    "    test_size=0.2,\n",
    "    shuffle=True,\n",
    "    random_state=435132,\n",
    ")"
   ]
  },
  {
   "cell_type": "markdown",
   "metadata": {},
   "source": [
    "### Random Forest"
   ]
  },
  {
   "cell_type": "code",
   "execution_count": 62,
   "metadata": {
    "ExecuteTime": {
     "end_time": "2023-05-12T13:13:34.725157Z",
     "start_time": "2023-05-12T13:13:26.321504Z"
    }
   },
   "outputs": [],
   "source": [
    "rf = RandomForestClassifier(random_state=3643216).fit(X_train, y_train)"
   ]
  },
  {
   "cell_type": "code",
   "execution_count": 63,
   "metadata": {
    "ExecuteTime": {
     "end_time": "2023-05-12T13:13:34.928920Z",
     "start_time": "2023-05-12T13:13:34.728605Z"
    }
   },
   "outputs": [],
   "source": [
    "y_pred = rf.predict(X_test)"
   ]
  },
  {
   "cell_type": "code",
   "execution_count": 64,
   "metadata": {
    "ExecuteTime": {
     "end_time": "2023-05-12T13:13:34.957006Z",
     "start_time": "2023-05-12T13:13:34.931130Z"
    }
   },
   "outputs": [],
   "source": [
    "correst_classification = y_pred == y_test"
   ]
  },
  {
   "cell_type": "code",
   "execution_count": 65,
   "metadata": {
    "ExecuteTime": {
     "end_time": "2023-05-12T13:13:35.052804Z",
     "start_time": "2023-05-12T13:13:34.960851Z"
    }
   },
   "outputs": [],
   "source": [
    "clf_res = pd.concat(\n",
    "    [regions_test.reset_index(drop=True), pd.Series(correst_classification)], axis=1\n",
    ")\n",
    "clf_res = clf_res.groupby(\"region\")[0].apply(np.mean)\n",
    "clf_res.index = clf_res.index.str.split().str[1:].str.join(\" \")\n",
    "clf_res = pd.DataFrame(clf_res).reset_index()\n",
    "clf_res.columns = [\"Region\", \"accuracy\"]\n",
    "clf_res = clf_res.sort_values(by=\"accuracy\").reset_index(drop=True)"
   ]
  },
  {
   "cell_type": "code",
   "execution_count": 1,
   "metadata": {
    "ExecuteTime": {
     "end_time": "2023-05-12T13:13:35.111015Z",
     "start_time": "2023-05-12T13:13:35.055942Z"
    }
   },
   "outputs": [],
   "source": [
    "# print(clf_res.iloc[:5, :].to_latex(index=False))\n",
    "# print(clf_res.iloc[-5:, :].to_latex(index=False))"
   ]
  },
  {
   "cell_type": "code",
   "execution_count": 68,
   "metadata": {
    "ExecuteTime": {
     "end_time": "2023-05-12T13:13:35.175894Z",
     "start_time": "2023-05-12T13:13:35.149876Z"
    }
   },
   "outputs": [],
   "source": [
    "from sklearn.model_selection import cross_val_score\n",
    "from sklearn.utils import shuffle"
   ]
  },
  {
   "cell_type": "code",
   "execution_count": null,
   "metadata": {
    "ExecuteTime": {
     "end_time": "2023-05-12T12:01:37.332856Z",
     "start_time": "2023-05-12T12:01:37.332828Z"
    }
   },
   "outputs": [],
   "source": [
    "X_train, y_train = shuffle(train_dataset, y, random_state=239875)"
   ]
  },
  {
   "cell_type": "code",
   "execution_count": null,
   "metadata": {
    "ExecuteTime": {
     "end_time": "2023-05-12T12:01:37.335117Z",
     "start_time": "2023-05-12T12:01:37.335087Z"
    }
   },
   "outputs": [],
   "source": [
    "cv = cross_val_score(\n",
    "    RandomForestClassifier(random_state=3643216), X_train, y_train, cv=5, n_jobs=-1\n",
    ")"
   ]
  },
  {
   "cell_type": "code",
   "execution_count": null,
   "metadata": {
    "ExecuteTime": {
     "end_time": "2023-05-12T12:01:37.337256Z",
     "start_time": "2023-05-12T12:01:37.337228Z"
    }
   },
   "outputs": [],
   "source": [
    "cv.mean()"
   ]
  },
  {
   "cell_type": "code",
   "execution_count": null,
   "metadata": {
    "ExecuteTime": {
     "end_time": "2023-05-12T12:01:37.339249Z",
     "start_time": "2023-05-12T12:01:37.339222Z"
    }
   },
   "outputs": [],
   "source": [
    "plt.hist(rf.feature_importances_)\n",
    "plt.show()"
   ]
  },
  {
   "cell_type": "code",
   "execution_count": null,
   "metadata": {
    "ExecuteTime": {
     "end_time": "2023-05-12T12:01:37.341331Z",
     "start_time": "2023-05-12T12:01:37.341303Z"
    }
   },
   "outputs": [],
   "source": [
    "X_train.shape"
   ]
  },
  {
   "cell_type": "code",
   "execution_count": null,
   "metadata": {
    "ExecuteTime": {
     "end_time": "2023-05-12T12:01:37.343572Z",
     "start_time": "2023-05-12T12:01:37.343542Z"
    }
   },
   "outputs": [],
   "source": [
    "# print(pd.DataFrame(common_molecules[rf.feature_importances_.argsort()][:-6:-1]).to_latex())\n",
    "# print(\", \".join(common_molecules[rf.feature_importances_.argsort()][:-6:-1].tolist()))"
   ]
  },
  {
   "cell_type": "code",
   "execution_count": 69,
   "metadata": {
    "ExecuteTime": {
     "end_time": "2023-05-12T13:13:41.877761Z",
     "start_time": "2023-05-12T13:13:41.207599Z"
    }
   },
   "outputs": [],
   "source": [
    "importances_df = pd.DataFrame(\n",
    "    np.vstack([np.array(common_molecules), rf.feature_importances_]).T,\n",
    "    columns=[\"feature name\", \"importance\"],\n",
    ")\n",
    "importances_df = importances_df.sort_values(\n",
    "    by=\"importance\", ascending=False\n",
    ").reset_index(drop=True)\n",
    "importances_df.to_csv(\n",
    "    f\"../data/importances/{'genes' if use_genes else 'lipids'}_regions_rf_2.csv\"\n",
    ")"
   ]
  },
  {
   "cell_type": "markdown",
   "metadata": {},
   "source": [
    "### Logreg + permutations (not suitable for genes, too slow)"
   ]
  },
  {
   "cell_type": "code",
   "execution_count": 70,
   "metadata": {
    "ExecuteTime": {
     "end_time": "2023-05-12T13:13:42.936207Z",
     "start_time": "2023-05-12T13:13:42.742470Z"
    }
   },
   "outputs": [],
   "source": [
    "X_train = np.array(X_train)\n",
    "scaler = StandardScaler()\n",
    "X_train_scaled = scaler.fit_transform(X_train)"
   ]
  },
  {
   "cell_type": "code",
   "execution_count": 58,
   "metadata": {
    "ExecuteTime": {
     "end_time": "2023-05-12T12:51:01.555181Z",
     "start_time": "2023-05-12T12:50:55.363359Z"
    }
   },
   "outputs": [],
   "source": [
    "clf1 = LogisticRegression(solver=\"lbfgs\", random_state=9843595, n_jobs=-1).fit(\n",
    "    X_train_scaled, y_train\n",
    ")\n",
    "clf2 = LinearSVC(random_state=28734).fit(X_train_scaled, y_train)"
   ]
  },
  {
   "cell_type": "code",
   "execution_count": null,
   "metadata": {},
   "outputs": [],
   "source": [
    "make_importances(\n",
    "    clf1, X_train_scaled, y_train, np.array(common_molecules), \"regions\", \"logreg\"\n",
    ")\n",
    "make_importances(\n",
    "    clf2, X_train_scaled, y_train, np.array(common_molecules), \"regions\", \"svm\"\n",
    ")"
   ]
  },
  {
   "cell_type": "code",
   "execution_count": null,
   "metadata": {},
   "outputs": [],
   "source": []
  }
 ],
 "metadata": {
  "kernelspec": {
   "display_name": "Python 3",
   "language": "python",
   "name": "python3"
  },
  "language_info": {
   "codemirror_mode": {
    "name": "ipython",
    "version": 3
   },
   "file_extension": ".py",
   "mimetype": "text/x-python",
   "name": "python",
   "nbconvert_exporter": "python",
   "pygments_lexer": "ipython3",
   "version": "3.8.3"
  },
  "toc": {
   "base_numbering": 1,
   "nav_menu": {},
   "number_sections": true,
   "sideBar": true,
   "skip_h1_title": false,
   "title_cell": "Table of Contents",
   "title_sidebar": "Contents",
   "toc_cell": false,
   "toc_position": {},
   "toc_section_display": true,
   "toc_window_display": false
  }
 },
 "nbformat": 4,
 "nbformat_minor": 5
}
