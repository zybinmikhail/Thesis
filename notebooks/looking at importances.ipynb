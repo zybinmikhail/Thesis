{
 "cells": [
  {
   "cell_type": "code",
   "execution_count": 16,
   "metadata": {},
   "outputs": [],
   "source": [
    "import numpy as np\n",
    "import pandas as pd\n",
    "\n",
    "import warnings\n",
    "warnings.filterwarnings('ignore')"
   ]
  },
  {
   "cell_type": "code",
   "execution_count": 17,
   "metadata": {},
   "outputs": [],
   "source": [
    "PATH = \"../data/importances/\""
   ]
  },
  {
   "cell_type": "code",
   "execution_count": 18,
   "metadata": {},
   "outputs": [
    {
     "data": {
      "text/plain": [
       "['genes_brain_rf.csv',\n",
       " 'lipids_regions_perm.csv',\n",
       " 'lipids_regions_perm_svm_2.csv',\n",
       " 'lipids_regions_rf.csv',\n",
       " 'lipids_regions_rf_2.csv',\n",
       " '.ipynb_checkpoints',\n",
       " 'lipids_brain_rf_2.csv',\n",
       " 'clf_res_regions_rf.csv',\n",
       " 'lipids_brain_perm_svm_2.csv',\n",
       " 'lipids_regions_perm_logreg_2.csv',\n",
       " 'genes_regions_rf.csv',\n",
       " 'lipids_brain_perm_logreg_2.csv',\n",
       " 'lipids_brain_rf.csv']"
      ]
     },
     "execution_count": 18,
     "metadata": {},
     "output_type": "execute_result"
    }
   ],
   "source": [
    "import os\n",
    "os.listdir(PATH)"
   ]
  },
  {
   "cell_type": "markdown",
   "metadata": {},
   "source": [
    "# Permutations"
   ]
  },
  {
   "cell_type": "code",
   "execution_count": 5,
   "metadata": {},
   "outputs": [
    {
     "data": {
      "text/html": [
       "<div>\n",
       "<style scoped>\n",
       "    .dataframe tbody tr th:only-of-type {\n",
       "        vertical-align: middle;\n",
       "    }\n",
       "\n",
       "    .dataframe tbody tr th {\n",
       "        vertical-align: top;\n",
       "    }\n",
       "\n",
       "    .dataframe thead th {\n",
       "        text-align: right;\n",
       "    }\n",
       "</style>\n",
       "<table border=\"1\" class=\"dataframe\">\n",
       "  <thead>\n",
       "    <tr style=\"text-align: right;\">\n",
       "      <th></th>\n",
       "      <th>feature name</th>\n",
       "      <th>importance</th>\n",
       "    </tr>\n",
       "  </thead>\n",
       "  <tbody>\n",
       "    <tr>\n",
       "      <th>0</th>\n",
       "      <td>50 Orbitofrontal (BA11)_PC 46 3</td>\n",
       "      <td>0.0</td>\n",
       "    </tr>\n",
       "    <tr>\n",
       "      <th>1</th>\n",
       "      <td>64 Globus Pallidus_PC_O 38 1</td>\n",
       "      <td>0.0</td>\n",
       "    </tr>\n",
       "    <tr>\n",
       "      <th>2</th>\n",
       "      <td>64 Globus Pallidus_HexCer d38 1</td>\n",
       "      <td>0.0</td>\n",
       "    </tr>\n",
       "    <tr>\n",
       "      <th>3</th>\n",
       "      <td>64 Globus Pallidus_FA 24 1</td>\n",
       "      <td>0.0</td>\n",
       "    </tr>\n",
       "    <tr>\n",
       "      <th>4</th>\n",
       "      <td>64 Globus Pallidus_Cer d41 2</td>\n",
       "      <td>0.0</td>\n",
       "    </tr>\n",
       "    <tr>\n",
       "      <th>...</th>\n",
       "      <td>...</td>\n",
       "      <td>...</td>\n",
       "    </tr>\n",
       "    <tr>\n",
       "      <th>15895</th>\n",
       "      <td>17 1ary Visual Anterior (BA17a)_LPE 16 0</td>\n",
       "      <td>0.0</td>\n",
       "    </tr>\n",
       "    <tr>\n",
       "      <th>15896</th>\n",
       "      <td>17 1ary Visual Anterior (BA17a)_PC 28 0</td>\n",
       "      <td>0.0</td>\n",
       "    </tr>\n",
       "    <tr>\n",
       "      <th>15897</th>\n",
       "      <td>17 1ary Visual Anterior (BA17a)_FA 16 1</td>\n",
       "      <td>0.0</td>\n",
       "    </tr>\n",
       "    <tr>\n",
       "      <th>15898</th>\n",
       "      <td>17 1ary Visual Anterior (BA17a)_TG 54 6</td>\n",
       "      <td>0.0</td>\n",
       "    </tr>\n",
       "    <tr>\n",
       "      <th>15899</th>\n",
       "      <td>15 1ary Motor (BA4)_Cer m41 2</td>\n",
       "      <td>0.0</td>\n",
       "    </tr>\n",
       "  </tbody>\n",
       "</table>\n",
       "<p>15900 rows × 2 columns</p>\n",
       "</div>"
      ],
      "text/plain": [
       "                                   feature name  importance\n",
       "0               50 Orbitofrontal (BA11)_PC 46 3         0.0\n",
       "1                  64 Globus Pallidus_PC_O 38 1         0.0\n",
       "2               64 Globus Pallidus_HexCer d38 1         0.0\n",
       "3                    64 Globus Pallidus_FA 24 1         0.0\n",
       "4                  64 Globus Pallidus_Cer d41 2         0.0\n",
       "...                                         ...         ...\n",
       "15895  17 1ary Visual Anterior (BA17a)_LPE 16 0         0.0\n",
       "15896   17 1ary Visual Anterior (BA17a)_PC 28 0         0.0\n",
       "15897   17 1ary Visual Anterior (BA17a)_FA 16 1         0.0\n",
       "15898   17 1ary Visual Anterior (BA17a)_TG 54 6         0.0\n",
       "15899             15 1ary Motor (BA4)_Cer m41 2         0.0\n",
       "\n",
       "[15900 rows x 2 columns]"
      ]
     },
     "metadata": {},
     "output_type": "display_data"
    },
    {
     "data": {
      "text/html": [
       "<div>\n",
       "<style scoped>\n",
       "    .dataframe tbody tr th:only-of-type {\n",
       "        vertical-align: middle;\n",
       "    }\n",
       "\n",
       "    .dataframe tbody tr th {\n",
       "        vertical-align: top;\n",
       "    }\n",
       "\n",
       "    .dataframe thead th {\n",
       "        text-align: right;\n",
       "    }\n",
       "</style>\n",
       "<table border=\"1\" class=\"dataframe\">\n",
       "  <thead>\n",
       "    <tr style=\"text-align: right;\">\n",
       "      <th></th>\n",
       "      <th>feature name</th>\n",
       "      <th>importance</th>\n",
       "    </tr>\n",
       "  </thead>\n",
       "  <tbody>\n",
       "    <tr>\n",
       "      <th>0</th>\n",
       "      <td>50 Orbitofrontal (BA11)_PC 46 3</td>\n",
       "      <td>0.0</td>\n",
       "    </tr>\n",
       "    <tr>\n",
       "      <th>1</th>\n",
       "      <td>64 Globus Pallidus_PC_O 38 1</td>\n",
       "      <td>0.0</td>\n",
       "    </tr>\n",
       "    <tr>\n",
       "      <th>2</th>\n",
       "      <td>64 Globus Pallidus_HexCer d38 1</td>\n",
       "      <td>0.0</td>\n",
       "    </tr>\n",
       "    <tr>\n",
       "      <th>3</th>\n",
       "      <td>64 Globus Pallidus_FA 24 1</td>\n",
       "      <td>0.0</td>\n",
       "    </tr>\n",
       "    <tr>\n",
       "      <th>4</th>\n",
       "      <td>64 Globus Pallidus_Cer d41 2</td>\n",
       "      <td>0.0</td>\n",
       "    </tr>\n",
       "    <tr>\n",
       "      <th>...</th>\n",
       "      <td>...</td>\n",
       "      <td>...</td>\n",
       "    </tr>\n",
       "    <tr>\n",
       "      <th>15895</th>\n",
       "      <td>17 1ary Visual Anterior (BA17a)_LPE 16 0</td>\n",
       "      <td>0.0</td>\n",
       "    </tr>\n",
       "    <tr>\n",
       "      <th>15896</th>\n",
       "      <td>17 1ary Visual Anterior (BA17a)_PC 28 0</td>\n",
       "      <td>0.0</td>\n",
       "    </tr>\n",
       "    <tr>\n",
       "      <th>15897</th>\n",
       "      <td>17 1ary Visual Anterior (BA17a)_FA 16 1</td>\n",
       "      <td>0.0</td>\n",
       "    </tr>\n",
       "    <tr>\n",
       "      <th>15898</th>\n",
       "      <td>17 1ary Visual Anterior (BA17a)_TG 54 6</td>\n",
       "      <td>0.0</td>\n",
       "    </tr>\n",
       "    <tr>\n",
       "      <th>15899</th>\n",
       "      <td>15 1ary Motor (BA4)_Cer m41 2</td>\n",
       "      <td>0.0</td>\n",
       "    </tr>\n",
       "  </tbody>\n",
       "</table>\n",
       "<p>15900 rows × 2 columns</p>\n",
       "</div>"
      ],
      "text/plain": [
       "                                   feature name  importance\n",
       "0               50 Orbitofrontal (BA11)_PC 46 3         0.0\n",
       "1                  64 Globus Pallidus_PC_O 38 1         0.0\n",
       "2               64 Globus Pallidus_HexCer d38 1         0.0\n",
       "3                    64 Globus Pallidus_FA 24 1         0.0\n",
       "4                  64 Globus Pallidus_Cer d41 2         0.0\n",
       "...                                         ...         ...\n",
       "15895  17 1ary Visual Anterior (BA17a)_LPE 16 0         0.0\n",
       "15896   17 1ary Visual Anterior (BA17a)_PC 28 0         0.0\n",
       "15897   17 1ary Visual Anterior (BA17a)_FA 16 1         0.0\n",
       "15898   17 1ary Visual Anterior (BA17a)_TG 54 6         0.0\n",
       "15899             15 1ary Motor (BA4)_Cer m41 2         0.0\n",
       "\n",
       "[15900 rows x 2 columns]"
      ]
     },
     "metadata": {},
     "output_type": "display_data"
    }
   ],
   "source": [
    "display(pd.read_csv(PATH + \"lipids_brain_perm_logreg_2.csv\", index_col=0))\n",
    "display(pd.read_csv(PATH + \"lipids_brain_perm_svm_2.csv\", index_col=0))"
   ]
  },
  {
   "cell_type": "code",
   "execution_count": 6,
   "metadata": {},
   "outputs": [
    {
     "data": {
      "text/html": [
       "<div>\n",
       "<style scoped>\n",
       "    .dataframe tbody tr th:only-of-type {\n",
       "        vertical-align: middle;\n",
       "    }\n",
       "\n",
       "    .dataframe tbody tr th {\n",
       "        vertical-align: top;\n",
       "    }\n",
       "\n",
       "    .dataframe thead th {\n",
       "        text-align: right;\n",
       "    }\n",
       "</style>\n",
       "<table border=\"1\" class=\"dataframe\">\n",
       "  <thead>\n",
       "    <tr style=\"text-align: right;\">\n",
       "      <th></th>\n",
       "      <th>feature name</th>\n",
       "      <th>importance</th>\n",
       "    </tr>\n",
       "  </thead>\n",
       "  <tbody>\n",
       "    <tr>\n",
       "      <th>0</th>\n",
       "      <td>PC 46 3</td>\n",
       "      <td>0.0</td>\n",
       "    </tr>\n",
       "    <tr>\n",
       "      <th>1</th>\n",
       "      <td>SM d38 1</td>\n",
       "      <td>0.0</td>\n",
       "    </tr>\n",
       "    <tr>\n",
       "      <th>2</th>\n",
       "      <td>LPE 16 0</td>\n",
       "      <td>0.0</td>\n",
       "    </tr>\n",
       "    <tr>\n",
       "      <th>3</th>\n",
       "      <td>PC 40 4</td>\n",
       "      <td>0.0</td>\n",
       "    </tr>\n",
       "    <tr>\n",
       "      <th>4</th>\n",
       "      <td>PE_P 39 2</td>\n",
       "      <td>0.0</td>\n",
       "    </tr>\n",
       "    <tr>\n",
       "      <th>...</th>\n",
       "      <td>...</td>\n",
       "      <td>...</td>\n",
       "    </tr>\n",
       "    <tr>\n",
       "      <th>313</th>\n",
       "      <td>FA 22 1</td>\n",
       "      <td>0.0</td>\n",
       "    </tr>\n",
       "    <tr>\n",
       "      <th>314</th>\n",
       "      <td>PC 34 2</td>\n",
       "      <td>0.0</td>\n",
       "    </tr>\n",
       "    <tr>\n",
       "      <th>315</th>\n",
       "      <td>PE 42 7</td>\n",
       "      <td>0.0</td>\n",
       "    </tr>\n",
       "    <tr>\n",
       "      <th>316</th>\n",
       "      <td>Cer m43 2</td>\n",
       "      <td>0.0</td>\n",
       "    </tr>\n",
       "    <tr>\n",
       "      <th>317</th>\n",
       "      <td>Cer m41 2</td>\n",
       "      <td>0.0</td>\n",
       "    </tr>\n",
       "  </tbody>\n",
       "</table>\n",
       "<p>318 rows × 2 columns</p>\n",
       "</div>"
      ],
      "text/plain": [
       "    feature name  importance\n",
       "0        PC 46 3         0.0\n",
       "1       SM d38 1         0.0\n",
       "2       LPE 16 0         0.0\n",
       "3        PC 40 4         0.0\n",
       "4      PE_P 39 2         0.0\n",
       "..           ...         ...\n",
       "313      FA 22 1         0.0\n",
       "314      PC 34 2         0.0\n",
       "315      PE 42 7         0.0\n",
       "316    Cer m43 2         0.0\n",
       "317    Cer m41 2         0.0\n",
       "\n",
       "[318 rows x 2 columns]"
      ]
     },
     "metadata": {},
     "output_type": "display_data"
    },
    {
     "data": {
      "text/html": [
       "<div>\n",
       "<style scoped>\n",
       "    .dataframe tbody tr th:only-of-type {\n",
       "        vertical-align: middle;\n",
       "    }\n",
       "\n",
       "    .dataframe tbody tr th {\n",
       "        vertical-align: top;\n",
       "    }\n",
       "\n",
       "    .dataframe thead th {\n",
       "        text-align: right;\n",
       "    }\n",
       "</style>\n",
       "<table border=\"1\" class=\"dataframe\">\n",
       "  <thead>\n",
       "    <tr style=\"text-align: right;\">\n",
       "      <th></th>\n",
       "      <th>feature name</th>\n",
       "      <th>importance</th>\n",
       "    </tr>\n",
       "  </thead>\n",
       "  <tbody>\n",
       "    <tr>\n",
       "      <th>0</th>\n",
       "      <td>SulfoHexCer d43 2</td>\n",
       "      <td>0.000010</td>\n",
       "    </tr>\n",
       "    <tr>\n",
       "      <th>1</th>\n",
       "      <td>PC 38 7</td>\n",
       "      <td>0.000010</td>\n",
       "    </tr>\n",
       "    <tr>\n",
       "      <th>2</th>\n",
       "      <td>PG 40 8</td>\n",
       "      <td>0.000096</td>\n",
       "    </tr>\n",
       "    <tr>\n",
       "      <th>3</th>\n",
       "      <td>LPC 16 1</td>\n",
       "      <td>0.000082</td>\n",
       "    </tr>\n",
       "    <tr>\n",
       "      <th>4</th>\n",
       "      <td>Cholesterol</td>\n",
       "      <td>0.000080</td>\n",
       "    </tr>\n",
       "    <tr>\n",
       "      <th>...</th>\n",
       "      <td>...</td>\n",
       "      <td>...</td>\n",
       "    </tr>\n",
       "    <tr>\n",
       "      <th>313</th>\n",
       "      <td>LPC 22 5</td>\n",
       "      <td>-0.000112</td>\n",
       "    </tr>\n",
       "    <tr>\n",
       "      <th>314</th>\n",
       "      <td>PC 44 2</td>\n",
       "      <td>-0.000110</td>\n",
       "    </tr>\n",
       "    <tr>\n",
       "      <th>315</th>\n",
       "      <td>LPC 22 4</td>\n",
       "      <td>-0.000108</td>\n",
       "    </tr>\n",
       "    <tr>\n",
       "      <th>316</th>\n",
       "      <td>LPE 20 4</td>\n",
       "      <td>-0.000106</td>\n",
       "    </tr>\n",
       "    <tr>\n",
       "      <th>317</th>\n",
       "      <td>Cer d43 2</td>\n",
       "      <td>-0.000104</td>\n",
       "    </tr>\n",
       "  </tbody>\n",
       "</table>\n",
       "<p>318 rows × 2 columns</p>\n",
       "</div>"
      ],
      "text/plain": [
       "          feature name  importance\n",
       "0    SulfoHexCer d43 2    0.000010\n",
       "1              PC 38 7    0.000010\n",
       "2              PG 40 8    0.000096\n",
       "3             LPC 16 1    0.000082\n",
       "4          Cholesterol    0.000080\n",
       "..                 ...         ...\n",
       "313           LPC 22 5   -0.000112\n",
       "314            PC 44 2   -0.000110\n",
       "315           LPC 22 4   -0.000108\n",
       "316           LPE 20 4   -0.000106\n",
       "317          Cer d43 2   -0.000104\n",
       "\n",
       "[318 rows x 2 columns]"
      ]
     },
     "metadata": {},
     "output_type": "display_data"
    }
   ],
   "source": [
    "display(pd.read_csv(PATH + \"lipids_regions_perm_logreg_2.csv\", index_col=0))\n",
    "display(pd.read_csv(PATH + \"lipids_regions_perm_svm_2.csv\", index_col=0))"
   ]
  },
  {
   "cell_type": "code",
   "execution_count": 7,
   "metadata": {},
   "outputs": [],
   "source": [
    "importances = pd.read_csv(PATH + \"lipids_regions_perm_svm_2.csv\", index_col=0).sort_values(by=\"importance\", ascending=False)"
   ]
  },
  {
   "cell_type": "code",
   "execution_count": 15,
   "metadata": {},
   "outputs": [
    {
     "name": "stdout",
     "output_type": "stream",
     "text": [
      "\\begin{tabular}{lr}\n",
      "\\toprule\n",
      "feature name &  importance \\\\\n",
      "\\midrule\n",
      "     PE 38 7 &    0.008274 \\\\\n",
      "     PC 40 8 &    0.006758 \\\\\n",
      "   PC\\_O 38 6 &    0.005336 \\\\\n",
      "     PE 34 3 &    0.005198 \\\\\n",
      "   Cer m36 1 &    0.005176 \\\\\n",
      "   PE\\_O 40 4 &    0.005148 \\\\\n",
      "     PC 46 2 &    0.004512 \\\\\n",
      "     PE 36 6 &    0.004136 \\\\\n",
      "     PC 40 1 &    0.003942 \\\\\n",
      "    LPC 20 3 &    0.003708 \\\\\n",
      "\\bottomrule\n",
      "\\end{tabular}\n",
      "\n"
     ]
    },
    {
     "name": "stderr",
     "output_type": "stream",
     "text": [
      "<ipython-input-15-548fb491fd73>:1: FutureWarning: In future versions `DataFrame.to_latex` is expected to utilise the base implementation of `Styler.to_latex` for formatting and rendering. The arguments signature may therefore change. It is recommended instead to use `DataFrame.style.to_latex` which also contains additional functionality.\n",
      "  print(importances.head(10).to_latex(index=False))\n"
     ]
    }
   ],
   "source": [
    "print(importances.head(10).to_latex(index=False))"
   ]
  },
  {
   "cell_type": "markdown",
   "metadata": {},
   "source": [
    "# RF"
   ]
  },
  {
   "cell_type": "code",
   "execution_count": 9,
   "metadata": {},
   "outputs": [
    {
     "name": "stdout",
     "output_type": "stream",
     "text": [
      "\\begin{tabular}{lr}\n",
      "\\toprule\n",
      "                                   feature name &  importance \\\\\n",
      "\\midrule\n",
      "       14 1ary Visual Posterior (BA17p)\\_PC 29 0 &    0.031105 \\\\\n",
      "                64 Globus Pallidus\\_HexCer t41 2 &    0.030107 \\\\\n",
      "                    15 1ary Motor (BA4)\\_PC 38 5 &    0.030059 \\\\\n",
      "                     64 Globus Pallidus\\_PE 35 2 &    0.028034 \\\\\n",
      "     34 Dorsolateral Prefrontal (BA9)\\_PC\\_O 40 4 &    0.027058 \\\\\n",
      "         48 Cingulate Anterior (BA24)\\_Cer d42 2 &    0.026909 \\\\\n",
      "          74 Corpus Callosum Posterior\\_SM d36 1 &    0.026368 \\\\\n",
      "33 Anterior Inferior Temporal (BA20a)\\_PC\\_P 38 2 &    0.025281 \\\\\n",
      "   28 2ary Auditory, Wernicke (BA22p)\\_Cer d36 2 &    0.022108 \\\\\n",
      "                   56 Nucleus Accumbens\\_CE 18 2 &    0.021994 \\\\\n",
      "\\bottomrule\n",
      "\\end{tabular}\n",
      "\n"
     ]
    },
    {
     "name": "stderr",
     "output_type": "stream",
     "text": [
      "<ipython-input-9-da2a0c94ab1e>:2: FutureWarning: In future versions `DataFrame.to_latex` is expected to utilise the base implementation of `Styler.to_latex` for formatting and rendering. The arguments signature may therefore change. It is recommended instead to use `DataFrame.style.to_latex` which also contains additional functionality.\n",
      "  print(rf_lipids_brains_regions.sort_values(by=\"importance\", ascending=False).head(10).to_latex(index=False))\n"
     ]
    }
   ],
   "source": [
    "rf_lipids_brains_regions = pd.read_csv(PATH +  'lipids_brain_rf_2.csv', index_col=0)\n",
    "print(rf_lipids_brains_regions.sort_values(by=\"importance\", ascending=False).head(10).to_latex(index=False))"
   ]
  },
  {
   "cell_type": "code",
   "execution_count": 10,
   "metadata": {},
   "outputs": [],
   "source": [
    "rf_lipids_brains_regions[\"region\"] = rf_lipids_brains_regions[\"feature name\"].str.split(\"_\").str[0]\n",
    "\n",
    "region_importances = rf_lipids_brains_regions.groupby(\"region\")[\"importance\"].apply(sum).sort_values(ascending=False)\n",
    "\n",
    "print(region_importances[:10].to_latex())"
   ]
  },
  {
   "cell_type": "code",
   "execution_count": 47,
   "metadata": {},
   "outputs": [],
   "source": [
    "rf_lipids_regions = pd.read_csv(PATH + 'lipids_regions_rf_2.csv', index_col=0).sort_values(by=\"importance\", ascending=False)"
   ]
  },
  {
   "cell_type": "code",
   "execution_count": 48,
   "metadata": {},
   "outputs": [
    {
     "name": "stdout",
     "output_type": "stream",
     "text": [
      "\\begin{tabular}{lr}\n",
      "\\toprule\n",
      "feature name &  importance \\\\\n",
      "\\midrule\n",
      "    LPE 22 4 &    0.075944 \\\\\n",
      "    LPE 18 1 &    0.052488 \\\\\n",
      "    LPE 20 2 &    0.037824 \\\\\n",
      "    LPE 20 4 &    0.027195 \\\\\n",
      "   PC\\_P 38 2 &    0.019500 \\\\\n",
      "     DG 38 1 &    0.017551 \\\\\n",
      "    LPE 20 1 &    0.017130 \\\\\n",
      "   PC\\_P 38 6 &    0.016511 \\\\\n",
      "     TG 52 2 &    0.015552 \\\\\n",
      "     TG 50 3 &    0.015059 \\\\\n",
      "\\bottomrule\n",
      "\\end{tabular}\n",
      "\n"
     ]
    },
    {
     "name": "stderr",
     "output_type": "stream",
     "text": [
      "<ipython-input-48-7b2b4ece8b1d>:1: FutureWarning: In future versions `DataFrame.to_latex` is expected to utilise the base implementation of `Styler.to_latex` for formatting and rendering. The arguments signature may therefore change. It is recommended instead to use `DataFrame.style.to_latex` which also contains additional functionality.\n",
      "  print(rf_lipids_regions[:10].to_latex(index=False))\n"
     ]
    }
   ],
   "source": [
    "print(rf_lipids_regions[:10].to_latex(index=False))"
   ]
  },
  {
   "cell_type": "code",
   "execution_count": 51,
   "metadata": {},
   "outputs": [
    {
     "name": "stdout",
     "output_type": "stream",
     "text": [
      "\\begin{tabular}{lr}\n",
      "\\toprule\n",
      "                                Region &  accuracy \\\\\n",
      "\\midrule\n",
      "             Corpus Callosum Posterior &       1.0 \\\\\n",
      "              Corpus Callosum Anterior &       1.0 \\\\\n",
      "                      Internal Capsule &       1.0 \\\\\n",
      "              Ventral Lateral Thalamus &       1.0 \\\\\n",
      "                  Orbitofrontal (BA47) &       1.0 \\\\\n",
      " 2ary/3ary Visual Posterior (BA18/19p) &       1.0 \\\\\n",
      "                       Globus Pallidus &       1.0 \\\\\n",
      "               Cerebellar White Matter &       1.0 \\\\\n",
      "         1ary Visual Posterior (BA17p) &       1.0 \\\\\n",
      "                  Frontopolar (BA10fp) &       1.0 \\\\\n",
      "             Cingulate Anterior (BA24) &       1.0 \\\\\n",
      "       2ary Auditory, language (BA22a) &       1.0 \\\\\n",
      "      Premotor Anterior Lateral (BA6a) &       1.0 \\\\\n",
      "Ventrolateral Prefrontal, Broca (BA44) &       1.0 \\\\\n",
      "                     FEF Medial (BA8m) &       1.0 \\\\\n",
      "          Cingulate Subcallosal (BA25) &       1.0 \\\\\n",
      "                      Substantia Nigra &       1.0 \\\\\n",
      "                Cerebellar Grey Matter &       1.0 \\\\\n",
      "\\bottomrule\n",
      "\\end{tabular}\n",
      "\n"
     ]
    },
    {
     "name": "stderr",
     "output_type": "stream",
     "text": [
      "<ipython-input-51-30cd87012f94>:2: FutureWarning: In future versions `DataFrame.to_latex` is expected to utilise the base implementation of `Styler.to_latex` for formatting and rendering. The arguments signature may therefore change. It is recommended instead to use `DataFrame.style.to_latex` which also contains additional functionality.\n",
      "  print(clf_res_regions_rf[clf_res_regions_rf.accuracy == 1].to_latex(index=False))\n"
     ]
    }
   ],
   "source": [
    "clf_res_regions_rf = pd.read_csv(PATH + \"clf_res_regions_rf.csv\", index_col=0)\n",
    "print(clf_res_regions_rf[clf_res_regions_rf.accuracy == 1].to_latex(index=False))"
   ]
  },
  {
   "cell_type": "code",
   "execution_count": 28,
   "metadata": {},
   "outputs": [
    {
     "data": {
      "text/plain": [
       "0.000000    496093\n",
       "0.010000        80\n",
       "0.020000         6\n",
       "0.009751         3\n",
       "0.000249         3\n",
       "0.009753         2\n",
       "0.000247         2\n",
       "0.009751         1\n",
       "0.009512         1\n",
       "0.008821         1\n",
       "0.001179         1\n",
       "0.000488         1\n",
       "0.000249         1\n",
       "Name: importance, dtype: int64"
      ]
     },
     "metadata": {},
     "output_type": "display_data"
    },
    {
     "name": "stdout",
     "output_type": "stream",
     "text": [
      "99.97944356553371\n",
      "\\begin{tabular}{lr}\n",
      "\\toprule\n",
      "                                      feature name &  importance \\\\\n",
      "\\midrule\n",
      "                        58 Putamen\\_ENSG00000133657 &        0.02 \\\\\n",
      "               63 Substantia Nigra\\_ENSG00000170011 &        0.02 \\\\\n",
      "           50 Orbitofrontal (BA11)\\_ENSG00000280165 &        0.02 \\\\\n",
      "     47 Cingulate Posterior (BA31)\\_ENSG00000111077 &        0.02 \\\\\n",
      "               29 Precuneus (BA7m)\\_ENSG00000102753 &        0.02 \\\\\n",
      "   18 1ary Somatosensory (BA3/1/2)\\_ENSG00000162426 &        0.02 \\\\\n",
      "     47 Cingulate Posterior (BA31)\\_ENSG00000173269 &        0.01 \\\\\n",
      "       53 Insular Posterior Cortex\\_ENSG00000189292 &        0.01 \\\\\n",
      "      49 Cingulate Anterior (BA32)\\_ENSG00000090539 &        0.01 \\\\\n",
      "27 2ary/3ary Visual Anterior (BA18/19a)\\_ENSG000... &        0.01 \\\\\n",
      "\\bottomrule\n",
      "\\end{tabular}\n",
      "\n"
     ]
    }
   ],
   "source": [
    "genes_brain_rf = pd.read_csv(PATH + \"genes_brain_rf.csv\", index_col=0).sort_values(by=\"importance\", ascending=False)\n",
    "display(genes_brain_rf.importance.value_counts())\n",
    "print(496093 / genes_brain_rf.shape[0] * 100)\n",
    "print(genes_brain_rf[:10].to_latex(index=False))"
   ]
  },
  {
   "cell_type": "code",
   "execution_count": 29,
   "metadata": {},
   "outputs": [
    {
     "name": "stdout",
     "output_type": "stream",
     "text": [
      "\\begin{tabular}{lr}\n",
      "\\toprule\n",
      "{} &  importance \\\\\n",
      "region                             &             \\\\\n",
      "\\midrule\n",
      "16 1ary Auditory (BA41/42)         &    0.149265 \\\\\n",
      "18 1ary Somatosensory (BA3/1/2)    &    0.110000 \\\\\n",
      "47 Cingulate Posterior (BA31)      &    0.110000 \\\\\n",
      "63 Substantia Nigra                &    0.080000 \\\\\n",
      "75 Cerebellar White Matter         &    0.068574 \\\\\n",
      "56 Nucleus Accumbens               &    0.050000 \\\\\n",
      "48 Cingulate Anterior (BA24)       &    0.050000 \\\\\n",
      "50 Orbitofrontal (BA11)            &    0.040000 \\\\\n",
      "28 2ary Auditory, Wernicke (BA22p) &    0.040000 \\\\\n",
      "58 Putamen                         &    0.031179 \\\\\n",
      "\\bottomrule\n",
      "\\end{tabular}\n",
      "\n"
     ]
    }
   ],
   "source": [
    "genes_brain_rf[\"region\"] = genes_brain_rf[\"feature name\"].str.split(\"_\").str[0]\n",
    "\n",
    "region_importances = genes_brain_rf.groupby(\"region\")[\"importance\"].apply(sum).sort_values(ascending=False)\n",
    "\n",
    "print(region_importances[:10].to_latex())"
   ]
  },
  {
   "cell_type": "code",
   "execution_count": null,
   "metadata": {},
   "outputs": [],
   "source": []
  }
 ],
 "metadata": {
  "kernelspec": {
   "display_name": "Python 3",
   "language": "python",
   "name": "python3"
  },
  "language_info": {
   "codemirror_mode": {
    "name": "ipython",
    "version": 3
   },
   "file_extension": ".py",
   "mimetype": "text/x-python",
   "name": "python",
   "nbconvert_exporter": "python",
   "pygments_lexer": "ipython3",
   "version": "3.8.3"
  }
 },
 "nbformat": 4,
 "nbformat_minor": 4
}
