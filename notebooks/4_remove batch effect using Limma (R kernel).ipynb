{
 "cells": [
  {
   "cell_type": "markdown",
   "id": "743c9a76",
   "metadata": {},
   "source": [
    "The goal of this notebook is to remove batch effect that occurs when we combine our transcriptomic data with the data obtained from refine.bio even after preprocessing with tximport and quantile normalization.\n",
    "\n",
    "Here we did not use the design parameter of the removeBatchEffect function.\n",
    "\n",
    "See the docs https://rdrr.io/bioc/limma/man/removeBatchEffect.html"
   ]
  },
  {
   "cell_type": "code",
   "execution_count": 2,
   "id": "d5d27353",
   "metadata": {
    "ExecuteTime": {
     "end_time": "2023-04-21T14:05:36.359835Z",
     "start_time": "2023-04-21T14:05:34.288Z"
    }
   },
   "outputs": [],
   "source": [
    "library(limma)\n",
    "\n",
    "x <- read.csv(\"../data/intermediate/x.csv\", row.names=1)\n",
    "batch <- read.csv(\"../data/intermediate/batch.csv\")\n",
    "design <- read.csv(\"../data/intermediate/design.csv\")\n",
    "\n",
    "be_removed <- removeBatchEffect(\n",
    "    x=x,\n",
    "    batch=batch[,2]\n",
    ")\n",
    "\n",
    "write.csv(be_removed, \"../data/intermediate/x_be_removed.csv\")"
   ]
  },
  {
   "cell_type": "code",
   "execution_count": null,
   "id": "cd1bf597",
   "metadata": {},
   "outputs": [],
   "source": []
  }
 ],
 "metadata": {
  "kernelspec": {
   "display_name": "R",
   "language": "R",
   "name": "ir"
  },
  "language_info": {
   "codemirror_mode": "r",
   "file_extension": ".r",
   "mimetype": "text/x-r-source",
   "name": "R",
   "pygments_lexer": "r",
   "version": "4.2.3"
  },
  "toc": {
   "base_numbering": 1,
   "nav_menu": {},
   "number_sections": true,
   "sideBar": true,
   "skip_h1_title": false,
   "title_cell": "Table of Contents",
   "title_sidebar": "Contents",
   "toc_cell": false,
   "toc_position": {},
   "toc_section_display": true,
   "toc_window_display": false
  }
 },
 "nbformat": 4,
 "nbformat_minor": 5
}
