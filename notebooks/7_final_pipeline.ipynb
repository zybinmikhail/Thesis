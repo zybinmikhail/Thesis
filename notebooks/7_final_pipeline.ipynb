{
 "cells": [
  {
   "cell_type": "markdown",
   "id": "e9c779d3",
   "metadata": {},
   "source": [
    "In this notebook we launch the following pipeline\n",
    "- comparison of variences between 75_regions dataset and OneBatch dataset\n",
    "- estimation of the parameters of lipids distributions in OneBatch\n",
    "- generation of fake brains from the estimated distributions\n",
    "- applying Random Forest ML algorithm to the generated data\n",
    "- identifying the most important features"
   ]
  },
  {
   "cell_type": "code",
   "execution_count": 1,
   "id": "624d527f",
   "metadata": {
    "ExecuteTime": {
     "end_time": "2023-04-06T13:26:59.264198Z",
     "start_time": "2023-04-06T13:26:57.858438Z"
    }
   },
   "outputs": [],
   "source": [
    "import numpy as np\n",
    "import pandas as pd\n",
    "from sklearn.ensemble import RandomForestClassifier\n",
    "from scipy.stats import norm\n",
    "from sklearn.model_selection import train_test_split\n",
    "from sklearn.metrics import accuracy_score\n",
    "import matplotlib.pyplot as plt"
   ]
  },
  {
   "cell_type": "code",
   "execution_count": 2,
   "id": "60175fe3",
   "metadata": {
    "ExecuteTime": {
     "end_time": "2023-04-06T13:26:59.297618Z",
     "start_time": "2023-04-06T13:26:59.266746Z"
    }
   },
   "outputs": [],
   "source": [
    "onebatch = pd.read_csv(\"../data/OneBatch3_FINAL2.csv\")"
   ]
  },
  {
   "cell_type": "code",
   "execution_count": 3,
   "id": "84db5085",
   "metadata": {
    "ExecuteTime": {
     "end_time": "2023-04-06T13:26:59.417672Z",
     "start_time": "2023-04-06T13:26:59.300467Z"
    }
   },
   "outputs": [],
   "source": [
    "h_lipids = pd.read_csv(\"../data/ours_maria_version/rtmz_H_pos_std_weight_norm_TL_COMBINED.csv\", index_col=0)\n",
    "sz_lipids = pd.read_csv(\"../data/ours_maria_version/rtmz_SZ_pos_std_weight_norm_TL_COMBINED.csv\", index_col=0)\n",
    "\n",
    "h_lipids.index = h_lipids.index.str.split(\".\").str[0]\n",
    "\n",
    "meta = pd.read_csv(\"../data/ours_maria_version/meta_pos_COMBINED.csv\")\n",
    "meta = meta[[\"Sample\", \"Brain_abbr\", \"Region_detailed\"]].set_index(\"Sample\")\n",
    "\n",
    "sz_lipids = meta.join(sz_lipids, how=\"inner\")\n",
    "sz_lipids[\"region_id\"] = sz_lipids.Region_detailed.str.split(\" \").str[0].astype(int)\n",
    "\n",
    "h_lipids = meta.join(h_lipids, how=\"inner\")\n",
    "h_lipids[\"region_id\"] = h_lipids.Region_detailed.str.split(\" \").str[0].astype(int)"
   ]
  },
  {
   "cell_type": "code",
   "execution_count": 4,
   "id": "dc6b2403",
   "metadata": {
    "ExecuteTime": {
     "end_time": "2023-04-06T13:26:59.431848Z",
     "start_time": "2023-04-06T13:26:59.420854Z"
    }
   },
   "outputs": [],
   "source": [
    "meta_lipids = pd.read_csv(\"../data/ours_maria_version/TL_combined.csv\")"
   ]
  },
  {
   "cell_type": "code",
   "execution_count": 5,
   "id": "39d92db9",
   "metadata": {
    "ExecuteTime": {
     "end_time": "2023-04-06T13:26:59.442914Z",
     "start_time": "2023-04-06T13:26:59.435336Z"
    }
   },
   "outputs": [],
   "source": [
    "h_lipids.columns = [\"Brain_abbr\", \"Region_detailed\"] + meta_lipids[\"Lipid.species\"].str.replace(\":\", \" \", regex=False).tolist() + [\"region_id\"]\n",
    "sz_lipids.columns = [\"Brain_abbr\", \"Region_detailed\"] + meta_lipids[\"Lipid.species\"].str.replace(\":\", \" \", regex=False).tolist() + [\"region_id\"]"
   ]
  },
  {
   "cell_type": "code",
   "execution_count": 6,
   "id": "10c045b6",
   "metadata": {
    "ExecuteTime": {
     "end_time": "2023-04-06T13:26:59.463549Z",
     "start_time": "2023-04-06T13:26:59.446663Z"
    }
   },
   "outputs": [
    {
     "name": "stdout",
     "output_type": "stream",
     "text": [
      "Lipids in 75 regions dataset, lipids in onebathc dataset, common lipids\n",
      "347 445 58\n",
      "Common lipids after removing duplicates\n"
     ]
    },
    {
     "data": {
      "text/plain": [
       "53"
      ]
     },
     "execution_count": 6,
     "metadata": {},
     "output_type": "execute_result"
    }
   ],
   "source": [
    "regions_75_lipids = meta_lipids[\"Lipid.species\"].str.replace(\":\", \" \").unique().tolist()\n",
    "onetabch_lipids = onebatch.columns[9:].str.replace(\".\", \" \", regex=False).tolist()\n",
    "common_lipids = list(set(regions_75_lipids) & set(onetabch_lipids))\n",
    "print(\"Lipids in 75 regions dataset, lipids in onebathc dataset, common lipids\")\n",
    "print(len(regions_75_lipids), len(onetabch_lipids), len(common_lipids))\n",
    "duplicates = h_lipids.columns.value_counts()[h_lipids.columns.value_counts() != 1].index\n",
    "print(\"Common lipids after removing duplicates\")\n",
    "common_lipids = list(set(common_lipids) - set(duplicates))\n",
    "len(common_lipids)"
   ]
  },
  {
   "cell_type": "code",
   "execution_count": 7,
   "id": "0b0c713f",
   "metadata": {
    "ExecuteTime": {
     "end_time": "2023-04-06T13:26:59.505959Z",
     "start_time": "2023-04-06T13:26:59.468733Z"
    }
   },
   "outputs": [
    {
     "data": {
      "text/html": [
       "<div>\n",
       "<style scoped>\n",
       "    .dataframe tbody tr th:only-of-type {\n",
       "        vertical-align: middle;\n",
       "    }\n",
       "\n",
       "    .dataframe tbody tr th {\n",
       "        vertical-align: top;\n",
       "    }\n",
       "\n",
       "    .dataframe thead th {\n",
       "        text-align: right;\n",
       "    }\n",
       "</style>\n",
       "<table border=\"1\" class=\"dataframe\">\n",
       "  <thead>\n",
       "    <tr style=\"text-align: right;\">\n",
       "      <th></th>\n",
       "      <th>Unnamed: 0</th>\n",
       "      <th>Sample</th>\n",
       "      <th>SZ</th>\n",
       "      <th>Type</th>\n",
       "      <th>Region</th>\n",
       "      <th>Donor</th>\n",
       "      <th>Order</th>\n",
       "      <th>Mass</th>\n",
       "      <th>MassCoef</th>\n",
       "      <th>PC 37 4</th>\n",
       "      <th>...</th>\n",
       "      <th>PC 39 6</th>\n",
       "      <th>FA 26 1</th>\n",
       "      <th>FA 22 1</th>\n",
       "      <th>LPE 22 4</th>\n",
       "      <th>PC 40 4</th>\n",
       "      <th>FA 24 1</th>\n",
       "      <th>LPC 18 1</th>\n",
       "      <th>FA 18 2</th>\n",
       "      <th>FA 16 1</th>\n",
       "      <th>LPE 22 6</th>\n",
       "    </tr>\n",
       "  </thead>\n",
       "  <tbody>\n",
       "    <tr>\n",
       "      <th>0</th>\n",
       "      <td>V19</td>\n",
       "      <td>HC10M_f_36_BA22p_x2_NEG_093</td>\n",
       "      <td>HC</td>\n",
       "      <td>Sample</td>\n",
       "      <td>CCp</td>\n",
       "      <td>HC10M</td>\n",
       "      <td>93</td>\n",
       "      <td>24.9</td>\n",
       "      <td>0.371845</td>\n",
       "      <td>20.528720</td>\n",
       "      <td>...</td>\n",
       "      <td>19.646327</td>\n",
       "      <td>19.665545</td>\n",
       "      <td>17.533708</td>\n",
       "      <td>21.150884</td>\n",
       "      <td>21.825713</td>\n",
       "      <td>18.021502</td>\n",
       "      <td>22.301464</td>\n",
       "      <td>19.802236</td>\n",
       "      <td>18.926980</td>\n",
       "      <td>21.256991</td>\n",
       "    </tr>\n",
       "    <tr>\n",
       "      <th>1</th>\n",
       "      <td>V20</td>\n",
       "      <td>HC10M_f_36_BA9_x2_NEG_041</td>\n",
       "      <td>HC</td>\n",
       "      <td>Sample</td>\n",
       "      <td>BA9</td>\n",
       "      <td>HC10M</td>\n",
       "      <td>41</td>\n",
       "      <td>16.4</td>\n",
       "      <td>-0.230605</td>\n",
       "      <td>21.056039</td>\n",
       "      <td>...</td>\n",
       "      <td>20.522596</td>\n",
       "      <td>13.190107</td>\n",
       "      <td>14.870293</td>\n",
       "      <td>21.667137</td>\n",
       "      <td>19.053217</td>\n",
       "      <td>13.704161</td>\n",
       "      <td>23.236950</td>\n",
       "      <td>19.929304</td>\n",
       "      <td>17.773405</td>\n",
       "      <td>24.423648</td>\n",
       "    </tr>\n",
       "    <tr>\n",
       "      <th>2</th>\n",
       "      <td>V21</td>\n",
       "      <td>HC10M_f_36_CCa_x2_NEG_092</td>\n",
       "      <td>HC</td>\n",
       "      <td>Sample</td>\n",
       "      <td>Cca</td>\n",
       "      <td>HC10M</td>\n",
       "      <td>92</td>\n",
       "      <td>21.1</td>\n",
       "      <td>0.132942</td>\n",
       "      <td>20.395336</td>\n",
       "      <td>...</td>\n",
       "      <td>19.377684</td>\n",
       "      <td>19.365424</td>\n",
       "      <td>17.826063</td>\n",
       "      <td>21.378536</td>\n",
       "      <td>21.056548</td>\n",
       "      <td>18.251102</td>\n",
       "      <td>22.727333</td>\n",
       "      <td>20.682577</td>\n",
       "      <td>19.851671</td>\n",
       "      <td>21.670136</td>\n",
       "    </tr>\n",
       "    <tr>\n",
       "      <th>3</th>\n",
       "      <td>V22</td>\n",
       "      <td>HC10M_f_36_CCp_x2_NEG_068</td>\n",
       "      <td>HC</td>\n",
       "      <td>Sample</td>\n",
       "      <td>BA22</td>\n",
       "      <td>HC10M</td>\n",
       "      <td>68</td>\n",
       "      <td>18.6</td>\n",
       "      <td>-0.048999</td>\n",
       "      <td>21.379987</td>\n",
       "      <td>...</td>\n",
       "      <td>21.172934</td>\n",
       "      <td>15.128922</td>\n",
       "      <td>15.486478</td>\n",
       "      <td>22.058812</td>\n",
       "      <td>19.263272</td>\n",
       "      <td>14.614521</td>\n",
       "      <td>23.777047</td>\n",
       "      <td>20.781089</td>\n",
       "      <td>18.194871</td>\n",
       "      <td>25.143806</td>\n",
       "    </tr>\n",
       "    <tr>\n",
       "      <th>4</th>\n",
       "      <td>V23</td>\n",
       "      <td>HC16M_f_54_BA22p_x2_NEG_006</td>\n",
       "      <td>HC</td>\n",
       "      <td>Sample</td>\n",
       "      <td>BA22</td>\n",
       "      <td>HC16M</td>\n",
       "      <td>6</td>\n",
       "      <td>14.6</td>\n",
       "      <td>-0.398333</td>\n",
       "      <td>20.998287</td>\n",
       "      <td>...</td>\n",
       "      <td>20.615993</td>\n",
       "      <td>16.958647</td>\n",
       "      <td>16.381023</td>\n",
       "      <td>22.127205</td>\n",
       "      <td>19.859302</td>\n",
       "      <td>15.986056</td>\n",
       "      <td>22.859857</td>\n",
       "      <td>18.941289</td>\n",
       "      <td>18.169637</td>\n",
       "      <td>23.747059</td>\n",
       "    </tr>\n",
       "  </tbody>\n",
       "</table>\n",
       "<p>5 rows × 62 columns</p>\n",
       "</div>"
      ],
      "text/plain": [
       "  Unnamed: 0                       Sample  SZ    Type Region  Donor  Order  \\\n",
       "0        V19  HC10M_f_36_BA22p_x2_NEG_093  HC  Sample    CCp  HC10M     93   \n",
       "1        V20    HC10M_f_36_BA9_x2_NEG_041  HC  Sample    BA9  HC10M     41   \n",
       "2        V21    HC10M_f_36_CCa_x2_NEG_092  HC  Sample    Cca  HC10M     92   \n",
       "3        V22    HC10M_f_36_CCp_x2_NEG_068  HC  Sample   BA22  HC10M     68   \n",
       "4        V23  HC16M_f_54_BA22p_x2_NEG_006  HC  Sample   BA22  HC16M      6   \n",
       "\n",
       "   Mass  MassCoef    PC 37 4  ...    PC 39 6    FA 26 1    FA 22 1   LPE 22 4  \\\n",
       "0  24.9  0.371845  20.528720  ...  19.646327  19.665545  17.533708  21.150884   \n",
       "1  16.4 -0.230605  21.056039  ...  20.522596  13.190107  14.870293  21.667137   \n",
       "2  21.1  0.132942  20.395336  ...  19.377684  19.365424  17.826063  21.378536   \n",
       "3  18.6 -0.048999  21.379987  ...  21.172934  15.128922  15.486478  22.058812   \n",
       "4  14.6 -0.398333  20.998287  ...  20.615993  16.958647  16.381023  22.127205   \n",
       "\n",
       "     PC 40 4    FA 24 1   LPC 18 1    FA 18 2    FA 16 1   LPE 22 6  \n",
       "0  21.825713  18.021502  22.301464  19.802236  18.926980  21.256991  \n",
       "1  19.053217  13.704161  23.236950  19.929304  17.773405  24.423648  \n",
       "2  21.056548  18.251102  22.727333  20.682577  19.851671  21.670136  \n",
       "3  19.263272  14.614521  23.777047  20.781089  18.194871  25.143806  \n",
       "4  19.859302  15.986056  22.859857  18.941289  18.169637  23.747059  \n",
       "\n",
       "[5 rows x 62 columns]"
      ]
     },
     "execution_count": 7,
     "metadata": {},
     "output_type": "execute_result"
    }
   ],
   "source": [
    "onebatch.columns = onebatch.columns.str.replace(\".\", \" \", regex=False)\n",
    "onebatch_only_common = onebatch[onebatch.columns[:9].tolist() + common_lipids]\n",
    "onebatch_only_common.head()"
   ]
  },
  {
   "cell_type": "markdown",
   "id": "dfdf4414",
   "metadata": {},
   "source": [
    "- BA9: 35 Dorsolateral Prefrontal Medial (BA9m), 34 Dorsolateral Prefrontal (BA9)\n",
    "- BA22: 26 2ary Auditory, language (BA22a), 28 2ary Auditory, Wernicke (BA22p)"
   ]
  },
  {
   "cell_type": "code",
   "execution_count": 8,
   "id": "410acbef",
   "metadata": {
    "ExecuteTime": {
     "end_time": "2023-04-06T13:26:59.513556Z",
     "start_time": "2023-04-06T13:26:59.509599Z"
    }
   },
   "outputs": [],
   "source": [
    "region_translate = {\n",
    "    \"CCp\": '74 Corpus Callosum Posterior',\n",
    "    \"BA9\": \"34 Dorsolateral Prefrontal (BA9)\",\n",
    "    \"Cca\": '73 Corpus Callosum Anterior',\n",
    "    \"BA22\": \"28 2ary Auditory, Wernicke (BA22p)\",\n",
    "}"
   ]
  },
  {
   "cell_type": "code",
   "execution_count": 9,
   "id": "8199efa3",
   "metadata": {
    "ExecuteTime": {
     "end_time": "2023-04-06T13:26:59.599785Z",
     "start_time": "2023-04-06T13:26:59.516572Z"
    }
   },
   "outputs": [
    {
     "data": {
      "text/html": [
       "<div>\n",
       "<style scoped>\n",
       "    .dataframe tbody tr th:only-of-type {\n",
       "        vertical-align: middle;\n",
       "    }\n",
       "\n",
       "    .dataframe tbody tr th {\n",
       "        vertical-align: top;\n",
       "    }\n",
       "\n",
       "    .dataframe thead th {\n",
       "        text-align: right;\n",
       "    }\n",
       "</style>\n",
       "<table border=\"1\" class=\"dataframe\">\n",
       "  <thead>\n",
       "    <tr style=\"text-align: right;\">\n",
       "      <th></th>\n",
       "      <th>SZ</th>\n",
       "      <th>region</th>\n",
       "      <th>mean fold-change</th>\n",
       "    </tr>\n",
       "  </thead>\n",
       "  <tbody>\n",
       "    <tr>\n",
       "      <th>0</th>\n",
       "      <td>HC</td>\n",
       "      <td>CCp</td>\n",
       "      <td>3.8584557776914075</td>\n",
       "    </tr>\n",
       "    <tr>\n",
       "      <th>1</th>\n",
       "      <td>HC</td>\n",
       "      <td>BA9</td>\n",
       "      <td>8.845302318834811</td>\n",
       "    </tr>\n",
       "    <tr>\n",
       "      <th>2</th>\n",
       "      <td>HC</td>\n",
       "      <td>Cca</td>\n",
       "      <td>10.414131370864434</td>\n",
       "    </tr>\n",
       "    <tr>\n",
       "      <th>3</th>\n",
       "      <td>HC</td>\n",
       "      <td>BA22</td>\n",
       "      <td>4.583070182642497</td>\n",
       "    </tr>\n",
       "    <tr>\n",
       "      <th>4</th>\n",
       "      <td>SZ</td>\n",
       "      <td>CCp</td>\n",
       "      <td>15.186059929472062</td>\n",
       "    </tr>\n",
       "    <tr>\n",
       "      <th>5</th>\n",
       "      <td>SZ</td>\n",
       "      <td>BA9</td>\n",
       "      <td>62.22744646999254</td>\n",
       "    </tr>\n",
       "    <tr>\n",
       "      <th>6</th>\n",
       "      <td>SZ</td>\n",
       "      <td>Cca</td>\n",
       "      <td>3.0123983251629682</td>\n",
       "    </tr>\n",
       "    <tr>\n",
       "      <th>7</th>\n",
       "      <td>SZ</td>\n",
       "      <td>BA22</td>\n",
       "      <td>7.210816332870764</td>\n",
       "    </tr>\n",
       "  </tbody>\n",
       "</table>\n",
       "</div>"
      ],
      "text/plain": [
       "   SZ region    mean fold-change\n",
       "0  HC    CCp  3.8584557776914075\n",
       "1  HC    BA9   8.845302318834811\n",
       "2  HC    Cca  10.414131370864434\n",
       "3  HC   BA22   4.583070182642497\n",
       "4  SZ    CCp  15.186059929472062\n",
       "5  SZ    BA9   62.22744646999254\n",
       "6  SZ    Cca  3.0123983251629682\n",
       "7  SZ   BA22   7.210816332870764"
      ]
     },
     "execution_count": 9,
     "metadata": {},
     "output_type": "execute_result"
    }
   ],
   "source": [
    "fake_dataset = []\n",
    "\n",
    "table = []\n",
    "for human_type in [\"HC\", \"SZ\"]:\n",
    "    for region_nm in onebatch.Region.unique():\n",
    "        to_plot = onebatch_only_common[(onebatch_only_common.SZ == human_type) & (onebatch_only_common.Region == region_nm)]\n",
    "\n",
    "        onebatch_lipids = to_plot[common_lipids]\n",
    "        if human_type == \"HC\":\n",
    "            regions_75_lipids = h_lipids[h_lipids[\"Region_detailed\"] == region_translate[region_nm]][common_lipids]\n",
    "        else:\n",
    "            regions_75_lipids = sz_lipids[sz_lipids[\"Region_detailed\"] == region_translate[region_nm]][common_lipids]\n",
    "        table.append([human_type, region_nm, (onebatch_lipids.var() / regions_75_lipids.var()).mean()])\n",
    "        generated = np.random.normal(loc=onebatch_lipids.mean(), scale=onebatch_lipids.var(), size=(1000, 53))\n",
    "        fake_dataset.append(generated)\n",
    "pd.DataFrame(np.array(table), columns=[\"SZ\", \"region\", \"mean fold-change\"])"
   ]
  },
  {
   "cell_type": "code",
   "execution_count": 10,
   "id": "d2f47272",
   "metadata": {
    "ExecuteTime": {
     "end_time": "2023-04-06T13:26:59.618386Z",
     "start_time": "2023-04-06T13:26:59.608821Z"
    }
   },
   "outputs": [],
   "source": [
    "hc_fake = np.hstack(fake_dataset[:4])\n",
    "sz_fake = np.hstack(fake_dataset[4:])\n",
    "fake_dataset = np.vstack([hc_fake, sz_fake])"
   ]
  },
  {
   "cell_type": "code",
   "execution_count": 11,
   "id": "0b96130f",
   "metadata": {
    "ExecuteTime": {
     "end_time": "2023-04-06T13:26:59.885153Z",
     "start_time": "2023-04-06T13:26:59.877736Z"
    }
   },
   "outputs": [
    {
     "data": {
      "text/plain": [
       "0      PC 37 4\n",
       "1     CAR 18 1\n",
       "2     LPC 18 0\n",
       "3      FA 22 3\n",
       "4      FA 20 1\n",
       "5      FA 22 4\n",
       "6      PC 42 4\n",
       "7     LPE 20 2\n",
       "8      FA 17 0\n",
       "9     LPC 20 3\n",
       "10     FA 20 5\n",
       "11     PC 42 9\n",
       "12    LPC 20 1\n",
       "13     PC 37 1\n",
       "14    LPC 22 4\n",
       "15     PC 35 3\n",
       "16     PC 42 2\n",
       "17    LPE 18 1\n",
       "18    LPC 20 4\n",
       "19     FA 22 0\n",
       "20     FA 20 4\n",
       "21    LPC 22 5\n",
       "22     FA 16 0\n",
       "23     FA 20 0\n",
       "24     PC 34 2\n",
       "25     FA 24 5\n",
       "26     FA 24 4\n",
       "27    LPE 18 0\n",
       "28     PC 37 2\n",
       "29    LPE 16 0\n",
       "30     PC 42 7\n",
       "31     FA 18 1\n",
       "32     FA 22 6\n",
       "33    LPE 20 1\n",
       "34    LPC 22 6\n",
       "35     FA 20 3\n",
       "36    LPE 24 4\n",
       "37     PC 37 5\n",
       "38     FA 22 2\n",
       "39    CAR 18 0\n",
       "40     FA 22 5\n",
       "41     PC 42 8\n",
       "42    LPE 20 4\n",
       "43     PC 39 6\n",
       "44     FA 26 1\n",
       "45     FA 22 1\n",
       "46    LPE 22 4\n",
       "47     PC 40 4\n",
       "48     FA 24 1\n",
       "49    LPC 18 1\n",
       "50     FA 18 2\n",
       "51     FA 16 1\n",
       "52    LPE 22 6\n",
       "dtype: object"
      ]
     },
     "execution_count": 11,
     "metadata": {},
     "output_type": "execute_result"
    }
   ],
   "source": [
    "pd.Series(common_lipids)"
   ]
  },
  {
   "cell_type": "code",
   "execution_count": 12,
   "id": "d6e2090c",
   "metadata": {
    "ExecuteTime": {
     "end_time": "2023-04-06T13:27:00.268991Z",
     "start_time": "2023-04-06T13:27:00.262138Z"
    }
   },
   "outputs": [],
   "source": [
    "feature_names = []\n",
    "for region_nm in onebatch.Region.unique():\n",
    "    feature_names += ((region_nm + \"_\") + pd.Series(common_lipids)).values.tolist()\n",
    "\n",
    "feature_names = np.array(feature_names)\n",
    "\n",
    "y = np.ones(2000)\n",
    "y[:1000] = 0\n",
    "\n",
    "rf = RandomForestClassifier()"
   ]
  },
  {
   "cell_type": "code",
   "execution_count": 13,
   "id": "1d287bb2",
   "metadata": {
    "ExecuteTime": {
     "end_time": "2023-04-06T13:27:00.463446Z",
     "start_time": "2023-04-06T13:27:00.458229Z"
    }
   },
   "outputs": [],
   "source": [
    "X_train, X_test, y_train, y_test = train_test_split(fake_dataset, y, test_size=0.2, shuffle=True)"
   ]
  },
  {
   "cell_type": "code",
   "execution_count": 14,
   "id": "b97d95d8",
   "metadata": {
    "ExecuteTime": {
     "end_time": "2023-04-06T13:27:01.715579Z",
     "start_time": "2023-04-06T13:27:00.623395Z"
    },
    "scrolled": true
   },
   "outputs": [
    {
     "data": {
      "text/html": [
       "<style>#sk-container-id-1 {color: black;background-color: white;}#sk-container-id-1 pre{padding: 0;}#sk-container-id-1 div.sk-toggleable {background-color: white;}#sk-container-id-1 label.sk-toggleable__label {cursor: pointer;display: block;width: 100%;margin-bottom: 0;padding: 0.3em;box-sizing: border-box;text-align: center;}#sk-container-id-1 label.sk-toggleable__label-arrow:before {content: \"▸\";float: left;margin-right: 0.25em;color: #696969;}#sk-container-id-1 label.sk-toggleable__label-arrow:hover:before {color: black;}#sk-container-id-1 div.sk-estimator:hover label.sk-toggleable__label-arrow:before {color: black;}#sk-container-id-1 div.sk-toggleable__content {max-height: 0;max-width: 0;overflow: hidden;text-align: left;background-color: #f0f8ff;}#sk-container-id-1 div.sk-toggleable__content pre {margin: 0.2em;color: black;border-radius: 0.25em;background-color: #f0f8ff;}#sk-container-id-1 input.sk-toggleable__control:checked~div.sk-toggleable__content {max-height: 200px;max-width: 100%;overflow: auto;}#sk-container-id-1 input.sk-toggleable__control:checked~label.sk-toggleable__label-arrow:before {content: \"▾\";}#sk-container-id-1 div.sk-estimator input.sk-toggleable__control:checked~label.sk-toggleable__label {background-color: #d4ebff;}#sk-container-id-1 div.sk-label input.sk-toggleable__control:checked~label.sk-toggleable__label {background-color: #d4ebff;}#sk-container-id-1 input.sk-hidden--visually {border: 0;clip: rect(1px 1px 1px 1px);clip: rect(1px, 1px, 1px, 1px);height: 1px;margin: -1px;overflow: hidden;padding: 0;position: absolute;width: 1px;}#sk-container-id-1 div.sk-estimator {font-family: monospace;background-color: #f0f8ff;border: 1px dotted black;border-radius: 0.25em;box-sizing: border-box;margin-bottom: 0.5em;}#sk-container-id-1 div.sk-estimator:hover {background-color: #d4ebff;}#sk-container-id-1 div.sk-parallel-item::after {content: \"\";width: 100%;border-bottom: 1px solid gray;flex-grow: 1;}#sk-container-id-1 div.sk-label:hover label.sk-toggleable__label {background-color: #d4ebff;}#sk-container-id-1 div.sk-serial::before {content: \"\";position: absolute;border-left: 1px solid gray;box-sizing: border-box;top: 0;bottom: 0;left: 50%;z-index: 0;}#sk-container-id-1 div.sk-serial {display: flex;flex-direction: column;align-items: center;background-color: white;padding-right: 0.2em;padding-left: 0.2em;position: relative;}#sk-container-id-1 div.sk-item {position: relative;z-index: 1;}#sk-container-id-1 div.sk-parallel {display: flex;align-items: stretch;justify-content: center;background-color: white;position: relative;}#sk-container-id-1 div.sk-item::before, #sk-container-id-1 div.sk-parallel-item::before {content: \"\";position: absolute;border-left: 1px solid gray;box-sizing: border-box;top: 0;bottom: 0;left: 50%;z-index: -1;}#sk-container-id-1 div.sk-parallel-item {display: flex;flex-direction: column;z-index: 1;position: relative;background-color: white;}#sk-container-id-1 div.sk-parallel-item:first-child::after {align-self: flex-end;width: 50%;}#sk-container-id-1 div.sk-parallel-item:last-child::after {align-self: flex-start;width: 50%;}#sk-container-id-1 div.sk-parallel-item:only-child::after {width: 0;}#sk-container-id-1 div.sk-dashed-wrapped {border: 1px dashed gray;margin: 0 0.4em 0.5em 0.4em;box-sizing: border-box;padding-bottom: 0.4em;background-color: white;}#sk-container-id-1 div.sk-label label {font-family: monospace;font-weight: bold;display: inline-block;line-height: 1.2em;}#sk-container-id-1 div.sk-label-container {text-align: center;}#sk-container-id-1 div.sk-container {/* jupyter's `normalize.less` sets `[hidden] { display: none; }` but bootstrap.min.css set `[hidden] { display: none !important; }` so we also need the `!important` here to be able to override the default hidden behavior on the sphinx rendered scikit-learn.org. See: https://github.com/scikit-learn/scikit-learn/issues/21755 */display: inline-block !important;position: relative;}#sk-container-id-1 div.sk-text-repr-fallback {display: none;}</style><div id=\"sk-container-id-1\" class=\"sk-top-container\"><div class=\"sk-text-repr-fallback\"><pre>RandomForestClassifier()</pre><b>In a Jupyter environment, please rerun this cell to show the HTML representation or trust the notebook. <br />On GitHub, the HTML representation is unable to render, please try loading this page with nbviewer.org.</b></div><div class=\"sk-container\" hidden><div class=\"sk-item\"><div class=\"sk-estimator sk-toggleable\"><input class=\"sk-toggleable__control sk-hidden--visually\" id=\"sk-estimator-id-1\" type=\"checkbox\" checked><label for=\"sk-estimator-id-1\" class=\"sk-toggleable__label sk-toggleable__label-arrow\">RandomForestClassifier</label><div class=\"sk-toggleable__content\"><pre>RandomForestClassifier()</pre></div></div></div></div></div>"
      ],
      "text/plain": [
       "RandomForestClassifier()"
      ]
     },
     "execution_count": 14,
     "metadata": {},
     "output_type": "execute_result"
    }
   ],
   "source": [
    "rf.fit(X_train, y_train)"
   ]
  },
  {
   "cell_type": "code",
   "execution_count": 15,
   "id": "bb909e9d",
   "metadata": {
    "ExecuteTime": {
     "end_time": "2023-04-06T13:27:01.746870Z",
     "start_time": "2023-04-06T13:27:01.719756Z"
    }
   },
   "outputs": [
    {
     "data": {
      "text/plain": [
       "1.0"
      ]
     },
     "execution_count": 15,
     "metadata": {},
     "output_type": "execute_result"
    }
   ],
   "source": [
    "accuracy_score(rf.predict(X_test), y_test)"
   ]
  },
  {
   "cell_type": "code",
   "execution_count": 16,
   "id": "bec98add",
   "metadata": {
    "ExecuteTime": {
     "end_time": "2023-04-06T13:27:02.008586Z",
     "start_time": "2023-04-06T13:27:01.751300Z"
    }
   },
   "outputs": [
    {
     "data": {
      "image/png": "[encoded data removed]",
      "text/plain": [
       "<Figure size 640x480 with 1 Axes>"
      ]
     },
     "metadata": {},
     "output_type": "display_data"
    }
   ],
   "source": [
    "plt.hist(rf.feature_importances_)\n",
    "plt.show()"
   ]
  },
  {
   "cell_type": "code",
   "execution_count": 18,
   "id": "a04d1e44",
   "metadata": {
    "ExecuteTime": {
     "end_time": "2023-04-06T13:27:19.554060Z",
     "start_time": "2023-04-06T13:27:19.535370Z"
    }
   },
   "outputs": [
    {
     "name": "stdout",
     "output_type": "stream",
     "text": [
      "['CCp_FA 22 4' 'CCp_PC 42 2' 'CCp_FA 18 1' 'CCp_FA 20 3' 'CCp_FA 26 1'\n",
      " 'CCp_FA 22 1' 'BA9_LPC 18 0' 'BA9_PC 34 2' 'Cca_FA 20 1' 'Cca_FA 22 4'\n",
      " 'Cca_FA 20 4' 'Cca_FA 18 1' 'Cca_FA 20 3' 'Cca_FA 22 2' 'Cca_FA 22 1'\n",
      " 'BA22_PC 37 4']\n"
     ]
    }
   ],
   "source": [
    "print(feature_names[rf.feature_importances_ > .02])"
   ]
  },
  {
   "cell_type": "code",
   "execution_count": null,
   "id": "11a2f088",
   "metadata": {},
   "outputs": [],
   "source": []
  },
  {
   "cell_type": "code",
   "execution_count": null,
   "id": "db5df186",
   "metadata": {},
   "outputs": [],
   "source": []
  }
 ],
 "metadata": {
  "kernelspec": {
   "display_name": "thesis",
   "language": "python",
   "name": "thesis"
  },
  "language_info": {
   "codemirror_mode": {
    "name": "ipython",
    "version": 3
   },
   "file_extension": ".py",
   "mimetype": "text/x-python",
   "name": "python",
   "nbconvert_exporter": "python",
   "pygments_lexer": "ipython3",
   "version": "3.10.10"
  },
  "toc": {
   "base_numbering": 1,
   "nav_menu": {},
   "number_sections": true,
   "sideBar": true,
   "skip_h1_title": false,
   "title_cell": "Table of Contents",
   "title_sidebar": "Contents",
   "toc_cell": false,
   "toc_position": {},
   "toc_section_display": true,
   "toc_window_display": false
  }
 },
 "nbformat": 4,
 "nbformat_minor": 5
}
