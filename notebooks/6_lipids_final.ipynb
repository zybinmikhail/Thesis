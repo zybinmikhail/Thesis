{
 "cells": [
  {
   "cell_type": "markdown",
   "id": "e9c779d3",
   "metadata": {},
   "source": [
    "In this notebook we launch the following pipeline\n",
    "- comparison of variences between 75_regions dataset and OneBatch dataset\n",
    "- estimation of the parameters of lipids distributions in OneBatch\n",
    "- generation of fake brains from the estimated distributions\n",
    "- applying Random Forest ML algorithm to the generated data\n",
    "- identifying the most important features"
   ]
  },
  {
   "cell_type": "code",
   "execution_count": 1,
   "id": "624d527f",
   "metadata": {
    "ExecuteTime": {
     "end_time": "2023-05-12T12:48:37.855661Z",
     "start_time": "2023-05-12T12:48:34.809803Z"
    }
   },
   "outputs": [
    {
     "name": "stderr",
     "output_type": "stream",
     "text": [
      "Intel(R) Extension for Scikit-learn* enabled (https://github.com/intel/scikit-learn-intelex)\n"
     ]
    }
   ],
   "source": [
    "import numpy as np\n",
    "import pandas as pd\n",
    "import matplotlib.pyplot as plt\n",
    "import seaborn as sns\n",
    "\n",
    "from sklearnex import patch_sklearn\n",
    "patch_sklearn()\n",
    "\n",
    "from sklearn.decomposition import PCA\n",
    "from sklearn.ensemble import RandomForestClassifier\n",
    "from sklearn.inspection import permutation_importance\n",
    "from sklearn.linear_model import LogisticRegression\n",
    "from sklearn.manifold import MDS\n",
    "from sklearn.metrics import accuracy_score\n",
    "from sklearn.model_selection import train_test_split\n",
    "from sklearn.preprocessing import StandardScaler\n",
    "from scipy.stats import norm\n",
    "\n",
    "from copy import copy\n",
    "\n",
    "import warnings\n",
    "warnings.filterwarnings('ignore')"
   ]
  },
  {
   "cell_type": "code",
   "execution_count": 2,
   "id": "5b51b71b",
   "metadata": {
    "ExecuteTime": {
     "end_time": "2023-05-12T12:48:37.865487Z",
     "start_time": "2023-05-12T12:48:37.859959Z"
    }
   },
   "outputs": [],
   "source": [
    "sns.set_theme()\n",
    "sns.set_context(\"paper\")\n",
    "sns.set_palette(\"Set2\")"
   ]
  },
  {
   "cell_type": "markdown",
   "id": "70fcb6ba",
   "metadata": {},
   "source": [
    "# Helpful functions"
   ]
  },
  {
   "cell_type": "code",
   "execution_count": 3,
   "id": "d2d0a67b",
   "metadata": {
    "ExecuteTime": {
     "end_time": "2023-05-12T12:48:37.888181Z",
     "start_time": "2023-05-12T12:48:37.871674Z"
    }
   },
   "outputs": [],
   "source": [
    "def get_only_four(lipids):\n",
    "    \"\"\"Obtain the regions for which exactly four observations for distinct brains are available.\n",
    "    \"\"\"\n",
    "    brains_per_region = lipids.groupby(\"region\")[\"human\"].apply(lambda x: str(sorted(list(x))))\n",
    "    brains_set = str(sorted(list(set(lipids.human.unique()))))\n",
    "    only_four = set(brains_per_region[brains_per_region == brains_set].index)\n",
    "    return only_four\n",
    "\n",
    "\n",
    "def normalize_slow(dataset):\n",
    "    \"\"\"Subtract mean over regions for every molecule in each brain.\n",
    "    \"\"\"\n",
    "    new_dataset = []\n",
    "    for brain in sorted(dataset.human.unique()):\n",
    "        existing_values = dataset[dataset[\"human\"] == brain].iloc[:, 2:]\n",
    "        mean_per_brain = existing_values.mean()\n",
    "        new_dataset.append(existing_values.values - mean_per_brain.values)\n",
    "\n",
    "    new_dataset = pd.DataFrame(np.concatenate(new_dataset))\n",
    "    new_dataset.insert(loc=0, column=\"human\", value=dataset.human.values)\n",
    "    new_dataset.insert(loc=1, column=\"region\", value=dataset.region.values)\n",
    "    new_dataset.columns = dataset.columns\n",
    "    return new_dataset\n",
    "\n",
    "\n",
    "def normalize(dataset):\n",
    "    means = dataset.drop(columns=[\"region\"]).groupby(\"human\").mean().reset_index()\n",
    "    mean_repeated = means.iloc[means.index.repeat(dataset.region.nunique())].reset_index(drop=True)\n",
    "    dataset.iloc[:, 2:] = dataset.iloc[:, 2:] - mean_repeated.iloc[:, 1:]\n",
    "    return dataset\n",
    "\n",
    "\n",
    "def prepare_for_dim_reduction(dataset):\n",
    "    \"\"\"Reshape the dataset in such a way that all observation for each brain become a single vector.\n",
    "    \"\"\"\n",
    "    new_dataset = []\n",
    "    for brain in sorted(dataset.human.unique()):\n",
    "        existing_values = dataset[dataset[\"human\"] == brain].iloc[:, 2:].values.reshape(1, -1)\n",
    "        new_dataset.append(existing_values)\n",
    "    new_dataset = np.concatenate(new_dataset)\n",
    "    return new_dataset\n",
    "\n",
    "\n",
    "\n",
    "def check_normalization(dataset):\n",
    "    for brain in dataset.human.unique():\n",
    "        if abs(dataset[dataset.human == brain].mean().mean()) > 1e-10:\n",
    "            print(\"Unnormalized\")\n",
    "            return\n",
    "    print(\"Normalized\")\n",
    "    return"
   ]
  },
  {
   "cell_type": "code",
   "execution_count": null,
   "id": "e4060aa0",
   "metadata": {},
   "outputs": [],
   "source": []
  },
  {
   "cell_type": "code",
   "execution_count": 4,
   "id": "f0ff1434",
   "metadata": {
    "ExecuteTime": {
     "end_time": "2023-05-12T12:48:37.926766Z",
     "start_time": "2023-05-12T12:48:37.893349Z"
    }
   },
   "outputs": [],
   "source": [
    "%load_ext autoreload\n",
    "%autoreload 2\n",
    "\n",
    "import sys\n",
    "sys.path.append(\"..\")\n",
    "from utils import get_tr_data"
   ]
  },
  {
   "cell_type": "markdown",
   "id": "0bb110a3",
   "metadata": {},
   "source": [
    "# read the data"
   ]
  },
  {
   "cell_type": "code",
   "execution_count": 5,
   "id": "74e6c079",
   "metadata": {
    "ExecuteTime": {
     "end_time": "2023-05-12T12:48:37.954620Z",
     "start_time": "2023-05-12T12:48:37.929656Z"
    }
   },
   "outputs": [],
   "source": [
    "use_genes = True"
   ]
  },
  {
   "cell_type": "code",
   "execution_count": 6,
   "id": "94669534",
   "metadata": {
    "ExecuteTime": {
     "end_time": "2023-05-12T12:48:39.557324Z",
     "start_time": "2023-05-12T12:48:37.957202Z"
    }
   },
   "outputs": [],
   "source": [
    "onebatch = pd.read_csv(\"../data/OneBatch3_FINAL2.csv\").sort_values(by=[\"Donor\", \"Region\"])\n",
    "\n",
    "h_molecules = pd.read_csv(\"../data/ours_maria_version/rtmz_H_pos_std_weight_norm_TL_COMBINED.csv\", index_col=0)\n",
    "sz_molecules = pd.read_csv(\"../data/ours_maria_version/rtmz_SZ_pos_std_weight_norm_TL_COMBINED.csv\", index_col=0)\n",
    "\n",
    "h_molecules.index = h_molecules.index.str.split(\".\").str[0]\n",
    "\n",
    "meta = pd.read_csv(\"../data/ours_maria_version/meta_pos_COMBINED.csv\")\n",
    "meta = meta[[\"Sample\", \"Brain_abbr\", \"Region_detailed\"]].set_index(\"Sample\")\n",
    "\n",
    "sz_molecules = meta.join(sz_molecules, how=\"inner\")\n",
    "# sz_molecules[\"region_id\"] = sz_molecules.Region_detailed.str.split(\" \").str[0].astype(int)\n",
    "\n",
    "h_molecules = meta.join(h_molecules, how=\"inner\")\n",
    "# h_molecules[\"region_id\"] = h_molecules.Region_detailed.str.split(\" \").str[0].astype(int)\n",
    "\n",
    "meta_lipids = pd.read_csv(\"../data/ours_maria_version/TL_combined.csv\")\n",
    "lipid_species_colon_replaced = meta_lipids[\"Lipid.species\"].str.replace(\":\", \" \", regex=False).tolist()\n",
    "lipids_columns = [\"Brain_abbr\", \"Region_detailed\"] + lipid_species_colon_replaced\n",
    "h_molecules.columns = lipids_columns\n",
    "sz_molecules.columns = lipids_columns\n",
    "\n",
    "h_molecules = (\n",
    "    h_molecules\n",
    "    .sort_values(by=[\"Brain_abbr\", \"Region_detailed\"])\n",
    "    .rename(columns={\"Brain_abbr\": \"human\", \"Region_detailed\": \"region\"})\n",
    "    .reset_index(drop=True)\n",
    ")\n",
    "sz_molecules = (\n",
    "    sz_molecules\n",
    "    .sort_values(by=[\"Brain_abbr\", \"Region_detailed\"])\n",
    "    .rename(columns={\"Brain_abbr\": \"human\", \"Region_detailed\": \"region\"})\n",
    ")\n",
    "        \n",
    "if use_genes:\n",
    "    h_molecules = (\n",
    "        get_tr_data(True)\n",
    "        .reset_index()\n",
    "        .drop(columns=[\"batch\"])\n",
    "    )\n",
    "    sz_molecules = (\n",
    "        get_tr_data(False)\n",
    "        .reset_index()\n",
    "        .drop(columns=[\"batch\"])\n",
    "    )\n",
    "    common_columns = list(h_molecules.columns[:2]) + sorted(list(set(h_molecules.columns[2:]) & set(sz_molecules.columns[2:])))    \n",
    "    h_molecules = h_molecules[common_columns]\n",
    "    sz_molecules = sz_molecules[common_columns]    "
   ]
  },
  {
   "cell_type": "code",
   "execution_count": 7,
   "id": "19bd7a95",
   "metadata": {
    "ExecuteTime": {
     "end_time": "2023-05-12T12:48:39.602641Z",
     "start_time": "2023-05-12T12:48:39.559832Z"
    }
   },
   "outputs": [
    {
     "data": {
      "text/plain": [
       "region\n",
       "1  Cerebellar Grey Matter                    4\n",
       "15 1ary Motor (BA4)                          4\n",
       "16 1ary Auditory (BA41/42)                   4\n",
       "17 1ary Visual Anterior (BA17a)              4\n",
       "18 1ary Somatosensory (BA3/1/2)              4\n",
       "27 2ary/3ary Visual Anterior (BA18/19a)      4\n",
       "28 2ary Auditory, Wernicke (BA22p)           4\n",
       "29 Precuneus (BA7m)                          4\n",
       "30 Premotor Anterior Lateral (BA6a)          4\n",
       "31 Supramarginal Posterior (BA40p)           4\n",
       "32 Ventrolateral Prefrontal, Broca (BA44)    4\n",
       "33 Anterior Inferior Temporal (BA20a)        4\n",
       "34 Dorsolateral Prefrontal (BA9)             4\n",
       "37 2ary Auditory Anterior (BA21a)            4\n",
       "43 Temporopolar (BA38)                       4\n",
       "46 Prefrontal Medial (BA10m)                 4\n",
       "47 Cingulate Posterior (BA31)                4\n",
       "48 Cingulate Anterior (BA24)                 4\n",
       "49 Cingulate Anterior (BA32)                 4\n",
       "50 Orbitofrontal (BA11)                      4\n",
       "52 Amygdala                                  4\n",
       "53 Insular Posterior Cortex                  4\n",
       "54 Entorhinal Cortex                         4\n",
       "55 Hippocampus, CA3 / Dentate Gyrus          4\n",
       "56 Nucleus Accumbens                         4\n",
       "57 Caudate                                   4\n",
       "58 Putamen                                   4\n",
       "63 Substantia Nigra                          4\n",
       "64 Globus Pallidus                           4\n",
       "68 Medial Dorsal Thalamus                    4\n",
       "69 Hypothalamus                              4\n",
       "72 Internal Capsule                          4\n",
       "73 Corpus Callosum Anterior                  4\n",
       "74 Corpus Callosum Posterior                 4\n",
       "75 Cerebellar White Matter                   4\n",
       "Name: human, dtype: int64"
      ]
     },
     "execution_count": 7,
     "metadata": {},
     "output_type": "execute_result"
    }
   ],
   "source": [
    "h_molecules.groupby(\"region\")[\"human\"].apply(len)"
   ]
  },
  {
   "cell_type": "code",
   "execution_count": 8,
   "id": "9df09d46",
   "metadata": {
    "ExecuteTime": {
     "end_time": "2023-05-12T12:48:39.644795Z",
     "start_time": "2023-05-12T12:48:39.605043Z"
    }
   },
   "outputs": [],
   "source": [
    "vc_h = h_molecules.region.value_counts()\n",
    "vc_sz = sz_molecules.region.value_counts()\n"
   ]
  },
  {
   "cell_type": "code",
   "execution_count": 9,
   "id": "d2bb3efd",
   "metadata": {
    "ExecuteTime": {
     "end_time": "2023-05-12T12:48:39.681948Z",
     "start_time": "2023-05-12T12:48:39.648040Z"
    }
   },
   "outputs": [],
   "source": [
    "vc = pd.concat([vc_h, vc_sz], axis=1).reset_index()\n",
    "vc.columns = [\"Region\", \"HC samples\", \"SZ samples\"]\n",
    "vc.Region = vc.Region.apply(lambda x: \" \".join(x.split()[1:]))"
   ]
  },
  {
   "cell_type": "code",
   "execution_count": 10,
   "id": "65986f77",
   "metadata": {
    "ExecuteTime": {
     "end_time": "2023-05-12T12:48:39.715996Z",
     "start_time": "2023-05-12T12:48:39.688414Z"
    }
   },
   "outputs": [],
   "source": [
    "# print(\", \".join(vc[(vc[\"HC samples\"] == 4) & (vc[\"SZ samples\"] == 4)].Region.tolist()))"
   ]
  },
  {
   "cell_type": "code",
   "execution_count": 11,
   "id": "e4df3b1c",
   "metadata": {
    "ExecuteTime": {
     "end_time": "2023-05-12T12:48:39.743273Z",
     "start_time": "2023-05-12T12:48:39.719518Z"
    }
   },
   "outputs": [],
   "source": [
    "# print(vc[(vc[\"HC samples\"] != 4) | (vc[\"SZ samples\"] != 4)].reset_index(drop=True).to_latex(index=False))\n",
    "# print(vc.reset_index(drop=True).to_latex(index=False))"
   ]
  },
  {
   "cell_type": "markdown",
   "id": "c4b6c6f4",
   "metadata": {},
   "source": [
    "## Investigate"
   ]
  },
  {
   "cell_type": "code",
   "execution_count": 12,
   "id": "10c045b6",
   "metadata": {
    "ExecuteTime": {
     "end_time": "2023-05-12T12:48:39.810865Z",
     "start_time": "2023-05-12T12:48:39.745924Z"
    }
   },
   "outputs": [
    {
     "name": "stdout",
     "output_type": "stream",
     "text": [
      "Lipids in 75 regions dataset, lipids in onebathc dataset, common lipids:\n",
      "347 445 58\n",
      "\n",
      "Common lipids after removing duplicates:\n",
      "58\n",
      "\n",
      "Num of regions for which there are 4 SZ and 4 HC observations\n",
      "35\n"
     ]
    }
   ],
   "source": [
    "regions_75_lipids = meta_lipids[\"Lipid.species\"].str.replace(\":\", \" \").unique().tolist()\n",
    "onebatch_molecules = onebatch.columns[9:].str.replace(\".\", \" \", regex=False).tolist()\n",
    "common_molecules = list(set(regions_75_lipids) & set(onebatch_molecules))\n",
    "common_molecules = np.array(common_molecules)\n",
    "print(\"Lipids in 75 regions dataset, lipids in onebathc dataset, common lipids:\")\n",
    "print(len(regions_75_lipids), len(onebatch_molecules), len(common_molecules))\n",
    "duplicates = h_molecules.columns.value_counts()[h_molecules.columns.value_counts() != 1].index\n",
    "print(\"\\nCommon lipids after removing duplicates:\")\n",
    "common_molecules = list(set(common_molecules) - set(duplicates))\n",
    "print(len(common_molecules))\n",
    "\n",
    "h_only_four = get_only_four(h_molecules)\n",
    "sz_only_four = get_only_four(sz_molecules)\n",
    "regions_only_four = list(h_only_four & sz_only_four)\n",
    "print(\"\\nNum of regions for which there are 4 SZ and 4 HC observations\")\n",
    "print(len(regions_only_four))"
   ]
  },
  {
   "cell_type": "code",
   "execution_count": 13,
   "id": "0cfebf75",
   "metadata": {
    "ExecuteTime": {
     "end_time": "2023-05-12T12:48:39.871221Z",
     "start_time": "2023-05-12T12:48:39.813487Z"
    }
   },
   "outputs": [
    {
     "data": {
      "text/html": [
       "<div>\n",
       "<style scoped>\n",
       "    .dataframe tbody tr th:only-of-type {\n",
       "        vertical-align: middle;\n",
       "    }\n",
       "\n",
       "    .dataframe tbody tr th {\n",
       "        vertical-align: top;\n",
       "    }\n",
       "\n",
       "    .dataframe thead th {\n",
       "        text-align: right;\n",
       "    }\n",
       "</style>\n",
       "<table border=\"1\" class=\"dataframe\">\n",
       "  <thead>\n",
       "    <tr style=\"text-align: right;\">\n",
       "      <th></th>\n",
       "      <th>Unnamed: 0</th>\n",
       "      <th>Sample</th>\n",
       "      <th>SZ</th>\n",
       "      <th>Type</th>\n",
       "      <th>Region</th>\n",
       "      <th>human</th>\n",
       "      <th>Order</th>\n",
       "      <th>Mass</th>\n",
       "      <th>MassCoef</th>\n",
       "      <th>PC 42 7</th>\n",
       "      <th>...</th>\n",
       "      <th>FA 22 4</th>\n",
       "      <th>PC 37 5</th>\n",
       "      <th>FA 24 5</th>\n",
       "      <th>PC 34 2</th>\n",
       "      <th>FA 18 1</th>\n",
       "      <th>FA 22 0</th>\n",
       "      <th>FA 18 2</th>\n",
       "      <th>LPE 24 4</th>\n",
       "      <th>PC 42 4</th>\n",
       "      <th>LPE 22 4</th>\n",
       "    </tr>\n",
       "  </thead>\n",
       "  <tbody>\n",
       "    <tr>\n",
       "      <th>3</th>\n",
       "      <td>V22</td>\n",
       "      <td>HC10M_f_36_CCp_x2_NEG_068</td>\n",
       "      <td>HC</td>\n",
       "      <td>Sample</td>\n",
       "      <td>BA22</td>\n",
       "      <td>HC10M</td>\n",
       "      <td>68</td>\n",
       "      <td>18.6</td>\n",
       "      <td>-0.048999</td>\n",
       "      <td>6.219815</td>\n",
       "      <td>...</td>\n",
       "      <td>7.258417</td>\n",
       "      <td>5.535829</td>\n",
       "      <td>4.837981</td>\n",
       "      <td>6.484474</td>\n",
       "      <td>7.272514</td>\n",
       "      <td>4.836526</td>\n",
       "      <td>6.255731</td>\n",
       "      <td>4.629900</td>\n",
       "      <td>5.255574</td>\n",
       "      <td>6.640364</td>\n",
       "    </tr>\n",
       "    <tr>\n",
       "      <th>1</th>\n",
       "      <td>V20</td>\n",
       "      <td>HC10M_f_36_BA9_x2_NEG_041</td>\n",
       "      <td>HC</td>\n",
       "      <td>Sample</td>\n",
       "      <td>BA9</td>\n",
       "      <td>HC10M</td>\n",
       "      <td>41</td>\n",
       "      <td>16.4</td>\n",
       "      <td>-0.230605</td>\n",
       "      <td>6.068266</td>\n",
       "      <td>...</td>\n",
       "      <td>7.061656</td>\n",
       "      <td>5.122217</td>\n",
       "      <td>4.619936</td>\n",
       "      <td>6.484561</td>\n",
       "      <td>7.049261</td>\n",
       "      <td>4.814705</td>\n",
       "      <td>5.999318</td>\n",
       "      <td>4.413117</td>\n",
       "      <td>4.927128</td>\n",
       "      <td>6.522458</td>\n",
       "    </tr>\n",
       "    <tr>\n",
       "      <th>0</th>\n",
       "      <td>V19</td>\n",
       "      <td>HC10M_f_36_BA22p_x2_NEG_093</td>\n",
       "      <td>HC</td>\n",
       "      <td>Sample</td>\n",
       "      <td>CCp</td>\n",
       "      <td>HC10M</td>\n",
       "      <td>93</td>\n",
       "      <td>24.9</td>\n",
       "      <td>0.371845</td>\n",
       "      <td>6.366699</td>\n",
       "      <td>...</td>\n",
       "      <td>7.508276</td>\n",
       "      <td>5.865455</td>\n",
       "      <td>4.962683</td>\n",
       "      <td>5.588093</td>\n",
       "      <td>7.484024</td>\n",
       "      <td>4.528280</td>\n",
       "      <td>5.961067</td>\n",
       "      <td>5.094628</td>\n",
       "      <td>6.263263</td>\n",
       "      <td>6.367051</td>\n",
       "    </tr>\n",
       "    <tr>\n",
       "      <th>2</th>\n",
       "      <td>V21</td>\n",
       "      <td>HC10M_f_36_CCa_x2_NEG_092</td>\n",
       "      <td>HC</td>\n",
       "      <td>Sample</td>\n",
       "      <td>Cca</td>\n",
       "      <td>HC10M</td>\n",
       "      <td>92</td>\n",
       "      <td>21.1</td>\n",
       "      <td>0.132942</td>\n",
       "      <td>6.050411</td>\n",
       "      <td>...</td>\n",
       "      <td>7.573149</td>\n",
       "      <td>5.597714</td>\n",
       "      <td>5.145556</td>\n",
       "      <td>5.473230</td>\n",
       "      <td>7.630714</td>\n",
       "      <td>4.543238</td>\n",
       "      <td>6.226076</td>\n",
       "      <td>5.089776</td>\n",
       "      <td>5.984626</td>\n",
       "      <td>6.435581</td>\n",
       "    </tr>\n",
       "    <tr>\n",
       "      <th>4</th>\n",
       "      <td>V23</td>\n",
       "      <td>HC16M_f_54_BA22p_x2_NEG_006</td>\n",
       "      <td>HC</td>\n",
       "      <td>Sample</td>\n",
       "      <td>BA22</td>\n",
       "      <td>HC16M</td>\n",
       "      <td>6</td>\n",
       "      <td>14.6</td>\n",
       "      <td>-0.398333</td>\n",
       "      <td>6.003009</td>\n",
       "      <td>...</td>\n",
       "      <td>7.174687</td>\n",
       "      <td>5.426233</td>\n",
       "      <td>4.336064</td>\n",
       "      <td>6.091305</td>\n",
       "      <td>7.127255</td>\n",
       "      <td>4.806948</td>\n",
       "      <td>5.701896</td>\n",
       "      <td>5.245931</td>\n",
       "      <td>5.666279</td>\n",
       "      <td>6.660952</td>\n",
       "    </tr>\n",
       "  </tbody>\n",
       "</table>\n",
       "<p>5 rows × 67 columns</p>\n",
       "</div>"
      ],
      "text/plain": [
       "  Unnamed: 0                       Sample  SZ    Type Region  human  Order  \\\n",
       "3        V22    HC10M_f_36_CCp_x2_NEG_068  HC  Sample   BA22  HC10M     68   \n",
       "1        V20    HC10M_f_36_BA9_x2_NEG_041  HC  Sample    BA9  HC10M     41   \n",
       "0        V19  HC10M_f_36_BA22p_x2_NEG_093  HC  Sample    CCp  HC10M     93   \n",
       "2        V21    HC10M_f_36_CCa_x2_NEG_092  HC  Sample    Cca  HC10M     92   \n",
       "4        V23  HC16M_f_54_BA22p_x2_NEG_006  HC  Sample   BA22  HC16M      6   \n",
       "\n",
       "   Mass  MassCoef   PC 42 7  ...   FA 22 4   PC 37 5   FA 24 5   PC 34 2  \\\n",
       "3  18.6 -0.048999  6.219815  ...  7.258417  5.535829  4.837981  6.484474   \n",
       "1  16.4 -0.230605  6.068266  ...  7.061656  5.122217  4.619936  6.484561   \n",
       "0  24.9  0.371845  6.366699  ...  7.508276  5.865455  4.962683  5.588093   \n",
       "2  21.1  0.132942  6.050411  ...  7.573149  5.597714  5.145556  5.473230   \n",
       "4  14.6 -0.398333  6.003009  ...  7.174687  5.426233  4.336064  6.091305   \n",
       "\n",
       "    FA 18 1   FA 22 0   FA 18 2  LPE 24 4   PC 42 4  LPE 22 4  \n",
       "3  7.272514  4.836526  6.255731  4.629900  5.255574  6.640364  \n",
       "1  7.049261  4.814705  5.999318  4.413117  4.927128  6.522458  \n",
       "0  7.484024  4.528280  5.961067  5.094628  6.263263  6.367051  \n",
       "2  7.630714  4.543238  6.226076  5.089776  5.984626  6.435581  \n",
       "4  7.127255  4.806948  5.701896  5.245931  5.666279  6.660952  \n",
       "\n",
       "[5 rows x 67 columns]"
      ]
     },
     "execution_count": 13,
     "metadata": {},
     "output_type": "execute_result"
    }
   ],
   "source": [
    "onebatch = onebatch.rename(columns={\"Donor\": \"human\"})\n",
    "onebatch.columns = onebatch.columns.str.replace(\".\", \" \", regex=False)\n",
    "onebatch_only_common = copy(onebatch[onebatch.columns[:9].tolist() + common_molecules])\n",
    "onebatch_only_common.iloc[:, 9:] *= np.log10(2)\n",
    "onebatch_only_common.head()"
   ]
  },
  {
   "cell_type": "markdown",
   "id": "8f08e184",
   "metadata": {},
   "source": [
    "OneBatch is log2 data. 75_regions is log10 data. Therefore, we multiply Onebatch by $\\log_{10}(2)$, because $\\log_{10}(x) = \\log_{10}(2) \\times \\log_2(x)$"
   ]
  },
  {
   "cell_type": "markdown",
   "id": "ea67e8d6",
   "metadata": {},
   "source": [
    "## Normalize (make mean value for each molecule in each brain zero)"
   ]
  },
  {
   "cell_type": "code",
   "execution_count": 14,
   "id": "df52155d",
   "metadata": {
    "ExecuteTime": {
     "end_time": "2023-05-12T12:48:39.940297Z",
     "start_time": "2023-05-12T12:48:39.874843Z"
    }
   },
   "outputs": [],
   "source": [
    "dataset = onebatch\n",
    "new_dataset = []\n",
    "for brain in dataset.human.unique():\n",
    "    existing_values = dataset[dataset[\"human\"] == brain].iloc[:, 9:]\n",
    "    mean_per_brain = existing_values.mean()\n",
    "    new_dataset.append((existing_values.values - mean_per_brain.values))\n",
    "\n",
    "new_dataset = pd.DataFrame(np.concatenate(new_dataset))\n",
    "\n",
    "new_dataset = pd.concat([onebatch.iloc[:, :9], new_dataset], axis=1)\n",
    "new_dataset.columns = onebatch.columns\n",
    "onebatch = new_dataset"
   ]
  },
  {
   "cell_type": "code",
   "execution_count": 15,
   "id": "c2e0659f",
   "metadata": {
    "ExecuteTime": {
     "end_time": "2023-05-12T12:48:41.851125Z",
     "start_time": "2023-05-12T12:48:39.942316Z"
    }
   },
   "outputs": [],
   "source": [
    "sz_molecules = sz_molecules[sz_molecules.region.isin(regions_only_four)].reset_index(drop=True)\n",
    "sz_molecules = normalize(sz_molecules)"
   ]
  },
  {
   "cell_type": "code",
   "execution_count": 16,
   "id": "100d4323",
   "metadata": {
    "ExecuteTime": {
     "end_time": "2023-05-12T12:48:43.967787Z",
     "start_time": "2023-05-12T12:48:41.853255Z"
    }
   },
   "outputs": [],
   "source": [
    "h_molecules = h_molecules[h_molecules.region.isin(regions_only_four)].reset_index(drop=True)\n",
    "h_molecules = normalize(h_molecules)"
   ]
  },
  {
   "cell_type": "code",
   "execution_count": 17,
   "id": "b71df4ae",
   "metadata": {
    "ExecuteTime": {
     "end_time": "2023-05-12T12:48:44.062738Z",
     "start_time": "2023-05-12T12:48:43.969988Z"
    }
   },
   "outputs": [
    {
     "name": "stdout",
     "output_type": "stream",
     "text": [
      "Normalized\n",
      "Unnormalized\n",
      "Normalized\n"
     ]
    }
   ],
   "source": [
    "# Check normalization\n",
    "check_normalization(sz_molecules)\n",
    "check_normalization(onebatch)\n",
    "check_normalization(h_molecules)"
   ]
  },
  {
   "cell_type": "code",
   "execution_count": 18,
   "id": "0a7a755d",
   "metadata": {
    "ExecuteTime": {
     "end_time": "2023-05-12T12:48:44.137820Z",
     "start_time": "2023-05-12T12:48:44.065606Z"
    }
   },
   "outputs": [],
   "source": [
    "all_observations_combined_75 = np.concatenate([h_molecules.iloc[:, 2:].values, sz_molecules.iloc[:, 2:].values]).reshape(-1,)"
   ]
  },
  {
   "cell_type": "code",
   "execution_count": 19,
   "id": "336f1803",
   "metadata": {
    "ExecuteTime": {
     "end_time": "2023-05-12T12:48:44.175586Z",
     "start_time": "2023-05-12T12:48:44.141689Z"
    }
   },
   "outputs": [
    {
     "data": {
      "text/plain": [
       "(3969560,)"
      ]
     },
     "execution_count": 19,
     "metadata": {},
     "output_type": "execute_result"
    }
   ],
   "source": [
    "all_observations_combined_75.shape"
   ]
  },
  {
   "cell_type": "code",
   "execution_count": 20,
   "id": "afc2a501",
   "metadata": {
    "ExecuteTime": {
     "end_time": "2023-05-12T12:48:44.215860Z",
     "start_time": "2023-05-12T12:48:44.178994Z"
    }
   },
   "outputs": [
    {
     "data": {
      "text/plain": [
       "array([-0.33119386, -0.03970154,  0.22564781, ..., -0.38535855,\n",
       "        0.22234887, -0.11638796])"
      ]
     },
     "execution_count": 20,
     "metadata": {},
     "output_type": "execute_result"
    }
   ],
   "source": [
    "all_observations_combined_75"
   ]
  },
  {
   "cell_type": "code",
   "execution_count": 21,
   "id": "b402ca06",
   "metadata": {
    "ExecuteTime": {
     "end_time": "2023-05-12T12:48:52.534446Z",
     "start_time": "2023-05-12T12:48:44.219126Z"
    }
   },
   "outputs": [
    {
     "data": {
      "image/png": "[encoded data removed]",
      "text/plain": [
       "<Figure size 640x480 with 1 Axes>"
      ]
     },
     "metadata": {},
     "output_type": "display_data"
    }
   ],
   "source": [
    "left_point = norm.ppf(0.0001, loc=all_observations_combined_75.mean(), scale=all_observations_combined_75.std())\n",
    "right_point = norm.ppf(0.9999, loc=all_observations_combined_75.mean(), scale=all_observations_combined_75.std()),\n",
    "x = np.linspace(left_point, right_point, 1000)\n",
    "plt.plot(x, norm.pdf(x), c=\"C1\", label=\"Normal distribution with the same mean and variance\")\n",
    "sns.histplot(all_observations_combined_75, stat=\"density\", label=\"Observed distribution\")\n",
    "plt.legend()\n",
    "plt.show()"
   ]
  },
  {
   "cell_type": "markdown",
   "id": "7eab5ffb",
   "metadata": {},
   "source": [
    "## Data visualization"
   ]
  },
  {
   "cell_type": "markdown",
   "id": "71316bfb",
   "metadata": {},
   "source": [
    "### 75_regions (normalized), brain as object"
   ]
  },
  {
   "cell_type": "code",
   "execution_count": 22,
   "id": "e53ba551",
   "metadata": {
    "ExecuteTime": {
     "end_time": "2023-05-12T12:48:54.030085Z",
     "start_time": "2023-05-12T12:48:52.537369Z"
    }
   },
   "outputs": [
    {
     "data": {
      "image/png": "[encoded data removed]",
      "text/plain": [
       "<Figure size 640x480 with 1 Axes>"
      ]
     },
     "metadata": {},
     "output_type": "display_data"
    }
   ],
   "source": [
    "h_molecules_dim_reduction = prepare_for_dim_reduction(h_molecules[h_molecules.region.isin(regions_only_four)])\n",
    "sz_molecules_dim_reduction = prepare_for_dim_reduction(sz_molecules[sz_molecules.region.isin(regions_only_four)])\n",
    "\n",
    "dim_reduction = PCA(n_components=2)\n",
    "\n",
    "lipids_dim_reduction = dim_reduction.fit_transform(np.concatenate([h_molecules_dim_reduction, sz_molecules_dim_reduction]))\n",
    "\n",
    "plt.scatter(lipids_dim_reduction[:4, 0], lipids_dim_reduction[:4, 1], label=\"HC\")\n",
    "plt.scatter(lipids_dim_reduction[4:, 0], lipids_dim_reduction[4:, 1], label=\"SZ\")\n",
    "# plt.xlabel(f\"PC1, {dim_reduction.explained_variance_ratio_[0] * 100 :.1f} %\")\n",
    "# plt.ylabel(f\"PC2, {dim_reduction.explained_variance_ratio_[1] * 100 :.1f} %\")\n",
    "# plt.title(f\"75 regions dataset (50 taken)\")\n",
    "\n",
    "plt.legend()\n",
    "plt.savefig(f\"../data/pics/{'genes' if use_genes else 'lipids'}_brain_as_object_real.png\", dpi=200)\n",
    "plt.show()"
   ]
  },
  {
   "cell_type": "code",
   "execution_count": 23,
   "id": "cee70924",
   "metadata": {
    "ExecuteTime": {
     "end_time": "2023-05-12T12:48:54.779816Z",
     "start_time": "2023-05-12T12:48:54.032902Z"
    }
   },
   "outputs": [
    {
     "data": {
      "image/png": "[encoded data removed]",
      "text/plain": [
       "<Figure size 640x480 with 1 Axes>"
      ]
     },
     "metadata": {},
     "output_type": "display_data"
    }
   ],
   "source": [
    "h_molecules_dim_reduction = h_molecules[h_molecules.region.isin(regions_only_four)].iloc[:, 2:]\n",
    "sz_molecules_dim_reduction = sz_molecules[sz_molecules.region.isin(regions_only_four)].iloc[:, 2:]\n",
    "\n",
    "dim_reduction = PCA(n_components=2)\n",
    "\n",
    "lipids_dim_reduction = dim_reduction.fit_transform(np.concatenate([h_molecules_dim_reduction, sz_molecules_dim_reduction]))\n",
    "\n",
    "border = lipids_dim_reduction.shape[0] // 2\n",
    "\n",
    "plt.scatter(lipids_dim_reduction[:border, 0], lipids_dim_reduction[:border, 1], label=\"HC\")\n",
    "plt.scatter(lipids_dim_reduction[border:, 0], lipids_dim_reduction[border:, 1], label=\"SZ\")\n",
    "# plt.xlabel(f\"PC1, {dim_reduction.explained_variance_ratio_[0] * 100 :.1f} %\")\n",
    "# plt.ylabel(f\"PC2, {dim_reduction.explained_variance_ratio_[1] * 100 :.1f} %\")\n",
    "# plt.title(f\"75 regions dataset (50 taken)\")\n",
    "\n",
    "plt.legend()\n",
    "plt.savefig(f\"../data/pics/{'genes' if use_genes else 'lipids'}_region_as_object_real.png\", dpi=200)\n",
    "plt.show()"
   ]
  },
  {
   "cell_type": "markdown",
   "id": "83e20e09",
   "metadata": {},
   "source": [
    "### One batch (normalized), brain as object"
   ]
  },
  {
   "cell_type": "code",
   "execution_count": 24,
   "id": "81314c19",
   "metadata": {
    "ExecuteTime": {
     "end_time": "2023-05-12T12:48:55.163601Z",
     "start_time": "2023-05-12T12:48:54.782055Z"
    }
   },
   "outputs": [
    {
     "data": {
      "image/png": "[encoded data removed]",
      "text/plain": [
       "<Figure size 640x480 with 1 Axes>"
      ]
     },
     "metadata": {},
     "output_type": "display_data"
    }
   ],
   "source": [
    "new_onebatch = []\n",
    "for brain in onebatch.human.unique():\n",
    "    existing_values = onebatch[onebatch[\"human\"] == brain].iloc[:, 9:].values.reshape(1, -1)\n",
    "    new_onebatch.append(existing_values)\n",
    "new_onebatch = np.concatenate(new_onebatch)\n",
    "\n",
    "dim_reduction = PCA(n_components=2)\n",
    "\n",
    "dim_reduction_fitted = dim_reduction.fit_transform(new_onebatch)\n",
    "\n",
    "plt.scatter(dim_reduction_fitted[:12, 0], dim_reduction_fitted[:12, 1], label=\"HC\")\n",
    "plt.scatter(dim_reduction_fitted[12:, 0], dim_reduction_fitted[12:, 1], label=\"SZ\")\n",
    "plt.legend()\n",
    "plt.show()"
   ]
  },
  {
   "cell_type": "markdown",
   "id": "6073c32f",
   "metadata": {},
   "source": [
    "## Example lipid profile"
   ]
  },
  {
   "cell_type": "code",
   "execution_count": 25,
   "id": "cb4b9257",
   "metadata": {
    "ExecuteTime": {
     "end_time": "2023-05-12T12:48:55.194250Z",
     "start_time": "2023-05-12T12:48:55.165846Z"
    }
   },
   "outputs": [],
   "source": [
    "if not use_genes:\n",
    "    sns.lineplot(h_molecules[h_molecules[\"human\"] == \"HA\"].loc[:, h_molecules.columns.str.contains(\"FA\")])\n",
    "    plt.ylim(-6, 10)\n",
    "    plt.title(\"All Fatty Acid profiles in one of the brains\")\n",
    "    plt.legend(ncols=4)\n",
    "    plt.savefig(\"../data/pics/example_profiles.pdf\")"
   ]
  },
  {
   "cell_type": "markdown",
   "id": "dfdf4414",
   "metadata": {},
   "source": [
    "- BA9: 35 Dorsolateral Prefrontal Medial (BA9m), 34 Dorsolateral Prefrontal (BA9)\n",
    "- BA22: 26 2ary Auditory, language (BA22a), 28 2ary Auditory, Wernicke (BA22p)"
   ]
  },
  {
   "cell_type": "code",
   "execution_count": 26,
   "id": "410acbef",
   "metadata": {
    "ExecuteTime": {
     "end_time": "2023-05-12T12:48:55.224441Z",
     "start_time": "2023-05-12T12:48:55.196519Z"
    }
   },
   "outputs": [],
   "source": [
    "# region_translate = {\n",
    "#     \"CCp\": '74 Corpus Callosum Posterior',\n",
    "#     \"BA9\": \"34 Dorsolateral Prefrontal (BA9)\",\n",
    "#     \"Cca\": '73 Corpus Callosum Anterior',\n",
    "#     \"BA22\": \"28 2ary Auditory, Wernicke (BA22p)\",\n",
    "# }\n",
    "\n",
    "region_translate = {\n",
    "    '74 Corpus Callosum Posterior': \"CCp\",\n",
    "    \"34 Dorsolateral Prefrontal (BA9)\": \"BA9\",\n",
    "    '73 Corpus Callosum Anterior': \"Cca\",\n",
    "    \"28 2ary Auditory, Wernicke (BA22p)\": \"BA22\",\n",
    "}"
   ]
  },
  {
   "cell_type": "markdown",
   "id": "e1d762ed",
   "metadata": {},
   "source": [
    "# Generate fake dataset"
   ]
  },
  {
   "cell_type": "markdown",
   "id": "51bc26de",
   "metadata": {},
   "source": [
    "## Prepare the labels"
   ]
  },
  {
   "cell_type": "code",
   "execution_count": 27,
   "id": "efa7ddce",
   "metadata": {
    "ExecuteTime": {
     "end_time": "2023-05-12T12:48:55.258729Z",
     "start_time": "2023-05-12T12:48:55.227084Z"
    }
   },
   "outputs": [],
   "source": [
    "N_SAMPLES = 100 if use_genes else 1000 \n",
    "# for each class SZ and SZ\n",
    "# 100 for lipids is too few\n",
    "# 1000 for genes makes the kernel die\n",
    "# 10000 for lipids makes the kernel die\n",
    "\n",
    "\n",
    "brains_labels_hc = [f\"HC{i + 1}\" for i in range(N_SAMPLES)] * len(regions_only_four)\n",
    "brains_labels_sz = [f\"SZ{i + 1}\" for i in range(N_SAMPLES)] * len(regions_only_four)\n",
    "brains_labels = np.array(brains_labels_hc + brains_labels_sz)\n",
    "\n",
    "regions_labels = np.concatenate([np.array([region] * N_SAMPLES) for region in regions_only_four])\n",
    "regions_labels = np.concatenate([regions_labels, regions_labels])"
   ]
  },
  {
   "cell_type": "markdown",
   "id": "36dccd59",
   "metadata": {},
   "source": [
    "## Sampling"
   ]
  },
  {
   "cell_type": "code",
   "execution_count": 28,
   "id": "b0639b50",
   "metadata": {
    "ExecuteTime": {
     "end_time": "2023-05-12T12:48:55.292602Z",
     "start_time": "2023-05-12T12:48:55.264588Z"
    }
   },
   "outputs": [],
   "source": [
    "if use_genes:\n",
    "    common_molecules = np.array(h_molecules.columns[2:].tolist())\n",
    "else:\n",
    "    vc = pd.Series(h_molecules.columns[2:]).value_counts()\n",
    "    common_molecules = vc[vc == 1].index.tolist()"
   ]
  },
  {
   "cell_type": "code",
   "execution_count": 29,
   "id": "5be3a0ea",
   "metadata": {
    "ExecuteTime": {
     "end_time": "2023-05-12T12:49:00.283861Z",
     "start_time": "2023-05-12T12:48:55.295546Z"
    }
   },
   "outputs": [],
   "source": [
    "fake_dataset = []\n",
    "fake_dataset_75 = []\n",
    "std_comparison = []\n",
    "\n",
    "hc_column = []\n",
    "region_nm_column = []\n",
    "\n",
    "for human_type in [\"HC\", \"SZ\"]:\n",
    "    for region_nm in regions_only_four:\n",
    "        \n",
    "        # First, we generate the data based on 75_regions (taking 50 of them)\n",
    "        # In this loop we generate N_SAMPLES individuals for each region_nm\n",
    "        if human_type == \"HC\":\n",
    "            regions_75_lipids = h_molecules[h_molecules[\"region\"] == region_nm][common_molecules]\n",
    "        else:\n",
    "            regions_75_lipids = sz_molecules[sz_molecules[\"region\"] == region_nm][common_molecules]\n",
    "\n",
    "        generated_75 = np.random.normal(\n",
    "            loc=regions_75_lipids.mean(), scale=regions_75_lipids.std(), size=(N_SAMPLES, len(common_molecules))\n",
    "        )\n",
    "        fake_dataset_75.append(generated_75)\n",
    "        \n",
    "        # Second, we generate the data based on OneBatch\n",
    "#         if not use_genes:\n",
    "#             if region_nm in region_translate:\n",
    "#                 to_plot = onebatch_only_common[\n",
    "#                     (onebatch_only_common.SZ == human_type) \n",
    "#                     & (onebatch_only_common.Region == region_translate[region_nm])\n",
    "#                 ]\n",
    "#                 onebatch_molecules = to_plot[common_molecules]\n",
    "\n",
    "#                 # We save the mean fold-difference between variances\n",
    "#                 std_comparison.append(\n",
    "#                     [human_type, region_nm, (regions_75_lipids.var() / onebatch_molecules.var()).mean()]\n",
    "#                 )\n",
    "\n",
    "#                 generated = np.random.normal(\n",
    "#                     loc=onebatch_molecules.mean(), scale=onebatch_molecules.std(), size=(N_SAMPLES, len(common_molecules))\n",
    "#                 )\n",
    "#                 fake_dataset.append(generated)"
   ]
  },
  {
   "cell_type": "code",
   "execution_count": 30,
   "id": "8199efa3",
   "metadata": {
    "ExecuteTime": {
     "end_time": "2023-05-12T12:49:00.310213Z",
     "start_time": "2023-05-12T12:49:00.286114Z"
    }
   },
   "outputs": [],
   "source": [
    "# print(\"Standard deviation comparison, 75 divide by onebatch\")\n",
    "# pd.DataFrame(np.array(std_comparison), columns=[\"SZ\", \"region\", \"mean fold-change\"])"
   ]
  },
  {
   "cell_type": "markdown",
   "id": "c0b090a8",
   "metadata": {},
   "source": [
    "## Normalize"
   ]
  },
  {
   "cell_type": "code",
   "execution_count": 31,
   "id": "0a3d09f8",
   "metadata": {
    "ExecuteTime": {
     "end_time": "2023-05-12T12:49:00.567450Z",
     "start_time": "2023-05-12T12:49:00.312879Z"
    }
   },
   "outputs": [],
   "source": [
    "fake_dataset_75 = pd.DataFrame(np.concatenate(fake_dataset_75))\n",
    "    "
   ]
  },
  {
   "cell_type": "code",
   "execution_count": 32,
   "id": "864ad0bb",
   "metadata": {
    "ExecuteTime": {
     "end_time": "2023-05-12T12:49:00.599422Z",
     "start_time": "2023-05-12T12:49:00.570146Z"
    }
   },
   "outputs": [],
   "source": [
    "fake_dataset_75.insert(0, \"human\", brains_labels)"
   ]
  },
  {
   "cell_type": "code",
   "execution_count": 33,
   "id": "0da24137",
   "metadata": {
    "ExecuteTime": {
     "end_time": "2023-05-12T12:49:14.391845Z",
     "start_time": "2023-05-12T12:49:00.602056Z"
    }
   },
   "outputs": [],
   "source": [
    "fake_dataset_75.insert(1, \"region\", regions_labels)\n",
    "fake_dataset_75 = fake_dataset_75.sort_values(by=[\"human\", \"region\"])\n",
    "fake_dataset_75 = normalize(fake_dataset_75)\n",
    "# check_normalization(fake_dataset_75)"
   ]
  },
  {
   "cell_type": "code",
   "execution_count": 34,
   "id": "057d5df5",
   "metadata": {
    "ExecuteTime": {
     "end_time": "2023-05-12T12:49:14.431782Z",
     "start_time": "2023-05-12T12:49:14.395475Z"
    }
   },
   "outputs": [],
   "source": [
    "# fake_dataset_75.to_csv(\"../data/to_normalize/fake_dataset_75.csv\", index=None)\n",
    "\n",
    "# Now you must execute ./normalize.py ../data/to_normalize/fake_dataset_75.csv\n",
    "\n",
    "# fake_dataset_75_normalized = pd.read_csv(\"../data/to_normalize/fake_dataset_75_normalized.csv\")"
   ]
  },
  {
   "cell_type": "code",
   "execution_count": 35,
   "id": "771f8b7b",
   "metadata": {
    "ExecuteTime": {
     "end_time": "2023-05-12T12:49:14.500421Z",
     "start_time": "2023-05-12T12:49:14.435336Z"
    }
   },
   "outputs": [
    {
     "data": {
      "text/html": [
       "<div>\n",
       "<style scoped>\n",
       "    .dataframe tbody tr th:only-of-type {\n",
       "        vertical-align: middle;\n",
       "    }\n",
       "\n",
       "    .dataframe tbody tr th {\n",
       "        vertical-align: top;\n",
       "    }\n",
       "\n",
       "    .dataframe thead th {\n",
       "        text-align: right;\n",
       "    }\n",
       "</style>\n",
       "<table border=\"1\" class=\"dataframe\">\n",
       "  <thead>\n",
       "    <tr style=\"text-align: right;\">\n",
       "      <th></th>\n",
       "      <th>human</th>\n",
       "      <th>region</th>\n",
       "      <th>0</th>\n",
       "      <th>1</th>\n",
       "      <th>2</th>\n",
       "      <th>3</th>\n",
       "      <th>4</th>\n",
       "      <th>5</th>\n",
       "      <th>6</th>\n",
       "      <th>7</th>\n",
       "      <th>...</th>\n",
       "      <th>14167</th>\n",
       "      <th>14168</th>\n",
       "      <th>14169</th>\n",
       "      <th>14170</th>\n",
       "      <th>14171</th>\n",
       "      <th>14172</th>\n",
       "      <th>14173</th>\n",
       "      <th>14174</th>\n",
       "      <th>14175</th>\n",
       "      <th>14176</th>\n",
       "    </tr>\n",
       "  </thead>\n",
       "  <tbody>\n",
       "    <tr>\n",
       "      <th>100</th>\n",
       "      <td>HC1</td>\n",
       "      <td>1  Cerebellar Grey Matter</td>\n",
       "      <td>-0.037698</td>\n",
       "      <td>-0.010649</td>\n",
       "      <td>0.176352</td>\n",
       "      <td>0.285609</td>\n",
       "      <td>-0.094256</td>\n",
       "      <td>-0.178571</td>\n",
       "      <td>-0.287203</td>\n",
       "      <td>-0.198786</td>\n",
       "      <td>...</td>\n",
       "      <td>1.322768</td>\n",
       "      <td>0.221017</td>\n",
       "      <td>-1.057745</td>\n",
       "      <td>-0.251455</td>\n",
       "      <td>-0.196477</td>\n",
       "      <td>-0.280805</td>\n",
       "      <td>-0.621037</td>\n",
       "      <td>0.195510</td>\n",
       "      <td>-0.375003</td>\n",
       "      <td>-0.048085</td>\n",
       "    </tr>\n",
       "    <tr>\n",
       "      <th>600</th>\n",
       "      <td>HC1</td>\n",
       "      <td>15 1ary Motor (BA4)</td>\n",
       "      <td>-0.426097</td>\n",
       "      <td>-0.044475</td>\n",
       "      <td>-0.055471</td>\n",
       "      <td>0.050353</td>\n",
       "      <td>0.053122</td>\n",
       "      <td>-0.201770</td>\n",
       "      <td>-0.011539</td>\n",
       "      <td>-0.025544</td>\n",
       "      <td>...</td>\n",
       "      <td>-0.136521</td>\n",
       "      <td>-0.008161</td>\n",
       "      <td>0.080811</td>\n",
       "      <td>0.804801</td>\n",
       "      <td>0.359058</td>\n",
       "      <td>0.494292</td>\n",
       "      <td>-0.131432</td>\n",
       "      <td>0.192751</td>\n",
       "      <td>0.398988</td>\n",
       "      <td>0.124403</td>\n",
       "    </tr>\n",
       "    <tr>\n",
       "      <th>1000</th>\n",
       "      <td>HC1</td>\n",
       "      <td>16 1ary Auditory (BA41/42)</td>\n",
       "      <td>-0.895576</td>\n",
       "      <td>0.026246</td>\n",
       "      <td>-0.122641</td>\n",
       "      <td>-0.064093</td>\n",
       "      <td>0.151654</td>\n",
       "      <td>-0.129899</td>\n",
       "      <td>-0.029164</td>\n",
       "      <td>0.012658</td>\n",
       "      <td>...</td>\n",
       "      <td>-0.195332</td>\n",
       "      <td>0.045030</td>\n",
       "      <td>-0.065205</td>\n",
       "      <td>-0.617080</td>\n",
       "      <td>-0.037194</td>\n",
       "      <td>1.084546</td>\n",
       "      <td>0.122761</td>\n",
       "      <td>-0.228213</td>\n",
       "      <td>0.057733</td>\n",
       "      <td>0.563484</td>\n",
       "    </tr>\n",
       "    <tr>\n",
       "      <th>1900</th>\n",
       "      <td>HC1</td>\n",
       "      <td>17 1ary Visual Anterior (BA17a)</td>\n",
       "      <td>-0.139748</td>\n",
       "      <td>-0.058677</td>\n",
       "      <td>0.037892</td>\n",
       "      <td>-0.055781</td>\n",
       "      <td>-0.267894</td>\n",
       "      <td>0.081073</td>\n",
       "      <td>-0.238367</td>\n",
       "      <td>-0.188169</td>\n",
       "      <td>...</td>\n",
       "      <td>0.890670</td>\n",
       "      <td>0.062651</td>\n",
       "      <td>0.462929</td>\n",
       "      <td>-0.264278</td>\n",
       "      <td>0.108055</td>\n",
       "      <td>0.702541</td>\n",
       "      <td>1.005390</td>\n",
       "      <td>0.163447</td>\n",
       "      <td>0.124246</td>\n",
       "      <td>-0.135866</td>\n",
       "    </tr>\n",
       "    <tr>\n",
       "      <th>2000</th>\n",
       "      <td>HC1</td>\n",
       "      <td>18 1ary Somatosensory (BA3/1/2)</td>\n",
       "      <td>0.391075</td>\n",
       "      <td>-0.063929</td>\n",
       "      <td>-0.055294</td>\n",
       "      <td>0.350292</td>\n",
       "      <td>-0.052095</td>\n",
       "      <td>-0.521547</td>\n",
       "      <td>-0.106466</td>\n",
       "      <td>0.096598</td>\n",
       "      <td>...</td>\n",
       "      <td>1.116170</td>\n",
       "      <td>-0.034027</td>\n",
       "      <td>-0.320868</td>\n",
       "      <td>-1.194609</td>\n",
       "      <td>-0.101099</td>\n",
       "      <td>-1.076620</td>\n",
       "      <td>-0.947130</td>\n",
       "      <td>-0.289876</td>\n",
       "      <td>0.448579</td>\n",
       "      <td>0.074630</td>\n",
       "    </tr>\n",
       "  </tbody>\n",
       "</table>\n",
       "<p>5 rows × 14179 columns</p>\n",
       "</div>"
      ],
      "text/plain": [
       "     human                           region         0         1         2  \\\n",
       "100    HC1        1  Cerebellar Grey Matter -0.037698 -0.010649  0.176352   \n",
       "600    HC1              15 1ary Motor (BA4) -0.426097 -0.044475 -0.055471   \n",
       "1000   HC1       16 1ary Auditory (BA41/42) -0.895576  0.026246 -0.122641   \n",
       "1900   HC1  17 1ary Visual Anterior (BA17a) -0.139748 -0.058677  0.037892   \n",
       "2000   HC1  18 1ary Somatosensory (BA3/1/2)  0.391075 -0.063929 -0.055294   \n",
       "\n",
       "             3         4         5         6         7  ...     14167  \\\n",
       "100   0.285609 -0.094256 -0.178571 -0.287203 -0.198786  ...  1.322768   \n",
       "600   0.050353  0.053122 -0.201770 -0.011539 -0.025544  ... -0.136521   \n",
       "1000 -0.064093  0.151654 -0.129899 -0.029164  0.012658  ... -0.195332   \n",
       "1900 -0.055781 -0.267894  0.081073 -0.238367 -0.188169  ...  0.890670   \n",
       "2000  0.350292 -0.052095 -0.521547 -0.106466  0.096598  ...  1.116170   \n",
       "\n",
       "         14168     14169     14170     14171     14172     14173     14174  \\\n",
       "100   0.221017 -1.057745 -0.251455 -0.196477 -0.280805 -0.621037  0.195510   \n",
       "600  -0.008161  0.080811  0.804801  0.359058  0.494292 -0.131432  0.192751   \n",
       "1000  0.045030 -0.065205 -0.617080 -0.037194  1.084546  0.122761 -0.228213   \n",
       "1900  0.062651  0.462929 -0.264278  0.108055  0.702541  1.005390  0.163447   \n",
       "2000 -0.034027 -0.320868 -1.194609 -0.101099 -1.076620 -0.947130 -0.289876   \n",
       "\n",
       "         14175     14176  \n",
       "100  -0.375003 -0.048085  \n",
       "600   0.398988  0.124403  \n",
       "1000  0.057733  0.563484  \n",
       "1900  0.124246 -0.135866  \n",
       "2000  0.448579  0.074630  \n",
       "\n",
       "[5 rows x 14179 columns]"
      ]
     },
     "execution_count": 35,
     "metadata": {},
     "output_type": "execute_result"
    }
   ],
   "source": [
    "fake_dataset_75.head()"
   ]
  },
  {
   "cell_type": "code",
   "execution_count": 36,
   "id": "476b081e",
   "metadata": {
    "ExecuteTime": {
     "end_time": "2023-05-12T12:49:14.543493Z",
     "start_time": "2023-05-12T12:49:14.504216Z"
    }
   },
   "outputs": [
    {
     "data": {
      "text/plain": [
       "(7000, 14179)"
      ]
     },
     "execution_count": 36,
     "metadata": {},
     "output_type": "execute_result"
    }
   ],
   "source": [
    "fake_dataset_75.shape"
   ]
  },
  {
   "cell_type": "code",
   "execution_count": 37,
   "id": "d1c2d203",
   "metadata": {
    "ExecuteTime": {
     "end_time": "2023-05-12T12:49:16.090797Z",
     "start_time": "2023-05-12T12:49:14.547529Z"
    }
   },
   "outputs": [
    {
     "data": {
      "text/plain": [
       "(200, 496195)"
      ]
     },
     "execution_count": 37,
     "metadata": {},
     "output_type": "execute_result"
    }
   ],
   "source": [
    "fake_dataset_75_reduction = prepare_for_dim_reduction(fake_dataset_75)\n",
    "fake_dataset_75_reduction.shape"
   ]
  },
  {
   "cell_type": "markdown",
   "id": "839768b8",
   "metadata": {},
   "source": [
    "## Plot fake dataset (normalized)"
   ]
  },
  {
   "cell_type": "markdown",
   "id": "9e7a45e9",
   "metadata": {},
   "source": [
    "### brain as object"
   ]
  },
  {
   "cell_type": "code",
   "execution_count": 38,
   "id": "11a2f088",
   "metadata": {
    "ExecuteTime": {
     "end_time": "2023-05-12T12:49:22.951294Z",
     "start_time": "2023-05-12T12:49:16.093578Z"
    }
   },
   "outputs": [
    {
     "data": {
      "image/png": "[encoded data removed]",
      "text/plain": [
       "<Figure size 640x480 with 1 Axes>"
      ]
     },
     "metadata": {},
     "output_type": "display_data"
    }
   ],
   "source": [
    "dim_reduction = PCA(n_components=2)\n",
    "fake_dataset_dim_reduction = dim_reduction.fit_transform(fake_dataset_75_reduction)\n",
    "plt.scatter(fake_dataset_dim_reduction[:N_SAMPLES, 0], fake_dataset_dim_reduction[:N_SAMPLES, 1], label=\"HC\")\n",
    "plt.scatter(fake_dataset_dim_reduction[N_SAMPLES:, 0], fake_dataset_dim_reduction[N_SAMPLES:, 1], label=\"SZ\")\n",
    "plt.xlabel(f\"PC1, {dim_reduction.explained_variance_ratio_[0] * 100 :.1f} %\")\n",
    "plt.ylabel(f\"PC2, {dim_reduction.explained_variance_ratio_[1] * 100 :.1f} %\")\n",
    "# plt.title(f\"n={N_SAMPLES} for each class\")\n",
    "plt.legend()\n",
    "plt.savefig(f\"../data/pics/{'genes' if use_genes else 'lipids'}_brain_as_object_75_gen.png\", dpi=200)"
   ]
  },
  {
   "cell_type": "markdown",
   "id": "9f67c8db",
   "metadata": {},
   "source": [
    "### region as object"
   ]
  },
  {
   "cell_type": "code",
   "execution_count": 39,
   "id": "ae292506",
   "metadata": {
    "ExecuteTime": {
     "end_time": "2023-05-12T12:49:22.989144Z",
     "start_time": "2023-05-12T12:49:22.954399Z"
    }
   },
   "outputs": [
    {
     "data": {
      "text/plain": [
       "(7000, 14179)"
      ]
     },
     "execution_count": 39,
     "metadata": {},
     "output_type": "execute_result"
    }
   ],
   "source": [
    "fake_dataset_75.shape"
   ]
  },
  {
   "cell_type": "code",
   "execution_count": 40,
   "id": "44402c36",
   "metadata": {
    "ExecuteTime": {
     "end_time": "2023-05-12T12:49:23.032379Z",
     "start_time": "2023-05-12T12:49:22.993838Z"
    }
   },
   "outputs": [],
   "source": [
    "from sklearn.manifold import TSNE, Isomap, LocallyLinearEmbedding\n"
   ]
  },
  {
   "cell_type": "code",
   "execution_count": 41,
   "id": "62adf069",
   "metadata": {
    "ExecuteTime": {
     "end_time": "2023-05-12T12:49:23.074900Z",
     "start_time": "2023-05-12T12:49:23.039041Z"
    }
   },
   "outputs": [],
   "source": [
    "from sklearn.decomposition import KernelPCA, TruncatedSVD"
   ]
  },
  {
   "cell_type": "code",
   "execution_count": 42,
   "id": "450af070",
   "metadata": {
    "ExecuteTime": {
     "end_time": "2023-05-12T12:49:27.348567Z",
     "start_time": "2023-05-12T12:49:23.080465Z"
    }
   },
   "outputs": [],
   "source": [
    "use_PCA = True\n",
    "if use_PCA:\n",
    "    dim_reduction = PCA(n_components=2)\n",
    "else:\n",
    "    dim_reduction = Isomap(n_components=2)\n",
    "    \n",
    "fake_dataset_dim_reduction = dim_reduction.fit_transform(fake_dataset_75.iloc[:, 2:])"
   ]
  },
  {
   "cell_type": "code",
   "execution_count": 43,
   "id": "6241bb08",
   "metadata": {
    "ExecuteTime": {
     "end_time": "2023-05-12T12:49:27.383087Z",
     "start_time": "2023-05-12T12:49:27.352072Z"
    }
   },
   "outputs": [],
   "source": [
    "border = fake_dataset_dim_reduction.shape[0] // 2"
   ]
  },
  {
   "cell_type": "code",
   "execution_count": 44,
   "id": "dad47636",
   "metadata": {
    "ExecuteTime": {
     "end_time": "2023-05-12T12:49:28.070442Z",
     "start_time": "2023-05-12T12:49:27.387473Z"
    }
   },
   "outputs": [
    {
     "data": {
      "image/png": "[encoded data removed]",
      "text/plain": [
       "<Figure size 640x480 with 1 Axes>"
      ]
     },
     "metadata": {},
     "output_type": "display_data"
    }
   ],
   "source": [
    "plt.scatter(\n",
    "    fake_dataset_dim_reduction[:border, 0],\n",
    "    fake_dataset_dim_reduction[:border, 1],\n",
    "    label=\"HC\", s=1\n",
    ")\n",
    "plt.scatter(\n",
    "    fake_dataset_dim_reduction[border:, 0],\n",
    "    fake_dataset_dim_reduction[border:, 1],\n",
    "    label=\"SZ\", s=1\n",
    ")\n",
    "if use_PCA:\n",
    "    plt.xlabel(f\"PC1, {dim_reduction.explained_variance_ratio_[0] * 100 :.1f} %\")\n",
    "    plt.ylabel(f\"PC2, {dim_reduction.explained_variance_ratio_[1] * 100 :.1f} %\")\n",
    "# plt.title(f\"Each point is a region\\nn={N_SAMPLES} for each class\\ndataset is normalized\\nno variance added\")\n",
    "plt.legend()\n",
    "plt.savefig(f\"../data/pics/{'genes' if use_genes else 'lipids'}_region_as_object_75_gen_{'PCA' if use_PCA else 'tsne'}.png\", dpi=200)"
   ]
  },
  {
   "cell_type": "markdown",
   "id": "b08205fc",
   "metadata": {},
   "source": [
    "## Plot lipids"
   ]
  },
  {
   "cell_type": "code",
   "execution_count": 45,
   "id": "cb74d5eb",
   "metadata": {
    "ExecuteTime": {
     "end_time": "2023-05-12T12:49:28.110647Z",
     "start_time": "2023-05-12T12:49:28.074607Z"
    }
   },
   "outputs": [],
   "source": [
    "# fig, axs = plt.subplots(ncols=5, nrows=5, figsize=(5*6, 5*4))\n",
    "# axs = axs.flatten()\n",
    "# for i in range(25):\n",
    "#     sns.histplot(to_plot.iloc[:, i + 9], kde=True, stat=\"density\", ax=axs[i])\n",
    "#     sns.rugplot(to_plot.iloc[:, i + 9], ax=axs[i], height=0.1, linewidth=2)\n",
    "#     axs[i].set_xlabel(\"\")\n",
    "#     axs[i].set_ylabel(\"\")\n",
    "# plt.savefig(\"../data/pics/lipids_distr.png\", bbox_inches='tight')"
   ]
  },
  {
   "cell_type": "markdown",
   "id": "d638f1ef",
   "metadata": {},
   "source": [
    "# Training"
   ]
  },
  {
   "cell_type": "markdown",
   "id": "21e70efd",
   "metadata": {},
   "source": [
    "## brain as object"
   ]
  },
  {
   "cell_type": "code",
   "execution_count": 46,
   "id": "e8bbfcdf",
   "metadata": {
    "ExecuteTime": {
     "end_time": "2023-05-12T12:49:28.860969Z",
     "start_time": "2023-05-12T12:49:28.115086Z"
    }
   },
   "outputs": [],
   "source": [
    "half_len = len(fake_dataset_75) // 2\n",
    "num_people = fake_dataset_75.human.nunique() // 2\n",
    "hc_fake = fake_dataset_75.iloc[:half_len, 2:].values.reshape(num_people, -1)\n",
    "sz_fake = fake_dataset_75.iloc[half_len:, 2:].values.reshape(num_people, -1)\n",
    "train_dataset = np.vstack([hc_fake, sz_fake])\n",
    "y = np.ones(2 * N_SAMPLES)\n",
    "y[:N_SAMPLES] = 0"
   ]
  },
  {
   "cell_type": "code",
   "execution_count": 47,
   "id": "67217f04",
   "metadata": {
    "ExecuteTime": {
     "end_time": "2023-05-12T12:49:28.905047Z",
     "start_time": "2023-05-12T12:49:28.863710Z"
    }
   },
   "outputs": [
    {
     "data": {
      "text/plain": [
       "(200, 496195)"
      ]
     },
     "execution_count": 47,
     "metadata": {},
     "output_type": "execute_result"
    }
   ],
   "source": [
    "train_dataset.shape"
   ]
  },
  {
   "cell_type": "code",
   "execution_count": 48,
   "id": "ad37f67a",
   "metadata": {
    "ExecuteTime": {
     "end_time": "2023-05-12T12:49:29.371893Z",
     "start_time": "2023-05-12T12:49:28.915181Z"
    }
   },
   "outputs": [],
   "source": [
    "X_train, X_test, y_train, y_test = train_test_split(train_dataset, y, test_size=0.2, shuffle=True, random_state=435132)"
   ]
  },
  {
   "cell_type": "markdown",
   "id": "ea720e3b",
   "metadata": {},
   "source": [
    "### Random Forest"
   ]
  },
  {
   "cell_type": "code",
   "execution_count": 49,
   "id": "d2cb7d53",
   "metadata": {
    "ExecuteTime": {
     "end_time": "2023-05-12T12:49:29.404479Z",
     "start_time": "2023-05-12T12:49:29.376351Z"
    }
   },
   "outputs": [],
   "source": [
    "rf = RandomForestClassifier(criterion='gini', random_state=3643216)"
   ]
  },
  {
   "cell_type": "code",
   "execution_count": 50,
   "id": "d6e2090c",
   "metadata": {
    "ExecuteTime": {
     "end_time": "2023-05-12T12:50:36.159988Z",
     "start_time": "2023-05-12T12:50:32.860885Z"
    }
   },
   "outputs": [
    {
     "data": {
      "text/plain": [
       "1.0"
      ]
     },
     "execution_count": 50,
     "metadata": {},
     "output_type": "execute_result"
    }
   ],
   "source": [
    "rf.fit(X_train, y_train)\n",
    "accuracy_score(rf.predict(X_test), y_test)"
   ]
  },
  {
   "cell_type": "code",
   "execution_count": 51,
   "id": "bec98add",
   "metadata": {
    "ExecuteTime": {
     "end_time": "2023-05-12T12:50:42.052049Z",
     "start_time": "2023-05-12T12:50:41.276759Z"
    }
   },
   "outputs": [
    {
     "data": {
      "image/png": "[encoded data removed]",
      "text/plain": [
       "<Figure size 640x480 with 1 Axes>"
      ]
     },
     "metadata": {},
     "output_type": "display_data"
    }
   ],
   "source": [
    "plt.hist(rf.feature_importances_)\n",
    "plt.show()"
   ]
  },
  {
   "cell_type": "code",
   "execution_count": 52,
   "id": "e5cd8b40",
   "metadata": {
    "ExecuteTime": {
     "end_time": "2023-05-12T12:50:42.947918Z",
     "start_time": "2023-05-12T12:50:42.055517Z"
    }
   },
   "outputs": [
    {
     "name": "stdout",
     "output_type": "stream",
     "text": [
      "['53 Insular Posterior Cortex_ENSG00000162882'\n",
      " '64 Globus Pallidus_ENSG00000178096'\n",
      " '63 Substantia Nigra_ENSG00000284308'\n",
      " '55 Hippocampus, CA3 / Dentate Gyrus_ENSG00000138193']\n"
     ]
    }
   ],
   "source": [
    "feature_names = []\n",
    "for region_nm in regions_only_four:\n",
    "    feature_names += ((region_nm + \"_\") + pd.Series(common_molecules)).values.tolist()\n",
    "feature_names = np.array(feature_names)\n",
    "\n",
    "print(feature_names[rf.feature_importances_.argsort()[:-5:-1]])"
   ]
  },
  {
   "cell_type": "code",
   "execution_count": 53,
   "id": "ea160f79",
   "metadata": {
    "ExecuteTime": {
     "end_time": "2023-05-12T12:50:45.421844Z",
     "start_time": "2023-05-12T12:50:42.952019Z"
    }
   },
   "outputs": [],
   "source": [
    "importances_df = pd.DataFrame(np.vstack([feature_names, rf.feature_importances_]).T, columns=[\"feature name\", \"importance\"])\n",
    "\n",
    "importances_df = importances_df.sort_values(by=\"importance\", ascending=False).reset_index(drop=True)\n",
    "\n",
    "importances_df.to_csv(f\"../data/importances/{'genes' if use_genes else 'lipids'}_brain_rf.csv\")"
   ]
  },
  {
   "cell_type": "markdown",
   "id": "3d9ec406",
   "metadata": {},
   "source": [
    "### Logreg + permutation"
   ]
  },
  {
   "cell_type": "code",
   "execution_count": 54,
   "id": "808d829d",
   "metadata": {
    "ExecuteTime": {
     "end_time": "2023-05-12T12:50:48.148011Z",
     "start_time": "2023-05-12T12:50:47.961085Z"
    }
   },
   "outputs": [],
   "source": [
    "X_train = np.array(X_train)"
   ]
  },
  {
   "cell_type": "code",
   "execution_count": 55,
   "id": "eeab349d",
   "metadata": {
    "ExecuteTime": {
     "end_time": "2023-05-12T12:50:50.312330Z",
     "start_time": "2023-05-12T12:50:50.292053Z"
    }
   },
   "outputs": [],
   "source": [
    "scaler = StandardScaler()"
   ]
  },
  {
   "cell_type": "code",
   "execution_count": 56,
   "id": "aadae3c5",
   "metadata": {
    "ExecuteTime": {
     "end_time": "2023-05-12T12:50:52.645110Z",
     "start_time": "2023-05-12T12:50:51.223876Z"
    }
   },
   "outputs": [],
   "source": [
    "X_train_scaled = scaler.fit_transform(X_train)"
   ]
  },
  {
   "cell_type": "code",
   "execution_count": 57,
   "id": "3e03e664",
   "metadata": {
    "ExecuteTime": {
     "end_time": "2023-05-12T12:50:52.674976Z",
     "start_time": "2023-05-12T12:50:52.648002Z"
    }
   },
   "outputs": [
    {
     "data": {
      "text/plain": [
       "(160, 496195)"
      ]
     },
     "execution_count": 57,
     "metadata": {},
     "output_type": "execute_result"
    }
   ],
   "source": [
    "X_train.shape"
   ]
  },
  {
   "cell_type": "code",
   "execution_count": 58,
   "id": "14fe30a2",
   "metadata": {
    "ExecuteTime": {
     "end_time": "2023-05-12T12:51:01.555181Z",
     "start_time": "2023-05-12T12:50:55.363359Z"
    }
   },
   "outputs": [],
   "source": [
    "clf = LogisticRegression(solver='lbfgs', random_state=9843595, n_jobs=-1).fit(X_train_scaled, y_train)"
   ]
  },
  {
   "cell_type": "code",
   "execution_count": 59,
   "id": "1d2f3f3e",
   "metadata": {
    "ExecuteTime": {
     "end_time": "2023-05-12T13:13:18.680745Z",
     "start_time": "2023-05-12T13:00:48.608048Z"
    },
    "collapsed": true
   },
   "outputs": [
    {
     "name": "stderr",
     "output_type": "stream",
     "text": [
      "Process LokyProcess-1:\n",
      "Process LokyProcess-2:\n",
      "Traceback (most recent call last):\n",
      "  File \"/home/zybinmikhail/anaconda3/envs/thesis/lib/python3.10/multiprocessing/process.py\", line 314, in _bootstrap\n",
      "    self.run()\n",
      "  File \"/home/zybinmikhail/anaconda3/envs/thesis/lib/python3.10/multiprocessing/process.py\", line 108, in run\n",
      "    self._target(*self._args, **self._kwargs)\n",
      "  File \"/home/zybinmikhail/anaconda3/envs/thesis/lib/python3.10/site-packages/joblib/externals/loky/process_executor.py\", line 474, in _process_worker\n",
      "    with worker_exit_lock:\n",
      "  File \"/home/zybinmikhail/anaconda3/envs/thesis/lib/python3.10/site-packages/joblib/externals/loky/backend/synchronize.py\", line 110, in __enter__\n",
      "    return self._semlock.acquire()\n",
      "KeyboardInterrupt\n",
      "Traceback (most recent call last):\n",
      "  File \"/home/zybinmikhail/anaconda3/envs/thesis/lib/python3.10/multiprocessing/process.py\", line 314, in _bootstrap\n",
      "    self.run()\n",
      "  File \"/home/zybinmikhail/anaconda3/envs/thesis/lib/python3.10/multiprocessing/process.py\", line 108, in run\n",
      "    self._target(*self._args, **self._kwargs)\n",
      "  File \"/home/zybinmikhail/anaconda3/envs/thesis/lib/python3.10/site-packages/joblib/externals/loky/process_executor.py\", line 474, in _process_worker\n",
      "    with worker_exit_lock:\n",
      "  File \"/home/zybinmikhail/anaconda3/envs/thesis/lib/python3.10/site-packages/joblib/externals/loky/backend/synchronize.py\", line 110, in __enter__\n",
      "    return self._semlock.acquire()\n",
      "KeyboardInterrupt\n",
      "\n",
      "KeyboardInterrupt\n",
      "\n"
     ]
    },
    {
     "name": "stdout",
     "output_type": "stream",
     "text": [
      "Error in callback <bound method AutoreloadMagics.post_execute_hook of <IPython.extensions.autoreload.AutoreloadMagics object at 0x7f0f7c3b83a0>> (for post_execute):\n"
     ]
    },
    {
     "name": "stderr",
     "output_type": "stream",
     "text": [
      "\n",
      "KeyboardInterrupt\n",
      "\n"
     ]
    }
   ],
   "source": [
    "result = permutation_importance(clf, X_train_scaled, y_train, n_repeats=5, \n",
    "                                random_state=234325, n_jobs=-1)"
   ]
  },
  {
   "cell_type": "markdown",
   "id": "79ae8918",
   "metadata": {},
   "source": [
    "## Region as object"
   ]
  },
  {
   "cell_type": "code",
   "execution_count": 60,
   "id": "ab6c43f2",
   "metadata": {
    "ExecuteTime": {
     "end_time": "2023-05-12T13:13:24.313430Z",
     "start_time": "2023-05-12T13:13:22.557535Z"
    }
   },
   "outputs": [
    {
     "data": {
      "text/html": [
       "<div>\n",
       "<style scoped>\n",
       "    .dataframe tbody tr th:only-of-type {\n",
       "        vertical-align: middle;\n",
       "    }\n",
       "\n",
       "    .dataframe tbody tr th {\n",
       "        vertical-align: top;\n",
       "    }\n",
       "\n",
       "    .dataframe thead th {\n",
       "        text-align: right;\n",
       "    }\n",
       "</style>\n",
       "<table border=\"1\" class=\"dataframe\">\n",
       "  <thead>\n",
       "    <tr style=\"text-align: right;\">\n",
       "      <th></th>\n",
       "      <th>human</th>\n",
       "      <th>region</th>\n",
       "      <th>0</th>\n",
       "      <th>1</th>\n",
       "      <th>2</th>\n",
       "      <th>3</th>\n",
       "      <th>4</th>\n",
       "      <th>5</th>\n",
       "      <th>6</th>\n",
       "      <th>7</th>\n",
       "      <th>...</th>\n",
       "      <th>14167</th>\n",
       "      <th>14168</th>\n",
       "      <th>14169</th>\n",
       "      <th>14170</th>\n",
       "      <th>14171</th>\n",
       "      <th>14172</th>\n",
       "      <th>14173</th>\n",
       "      <th>14174</th>\n",
       "      <th>14175</th>\n",
       "      <th>14176</th>\n",
       "    </tr>\n",
       "  </thead>\n",
       "  <tbody>\n",
       "    <tr>\n",
       "      <th>100</th>\n",
       "      <td>HC1</td>\n",
       "      <td>1  Cerebellar Grey Matter</td>\n",
       "      <td>-0.037698</td>\n",
       "      <td>-0.010649</td>\n",
       "      <td>0.176352</td>\n",
       "      <td>0.285609</td>\n",
       "      <td>-0.094256</td>\n",
       "      <td>-0.178571</td>\n",
       "      <td>-0.287203</td>\n",
       "      <td>-0.198786</td>\n",
       "      <td>...</td>\n",
       "      <td>1.322768</td>\n",
       "      <td>0.221017</td>\n",
       "      <td>-1.057745</td>\n",
       "      <td>-0.251455</td>\n",
       "      <td>-0.196477</td>\n",
       "      <td>-0.280805</td>\n",
       "      <td>-0.621037</td>\n",
       "      <td>0.195510</td>\n",
       "      <td>-0.375003</td>\n",
       "      <td>-0.048085</td>\n",
       "    </tr>\n",
       "    <tr>\n",
       "      <th>600</th>\n",
       "      <td>HC1</td>\n",
       "      <td>15 1ary Motor (BA4)</td>\n",
       "      <td>-0.426097</td>\n",
       "      <td>-0.044475</td>\n",
       "      <td>-0.055471</td>\n",
       "      <td>0.050353</td>\n",
       "      <td>0.053122</td>\n",
       "      <td>-0.201770</td>\n",
       "      <td>-0.011539</td>\n",
       "      <td>-0.025544</td>\n",
       "      <td>...</td>\n",
       "      <td>-0.136521</td>\n",
       "      <td>-0.008161</td>\n",
       "      <td>0.080811</td>\n",
       "      <td>0.804801</td>\n",
       "      <td>0.359058</td>\n",
       "      <td>0.494292</td>\n",
       "      <td>-0.131432</td>\n",
       "      <td>0.192751</td>\n",
       "      <td>0.398988</td>\n",
       "      <td>0.124403</td>\n",
       "    </tr>\n",
       "    <tr>\n",
       "      <th>1000</th>\n",
       "      <td>HC1</td>\n",
       "      <td>16 1ary Auditory (BA41/42)</td>\n",
       "      <td>-0.895576</td>\n",
       "      <td>0.026246</td>\n",
       "      <td>-0.122641</td>\n",
       "      <td>-0.064093</td>\n",
       "      <td>0.151654</td>\n",
       "      <td>-0.129899</td>\n",
       "      <td>-0.029164</td>\n",
       "      <td>0.012658</td>\n",
       "      <td>...</td>\n",
       "      <td>-0.195332</td>\n",
       "      <td>0.045030</td>\n",
       "      <td>-0.065205</td>\n",
       "      <td>-0.617080</td>\n",
       "      <td>-0.037194</td>\n",
       "      <td>1.084546</td>\n",
       "      <td>0.122761</td>\n",
       "      <td>-0.228213</td>\n",
       "      <td>0.057733</td>\n",
       "      <td>0.563484</td>\n",
       "    </tr>\n",
       "    <tr>\n",
       "      <th>1900</th>\n",
       "      <td>HC1</td>\n",
       "      <td>17 1ary Visual Anterior (BA17a)</td>\n",
       "      <td>-0.139748</td>\n",
       "      <td>-0.058677</td>\n",
       "      <td>0.037892</td>\n",
       "      <td>-0.055781</td>\n",
       "      <td>-0.267894</td>\n",
       "      <td>0.081073</td>\n",
       "      <td>-0.238367</td>\n",
       "      <td>-0.188169</td>\n",
       "      <td>...</td>\n",
       "      <td>0.890670</td>\n",
       "      <td>0.062651</td>\n",
       "      <td>0.462929</td>\n",
       "      <td>-0.264278</td>\n",
       "      <td>0.108055</td>\n",
       "      <td>0.702541</td>\n",
       "      <td>1.005390</td>\n",
       "      <td>0.163447</td>\n",
       "      <td>0.124246</td>\n",
       "      <td>-0.135866</td>\n",
       "    </tr>\n",
       "    <tr>\n",
       "      <th>2000</th>\n",
       "      <td>HC1</td>\n",
       "      <td>18 1ary Somatosensory (BA3/1/2)</td>\n",
       "      <td>0.391075</td>\n",
       "      <td>-0.063929</td>\n",
       "      <td>-0.055294</td>\n",
       "      <td>0.350292</td>\n",
       "      <td>-0.052095</td>\n",
       "      <td>-0.521547</td>\n",
       "      <td>-0.106466</td>\n",
       "      <td>0.096598</td>\n",
       "      <td>...</td>\n",
       "      <td>1.116170</td>\n",
       "      <td>-0.034027</td>\n",
       "      <td>-0.320868</td>\n",
       "      <td>-1.194609</td>\n",
       "      <td>-0.101099</td>\n",
       "      <td>-1.076620</td>\n",
       "      <td>-0.947130</td>\n",
       "      <td>-0.289876</td>\n",
       "      <td>0.448579</td>\n",
       "      <td>0.074630</td>\n",
       "    </tr>\n",
       "  </tbody>\n",
       "</table>\n",
       "<p>5 rows × 14179 columns</p>\n",
       "</div>"
      ],
      "text/plain": [
       "     human                           region         0         1         2  \\\n",
       "100    HC1        1  Cerebellar Grey Matter -0.037698 -0.010649  0.176352   \n",
       "600    HC1              15 1ary Motor (BA4) -0.426097 -0.044475 -0.055471   \n",
       "1000   HC1       16 1ary Auditory (BA41/42) -0.895576  0.026246 -0.122641   \n",
       "1900   HC1  17 1ary Visual Anterior (BA17a) -0.139748 -0.058677  0.037892   \n",
       "2000   HC1  18 1ary Somatosensory (BA3/1/2)  0.391075 -0.063929 -0.055294   \n",
       "\n",
       "             3         4         5         6         7  ...     14167  \\\n",
       "100   0.285609 -0.094256 -0.178571 -0.287203 -0.198786  ...  1.322768   \n",
       "600   0.050353  0.053122 -0.201770 -0.011539 -0.025544  ... -0.136521   \n",
       "1000 -0.064093  0.151654 -0.129899 -0.029164  0.012658  ... -0.195332   \n",
       "1900 -0.055781 -0.267894  0.081073 -0.238367 -0.188169  ...  0.890670   \n",
       "2000  0.350292 -0.052095 -0.521547 -0.106466  0.096598  ...  1.116170   \n",
       "\n",
       "         14168     14169     14170     14171     14172     14173     14174  \\\n",
       "100   0.221017 -1.057745 -0.251455 -0.196477 -0.280805 -0.621037  0.195510   \n",
       "600  -0.008161  0.080811  0.804801  0.359058  0.494292 -0.131432  0.192751   \n",
       "1000  0.045030 -0.065205 -0.617080 -0.037194  1.084546  0.122761 -0.228213   \n",
       "1900  0.062651  0.462929 -0.264278  0.108055  0.702541  1.005390  0.163447   \n",
       "2000 -0.034027 -0.320868 -1.194609 -0.101099 -1.076620 -0.947130 -0.289876   \n",
       "\n",
       "         14175     14176  \n",
       "100  -0.375003 -0.048085  \n",
       "600   0.398988  0.124403  \n",
       "1000  0.057733  0.563484  \n",
       "1900  0.124246 -0.135866  \n",
       "2000  0.448579  0.074630  \n",
       "\n",
       "[5 rows x 14179 columns]"
      ]
     },
     "execution_count": 60,
     "metadata": {},
     "output_type": "execute_result"
    }
   ],
   "source": [
    "fake_dataset_75.head()"
   ]
  },
  {
   "cell_type": "code",
   "execution_count": 61,
   "id": "d96e03b7",
   "metadata": {
    "ExecuteTime": {
     "end_time": "2023-05-12T13:13:26.319271Z",
     "start_time": "2023-05-12T13:13:24.318894Z"
    }
   },
   "outputs": [],
   "source": [
    "train_dataset = fake_dataset_75.iloc[:, 2:]\n",
    "y = np.ones(fake_dataset_75.shape[0])\n",
    "y[:fake_dataset_75.shape[0] // 2] = 0\n",
    "X_train, X_test, y_train, y_test, regions_train, regions_test = (\n",
    "    train_test_split(\n",
    "        train_dataset, y, fake_dataset_75.region,\n",
    "        test_size=0.2, shuffle=True, random_state=435132\n",
    "    )\n",
    ")"
   ]
  },
  {
   "cell_type": "markdown",
   "id": "b80d4acb",
   "metadata": {},
   "source": [
    "### Random Forest"
   ]
  },
  {
   "cell_type": "code",
   "execution_count": 62,
   "id": "4209d318",
   "metadata": {
    "ExecuteTime": {
     "end_time": "2023-05-12T13:13:34.725157Z",
     "start_time": "2023-05-12T13:13:26.321504Z"
    }
   },
   "outputs": [],
   "source": [
    "rf = RandomForestClassifier(random_state=3643216).fit(X_train, y_train)"
   ]
  },
  {
   "cell_type": "code",
   "execution_count": 63,
   "id": "0d9d660a",
   "metadata": {
    "ExecuteTime": {
     "end_time": "2023-05-12T13:13:34.928920Z",
     "start_time": "2023-05-12T13:13:34.728605Z"
    }
   },
   "outputs": [],
   "source": [
    "y_pred = rf.predict(X_test)"
   ]
  },
  {
   "cell_type": "code",
   "execution_count": 64,
   "id": "6728772e",
   "metadata": {
    "ExecuteTime": {
     "end_time": "2023-05-12T13:13:34.957006Z",
     "start_time": "2023-05-12T13:13:34.931130Z"
    }
   },
   "outputs": [],
   "source": [
    "correst_classification = (y_pred == y_test)"
   ]
  },
  {
   "cell_type": "code",
   "execution_count": 65,
   "id": "c49c73c1",
   "metadata": {
    "ExecuteTime": {
     "end_time": "2023-05-12T13:13:35.052804Z",
     "start_time": "2023-05-12T13:13:34.960851Z"
    }
   },
   "outputs": [],
   "source": [
    "clf_res = pd.concat([regions_test.reset_index(drop=True), pd.Series(correst_classification)], axis=1)\n",
    "clf_res = clf_res.groupby(\"region\")[0].apply(np.mean)\n",
    "clf_res.index = clf_res.index.str.split().str[1:].str.join(\" \")\n",
    "clf_res = pd.DataFrame(clf_res).reset_index()\n",
    "clf_res.columns = [\"Region\", \"accuracy\"]\n",
    "clf_res = clf_res.sort_values(by=\"accuracy\").reset_index(drop=True)"
   ]
  },
  {
   "cell_type": "code",
   "execution_count": 66,
   "id": "da28bee7",
   "metadata": {
    "ExecuteTime": {
     "end_time": "2023-05-12T13:13:35.111015Z",
     "start_time": "2023-05-12T13:13:35.055942Z"
    }
   },
   "outputs": [
    {
     "name": "stdout",
     "output_type": "stream",
     "text": [
      "\\begin{tabular}{lr}\n",
      "\\toprule\n",
      "                  Region &  accuracy \\\\\n",
      "\\midrule\n",
      "  Cerebellar Grey Matter &       1.0 \\\\\n",
      "    Orbitofrontal (BA11) &       1.0 \\\\\n",
      "                Amygdala &       1.0 \\\\\n",
      "Insular Posterior Cortex &       1.0 \\\\\n",
      "       Entorhinal Cortex &       1.0 \\\\\n",
      "\\bottomrule\n",
      "\\end{tabular}\n",
      "\n"
     ]
    }
   ],
   "source": [
    "print(clf_res.iloc[:5, :].to_latex(index=False))"
   ]
  },
  {
   "cell_type": "code",
   "execution_count": 67,
   "id": "63936326",
   "metadata": {
    "ExecuteTime": {
     "end_time": "2023-05-12T13:13:35.145529Z",
     "start_time": "2023-05-12T13:13:35.113384Z"
    }
   },
   "outputs": [
    {
     "name": "stdout",
     "output_type": "stream",
     "text": [
      "\\begin{tabular}{lr}\n",
      "\\toprule\n",
      "                          Region &  accuracy \\\\\n",
      "\\midrule\n",
      "   Dorsolateral Prefrontal (BA9) &       1.0 \\\\\n",
      "  2ary Auditory Anterior (BA21a) &       1.0 \\\\\n",
      "             Temporopolar (BA38) &       1.0 \\\\\n",
      "Premotor Anterior Lateral (BA6a) &       1.0 \\\\\n",
      "         Cerebellar White Matter &       1.0 \\\\\n",
      "\\bottomrule\n",
      "\\end{tabular}\n",
      "\n"
     ]
    }
   ],
   "source": [
    "print(clf_res.iloc[-5:, :].to_latex(index=False))"
   ]
  },
  {
   "cell_type": "code",
   "execution_count": 68,
   "id": "46aabef4",
   "metadata": {
    "ExecuteTime": {
     "end_time": "2023-05-12T13:13:35.175894Z",
     "start_time": "2023-05-12T13:13:35.149876Z"
    }
   },
   "outputs": [],
   "source": [
    "from sklearn.model_selection import cross_val_score\n",
    "from sklearn.utils import shuffle"
   ]
  },
  {
   "cell_type": "code",
   "execution_count": null,
   "id": "ae3c404a",
   "metadata": {
    "ExecuteTime": {
     "end_time": "2023-05-12T12:01:37.332856Z",
     "start_time": "2023-05-12T12:01:37.332828Z"
    }
   },
   "outputs": [],
   "source": [
    "X_train, y_train = shuffle(train_dataset, y, random_state=239875)"
   ]
  },
  {
   "cell_type": "code",
   "execution_count": null,
   "id": "5c430dad",
   "metadata": {
    "ExecuteTime": {
     "end_time": "2023-05-12T12:01:37.335117Z",
     "start_time": "2023-05-12T12:01:37.335087Z"
    }
   },
   "outputs": [],
   "source": [
    "cv = cross_val_score(RandomForestClassifier(random_state=3643216), X_train, y_train, cv=5, n_jobs=-1)"
   ]
  },
  {
   "cell_type": "code",
   "execution_count": null,
   "id": "c94472a3",
   "metadata": {
    "ExecuteTime": {
     "end_time": "2023-05-12T12:01:37.337256Z",
     "start_time": "2023-05-12T12:01:37.337228Z"
    }
   },
   "outputs": [],
   "source": [
    "cv.mean()"
   ]
  },
  {
   "cell_type": "code",
   "execution_count": null,
   "id": "a7dbc9b3",
   "metadata": {
    "ExecuteTime": {
     "end_time": "2023-05-12T12:01:37.339249Z",
     "start_time": "2023-05-12T12:01:37.339222Z"
    }
   },
   "outputs": [],
   "source": [
    "plt.hist(rf.feature_importances_)\n",
    "plt.show()"
   ]
  },
  {
   "cell_type": "code",
   "execution_count": null,
   "id": "a9c5d6a5",
   "metadata": {
    "ExecuteTime": {
     "end_time": "2023-05-12T12:01:37.341331Z",
     "start_time": "2023-05-12T12:01:37.341303Z"
    }
   },
   "outputs": [],
   "source": [
    "X_train.shape"
   ]
  },
  {
   "cell_type": "code",
   "execution_count": null,
   "id": "b69051ad",
   "metadata": {
    "ExecuteTime": {
     "end_time": "2023-05-12T12:01:37.343572Z",
     "start_time": "2023-05-12T12:01:37.343542Z"
    }
   },
   "outputs": [],
   "source": [
    "print(pd.DataFrame(common_molecules[rf.feature_importances_.argsort()][:-6:-1]).to_latex())"
   ]
  },
  {
   "cell_type": "code",
   "execution_count": null,
   "id": "896975c0",
   "metadata": {
    "ExecuteTime": {
     "end_time": "2023-05-12T12:01:37.345787Z",
     "start_time": "2023-05-12T12:01:37.345759Z"
    }
   },
   "outputs": [],
   "source": [
    "print(\", \".join(common_molecules[rf.feature_importances_.argsort()][:-6:-1].tolist()))"
   ]
  },
  {
   "cell_type": "code",
   "execution_count": 69,
   "id": "e9513524",
   "metadata": {
    "ExecuteTime": {
     "end_time": "2023-05-12T13:13:41.877761Z",
     "start_time": "2023-05-12T13:13:41.207599Z"
    }
   },
   "outputs": [],
   "source": [
    "importances_df = pd.DataFrame(np.vstack([np.array(common_molecules), rf.feature_importances_]).T, columns=[\"feature name\", \"importance\"])\n",
    "\n",
    "importances_df = importances_df.sort_values(by=\"importance\", ascending=False).reset_index(drop=True)\n",
    "\n",
    "importances_df.to_csv(f\"../data/importances/{'genes' if use_genes else 'lipids'}_regions_rf.csv\")"
   ]
  },
  {
   "cell_type": "markdown",
   "id": "066ad587",
   "metadata": {},
   "source": [
    "### Logreg + permutations (not suitable for genes, too slow)"
   ]
  },
  {
   "cell_type": "code",
   "execution_count": 70,
   "id": "41d907df",
   "metadata": {
    "ExecuteTime": {
     "end_time": "2023-05-12T13:13:42.936207Z",
     "start_time": "2023-05-12T13:13:42.742470Z"
    }
   },
   "outputs": [],
   "source": [
    "X_train = np.array(X_train)"
   ]
  },
  {
   "cell_type": "code",
   "execution_count": null,
   "id": "1f6604b1",
   "metadata": {
    "ExecuteTime": {
     "end_time": "2023-05-12T12:16:24.148689Z",
     "start_time": "2023-05-12T12:16:24.127377Z"
    }
   },
   "outputs": [],
   "source": []
  },
  {
   "cell_type": "code",
   "execution_count": 71,
   "id": "981c47b9",
   "metadata": {
    "ExecuteTime": {
     "end_time": "2023-05-12T13:13:45.196844Z",
     "start_time": "2023-05-12T13:13:45.162813Z"
    }
   },
   "outputs": [],
   "source": [
    "scaler = StandardScaler()"
   ]
  },
  {
   "cell_type": "code",
   "execution_count": 72,
   "id": "eec653ab",
   "metadata": {
    "ExecuteTime": {
     "end_time": "2023-05-12T13:13:46.672762Z",
     "start_time": "2023-05-12T13:13:45.477619Z"
    }
   },
   "outputs": [],
   "source": [
    "X_train_scaled = scaler.fit_transform(X_train)"
   ]
  },
  {
   "cell_type": "code",
   "execution_count": 73,
   "id": "57e2f53a",
   "metadata": {
    "ExecuteTime": {
     "end_time": "2023-05-12T13:13:46.699364Z",
     "start_time": "2023-05-12T13:13:46.675752Z"
    }
   },
   "outputs": [
    {
     "data": {
      "text/plain": [
       "(5600, 14177)"
      ]
     },
     "execution_count": 73,
     "metadata": {},
     "output_type": "execute_result"
    }
   ],
   "source": [
    "X_train.shape"
   ]
  },
  {
   "cell_type": "code",
   "execution_count": 75,
   "id": "3725ad6c",
   "metadata": {
    "ExecuteTime": {
     "end_time": "2023-05-12T13:14:34.746500Z",
     "start_time": "2023-05-12T13:14:20.373686Z"
    }
   },
   "outputs": [],
   "source": [
    "clf = LogisticRegression(solver='lbfgs', random_state=9843595, n_jobs=-1).fit(X_train_scaled, y_train)"
   ]
  },
  {
   "cell_type": "code",
   "execution_count": null,
   "id": "df96450f",
   "metadata": {
    "ExecuteTime": {
     "end_time": "2023-05-12T12:01:37.363137Z",
     "start_time": "2023-05-12T12:01:37.363111Z"
    }
   },
   "outputs": [],
   "source": [
    "result = permutation_importance(clf, X_train_scaled, y_train, n_repeats=5, \n",
    "                                random_state=234325, n_jobs=-1)"
   ]
  },
  {
   "cell_type": "code",
   "execution_count": null,
   "id": "7ce4b63d",
   "metadata": {
    "ExecuteTime": {
     "end_time": "2023-05-11T12:36:31.428728Z",
     "start_time": "2023-05-11T12:36:31.368950Z"
    }
   },
   "outputs": [],
   "source": []
  },
  {
   "cell_type": "code",
   "execution_count": null,
   "id": "53443be3",
   "metadata": {
    "ExecuteTime": {
     "end_time": "2023-05-12T12:01:37.365286Z",
     "start_time": "2023-05-12T12:01:37.365256Z"
    }
   },
   "outputs": [],
   "source": [
    "print(\", \".join(common_molecules[result.importances_mean.argsort()][:-6:-1].tolist()))"
   ]
  },
  {
   "cell_type": "code",
   "execution_count": null,
   "id": "6ec3a85f",
   "metadata": {},
   "outputs": [],
   "source": []
  },
  {
   "cell_type": "markdown",
   "id": "7ffdf647",
   "metadata": {},
   "source": [
    "## GNN approach (only if brain is treated as object)"
   ]
  },
  {
   "cell_type": "code",
   "execution_count": null,
   "id": "cbe78211",
   "metadata": {
    "ExecuteTime": {
     "end_time": "2023-05-12T12:01:37.367560Z",
     "start_time": "2023-05-12T12:01:37.367532Z"
    }
   },
   "outputs": [],
   "source": [
    "import torch\n",
    "import torch.nn.functional as F\n",
    "from torch_geometric.nn import GCNConv"
   ]
  },
  {
   "cell_type": "code",
   "execution_count": null,
   "id": "af1a5b31",
   "metadata": {
    "ExecuteTime": {
     "end_time": "2023-05-12T12:01:37.371020Z",
     "start_time": "2023-05-12T12:01:37.370991Z"
    }
   },
   "outputs": [],
   "source": [
    "from torch_geometric.data import Data\n",
    "from torch_geometric.loader import DataLoader"
   ]
  },
  {
   "cell_type": "code",
   "execution_count": null,
   "id": "3c424449",
   "metadata": {
    "ExecuteTime": {
     "end_time": "2023-05-12T12:01:37.373344Z",
     "start_time": "2023-05-12T12:01:37.373310Z"
    }
   },
   "outputs": [],
   "source": [
    "coord = pd.read_csv(\"../data/75_regions_coord.txt\", sep=\"\\t\")\n",
    "# display(coord.head())\n",
    "# fig = plt.figure()\n",
    "# ax = fig.add_subplot(projection='3d')\n",
    "# ax.scatter(coord.x, coord.y, coord.z)"
   ]
  },
  {
   "cell_type": "code",
   "execution_count": null,
   "id": "e15e05b7",
   "metadata": {
    "ExecuteTime": {
     "end_time": "2023-05-12T12:01:37.375902Z",
     "start_time": "2023-05-12T12:01:37.375872Z"
    }
   },
   "outputs": [],
   "source": [
    "class GCN(torch.nn.Module):\n",
    "    def __init__(self):\n",
    "        super().__init__()\n",
    "        self.conv1 = GCNConv(18900, 16)\n",
    "        self.conv2 = GCNConv(16, 2)\n",
    "\n",
    "    def forward(self, data):\n",
    "        x, edge_index = data.x, data.edge_index\n",
    "        x = self.conv1(x, edge_index)\n",
    "        x = F.relu(x)\n",
    "        x = self.conv2(x, edge_index)\n",
    "        return F.log_softmax(x, dim=1)"
   ]
  },
  {
   "cell_type": "code",
   "execution_count": null,
   "id": "640a4bb9",
   "metadata": {
    "ExecuteTime": {
     "end_time": "2023-05-12T12:01:37.378181Z",
     "start_time": "2023-05-12T12:01:37.378142Z"
    }
   },
   "outputs": [],
   "source": [
    "full_graph = [[[i, j] for i in range(50)] for j in range(50)]\n",
    "full_graph = torch.tensor(np.concatenate(full_graph).T)\n",
    "\n",
    "data_list = []\n",
    "for human in [\"H1\", \"H2\", \"H3\", \"H5\"]:\n",
    "    lipid_profiles = sz_molecules[sz_molecules.human == human].iloc[:, 2:-1].values.reshape(1,-1)\n",
    "    lipid_profiles = torch.Tensor(lipid_profiles)\n",
    "    print(lipid_profiles.shape)\n",
    "    data = Data(\n",
    "        x=lipid_profiles,\n",
    "        edge_index=full_graph,\n",
    "#         pos=coord[[\"x\", \"y\", \"z\"]],\n",
    "        y=1,\n",
    "    )\n",
    "    data_list.append(data)\n",
    "\n",
    "for human in [\"HA\", \"HB\", \"HC\", \"HD\"]:\n",
    "    lipid_profiles = h_molecules[h_molecules.human == human].iloc[:, 2:-1].values.reshape(1,-1)\n",
    "    lipid_profiles = torch.Tensor(lipid_profiles)\n",
    "    data = Data(\n",
    "        x=lipid_profiles,\n",
    "        edge_index=full_graph,\n",
    "#         pos=coord[[\"x\", \"y\", \"z\"]],\n",
    "        y=0,\n",
    "    )\n",
    "    print(lipid_profiles.shape)\n",
    "    data_list.append(data)"
   ]
  },
  {
   "cell_type": "code",
   "execution_count": null,
   "id": "daf6b3e2",
   "metadata": {
    "ExecuteTime": {
     "end_time": "2023-05-12T12:01:37.381443Z",
     "start_time": "2023-05-12T12:01:37.381414Z"
    }
   },
   "outputs": [],
   "source": [
    "device = torch.device('cuda' if torch.cuda.is_available() else 'cpu')\n",
    "model = GCN().to(device)\n",
    "optimizer = torch.optim.Adam(model.parameters(), lr=0.01, weight_decay=5e-4)"
   ]
  },
  {
   "cell_type": "code",
   "execution_count": null,
   "id": "88cf30aa",
   "metadata": {
    "ExecuteTime": {
     "end_time": "2023-05-12T12:01:37.383682Z",
     "start_time": "2023-05-12T12:01:37.383653Z"
    }
   },
   "outputs": [],
   "source": [
    "data_list"
   ]
  },
  {
   "cell_type": "code",
   "execution_count": null,
   "id": "e5cd7fad",
   "metadata": {
    "ExecuteTime": {
     "end_time": "2023-05-12T12:01:37.385909Z",
     "start_time": "2023-05-12T12:01:37.385882Z"
    }
   },
   "outputs": [],
   "source": [
    "loader = DataLoader(data_list, batch_size=1, shuffle=True)"
   ]
  },
  {
   "cell_type": "code",
   "execution_count": null,
   "id": "48e97a23",
   "metadata": {
    "ExecuteTime": {
     "end_time": "2023-05-12T12:01:37.387895Z",
     "start_time": "2023-05-12T12:01:37.387870Z"
    }
   },
   "outputs": [],
   "source": [
    "model(data_list[0])"
   ]
  },
  {
   "cell_type": "code",
   "execution_count": null,
   "id": "5285b602",
   "metadata": {
    "ExecuteTime": {
     "end_time": "2023-05-12T12:01:37.389979Z",
     "start_time": "2023-05-12T12:01:37.389950Z"
    }
   },
   "outputs": [],
   "source": [
    "next(iter(loader))"
   ]
  },
  {
   "cell_type": "code",
   "execution_count": null,
   "id": "223b9877",
   "metadata": {
    "ExecuteTime": {
     "end_time": "2023-05-12T12:01:37.392369Z",
     "start_time": "2023-05-12T12:01:37.392335Z"
    }
   },
   "outputs": [],
   "source": [
    "model.train()\n",
    "for epoch in range(200):\n",
    "    optimizer.zero_grad()\n",
    "    data = next(iter(loader)).to(device)    \n",
    "    out = model(data)\n",
    "    loss = F.nll_loss(out, data.y)\n",
    "    loss.backward()\n",
    "    optimizer.step()"
   ]
  }
 ],
 "metadata": {
  "kernelspec": {
   "display_name": "thesis",
   "language": "python",
   "name": "thesis"
  },
  "language_info": {
   "codemirror_mode": {
    "name": "ipython",
    "version": 3
   },
   "file_extension": ".py",
   "mimetype": "text/x-python",
   "name": "python",
   "nbconvert_exporter": "python",
   "pygments_lexer": "ipython3",
   "version": "3.10.10"
  },
  "toc": {
   "base_numbering": 1,
   "nav_menu": {},
   "number_sections": true,
   "sideBar": true,
   "skip_h1_title": false,
   "title_cell": "Table of Contents",
   "title_sidebar": "Contents",
   "toc_cell": false,
   "toc_position": {},
   "toc_section_display": true,
   "toc_window_display": false
  }
 },
 "nbformat": 4,
 "nbformat_minor": 5
}
