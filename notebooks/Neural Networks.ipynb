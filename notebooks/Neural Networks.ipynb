{
 "cells": [
  {
   "cell_type": "markdown",
   "metadata": {},
   "source": [
    "## GNN approach (only if brain is treated as object)"
   ]
  },
  {
   "cell_type": "code",
   "execution_count": null,
   "metadata": {
    "ExecuteTime": {
     "end_time": "2023-05-12T12:01:37.367560Z",
     "start_time": "2023-05-12T12:01:37.367532Z"
    }
   },
   "outputs": [],
   "source": [
    "import torch\n",
    "import torch.nn.functional as F\n",
    "from torch_geometric.nn import GCNConv"
   ]
  },
  {
   "cell_type": "code",
   "execution_count": null,
   "metadata": {
    "ExecuteTime": {
     "end_time": "2023-05-12T12:01:37.371020Z",
     "start_time": "2023-05-12T12:01:37.370991Z"
    }
   },
   "outputs": [],
   "source": [
    "from torch_geometric.data import Data\n",
    "from torch_geometric.loader import DataLoader"
   ]
  },
  {
   "cell_type": "code",
   "execution_count": null,
   "metadata": {
    "ExecuteTime": {
     "end_time": "2023-05-12T12:01:37.373344Z",
     "start_time": "2023-05-12T12:01:37.373310Z"
    }
   },
   "outputs": [],
   "source": [
    "coord = pd.read_csv(\"../data/75_regions_coord.txt\", sep=\"\\t\")\n",
    "# display(coord.head())\n",
    "# fig = plt.figure()\n",
    "# ax = fig.add_subplot(projection='3d')\n",
    "# ax.scatter(coord.x, coord.y, coord.z)"
   ]
  },
  {
   "cell_type": "code",
   "execution_count": null,
   "metadata": {
    "ExecuteTime": {
     "end_time": "2023-05-12T12:01:37.375902Z",
     "start_time": "2023-05-12T12:01:37.375872Z"
    }
   },
   "outputs": [],
   "source": [
    "class GCN(torch.nn.Module):\n",
    "    def __init__(self):\n",
    "        super().__init__()\n",
    "        self.conv1 = GCNConv(18900, 16)\n",
    "        self.conv2 = GCNConv(16, 2)\n",
    "\n",
    "    def forward(self, data):\n",
    "        x, edge_index = data.x, data.edge_index\n",
    "        x = self.conv1(x, edge_index)\n",
    "        x = F.relu(x)\n",
    "        x = self.conv2(x, edge_index)\n",
    "        return F.log_softmax(x, dim=1)"
   ]
  },
  {
   "cell_type": "code",
   "execution_count": null,
   "metadata": {
    "ExecuteTime": {
     "end_time": "2023-05-12T12:01:37.378181Z",
     "start_time": "2023-05-12T12:01:37.378142Z"
    }
   },
   "outputs": [],
   "source": [
    "full_graph = [[[i, j] for i in range(50)] for j in range(50)]\n",
    "full_graph = torch.tensor(np.concatenate(full_graph).T)\n",
    "\n",
    "data_list = []\n",
    "for human in [\"H1\", \"H2\", \"H3\", \"H5\"]:\n",
    "    lipid_profiles = (\n",
    "        sz_molecules[sz_molecules.human == human].iloc[:, 2:-1].values.reshape(1, -1)\n",
    "    )\n",
    "    lipid_profiles = torch.Tensor(lipid_profiles)\n",
    "    print(lipid_profiles.shape)\n",
    "    data = Data(\n",
    "        x=lipid_profiles,\n",
    "        edge_index=full_graph,\n",
    "        #         pos=coord[[\"x\", \"y\", \"z\"]],\n",
    "        y=1,\n",
    "    )\n",
    "    data_list.append(data)\n",
    "\n",
    "for human in [\"HA\", \"HB\", \"HC\", \"HD\"]:\n",
    "    lipid_profiles = (\n",
    "        h_molecules[h_molecules.human == human].iloc[:, 2:-1].values.reshape(1, -1)\n",
    "    )\n",
    "    lipid_profiles = torch.Tensor(lipid_profiles)\n",
    "    data = Data(\n",
    "        x=lipid_profiles,\n",
    "        edge_index=full_graph,\n",
    "        #         pos=coord[[\"x\", \"y\", \"z\"]],\n",
    "        y=0,\n",
    "    )\n",
    "    print(lipid_profiles.shape)\n",
    "    data_list.append(data)"
   ]
  },
  {
   "cell_type": "code",
   "execution_count": null,
   "metadata": {
    "ExecuteTime": {
     "end_time": "2023-05-12T12:01:37.381443Z",
     "start_time": "2023-05-12T12:01:37.381414Z"
    }
   },
   "outputs": [],
   "source": [
    "device = torch.device(\"cuda\" if torch.cuda.is_available() else \"cpu\")\n",
    "model = GCN().to(device)\n",
    "optimizer = torch.optim.Adam(model.parameters(), lr=0.01, weight_decay=5e-4)"
   ]
  },
  {
   "cell_type": "code",
   "execution_count": null,
   "metadata": {
    "ExecuteTime": {
     "end_time": "2023-05-12T12:01:37.383682Z",
     "start_time": "2023-05-12T12:01:37.383653Z"
    }
   },
   "outputs": [],
   "source": [
    "data_list"
   ]
  },
  {
   "cell_type": "code",
   "execution_count": null,
   "metadata": {
    "ExecuteTime": {
     "end_time": "2023-05-12T12:01:37.385909Z",
     "start_time": "2023-05-12T12:01:37.385882Z"
    }
   },
   "outputs": [],
   "source": [
    "loader = DataLoader(data_list, batch_size=1, shuffle=True)"
   ]
  },
  {
   "cell_type": "code",
   "execution_count": null,
   "metadata": {
    "ExecuteTime": {
     "end_time": "2023-05-12T12:01:37.387895Z",
     "start_time": "2023-05-12T12:01:37.387870Z"
    }
   },
   "outputs": [],
   "source": [
    "model(data_list[0])"
   ]
  },
  {
   "cell_type": "code",
   "execution_count": null,
   "metadata": {
    "ExecuteTime": {
     "end_time": "2023-05-12T12:01:37.389979Z",
     "start_time": "2023-05-12T12:01:37.389950Z"
    }
   },
   "outputs": [],
   "source": [
    "next(iter(loader))"
   ]
  },
  {
   "cell_type": "code",
   "execution_count": null,
   "metadata": {
    "ExecuteTime": {
     "end_time": "2023-05-12T12:01:37.392369Z",
     "start_time": "2023-05-12T12:01:37.392335Z"
    }
   },
   "outputs": [],
   "source": [
    "model.train()\n",
    "for epoch in range(200):\n",
    "    optimizer.zero_grad()\n",
    "    data = next(iter(loader)).to(device)\n",
    "    out = model(data)\n",
    "    loss = F.nll_loss(out, data.y)\n",
    "    loss.backward()\n",
    "    optimizer.step()"
   ]
  },
  {
   "cell_type": "code",
   "execution_count": null,
   "metadata": {},
   "outputs": [],
   "source": []
  }
 ],
 "metadata": {
  "kernelspec": {
   "display_name": "Python 3",
   "language": "python",
   "name": "python3"
  },
  "language_info": {
   "codemirror_mode": {
    "name": "ipython",
    "version": 3
   },
   "file_extension": ".py",
   "mimetype": "text/x-python",
   "name": "python",
   "nbconvert_exporter": "python",
   "pygments_lexer": "ipython3",
   "version": "3.8.3"
  }
 },
 "nbformat": 4,
 "nbformat_minor": 4
}
