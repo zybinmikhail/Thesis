{
 "cells": [
  {
   "cell_type": "markdown",
   "id": "827d3876",
   "metadata": {},
   "source": [
    "Here we use tximport::makeCountsFromAbundance function as it is described here https://docs.refine.bio/en/latest/main_text.html#processing-information\n",
    "\n",
    "The goal is to preprocess our RNA-seq data in the same way as it is done in refine.bio.\n",
    "\n",
    "After making lengthScaledTPM we also do quantile normalization on the reference distribution taken from here https://docs.refine.bio/en/latest/main_text.html#transformations\n",
    "https://api.refine.bio/v1/qn_targets/HOMO_SAPIENS"
   ]
  },
  {
   "cell_type": "code",
   "execution_count": 1,
   "id": "1d7e610f",
   "metadata": {
    "ExecuteTime": {
     "end_time": "2023-03-10T07:14:33.699835Z",
     "start_time": "2023-03-10T07:14:33.622Z"
    }
   },
   "outputs": [],
   "source": [
    "library(tximport)\n",
    "library(preprocessCore)\n",
    "\n",
    "library(biomaRt)\n",
    "library(tidyr)\n",
    "library(dplyr)\n",
    "library(curl)"
   ]
  },
  {
   "cell_type": "code",
   "execution_count": 3,
   "id": "b99ed2f4",
   "metadata": {
    "ExecuteTime": {
     "end_time": "2023-03-06T13:53:05.012645Z",
     "start_time": "2023-03-06T13:52:54.425Z"
    }
   },
   "outputs": [
    {
     "data": {
      "text/html": [
       "<table class=\"dataframe\">\n",
       "<caption>A data.frame: 23 × 5</caption>\n",
       "<thead>\n",
       "\t<tr><th scope=col>name</th><th scope=col>date</th><th scope=col>url</th><th scope=col>version</th><th scope=col>current_release</th></tr>\n",
       "\t<tr><th scope=col>&lt;chr&gt;</th><th scope=col>&lt;chr&gt;</th><th scope=col>&lt;chr&gt;</th><th scope=col>&lt;chr&gt;</th><th scope=col>&lt;chr&gt;</th></tr>\n",
       "</thead>\n",
       "<tbody>\n",
       "\t<tr><td>Ensembl GRCh37</td><td>Feb 2014</td><td>https://grch37.ensembl.org         </td><td>GRCh37</td><td> </td></tr>\n",
       "\t<tr><td>Ensembl 109   </td><td>Feb 2023</td><td>https://feb2023.archive.ensembl.org</td><td>109   </td><td>*</td></tr>\n",
       "\t<tr><td>Ensembl 108   </td><td>Oct 2022</td><td>https://oct2022.archive.ensembl.org</td><td>108   </td><td> </td></tr>\n",
       "\t<tr><td>Ensembl 107   </td><td>Jul 2022</td><td>https://jul2022.archive.ensembl.org</td><td>107   </td><td> </td></tr>\n",
       "\t<tr><td>Ensembl 106   </td><td>Apr 2022</td><td>https://apr2022.archive.ensembl.org</td><td>106   </td><td> </td></tr>\n",
       "\t<tr><td>Ensembl 105   </td><td>Dec 2021</td><td>https://dec2021.archive.ensembl.org</td><td>105   </td><td> </td></tr>\n",
       "\t<tr><td>Ensembl 104   </td><td>May 2021</td><td>https://may2021.archive.ensembl.org</td><td>104   </td><td> </td></tr>\n",
       "\t<tr><td>Ensembl 103   </td><td>Feb 2021</td><td>https://feb2021.archive.ensembl.org</td><td>103   </td><td> </td></tr>\n",
       "\t<tr><td>Ensembl 102   </td><td>Nov 2020</td><td>https://nov2020.archive.ensembl.org</td><td>102   </td><td> </td></tr>\n",
       "\t<tr><td>Ensembl 101   </td><td>Aug 2020</td><td>https://aug2020.archive.ensembl.org</td><td>101   </td><td> </td></tr>\n",
       "\t<tr><td>Ensembl 100   </td><td>Apr 2020</td><td>https://apr2020.archive.ensembl.org</td><td>100   </td><td> </td></tr>\n",
       "\t<tr><td>Ensembl 99    </td><td>Jan 2020</td><td>https://jan2020.archive.ensembl.org</td><td>99    </td><td> </td></tr>\n",
       "\t<tr><td>Ensembl 98    </td><td>Sep 2019</td><td>https://sep2019.archive.ensembl.org</td><td>98    </td><td> </td></tr>\n",
       "\t<tr><td>Ensembl 97    </td><td>Jul 2019</td><td>https://jul2019.archive.ensembl.org</td><td>97    </td><td> </td></tr>\n",
       "\t<tr><td>Ensembl 96    </td><td>Apr 2019</td><td>https://apr2019.archive.ensembl.org</td><td>96    </td><td> </td></tr>\n",
       "\t<tr><td>Ensembl 95    </td><td>Jan 2019</td><td>https://jan2019.archive.ensembl.org</td><td>95    </td><td> </td></tr>\n",
       "\t<tr><td>Ensembl 94    </td><td>Oct 2018</td><td>https://oct2018.archive.ensembl.org</td><td>94    </td><td> </td></tr>\n",
       "\t<tr><td>Ensembl 93    </td><td>Jul 2018</td><td>https://jul2018.archive.ensembl.org</td><td>93    </td><td> </td></tr>\n",
       "\t<tr><td>Ensembl 92    </td><td>Apr 2018</td><td>https://apr2018.archive.ensembl.org</td><td>92    </td><td> </td></tr>\n",
       "\t<tr><td>Ensembl 80    </td><td>May 2015</td><td>https://may2015.archive.ensembl.org</td><td>80    </td><td> </td></tr>\n",
       "\t<tr><td>Ensembl 77    </td><td>Oct 2014</td><td>https://oct2014.archive.ensembl.org</td><td>77    </td><td> </td></tr>\n",
       "\t<tr><td>Ensembl 75    </td><td>Feb 2014</td><td>https://feb2014.archive.ensembl.org</td><td>75    </td><td> </td></tr>\n",
       "\t<tr><td>Ensembl 54    </td><td>May 2009</td><td>https://may2009.archive.ensembl.org</td><td>54    </td><td> </td></tr>\n",
       "</tbody>\n",
       "</table>\n"
      ],
      "text/latex": [
       "A data.frame: 23 × 5\n",
       "\\begin{tabular}{lllll}\n",
       " name & date & url & version & current\\_release\\\\\n",
       " <chr> & <chr> & <chr> & <chr> & <chr>\\\\\n",
       "\\hline\n",
       "\t Ensembl GRCh37 & Feb 2014 & https://grch37.ensembl.org          & GRCh37 &  \\\\\n",
       "\t Ensembl 109    & Feb 2023 & https://feb2023.archive.ensembl.org & 109    & *\\\\\n",
       "\t Ensembl 108    & Oct 2022 & https://oct2022.archive.ensembl.org & 108    &  \\\\\n",
       "\t Ensembl 107    & Jul 2022 & https://jul2022.archive.ensembl.org & 107    &  \\\\\n",
       "\t Ensembl 106    & Apr 2022 & https://apr2022.archive.ensembl.org & 106    &  \\\\\n",
       "\t Ensembl 105    & Dec 2021 & https://dec2021.archive.ensembl.org & 105    &  \\\\\n",
       "\t Ensembl 104    & May 2021 & https://may2021.archive.ensembl.org & 104    &  \\\\\n",
       "\t Ensembl 103    & Feb 2021 & https://feb2021.archive.ensembl.org & 103    &  \\\\\n",
       "\t Ensembl 102    & Nov 2020 & https://nov2020.archive.ensembl.org & 102    &  \\\\\n",
       "\t Ensembl 101    & Aug 2020 & https://aug2020.archive.ensembl.org & 101    &  \\\\\n",
       "\t Ensembl 100    & Apr 2020 & https://apr2020.archive.ensembl.org & 100    &  \\\\\n",
       "\t Ensembl 99     & Jan 2020 & https://jan2020.archive.ensembl.org & 99     &  \\\\\n",
       "\t Ensembl 98     & Sep 2019 & https://sep2019.archive.ensembl.org & 98     &  \\\\\n",
       "\t Ensembl 97     & Jul 2019 & https://jul2019.archive.ensembl.org & 97     &  \\\\\n",
       "\t Ensembl 96     & Apr 2019 & https://apr2019.archive.ensembl.org & 96     &  \\\\\n",
       "\t Ensembl 95     & Jan 2019 & https://jan2019.archive.ensembl.org & 95     &  \\\\\n",
       "\t Ensembl 94     & Oct 2018 & https://oct2018.archive.ensembl.org & 94     &  \\\\\n",
       "\t Ensembl 93     & Jul 2018 & https://jul2018.archive.ensembl.org & 93     &  \\\\\n",
       "\t Ensembl 92     & Apr 2018 & https://apr2018.archive.ensembl.org & 92     &  \\\\\n",
       "\t Ensembl 80     & May 2015 & https://may2015.archive.ensembl.org & 80     &  \\\\\n",
       "\t Ensembl 77     & Oct 2014 & https://oct2014.archive.ensembl.org & 77     &  \\\\\n",
       "\t Ensembl 75     & Feb 2014 & https://feb2014.archive.ensembl.org & 75     &  \\\\\n",
       "\t Ensembl 54     & May 2009 & https://may2009.archive.ensembl.org & 54     &  \\\\\n",
       "\\end{tabular}\n"
      ],
      "text/markdown": [
       "\n",
       "A data.frame: 23 × 5\n",
       "\n",
       "| name &lt;chr&gt; | date &lt;chr&gt; | url &lt;chr&gt; | version &lt;chr&gt; | current_release &lt;chr&gt; |\n",
       "|---|---|---|---|---|\n",
       "| Ensembl GRCh37 | Feb 2014 | https://grch37.ensembl.org          | GRCh37 | <!----> |\n",
       "| Ensembl 109    | Feb 2023 | https://feb2023.archive.ensembl.org | 109    | * |\n",
       "| Ensembl 108    | Oct 2022 | https://oct2022.archive.ensembl.org | 108    | <!----> |\n",
       "| Ensembl 107    | Jul 2022 | https://jul2022.archive.ensembl.org | 107    | <!----> |\n",
       "| Ensembl 106    | Apr 2022 | https://apr2022.archive.ensembl.org | 106    | <!----> |\n",
       "| Ensembl 105    | Dec 2021 | https://dec2021.archive.ensembl.org | 105    | <!----> |\n",
       "| Ensembl 104    | May 2021 | https://may2021.archive.ensembl.org | 104    | <!----> |\n",
       "| Ensembl 103    | Feb 2021 | https://feb2021.archive.ensembl.org | 103    | <!----> |\n",
       "| Ensembl 102    | Nov 2020 | https://nov2020.archive.ensembl.org | 102    | <!----> |\n",
       "| Ensembl 101    | Aug 2020 | https://aug2020.archive.ensembl.org | 101    | <!----> |\n",
       "| Ensembl 100    | Apr 2020 | https://apr2020.archive.ensembl.org | 100    | <!----> |\n",
       "| Ensembl 99     | Jan 2020 | https://jan2020.archive.ensembl.org | 99     | <!----> |\n",
       "| Ensembl 98     | Sep 2019 | https://sep2019.archive.ensembl.org | 98     | <!----> |\n",
       "| Ensembl 97     | Jul 2019 | https://jul2019.archive.ensembl.org | 97     | <!----> |\n",
       "| Ensembl 96     | Apr 2019 | https://apr2019.archive.ensembl.org | 96     | <!----> |\n",
       "| Ensembl 95     | Jan 2019 | https://jan2019.archive.ensembl.org | 95     | <!----> |\n",
       "| Ensembl 94     | Oct 2018 | https://oct2018.archive.ensembl.org | 94     | <!----> |\n",
       "| Ensembl 93     | Jul 2018 | https://jul2018.archive.ensembl.org | 93     | <!----> |\n",
       "| Ensembl 92     | Apr 2018 | https://apr2018.archive.ensembl.org | 92     | <!----> |\n",
       "| Ensembl 80     | May 2015 | https://may2015.archive.ensembl.org | 80     | <!----> |\n",
       "| Ensembl 77     | Oct 2014 | https://oct2014.archive.ensembl.org | 77     | <!----> |\n",
       "| Ensembl 75     | Feb 2014 | https://feb2014.archive.ensembl.org | 75     | <!----> |\n",
       "| Ensembl 54     | May 2009 | https://may2009.archive.ensembl.org | 54     | <!----> |\n",
       "\n"
      ],
      "text/plain": [
       "   name           date     url                                 version\n",
       "1  Ensembl GRCh37 Feb 2014 https://grch37.ensembl.org          GRCh37 \n",
       "2  Ensembl 109    Feb 2023 https://feb2023.archive.ensembl.org 109    \n",
       "3  Ensembl 108    Oct 2022 https://oct2022.archive.ensembl.org 108    \n",
       "4  Ensembl 107    Jul 2022 https://jul2022.archive.ensembl.org 107    \n",
       "5  Ensembl 106    Apr 2022 https://apr2022.archive.ensembl.org 106    \n",
       "6  Ensembl 105    Dec 2021 https://dec2021.archive.ensembl.org 105    \n",
       "7  Ensembl 104    May 2021 https://may2021.archive.ensembl.org 104    \n",
       "8  Ensembl 103    Feb 2021 https://feb2021.archive.ensembl.org 103    \n",
       "9  Ensembl 102    Nov 2020 https://nov2020.archive.ensembl.org 102    \n",
       "10 Ensembl 101    Aug 2020 https://aug2020.archive.ensembl.org 101    \n",
       "11 Ensembl 100    Apr 2020 https://apr2020.archive.ensembl.org 100    \n",
       "12 Ensembl 99     Jan 2020 https://jan2020.archive.ensembl.org 99     \n",
       "13 Ensembl 98     Sep 2019 https://sep2019.archive.ensembl.org 98     \n",
       "14 Ensembl 97     Jul 2019 https://jul2019.archive.ensembl.org 97     \n",
       "15 Ensembl 96     Apr 2019 https://apr2019.archive.ensembl.org 96     \n",
       "16 Ensembl 95     Jan 2019 https://jan2019.archive.ensembl.org 95     \n",
       "17 Ensembl 94     Oct 2018 https://oct2018.archive.ensembl.org 94     \n",
       "18 Ensembl 93     Jul 2018 https://jul2018.archive.ensembl.org 93     \n",
       "19 Ensembl 92     Apr 2018 https://apr2018.archive.ensembl.org 92     \n",
       "20 Ensembl 80     May 2015 https://may2015.archive.ensembl.org 80     \n",
       "21 Ensembl 77     Oct 2014 https://oct2014.archive.ensembl.org 77     \n",
       "22 Ensembl 75     Feb 2014 https://feb2014.archive.ensembl.org 75     \n",
       "23 Ensembl 54     May 2009 https://may2009.archive.ensembl.org 54     \n",
       "   current_release\n",
       "1                 \n",
       "2  *              \n",
       "3                 \n",
       "4                 \n",
       "5                 \n",
       "6                 \n",
       "7                 \n",
       "8                 \n",
       "9                 \n",
       "10                \n",
       "11                \n",
       "12                \n",
       "13                \n",
       "14                \n",
       "15                \n",
       "16                \n",
       "17                \n",
       "18                \n",
       "19                \n",
       "20                \n",
       "21                \n",
       "22                \n",
       "23                "
      ]
     },
     "metadata": {},
     "output_type": "display_data"
    },
    {
     "data": {
      "text/html": [
       "<table class=\"dataframe\">\n",
       "<caption>A data.frame: 4 × 2</caption>\n",
       "<thead>\n",
       "\t<tr><th scope=col>biomart</th><th scope=col>version</th></tr>\n",
       "\t<tr><th scope=col>&lt;chr&gt;</th><th scope=col>&lt;chr&gt;</th></tr>\n",
       "</thead>\n",
       "<tbody>\n",
       "\t<tr><td>ENSEMBL_MART_ENSEMBL</td><td>Ensembl Genes 109     </td></tr>\n",
       "\t<tr><td>ENSEMBL_MART_MOUSE  </td><td>Mouse strains 109     </td></tr>\n",
       "\t<tr><td>ENSEMBL_MART_SNP    </td><td>Ensembl Variation 109 </td></tr>\n",
       "\t<tr><td>ENSEMBL_MART_FUNCGEN</td><td>Ensembl Regulation 109</td></tr>\n",
       "</tbody>\n",
       "</table>\n"
      ],
      "text/latex": [
       "A data.frame: 4 × 2\n",
       "\\begin{tabular}{ll}\n",
       " biomart & version\\\\\n",
       " <chr> & <chr>\\\\\n",
       "\\hline\n",
       "\t ENSEMBL\\_MART\\_ENSEMBL & Ensembl Genes 109     \\\\\n",
       "\t ENSEMBL\\_MART\\_MOUSE   & Mouse strains 109     \\\\\n",
       "\t ENSEMBL\\_MART\\_SNP     & Ensembl Variation 109 \\\\\n",
       "\t ENSEMBL\\_MART\\_FUNCGEN & Ensembl Regulation 109\\\\\n",
       "\\end{tabular}\n"
      ],
      "text/markdown": [
       "\n",
       "A data.frame: 4 × 2\n",
       "\n",
       "| biomart &lt;chr&gt; | version &lt;chr&gt; |\n",
       "|---|---|\n",
       "| ENSEMBL_MART_ENSEMBL | Ensembl Genes 109      |\n",
       "| ENSEMBL_MART_MOUSE   | Mouse strains 109      |\n",
       "| ENSEMBL_MART_SNP     | Ensembl Variation 109  |\n",
       "| ENSEMBL_MART_FUNCGEN | Ensembl Regulation 109 |\n",
       "\n"
      ],
      "text/plain": [
       "  biomart              version               \n",
       "1 ENSEMBL_MART_ENSEMBL Ensembl Genes 109     \n",
       "2 ENSEMBL_MART_MOUSE   Mouse strains 109     \n",
       "3 ENSEMBL_MART_SNP     Ensembl Variation 109 \n",
       "4 ENSEMBL_MART_FUNCGEN Ensembl Regulation 109"
      ]
     },
     "metadata": {},
     "output_type": "display_data"
    },
    {
     "name": "stderr",
     "output_type": "stream",
     "text": [
      "Warning message:\n",
      "“Ensembl will soon enforce the use of https.\n",
      "Ensure the 'host' argument includes \"https://\"”\n"
     ]
    }
   ],
   "source": [
    "listEnsemblArchives()\n",
    "listMarts()\n",
    "human.93 = useMart(\"ENSEMBL_MART_ENSEMBL\", dataset=\"hsapiens_gene_ensembl\", host=\"http://jul2018.archive.ensembl.org\")  "
   ]
  },
  {
   "cell_type": "code",
   "execution_count": 4,
   "id": "f3025a68",
   "metadata": {
    "ExecuteTime": {
     "end_time": "2023-03-06T13:53:05.040312Z",
     "start_time": "2023-03-06T13:52:54.430Z"
    }
   },
   "outputs": [],
   "source": [
    "use_control <- FALSE # The notebook has to be launched for TRUE and then FALSE values of this variable"
   ]
  },
  {
   "cell_type": "code",
   "execution_count": 5,
   "id": "fb812e9a",
   "metadata": {
    "ExecuteTime": {
     "end_time": "2023-03-06T13:53:05.378819Z",
     "start_time": "2023-03-06T13:52:54.435Z"
    }
   },
   "outputs": [],
   "source": [
    "if (use_control) {\n",
    "    our_table_name <- \"../data/ours_counts/h.gene.count.csv\"\n",
    "    path_for_saving <- \"../data/intermediate/control_lengthScaledTPM.csv\"\n",
    "    path_for_saving_normalized <- \"../data/intermediate/control_lengthScaledTPM_normalized.csv\"\n",
    "} else {\n",
    "    our_table_name <- \"../data/ours_counts/schizo_gene_count_matrix.csv\"\n",
    "    path_for_saving <- \"../data/intermediate/sz_lengthScaledTPM.csv\"\n",
    "    path_for_saving_normalized <- \"../data/intermediate/sz_lengthScaledTPM_normalized.csv\"\n",
    "}"
   ]
  },
  {
   "cell_type": "code",
   "execution_count": 6,
   "id": "80bff291",
   "metadata": {
    "ExecuteTime": {
     "end_time": "2023-03-06T13:53:09.500807Z",
     "start_time": "2023-03-06T13:52:54.446Z"
    }
   },
   "outputs": [],
   "source": [
    "counts <- read.csv(our_table_name)"
   ]
  },
  {
   "cell_type": "code",
   "execution_count": 7,
   "id": "08677983",
   "metadata": {
    "ExecuteTime": {
     "end_time": "2023-03-06T13:53:09.520876Z",
     "start_time": "2023-03-06T13:52:54.450Z"
    }
   },
   "outputs": [],
   "source": [
    "gene.data = data.frame(gene = counts[,1])\n",
    "counts = counts[,-1]"
   ]
  },
  {
   "cell_type": "markdown",
   "id": "156f27a3",
   "metadata": {},
   "source": [
    "# Get TPM"
   ]
  },
  {
   "cell_type": "code",
   "execution_count": 9,
   "id": "667e27f7",
   "metadata": {
    "ExecuteTime": {
     "end_time": "2023-03-06T13:55:01.811673Z",
     "start_time": "2023-03-06T13:52:54.463Z"
    }
   },
   "outputs": [
    {
     "name": "stderr",
     "output_type": "stream",
     "text": [
      "\n",
      "Batch submitting query [==>----------------------------]   8% eta:  8m\n",
      "\n",
      "Batch submitting query [====>--------------------------]  17% eta:  4m\n",
      "\n",
      "Batch submitting query [=======>-----------------------]  25% eta:  3m\n",
      "\n",
      "Batch submitting query [=========>---------------------]  33% eta:  2m\n",
      "\n",
      "Batch submitting query [============>------------------]  42% eta:  2m\n",
      "\n",
      "Batch submitting query [===============>---------------]  50% eta:  1m\n",
      "\n",
      "Batch submitting query [=================>-------------]  58% eta:  1m\n",
      "\n",
      "Batch submitting query [====================>----------]  67% eta: 45s\n",
      "\n",
      "Batch submitting query [======================>--------]  75% eta: 31s\n",
      "\n",
      "Batch submitting query [=========================>-----]  83% eta: 20s\n",
      "\n",
      "Batch submitting query [===========================>---]  92% eta: 10s\n",
      "                                                                      \n",
      "\n"
     ]
    }
   ],
   "source": [
    "gene_coords=getBM(\n",
    "    attributes=c(#\"hgnc_symbol\",\n",
    "        \"ensembl_gene_id\", \n",
    "        \"transcript_length\",\n",
    "        \"gene_biotype\"\n",
    "    ), \n",
    "    filters=c(\"ensembl_gene_id\"), \n",
    "    values=as.character(gene.data$gene), \n",
    "    mart=human.93,\n",
    "    useCache = FALSE\n",
    ")"
   ]
  },
  {
   "cell_type": "code",
   "execution_count": 10,
   "id": "c84784f9",
   "metadata": {
    "ExecuteTime": {
     "end_time": "2023-03-06T13:55:02.795376Z",
     "start_time": "2023-03-06T13:52:54.467Z"
    }
   },
   "outputs": [
    {
     "data": {
      "text/html": [
       "19912"
      ],
      "text/latex": [
       "19912"
      ],
      "text/markdown": [
       "19912"
      ],
      "text/plain": [
       "[1] 19912"
      ]
     },
     "metadata": {},
     "output_type": "display_data"
    }
   ],
   "source": [
    "gene.data.ens = gene_coords %>% \n",
    "dplyr::filter(gene_biotype %in% c(\"protein_coding\")) %>% #,\"lincRNA\",\"antisense\"\n",
    "dplyr::select(ensembl_gene_id, gene_biotype, transcript_length) %>%\n",
    "dplyr::group_by(ensembl_gene_id) %>%\n",
    "dplyr::summarise(mean = mean(transcript_length),\n",
    "                 median = median(transcript_length),\n",
    "                 longest_isoform = max(transcript_length))\n",
    "nrow(gene.data.ens)"
   ]
  },
  {
   "cell_type": "code",
   "execution_count": 11,
   "id": "2a41083a",
   "metadata": {
    "ExecuteTime": {
     "end_time": "2023-03-06T13:55:03.947223Z",
     "start_time": "2023-03-06T13:52:54.479Z"
    }
   },
   "outputs": [
    {
     "name": "stderr",
     "output_type": "stream",
     "text": [
      "Warning message in xtfrm.data.frame(x):\n",
      "“cannot xtfrm data frames”\n",
      "Warning message in xtfrm.data.frame(x):\n",
      "“cannot xtfrm data frames”\n"
     ]
    }
   ],
   "source": [
    "gene.data.ens = arrange(gene.data.ens, ensembl_gene_id)\n",
    "counts = counts[order(gene.data),]\n",
    "gene.data = gene.data[order(gene.data),]"
   ]
  },
  {
   "cell_type": "code",
   "execution_count": 12,
   "id": "a1c5145e",
   "metadata": {
    "ExecuteTime": {
     "end_time": "2023-03-06T13:55:07.578613Z",
     "start_time": "2023-03-06T13:52:54.484Z"
    }
   },
   "outputs": [],
   "source": [
    "coding = counts[gene.data %in% gene.data.ens$ensembl_gene_id,]+1 # select protein-coding genes \n",
    "coding = apply(coding, 2, function(x) 1000*(x/gene.data.ens$mean)) # get RPK - reads per kilobase\n",
    "coding = apply(coding, 2, function(x) 1000000*(x/sum(x))) # get TPM - dividing by \"per milion\" factor"
   ]
  },
  {
   "cell_type": "code",
   "execution_count": 13,
   "id": "e2830591",
   "metadata": {
    "ExecuteTime": {
     "end_time": "2023-03-06T13:55:07.595970Z",
     "start_time": "2023-03-06T13:52:54.489Z"
    }
   },
   "outputs": [],
   "source": [
    "# selected.genes = gene.data[gene.data %in% gene.data.ens$ensembl_gene_id][rowMeans(coding) > 1]# select genes with mean TPM > 1 <=> mean log > 0\n",
    "# coding = coding[rowMeans(coding) > 1,] # select genes with mean TPM > 1 <=> mean log > 0 \n",
    "# length(selected.genes)\n",
    "# coding = log10(coding)\n",
    "# coding = apply(coding, 2, function(x) x-median(x))"
   ]
  },
  {
   "cell_type": "markdown",
   "id": "a5d9067a",
   "metadata": {},
   "source": [
    "# Get lengthScaledTPM"
   ]
  },
  {
   "cell_type": "code",
   "execution_count": 14,
   "id": "e755268e",
   "metadata": {
    "ExecuteTime": {
     "end_time": "2023-03-06T13:55:07.721867Z",
     "start_time": "2023-03-06T13:52:54.493Z"
    }
   },
   "outputs": [],
   "source": [
    "lengthScaledTPM <- tximport::makeCountsFromAbundance(\n",
    "    countsMat=counts,\n",
    "    abundanceMat=coding,\n",
    "    lengthMat=gene.data.ens[,2],\n",
    "    countsFromAbundance=\"lengthScaledTPM\"\n",
    ")"
   ]
  },
  {
   "cell_type": "code",
   "execution_count": 15,
   "id": "0f44586c",
   "metadata": {
    "ExecuteTime": {
     "end_time": "2023-03-06T13:55:11.986686Z",
     "start_time": "2023-03-06T13:52:54.495Z"
    }
   },
   "outputs": [],
   "source": [
    "write.csv(lengthScaledTPM, path_for_saving, row.names=gene.data.ens$ensembl_gene_id)"
   ]
  },
  {
   "cell_type": "markdown",
   "id": "0580d713",
   "metadata": {},
   "source": [
    "# Quantile Normalization"
   ]
  },
  {
   "cell_type": "code",
   "execution_count": 16,
   "id": "25ef91a3",
   "metadata": {
    "ExecuteTime": {
     "end_time": "2023-03-06T13:55:12.027988Z",
     "start_time": "2023-03-06T13:52:54.499Z"
    }
   },
   "outputs": [],
   "source": [
    "reference_distr <- read.csv(\"../data/refine.bio/reference_distr.tsv\", sep='\\t', header=FALSE)"
   ]
  },
  {
   "cell_type": "code",
   "execution_count": 17,
   "id": "68502723",
   "metadata": {
    "ExecuteTime": {
     "end_time": "2023-03-06T13:55:12.484858Z",
     "start_time": "2023-03-06T13:52:54.506Z"
    }
   },
   "outputs": [],
   "source": [
    "lengthScaledTPM_normalized <- normalize.quantiles.use.target(lengthScaledTPM, target=as.vector(t(reference_distr)))"
   ]
  },
  {
   "cell_type": "code",
   "execution_count": 18,
   "id": "140ac70b",
   "metadata": {
    "ExecuteTime": {
     "end_time": "2023-03-06T13:55:15.861360Z",
     "start_time": "2023-03-06T13:52:54.509Z"
    }
   },
   "outputs": [],
   "source": [
    "write.csv(lengthScaledTPM_normalized, path_for_saving_normalized, row.names=gene.data.ens$ensembl_gene_id)"
   ]
  },
  {
   "cell_type": "code",
   "execution_count": 19,
   "id": "16cabab4",
   "metadata": {
    "ExecuteTime": {
     "end_time": "2023-03-06T13:55:15.936766Z",
     "start_time": "2023-03-06T13:52:54.514Z"
    }
   },
   "outputs": [
    {
     "data": {
      "text/plain": [
       "R version 4.2.2 Patched (2022-11-10 r83330)\n",
       "Platform: x86_64-pc-linux-gnu (64-bit)\n",
       "Running under: Ubuntu 22.04.2 LTS\n",
       "\n",
       "Matrix products: default\n",
       "BLAS:   /usr/lib/x86_64-linux-gnu/blas/libblas.so.3.10.0\n",
       "LAPACK: /usr/lib/x86_64-linux-gnu/lapack/liblapack.so.3.10.0\n",
       "\n",
       "locale:\n",
       " [1] LC_CTYPE=en_US.UTF-8       LC_NUMERIC=C              \n",
       " [3] LC_TIME=ru_RU.UTF-8        LC_COLLATE=en_US.UTF-8    \n",
       " [5] LC_MONETARY=ru_RU.UTF-8    LC_MESSAGES=en_US.UTF-8   \n",
       " [7] LC_PAPER=ru_RU.UTF-8       LC_NAME=C                 \n",
       " [9] LC_ADDRESS=C               LC_TELEPHONE=C            \n",
       "[11] LC_MEASUREMENT=ru_RU.UTF-8 LC_IDENTIFICATION=C       \n",
       "\n",
       "attached base packages:\n",
       "[1] stats     graphics  grDevices utils     datasets  methods   base     \n",
       "\n",
       "other attached packages:\n",
       "[1] curl_5.0.0            ggplot2_3.4.1         dplyr_1.1.0          \n",
       "[4] tidyr_1.3.0           biomaRt_2.54.0        preprocessCore_1.60.2\n",
       "[7] tximport_1.26.1      \n",
       "\n",
       "loaded via a namespace (and not attached):\n",
       " [1] prettyunits_1.1.1      png_0.1-8              Biostrings_2.66.0     \n",
       " [4] digest_0.6.31          utf8_1.2.3             IRdisplay_1.1         \n",
       " [7] BiocFileCache_2.6.1    R6_2.5.1               GenomeInfoDb_1.34.9   \n",
       "[10] repr_1.1.6             stats4_4.2.2           RSQLite_2.3.0         \n",
       "[13] evaluate_0.20          httr_1.4.5             pillar_1.8.1          \n",
       "[16] zlibbioc_1.44.0        rlang_1.0.6            progress_1.2.2        \n",
       "[19] uuid_1.1-0             blob_1.2.3             S4Vectors_0.36.2      \n",
       "[22] stringr_1.5.0          munsell_0.5.0          RCurl_1.98-1.10       \n",
       "[25] bit_4.0.5              compiler_4.2.2         pkgconfig_2.0.3       \n",
       "[28] BiocGenerics_0.44.0    base64enc_0.1-3        htmltools_0.5.4       \n",
       "[31] tidyselect_1.2.0       KEGGREST_1.38.0        tibble_3.1.8          \n",
       "[34] GenomeInfoDbData_1.2.9 IRanges_2.32.0         XML_3.99-0.13         \n",
       "[37] fansi_1.0.4            withr_2.5.0            crayon_1.5.2          \n",
       "[40] dbplyr_2.3.1           bitops_1.0-7           rappdirs_0.3.3        \n",
       "[43] grid_4.2.2             jsonlite_1.8.4         gtable_0.3.1          \n",
       "[46] lifecycle_1.0.3        DBI_1.1.3              magrittr_2.0.3        \n",
       "[49] scales_1.2.1           cli_3.6.0              stringi_1.7.12        \n",
       "[52] cachem_1.0.7           XVector_0.38.0         xml2_1.3.3            \n",
       "[55] ellipsis_0.3.2         filelock_1.0.2         vctrs_0.5.2           \n",
       "[58] generics_0.1.3         IRkernel_1.3.2         tools_4.2.2           \n",
       "[61] bit64_4.0.5            Biobase_2.58.0         glue_1.6.2            \n",
       "[64] purrr_1.0.1            hms_1.1.2              fastmap_1.1.1         \n",
       "[67] colorspace_2.1-0       AnnotationDbi_1.60.0   memoise_2.0.1         \n",
       "[70] pbdZMQ_0.3-9          "
      ]
     },
     "metadata": {},
     "output_type": "display_data"
    }
   ],
   "source": [
    "sessionInfo()"
   ]
  },
  {
   "cell_type": "code",
   "execution_count": null,
   "id": "7fe61709",
   "metadata": {},
   "outputs": [],
   "source": []
  }
 ],
 "metadata": {
  "kernelspec": {
   "display_name": "R",
   "language": "R",
   "name": "ir"
  },
  "language_info": {
   "codemirror_mode": "r",
   "file_extension": ".r",
   "mimetype": "text/x-r-source",
   "name": "R",
   "pygments_lexer": "r",
   "version": "4.2.2"
  },
  "toc": {
   "base_numbering": 1,
   "nav_menu": {},
   "number_sections": true,
   "sideBar": true,
   "skip_h1_title": false,
   "title_cell": "Table of Contents",
   "title_sidebar": "Contents",
   "toc_cell": false,
   "toc_position": {},
   "toc_section_display": true,
   "toc_window_display": false
  }
 },
 "nbformat": 4,
 "nbformat_minor": 5
}
