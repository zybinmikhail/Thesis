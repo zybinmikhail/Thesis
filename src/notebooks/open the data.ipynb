{
 "cells": [
  {
   "cell_type": "code",
   "execution_count": 1,
   "id": "bbdd8e13",
   "metadata": {},
   "outputs": [],
   "source": [
    "import numpy as np\n",
    "import pandas as pd\n"
   ]
  },
  {
   "cell_type": "markdown",
   "id": "99f75839",
   "metadata": {},
   "source": [
    "# txt"
   ]
  },
  {
   "cell_type": "code",
   "execution_count": 2,
   "id": "409103ff",
   "metadata": {},
   "outputs": [],
   "source": [
    "# schizo_peaks = open('new_SZ_ourRNA-35reg-prot_genes-peaks.txt').read()\n",
    "# healthy_peaks = open('new_ourRNA-35reg-prot_genes-peaks.txt').read()\n"
   ]
  },
  {
   "cell_type": "code",
   "execution_count": 3,
   "id": "82c01f7c",
   "metadata": {},
   "outputs": [],
   "source": [
    "schizo_data = pd.read_csv('new_SZ_ourRNA-35reg-prot_genes-data.txt', sep='\\t', header=None)\n",
    "healthy_data = pd.read_csv('new_ourRNA-35reg-prot_genes-data.txt', sep='\\t', header=None)"
   ]
  },
  {
   "cell_type": "code",
   "execution_count": 17,
   "id": "2e6b4996",
   "metadata": {},
   "outputs": [
    {
     "data": {
      "text/html": [
       "<div>\n",
       "<style scoped>\n",
       "    .dataframe tbody tr th:only-of-type {\n",
       "        vertical-align: middle;\n",
       "    }\n",
       "\n",
       "    .dataframe tbody tr th {\n",
       "        vertical-align: top;\n",
       "    }\n",
       "\n",
       "    .dataframe thead th {\n",
       "        text-align: right;\n",
       "    }\n",
       "</style>\n",
       "<table border=\"1\" class=\"dataframe\">\n",
       "  <thead>\n",
       "    <tr style=\"text-align: right;\">\n",
       "      <th></th>\n",
       "      <th>0</th>\n",
       "      <th>1</th>\n",
       "      <th>2</th>\n",
       "      <th>3</th>\n",
       "      <th>4</th>\n",
       "      <th>5</th>\n",
       "      <th>6</th>\n",
       "      <th>7</th>\n",
       "      <th>8</th>\n",
       "    </tr>\n",
       "  </thead>\n",
       "  <tbody>\n",
       "    <tr>\n",
       "      <th>0</th>\n",
       "      <td>1</td>\n",
       "      <td>Batch1_Sch_Br_x30_pos_1-01_29.mzXML</td>\n",
       "      <td>MS</td>\n",
       "      <td>NaN</td>\n",
       "      <td>NaN</td>\n",
       "      <td>H1</td>\n",
       "      <td>29</td>\n",
       "      <td>1  Cerebellar Grey Matter</td>\n",
       "      <td>Cerebellum</td>\n",
       "    </tr>\n",
       "    <tr>\n",
       "      <th>1</th>\n",
       "      <td>1</td>\n",
       "      <td>Batch1_Sch_Br_x30_pos_1-15_81.mzXML</td>\n",
       "      <td>MS</td>\n",
       "      <td>NaN</td>\n",
       "      <td>NaN</td>\n",
       "      <td>H1</td>\n",
       "      <td>81</td>\n",
       "      <td>15 1ary Motor (BA4)</td>\n",
       "      <td>Primary cortex</td>\n",
       "    </tr>\n",
       "    <tr>\n",
       "      <th>2</th>\n",
       "      <td>1</td>\n",
       "      <td>Batch1_Sch_Br_x30_pos_1-16_38.mzXML</td>\n",
       "      <td>MS</td>\n",
       "      <td>NaN</td>\n",
       "      <td>NaN</td>\n",
       "      <td>H1</td>\n",
       "      <td>38</td>\n",
       "      <td>16 1ary Auditory (BA41/42)</td>\n",
       "      <td>Primary cortex</td>\n",
       "    </tr>\n",
       "    <tr>\n",
       "      <th>3</th>\n",
       "      <td>1</td>\n",
       "      <td>Batch1_Sch_Br_x30_pos_1-17_73.mzXML</td>\n",
       "      <td>MS</td>\n",
       "      <td>NaN</td>\n",
       "      <td>NaN</td>\n",
       "      <td>H1</td>\n",
       "      <td>73</td>\n",
       "      <td>17 1ary Visual Anterior (BA17a)</td>\n",
       "      <td>Primary cortex</td>\n",
       "    </tr>\n",
       "    <tr>\n",
       "      <th>4</th>\n",
       "      <td>1</td>\n",
       "      <td>Batch1_Sch_Br_x30_pos_1-18_42.mzXML</td>\n",
       "      <td>MS</td>\n",
       "      <td>NaN</td>\n",
       "      <td>NaN</td>\n",
       "      <td>H1</td>\n",
       "      <td>42</td>\n",
       "      <td>18 1ary Somatosensory (BA3/1/2)</td>\n",
       "      <td>Primary cortex</td>\n",
       "    </tr>\n",
       "    <tr>\n",
       "      <th>...</th>\n",
       "      <td>...</td>\n",
       "      <td>...</td>\n",
       "      <td>...</td>\n",
       "      <td>...</td>\n",
       "      <td>...</td>\n",
       "      <td>...</td>\n",
       "      <td>...</td>\n",
       "      <td>...</td>\n",
       "      <td>...</td>\n",
       "    </tr>\n",
       "    <tr>\n",
       "      <th>135</th>\n",
       "      <td>1</td>\n",
       "      <td>Batch4_Sch_Br_x30_pos_5-69_328.mzXML</td>\n",
       "      <td>MS</td>\n",
       "      <td>NaN</td>\n",
       "      <td>NaN</td>\n",
       "      <td>H5</td>\n",
       "      <td>328</td>\n",
       "      <td>69 Hypothalamus</td>\n",
       "      <td>Hypothalamus</td>\n",
       "    </tr>\n",
       "    <tr>\n",
       "      <th>136</th>\n",
       "      <td>1</td>\n",
       "      <td>Batch4_Sch_Br_x30_pos_5-72_346.mzXML</td>\n",
       "      <td>MS</td>\n",
       "      <td>NaN</td>\n",
       "      <td>NaN</td>\n",
       "      <td>H5</td>\n",
       "      <td>346</td>\n",
       "      <td>72 Internal Capsule</td>\n",
       "      <td>White matter</td>\n",
       "    </tr>\n",
       "    <tr>\n",
       "      <th>137</th>\n",
       "      <td>1</td>\n",
       "      <td>Batch4_Sch_Br_x30_pos_5-73_310.mzXML</td>\n",
       "      <td>MS</td>\n",
       "      <td>NaN</td>\n",
       "      <td>NaN</td>\n",
       "      <td>H5</td>\n",
       "      <td>310</td>\n",
       "      <td>73 Corpus Callosum Anterior</td>\n",
       "      <td>White matter</td>\n",
       "    </tr>\n",
       "    <tr>\n",
       "      <th>138</th>\n",
       "      <td>1</td>\n",
       "      <td>Batch4_Sch_Br_x30_pos_5-74_337.mzXML</td>\n",
       "      <td>MS</td>\n",
       "      <td>NaN</td>\n",
       "      <td>NaN</td>\n",
       "      <td>H5</td>\n",
       "      <td>337</td>\n",
       "      <td>74 Corpus Callosum Posterior</td>\n",
       "      <td>White matter</td>\n",
       "    </tr>\n",
       "    <tr>\n",
       "      <th>139</th>\n",
       "      <td>1</td>\n",
       "      <td>Batch4_Sch_Br_x30_pos_5-75_302.mzXML</td>\n",
       "      <td>MS</td>\n",
       "      <td>NaN</td>\n",
       "      <td>NaN</td>\n",
       "      <td>H5</td>\n",
       "      <td>302</td>\n",
       "      <td>75 Cerebellar White Matter</td>\n",
       "      <td>Cerebellum</td>\n",
       "    </tr>\n",
       "  </tbody>\n",
       "</table>\n",
       "<p>140 rows × 9 columns</p>\n",
       "</div>"
      ],
      "text/plain": [
       "     0                                     1   2   3   4   5    6  \\\n",
       "0    1   Batch1_Sch_Br_x30_pos_1-01_29.mzXML  MS NaN NaN  H1   29   \n",
       "1    1   Batch1_Sch_Br_x30_pos_1-15_81.mzXML  MS NaN NaN  H1   81   \n",
       "2    1   Batch1_Sch_Br_x30_pos_1-16_38.mzXML  MS NaN NaN  H1   38   \n",
       "3    1   Batch1_Sch_Br_x30_pos_1-17_73.mzXML  MS NaN NaN  H1   73   \n",
       "4    1   Batch1_Sch_Br_x30_pos_1-18_42.mzXML  MS NaN NaN  H1   42   \n",
       "..  ..                                   ...  ..  ..  ..  ..  ...   \n",
       "135  1  Batch4_Sch_Br_x30_pos_5-69_328.mzXML  MS NaN NaN  H5  328   \n",
       "136  1  Batch4_Sch_Br_x30_pos_5-72_346.mzXML  MS NaN NaN  H5  346   \n",
       "137  1  Batch4_Sch_Br_x30_pos_5-73_310.mzXML  MS NaN NaN  H5  310   \n",
       "138  1  Batch4_Sch_Br_x30_pos_5-74_337.mzXML  MS NaN NaN  H5  337   \n",
       "139  1  Batch4_Sch_Br_x30_pos_5-75_302.mzXML  MS NaN NaN  H5  302   \n",
       "\n",
       "                                   7               8  \n",
       "0          1  Cerebellar Grey Matter      Cerebellum  \n",
       "1                15 1ary Motor (BA4)  Primary cortex  \n",
       "2         16 1ary Auditory (BA41/42)  Primary cortex  \n",
       "3    17 1ary Visual Anterior (BA17a)  Primary cortex  \n",
       "4    18 1ary Somatosensory (BA3/1/2)  Primary cortex  \n",
       "..                               ...             ...  \n",
       "135                  69 Hypothalamus    Hypothalamus  \n",
       "136              72 Internal Capsule    White matter  \n",
       "137      73 Corpus Callosum Anterior    White matter  \n",
       "138     74 Corpus Callosum Posterior    White matter  \n",
       "139       75 Cerebellar White Matter      Cerebellum  \n",
       "\n",
       "[140 rows x 9 columns]"
      ]
     },
     "execution_count": 17,
     "metadata": {},
     "output_type": "execute_result"
    }
   ],
   "source": [
    "schizo_data"
   ]
  },
  {
   "cell_type": "code",
   "execution_count": 20,
   "id": "40f5667d",
   "metadata": {},
   "outputs": [
    {
     "name": "stdout",
     "output_type": "stream",
     "text": [
      "<class 'pandas.core.frame.DataFrame'>\n",
      "RangeIndex: 140 entries, 0 to 139\n",
      "Data columns (total 9 columns):\n",
      " #   Column  Non-Null Count  Dtype  \n",
      "---  ------  --------------  -----  \n",
      " 0   0       140 non-null    int64  \n",
      " 1   1       140 non-null    object \n",
      " 2   2       140 non-null    object \n",
      " 3   3       0 non-null      float64\n",
      " 4   4       0 non-null      float64\n",
      " 5   5       140 non-null    object \n",
      " 6   6       140 non-null    int64  \n",
      " 7   7       140 non-null    object \n",
      " 8   8       140 non-null    object \n",
      "dtypes: float64(2), int64(2), object(5)\n",
      "memory usage: 10.0+ KB\n"
     ]
    }
   ],
   "source": [
    "schizo_data.info()"
   ]
  },
  {
   "cell_type": "code",
   "execution_count": 23,
   "id": "f215a85d",
   "metadata": {},
   "outputs": [
    {
     "name": "stdout",
     "output_type": "stream",
     "text": [
      "0\n"
     ]
    },
    {
     "data": {
      "text/plain": [
       "1    140\n",
       "Name: 0, dtype: int64"
      ]
     },
     "metadata": {},
     "output_type": "display_data"
    },
    {
     "name": "stdout",
     "output_type": "stream",
     "text": [
      "1\n"
     ]
    },
    {
     "data": {
      "text/plain": [
       "Batch1_Sch_Br_x30_pos_1-01_29.mzXML     1\n",
       "Batch3_Sch_Br_x30_pos_3-58_256.mzXML    1\n",
       "Batch3_Sch_Br_x30_pos_3-52_225.mzXML    1\n",
       "Batch3_Sch_Br_x30_pos_3-53_192.mzXML    1\n",
       "Batch3_Sch_Br_x30_pos_3-54_263.mzXML    1\n",
       "                                       ..\n",
       "Batch2_Sch_Br_x30_pos_2-27_98.mzXML     1\n",
       "Batch2_Sch_Br_x30_pos_2-18_134.mzXML    1\n",
       "Batch2_Sch_Br_x30_pos_2-17_168.mzXML    1\n",
       "Batch2_Sch_Br_x30_pos_2-16_124.mzXML    1\n",
       "Batch4_Sch_Br_x30_pos_5-75_302.mzXML    1\n",
       "Name: 1, Length: 140, dtype: int64"
      ]
     },
     "metadata": {},
     "output_type": "display_data"
    },
    {
     "name": "stdout",
     "output_type": "stream",
     "text": [
      "2\n"
     ]
    },
    {
     "data": {
      "text/plain": [
       "MS    140\n",
       "Name: 2, dtype: int64"
      ]
     },
     "metadata": {},
     "output_type": "display_data"
    },
    {
     "name": "stdout",
     "output_type": "stream",
     "text": [
      "3\n"
     ]
    },
    {
     "data": {
      "text/plain": [
       "Series([], Name: 3, dtype: int64)"
      ]
     },
     "metadata": {},
     "output_type": "display_data"
    },
    {
     "name": "stdout",
     "output_type": "stream",
     "text": [
      "4\n"
     ]
    },
    {
     "data": {
      "text/plain": [
       "Series([], Name: 4, dtype: int64)"
      ]
     },
     "metadata": {},
     "output_type": "display_data"
    },
    {
     "name": "stdout",
     "output_type": "stream",
     "text": [
      "5\n"
     ]
    },
    {
     "data": {
      "text/plain": [
       "H1    35\n",
       "H2    35\n",
       "H3    35\n",
       "H5    35\n",
       "Name: 5, dtype: int64"
      ]
     },
     "metadata": {},
     "output_type": "display_data"
    },
    {
     "name": "stdout",
     "output_type": "stream",
     "text": [
      "6\n"
     ]
    },
    {
     "data": {
      "text/plain": [
       "29     1\n",
       "256    1\n",
       "225    1\n",
       "192    1\n",
       "263    1\n",
       "      ..\n",
       "98     1\n",
       "134    1\n",
       "168    1\n",
       "124    1\n",
       "302    1\n",
       "Name: 6, Length: 140, dtype: int64"
      ]
     },
     "metadata": {},
     "output_type": "display_data"
    },
    {
     "name": "stdout",
     "output_type": "stream",
     "text": [
      "7\n"
     ]
    },
    {
     "data": {
      "text/plain": [
       "1  Cerebellar Grey Matter                    4\n",
       "58 Putamen                                   4\n",
       "52 Amygdala                                  4\n",
       "53 Insular Posterior Cortex                  4\n",
       "54 Entorhinal Cortex                         4\n",
       "55 Hippocampus, CA3 / Dentate Gyrus          4\n",
       "56 Nucleus Accumbens                         4\n",
       "57 Caudate                                   4\n",
       "63 Substantia Nigra                          4\n",
       "49 Cingulate Anterior (BA32)                 4\n",
       "64 Globus Pallidus                           4\n",
       "68 Medial Dorsal Thalamus                    4\n",
       "69 Hypothalamus                              4\n",
       "72 Internal Capsule                          4\n",
       "73 Corpus Callosum Anterior                  4\n",
       "74 Corpus Callosum Posterior                 4\n",
       "50 Orbitofrontal (BA11)                      4\n",
       "48 Cingulate Anterior (BA24)                 4\n",
       "15 1ary Motor (BA4)                          4\n",
       "30 Premotor Anterior Lateral (BA6a)          4\n",
       "16 1ary Auditory (BA41/42)                   4\n",
       "17 1ary Visual Anterior (BA17a)              4\n",
       "18 1ary Somatosensory (BA3/1/2)              4\n",
       "27 2ary/3ary Visual Anterior (BA18/19a)      4\n",
       "28 2ary Auditory, Wernicke (BA22p)           4\n",
       "29 Precuneus (BA7m)                          4\n",
       "31 Supramarginal Posterior (BA40p)           4\n",
       "47 Cingulate Posterior (BA31)                4\n",
       "32 Ventrolateral Prefrontal, Broca (BA44)    4\n",
       "33 Anterior Inferior Temporal (BA20a)        4\n",
       "34 Dorsolateral Prefrontal (BA9)             4\n",
       "37 2ary Auditory Anterior (BA21a)            4\n",
       "43 Temporopolar (BA38)                       4\n",
       "46 Prefrontal Medial (BA10m)                 4\n",
       "75 Cerebellar White Matter                   4\n",
       "Name: 7, dtype: int64"
      ]
     },
     "metadata": {},
     "output_type": "display_data"
    },
    {
     "name": "stdout",
     "output_type": "stream",
     "text": [
      "8\n"
     ]
    },
    {
     "data": {
      "text/plain": [
       "Associative cortex    36\n",
       "Limbic cortex         24\n",
       "Basal Ganglia         20\n",
       "Primary cortex        16\n",
       "Secondary cortex      16\n",
       "White matter          12\n",
       "Cerebellum             8\n",
       "Thalamus               4\n",
       "Hypothalamus           4\n",
       "Name: 8, dtype: int64"
      ]
     },
     "metadata": {},
     "output_type": "display_data"
    }
   ],
   "source": [
    "for column in schizo_data.columns:\n",
    "    print(column)\n",
    "    display(schizo_data[column].value_counts())"
   ]
  },
  {
   "cell_type": "markdown",
   "id": "07f461a1",
   "metadata": {},
   "source": [
    "35 Brodmann areas, 4 rows for each area\n",
    "\n",
    "35 rows for H1, H2, H3, H5"
   ]
  },
  {
   "cell_type": "code",
   "execution_count": 19,
   "id": "a40cd737",
   "metadata": {},
   "outputs": [
    {
     "data": {
      "text/html": [
       "<div>\n",
       "<style scoped>\n",
       "    .dataframe tbody tr th:only-of-type {\n",
       "        vertical-align: middle;\n",
       "    }\n",
       "\n",
       "    .dataframe tbody tr th {\n",
       "        vertical-align: top;\n",
       "    }\n",
       "\n",
       "    .dataframe thead th {\n",
       "        text-align: right;\n",
       "    }\n",
       "</style>\n",
       "<table border=\"1\" class=\"dataframe\">\n",
       "  <thead>\n",
       "    <tr style=\"text-align: right;\">\n",
       "      <th></th>\n",
       "      <th>0</th>\n",
       "      <th>1</th>\n",
       "      <th>2</th>\n",
       "      <th>3</th>\n",
       "      <th>4</th>\n",
       "      <th>5</th>\n",
       "      <th>6</th>\n",
       "      <th>7</th>\n",
       "      <th>8</th>\n",
       "    </tr>\n",
       "  </thead>\n",
       "  <tbody>\n",
       "    <tr>\n",
       "      <th>0</th>\n",
       "      <td>1</td>\n",
       "      <td>170426_BM_pos_1-30_MS36_HA_518</td>\n",
       "      <td>MS</td>\n",
       "      <td>36</td>\n",
       "      <td>MS36</td>\n",
       "      <td>HA</td>\n",
       "      <td>518</td>\n",
       "      <td>32 Ventrolateral Prefrontal, Broca (BA44)</td>\n",
       "      <td>Associative cortex</td>\n",
       "    </tr>\n",
       "    <tr>\n",
       "      <th>1</th>\n",
       "      <td>1</td>\n",
       "      <td>170426_pos_1-30_MS59_HA_244</td>\n",
       "      <td>MS</td>\n",
       "      <td>59</td>\n",
       "      <td>MS59</td>\n",
       "      <td>HA</td>\n",
       "      <td>244</td>\n",
       "      <td>49 Cingulate Anterior (BA32)</td>\n",
       "      <td>Limbic cortex</td>\n",
       "    </tr>\n",
       "    <tr>\n",
       "      <th>2</th>\n",
       "      <td>1</td>\n",
       "      <td>170426_pos_1-30_MS72_HA_432</td>\n",
       "      <td>MS</td>\n",
       "      <td>72</td>\n",
       "      <td>MS72</td>\n",
       "      <td>HA</td>\n",
       "      <td>432</td>\n",
       "      <td>57 Caudate</td>\n",
       "      <td>Basal Ganglia</td>\n",
       "    </tr>\n",
       "    <tr>\n",
       "      <th>3</th>\n",
       "      <td>1</td>\n",
       "      <td>170426_BM_pos_1-30_MS6_HA_5</td>\n",
       "      <td>MS</td>\n",
       "      <td>6</td>\n",
       "      <td>MS6</td>\n",
       "      <td>HA</td>\n",
       "      <td>5</td>\n",
       "      <td>56 Nucleus Accumbens</td>\n",
       "      <td>Basal Ganglia</td>\n",
       "    </tr>\n",
       "    <tr>\n",
       "      <th>4</th>\n",
       "      <td>1</td>\n",
       "      <td>170426_BM_pos_1-30_MS12_HA_596</td>\n",
       "      <td>MS</td>\n",
       "      <td>12</td>\n",
       "      <td>MS12</td>\n",
       "      <td>HA</td>\n",
       "      <td>596</td>\n",
       "      <td>73 Corpus Callosum Anterior</td>\n",
       "      <td>White matter</td>\n",
       "    </tr>\n",
       "    <tr>\n",
       "      <th>...</th>\n",
       "      <td>...</td>\n",
       "      <td>...</td>\n",
       "      <td>...</td>\n",
       "      <td>...</td>\n",
       "      <td>...</td>\n",
       "      <td>...</td>\n",
       "      <td>...</td>\n",
       "      <td>...</td>\n",
       "      <td>...</td>\n",
       "    </tr>\n",
       "    <tr>\n",
       "      <th>135</th>\n",
       "      <td>1</td>\n",
       "      <td>170426_pos_1-30_MS699_HD_549</td>\n",
       "      <td>MS</td>\n",
       "      <td>699</td>\n",
       "      <td>MS699</td>\n",
       "      <td>HD</td>\n",
       "      <td>549</td>\n",
       "      <td>27 2ary/3ary Visual Anterior (BA18/19a)</td>\n",
       "      <td>Secondary cortex</td>\n",
       "    </tr>\n",
       "    <tr>\n",
       "      <th>136</th>\n",
       "      <td>1</td>\n",
       "      <td>170426_pos_1-30_MS682_HD_516</td>\n",
       "      <td>MS</td>\n",
       "      <td>682</td>\n",
       "      <td>MS682</td>\n",
       "      <td>HD</td>\n",
       "      <td>516</td>\n",
       "      <td>50 Orbitofrontal (BA11)</td>\n",
       "      <td>Associative cortex</td>\n",
       "    </tr>\n",
       "    <tr>\n",
       "      <th>137</th>\n",
       "      <td>1</td>\n",
       "      <td>170426_pos_1-30_MS657_HD_197</td>\n",
       "      <td>MS</td>\n",
       "      <td>657</td>\n",
       "      <td>MS657</td>\n",
       "      <td>HD</td>\n",
       "      <td>197</td>\n",
       "      <td>75 Cerebellar White Matter</td>\n",
       "      <td>Cerebellum</td>\n",
       "    </tr>\n",
       "    <tr>\n",
       "      <th>138</th>\n",
       "      <td>1</td>\n",
       "      <td>170426_pos_1-30_MS686_HD_34</td>\n",
       "      <td>MS</td>\n",
       "      <td>686</td>\n",
       "      <td>MS686</td>\n",
       "      <td>HD</td>\n",
       "      <td>34</td>\n",
       "      <td>1  Cerebellar Grey Matter</td>\n",
       "      <td>Cerebellum</td>\n",
       "    </tr>\n",
       "    <tr>\n",
       "      <th>139</th>\n",
       "      <td>1</td>\n",
       "      <td>170426_pos_1-30_MS662_HD_129</td>\n",
       "      <td>MS</td>\n",
       "      <td>662</td>\n",
       "      <td>MS662</td>\n",
       "      <td>HD</td>\n",
       "      <td>129</td>\n",
       "      <td>46 Prefrontal Medial (BA10m)</td>\n",
       "      <td>Associative cortex</td>\n",
       "    </tr>\n",
       "  </tbody>\n",
       "</table>\n",
       "<p>140 rows × 9 columns</p>\n",
       "</div>"
      ],
      "text/plain": [
       "     0                               1   2    3      4   5    6  \\\n",
       "0    1  170426_BM_pos_1-30_MS36_HA_518  MS   36   MS36  HA  518   \n",
       "1    1     170426_pos_1-30_MS59_HA_244  MS   59   MS59  HA  244   \n",
       "2    1     170426_pos_1-30_MS72_HA_432  MS   72   MS72  HA  432   \n",
       "3    1     170426_BM_pos_1-30_MS6_HA_5  MS    6    MS6  HA    5   \n",
       "4    1  170426_BM_pos_1-30_MS12_HA_596  MS   12   MS12  HA  596   \n",
       "..  ..                             ...  ..  ...    ...  ..  ...   \n",
       "135  1    170426_pos_1-30_MS699_HD_549  MS  699  MS699  HD  549   \n",
       "136  1    170426_pos_1-30_MS682_HD_516  MS  682  MS682  HD  516   \n",
       "137  1    170426_pos_1-30_MS657_HD_197  MS  657  MS657  HD  197   \n",
       "138  1     170426_pos_1-30_MS686_HD_34  MS  686  MS686  HD   34   \n",
       "139  1    170426_pos_1-30_MS662_HD_129  MS  662  MS662  HD  129   \n",
       "\n",
       "                                             7                   8  \n",
       "0    32 Ventrolateral Prefrontal, Broca (BA44)  Associative cortex  \n",
       "1                 49 Cingulate Anterior (BA32)       Limbic cortex  \n",
       "2                                   57 Caudate       Basal Ganglia  \n",
       "3                         56 Nucleus Accumbens       Basal Ganglia  \n",
       "4                  73 Corpus Callosum Anterior        White matter  \n",
       "..                                         ...                 ...  \n",
       "135    27 2ary/3ary Visual Anterior (BA18/19a)    Secondary cortex  \n",
       "136                    50 Orbitofrontal (BA11)  Associative cortex  \n",
       "137                 75 Cerebellar White Matter          Cerebellum  \n",
       "138                  1  Cerebellar Grey Matter          Cerebellum  \n",
       "139               46 Prefrontal Medial (BA10m)  Associative cortex  \n",
       "\n",
       "[140 rows x 9 columns]"
      ]
     },
     "execution_count": 19,
     "metadata": {},
     "output_type": "execute_result"
    }
   ],
   "source": [
    "healthy_data"
   ]
  },
  {
   "cell_type": "code",
   "execution_count": 21,
   "id": "ac473d24",
   "metadata": {},
   "outputs": [
    {
     "name": "stdout",
     "output_type": "stream",
     "text": [
      "<class 'pandas.core.frame.DataFrame'>\n",
      "RangeIndex: 140 entries, 0 to 139\n",
      "Data columns (total 9 columns):\n",
      " #   Column  Non-Null Count  Dtype \n",
      "---  ------  --------------  ----- \n",
      " 0   0       140 non-null    int64 \n",
      " 1   1       140 non-null    object\n",
      " 2   2       140 non-null    object\n",
      " 3   3       140 non-null    int64 \n",
      " 4   4       140 non-null    object\n",
      " 5   5       140 non-null    object\n",
      " 6   6       140 non-null    int64 \n",
      " 7   7       140 non-null    object\n",
      " 8   8       140 non-null    object\n",
      "dtypes: int64(3), object(6)\n",
      "memory usage: 10.0+ KB\n"
     ]
    }
   ],
   "source": [
    "healthy_data.info()"
   ]
  },
  {
   "cell_type": "code",
   "execution_count": 24,
   "id": "a5b5f1f8",
   "metadata": {
    "scrolled": false
   },
   "outputs": [
    {
     "name": "stdout",
     "output_type": "stream",
     "text": [
      "0\n"
     ]
    },
    {
     "data": {
      "text/plain": [
       "1    140\n",
       "Name: 0, dtype: int64"
      ]
     },
     "metadata": {},
     "output_type": "display_data"
    },
    {
     "name": "stdout",
     "output_type": "stream",
     "text": [
      "1\n"
     ]
    },
    {
     "data": {
      "text/plain": [
       "170426_BM_pos_1-30_MS36_HA_518    1\n",
       "170426_pos_1-30_MS482_HC_423      1\n",
       "170426_pos_1-30_MS495_HC_600      1\n",
       "170426_pos_1-30_MS484_HC_662      1\n",
       "170426_pos_1-30_MS522_HC_447      1\n",
       "                                 ..\n",
       "170426_pos_1-30_MS305_HB_665      1\n",
       "170426_pos_1-30_MS281_HB_251      1\n",
       "170426_pos_1-30_MS295_HB_120      1\n",
       "170426_pos_1-30_MS243_HB_194      1\n",
       "170426_pos_1-30_MS662_HD_129      1\n",
       "Name: 1, Length: 140, dtype: int64"
      ]
     },
     "metadata": {},
     "output_type": "display_data"
    },
    {
     "name": "stdout",
     "output_type": "stream",
     "text": [
      "2\n"
     ]
    },
    {
     "data": {
      "text/plain": [
       "MS    140\n",
       "Name: 2, dtype: int64"
      ]
     },
     "metadata": {},
     "output_type": "display_data"
    },
    {
     "name": "stdout",
     "output_type": "stream",
     "text": [
      "3\n"
     ]
    },
    {
     "data": {
      "text/plain": [
       "36     1\n",
       "482    1\n",
       "495    1\n",
       "484    1\n",
       "522    1\n",
       "      ..\n",
       "305    1\n",
       "281    1\n",
       "295    1\n",
       "243    1\n",
       "662    1\n",
       "Name: 3, Length: 140, dtype: int64"
      ]
     },
     "metadata": {},
     "output_type": "display_data"
    },
    {
     "name": "stdout",
     "output_type": "stream",
     "text": [
      "4\n"
     ]
    },
    {
     "data": {
      "text/plain": [
       "MS36     1\n",
       "MS482    1\n",
       "MS495    1\n",
       "MS484    1\n",
       "MS522    1\n",
       "        ..\n",
       "MS305    1\n",
       "MS281    1\n",
       "MS295    1\n",
       "MS243    1\n",
       "MS662    1\n",
       "Name: 4, Length: 140, dtype: int64"
      ]
     },
     "metadata": {},
     "output_type": "display_data"
    },
    {
     "name": "stdout",
     "output_type": "stream",
     "text": [
      "5\n"
     ]
    },
    {
     "data": {
      "text/plain": [
       "HA    35\n",
       "HB    35\n",
       "HC    35\n",
       "HD    35\n",
       "Name: 5, dtype: int64"
      ]
     },
     "metadata": {},
     "output_type": "display_data"
    },
    {
     "name": "stdout",
     "output_type": "stream",
     "text": [
      "6\n"
     ]
    },
    {
     "data": {
      "text/plain": [
       "518    1\n",
       "423    1\n",
       "600    1\n",
       "662    1\n",
       "447    1\n",
       "      ..\n",
       "665    1\n",
       "251    1\n",
       "120    1\n",
       "194    1\n",
       "129    1\n",
       "Name: 6, Length: 140, dtype: int64"
      ]
     },
     "metadata": {},
     "output_type": "display_data"
    },
    {
     "name": "stdout",
     "output_type": "stream",
     "text": [
      "7\n"
     ]
    },
    {
     "data": {
      "text/plain": [
       "32 Ventrolateral Prefrontal, Broca (BA44)    4\n",
       "74 Corpus Callosum Posterior                 4\n",
       "47 Cingulate Posterior (BA31)                4\n",
       "53 Insular Posterior Cortex                  4\n",
       "68 Medial Dorsal Thalamus                    4\n",
       "63 Substantia Nigra                          4\n",
       "55 Hippocampus, CA3 / Dentate Gyrus          4\n",
       "28 2ary Auditory, Wernicke (BA22p)           4\n",
       "31 Supramarginal Posterior (BA40p)           4\n",
       "33 Anterior Inferior Temporal (BA20a)        4\n",
       "29 Precuneus (BA7m)                          4\n",
       "17 1ary Visual Anterior (BA17a)              4\n",
       "27 2ary/3ary Visual Anterior (BA18/19a)      4\n",
       "50 Orbitofrontal (BA11)                      4\n",
       "75 Cerebellar White Matter                   4\n",
       "1  Cerebellar Grey Matter                    4\n",
       "16 1ary Auditory (BA41/42)                   4\n",
       "37 2ary Auditory Anterior (BA21a)            4\n",
       "49 Cingulate Anterior (BA32)                 4\n",
       "58 Putamen                                   4\n",
       "57 Caudate                                   4\n",
       "56 Nucleus Accumbens                         4\n",
       "73 Corpus Callosum Anterior                  4\n",
       "43 Temporopolar (BA38)                       4\n",
       "30 Premotor Anterior Lateral (BA6a)          4\n",
       "48 Cingulate Anterior (BA24)                 4\n",
       "72 Internal Capsule                          4\n",
       "54 Entorhinal Cortex                         4\n",
       "15 1ary Motor (BA4)                          4\n",
       "18 1ary Somatosensory (BA3/1/2)              4\n",
       "34 Dorsolateral Prefrontal (BA9)             4\n",
       "64 Globus Pallidus                           4\n",
       "69 Hypothalamus                              4\n",
       "52 Amygdala                                  4\n",
       "46 Prefrontal Medial (BA10m)                 4\n",
       "Name: 7, dtype: int64"
      ]
     },
     "metadata": {},
     "output_type": "display_data"
    },
    {
     "name": "stdout",
     "output_type": "stream",
     "text": [
      "8\n"
     ]
    },
    {
     "data": {
      "text/plain": [
       "Associative cortex    36\n",
       "Limbic cortex         24\n",
       "Basal Ganglia         20\n",
       "Secondary cortex      16\n",
       "Primary cortex        16\n",
       "White matter          12\n",
       "Cerebellum             8\n",
       "Hypothalamus           4\n",
       "Thalamus               4\n",
       "Name: 8, dtype: int64"
      ]
     },
     "metadata": {},
     "output_type": "display_data"
    }
   ],
   "source": [
    "for column in healthy_data.columns:\n",
    "    print(column)\n",
    "    display(healthy_data[column].value_counts())"
   ]
  },
  {
   "cell_type": "code",
   "execution_count": null,
   "id": "f340bd5b",
   "metadata": {},
   "outputs": [],
   "source": []
  },
  {
   "cell_type": "code",
   "execution_count": null,
   "id": "18fbff6c",
   "metadata": {},
   "outputs": [],
   "source": []
  },
  {
   "cell_type": "markdown",
   "id": "ed6d24fe",
   "metadata": {},
   "source": [
    "35 Brodmann areas, 4 rows for each area\n",
    "\n",
    "35 rows for HA, HB, HC, HD"
   ]
  },
  {
   "cell_type": "markdown",
   "id": "182674c4",
   "metadata": {},
   "source": [
    "What is stored in 3, 4, 6?"
   ]
  },
  {
   "cell_type": "markdown",
   "id": "a34372cb",
   "metadata": {},
   "source": [
    "# TL_combined"
   ]
  },
  {
   "cell_type": "code",
   "execution_count": 26,
   "id": "c011ccce",
   "metadata": {
    "scrolled": true
   },
   "outputs": [
    {
     "data": {
      "text/html": [
       "<div>\n",
       "<style scoped>\n",
       "    .dataframe tbody tr th:only-of-type {\n",
       "        vertical-align: middle;\n",
       "    }\n",
       "\n",
       "    .dataframe tbody tr th {\n",
       "        vertical-align: top;\n",
       "    }\n",
       "\n",
       "    .dataframe thead th {\n",
       "        text-align: right;\n",
       "    }\n",
       "</style>\n",
       "<table border=\"1\" class=\"dataframe\">\n",
       "  <thead>\n",
       "    <tr style=\"text-align: right;\">\n",
       "      <th></th>\n",
       "      <th>polarity_peak</th>\n",
       "      <th>Lipid.class</th>\n",
       "      <th>Lipid.species</th>\n",
       "      <th>fragmentation</th>\n",
       "      <th>adduct</th>\n",
       "      <th>other.mode</th>\n",
       "      <th>MZ.target</th>\n",
       "      <th>RT.data</th>\n",
       "      <th>init_peak</th>\n",
       "      <th>polarity</th>\n",
       "      <th>schiz_peak</th>\n",
       "      <th>healthy_predicted</th>\n",
       "      <th>rt_error</th>\n",
       "      <th>ppm_error</th>\n",
       "      <th>schiz_peak_WO_</th>\n",
       "      <th>corr_all</th>\n",
       "      <th>corr_HC</th>\n",
       "      <th>polarity_schiz_peak</th>\n",
       "    </tr>\n",
       "  </thead>\n",
       "  <tbody>\n",
       "    <tr>\n",
       "      <th>0</th>\n",
       "      <td>posFT21454</td>\n",
       "      <td>DG</td>\n",
       "      <td>DG 34:1</td>\n",
       "      <td>DG(16:0_18:1). DG(16:1_18:0)</td>\n",
       "      <td>M+NH4</td>\n",
       "      <td>negFT09400</td>\n",
       "      <td>612.557849</td>\n",
       "      <td>9.833337</td>\n",
       "      <td>FT21454</td>\n",
       "      <td>pos</td>\n",
       "      <td>FT24227</td>\n",
       "      <td>FT21454</td>\n",
       "      <td>0.010223</td>\n",
       "      <td>0.330946</td>\n",
       "      <td>FT24227</td>\n",
       "      <td>0.534097</td>\n",
       "      <td>0.977170</td>\n",
       "      <td>posFT24227</td>\n",
       "    </tr>\n",
       "    <tr>\n",
       "      <th>1</th>\n",
       "      <td>posFT22500</td>\n",
       "      <td>DG</td>\n",
       "      <td>DG 35:1</td>\n",
       "      <td>DG(17:1_18:0)</td>\n",
       "      <td>M+NH4</td>\n",
       "      <td>negFT09832</td>\n",
       "      <td>626.573761</td>\n",
       "      <td>10.592758</td>\n",
       "      <td>FT22500</td>\n",
       "      <td>pos</td>\n",
       "      <td>FT25123</td>\n",
       "      <td>FT22500</td>\n",
       "      <td>0.014286</td>\n",
       "      <td>0.299755</td>\n",
       "      <td>FT25123</td>\n",
       "      <td>0.689857</td>\n",
       "      <td>0.875110</td>\n",
       "      <td>posFT25123</td>\n",
       "    </tr>\n",
       "    <tr>\n",
       "      <th>2</th>\n",
       "      <td>posFT23044</td>\n",
       "      <td>DG</td>\n",
       "      <td>DG 36:4</td>\n",
       "      <td>DG(16:0_20:4)</td>\n",
       "      <td>M+NH4</td>\n",
       "      <td>negFT10106</td>\n",
       "      <td>634.542347</td>\n",
       "      <td>8.601461</td>\n",
       "      <td>FT23044</td>\n",
       "      <td>pos</td>\n",
       "      <td>FT25655</td>\n",
       "      <td>FT23044</td>\n",
       "      <td>0.014547</td>\n",
       "      <td>-0.445968</td>\n",
       "      <td>FT25655</td>\n",
       "      <td>0.588468</td>\n",
       "      <td>0.973725</td>\n",
       "      <td>posFT25655</td>\n",
       "    </tr>\n",
       "    <tr>\n",
       "      <th>3</th>\n",
       "      <td>posFT23164</td>\n",
       "      <td>DG</td>\n",
       "      <td>DG 36:3</td>\n",
       "      <td>DG(16:0_20:3). DG(18:1_18:2)</td>\n",
       "      <td>M+NH4</td>\n",
       "      <td>negFT10169</td>\n",
       "      <td>636.557585</td>\n",
       "      <td>9.128819</td>\n",
       "      <td>FT23164</td>\n",
       "      <td>pos</td>\n",
       "      <td>FT25793</td>\n",
       "      <td>FT23164</td>\n",
       "      <td>0.013258</td>\n",
       "      <td>-0.156961</td>\n",
       "      <td>FT25793</td>\n",
       "      <td>0.432344</td>\n",
       "      <td>0.979049</td>\n",
       "      <td>posFT25793</td>\n",
       "    </tr>\n",
       "    <tr>\n",
       "      <th>4</th>\n",
       "      <td>posFT23296</td>\n",
       "      <td>DG</td>\n",
       "      <td>DG 36:2</td>\n",
       "      <td>DG(18:0_18:2). DG(18:1_18:1)</td>\n",
       "      <td>M+NH4</td>\n",
       "      <td>negFT10242</td>\n",
       "      <td>638.573939</td>\n",
       "      <td>10.122875</td>\n",
       "      <td>FT23296</td>\n",
       "      <td>pos</td>\n",
       "      <td>FT25962</td>\n",
       "      <td>FT23296</td>\n",
       "      <td>0.004684</td>\n",
       "      <td>0.119584</td>\n",
       "      <td>FT25962</td>\n",
       "      <td>0.511568</td>\n",
       "      <td>0.976847</td>\n",
       "      <td>posFT25962</td>\n",
       "    </tr>\n",
       "    <tr>\n",
       "      <th>...</th>\n",
       "      <td>...</td>\n",
       "      <td>...</td>\n",
       "      <td>...</td>\n",
       "      <td>...</td>\n",
       "      <td>...</td>\n",
       "      <td>...</td>\n",
       "      <td>...</td>\n",
       "      <td>...</td>\n",
       "      <td>...</td>\n",
       "      <td>...</td>\n",
       "      <td>...</td>\n",
       "      <td>...</td>\n",
       "      <td>...</td>\n",
       "      <td>...</td>\n",
       "      <td>...</td>\n",
       "      <td>...</td>\n",
       "      <td>...</td>\n",
       "      <td>...</td>\n",
       "    </tr>\n",
       "    <tr>\n",
       "      <th>273</th>\n",
       "      <td>negFT03483</td>\n",
       "      <td>FA</td>\n",
       "      <td>FA 24:1</td>\n",
       "      <td>NaN</td>\n",
       "      <td>M-H</td>\n",
       "      <td>NaN</td>\n",
       "      <td>365.341424</td>\n",
       "      <td>5.991717</td>\n",
       "      <td>FT03483</td>\n",
       "      <td>neg</td>\n",
       "      <td>FT03339</td>\n",
       "      <td>FT03483</td>\n",
       "      <td>0.004830</td>\n",
       "      <td>3.078660</td>\n",
       "      <td>FT03339</td>\n",
       "      <td>0.605616</td>\n",
       "      <td>0.834124</td>\n",
       "      <td>negFT03339</td>\n",
       "    </tr>\n",
       "    <tr>\n",
       "      <th>274</th>\n",
       "      <td>negFT03357</td>\n",
       "      <td>FA</td>\n",
       "      <td>FA 24:4</td>\n",
       "      <td>NaN</td>\n",
       "      <td>M-H</td>\n",
       "      <td>NaN</td>\n",
       "      <td>359.294391</td>\n",
       "      <td>4.688700</td>\n",
       "      <td>FT03357</td>\n",
       "      <td>neg</td>\n",
       "      <td>FT03175</td>\n",
       "      <td>FT03357</td>\n",
       "      <td>-0.006055</td>\n",
       "      <td>2.595009</td>\n",
       "      <td>FT03175</td>\n",
       "      <td>0.295929</td>\n",
       "      <td>0.779195</td>\n",
       "      <td>negFT03175</td>\n",
       "    </tr>\n",
       "    <tr>\n",
       "      <th>275</th>\n",
       "      <td>negFT03333</td>\n",
       "      <td>FA</td>\n",
       "      <td>FA 24:5</td>\n",
       "      <td>NaN</td>\n",
       "      <td>M-H</td>\n",
       "      <td>NaN</td>\n",
       "      <td>357.278569</td>\n",
       "      <td>4.390286</td>\n",
       "      <td>FT03333</td>\n",
       "      <td>neg</td>\n",
       "      <td>FT03147</td>\n",
       "      <td>FT03333</td>\n",
       "      <td>0.014429</td>\n",
       "      <td>1.940998</td>\n",
       "      <td>FT03147</td>\n",
       "      <td>0.080659</td>\n",
       "      <td>0.608905</td>\n",
       "      <td>negFT03147</td>\n",
       "    </tr>\n",
       "    <tr>\n",
       "      <th>276</th>\n",
       "      <td>negFT03309</td>\n",
       "      <td>FA</td>\n",
       "      <td>FA 24:6</td>\n",
       "      <td>NaN</td>\n",
       "      <td>M-H</td>\n",
       "      <td>NaN</td>\n",
       "      <td>355.263003</td>\n",
       "      <td>4.104067</td>\n",
       "      <td>FT03309</td>\n",
       "      <td>neg</td>\n",
       "      <td>FT03110</td>\n",
       "      <td>FT03309</td>\n",
       "      <td>-0.003685</td>\n",
       "      <td>2.211804</td>\n",
       "      <td>FT03110</td>\n",
       "      <td>0.313259</td>\n",
       "      <td>0.627351</td>\n",
       "      <td>negFT03110</td>\n",
       "    </tr>\n",
       "    <tr>\n",
       "      <th>277</th>\n",
       "      <td>negFT04068</td>\n",
       "      <td>FA</td>\n",
       "      <td>FA 26:1</td>\n",
       "      <td>NaN</td>\n",
       "      <td>M-H</td>\n",
       "      <td>NaN</td>\n",
       "      <td>393.372915</td>\n",
       "      <td>6.879966</td>\n",
       "      <td>FT04068</td>\n",
       "      <td>neg</td>\n",
       "      <td>FT04014</td>\n",
       "      <td>FT04068</td>\n",
       "      <td>0.003706</td>\n",
       "      <td>3.219777</td>\n",
       "      <td>FT04014</td>\n",
       "      <td>0.734729</td>\n",
       "      <td>0.849638</td>\n",
       "      <td>negFT04014</td>\n",
       "    </tr>\n",
       "  </tbody>\n",
       "</table>\n",
       "<p>379 rows × 18 columns</p>\n",
       "</div>"
      ],
      "text/plain": [
       "    polarity_peak Lipid.class Lipid.species                 fragmentation  \\\n",
       "0      posFT21454          DG       DG 34:1  DG(16:0_18:1). DG(16:1_18:0)   \n",
       "1      posFT22500          DG       DG 35:1                 DG(17:1_18:0)   \n",
       "2      posFT23044          DG       DG 36:4                 DG(16:0_20:4)   \n",
       "3      posFT23164          DG       DG 36:3  DG(16:0_20:3). DG(18:1_18:2)   \n",
       "4      posFT23296          DG       DG 36:2  DG(18:0_18:2). DG(18:1_18:1)   \n",
       "..            ...         ...           ...                           ...   \n",
       "273    negFT03483          FA       FA 24:1                           NaN   \n",
       "274    negFT03357          FA       FA 24:4                           NaN   \n",
       "275    negFT03333          FA       FA 24:5                           NaN   \n",
       "276    negFT03309          FA       FA 24:6                           NaN   \n",
       "277    negFT04068          FA       FA 26:1                           NaN   \n",
       "\n",
       "    adduct  other.mode   MZ.target    RT.data init_peak polarity schiz_peak  \\\n",
       "0    M+NH4  negFT09400  612.557849   9.833337   FT21454      pos    FT24227   \n",
       "1    M+NH4  negFT09832  626.573761  10.592758   FT22500      pos    FT25123   \n",
       "2    M+NH4  negFT10106  634.542347   8.601461   FT23044      pos    FT25655   \n",
       "3    M+NH4  negFT10169  636.557585   9.128819   FT23164      pos    FT25793   \n",
       "4    M+NH4  negFT10242  638.573939  10.122875   FT23296      pos    FT25962   \n",
       "..     ...         ...         ...        ...       ...      ...        ...   \n",
       "273    M-H         NaN  365.341424   5.991717   FT03483      neg    FT03339   \n",
       "274    M-H         NaN  359.294391   4.688700   FT03357      neg    FT03175   \n",
       "275    M-H         NaN  357.278569   4.390286   FT03333      neg    FT03147   \n",
       "276    M-H         NaN  355.263003   4.104067   FT03309      neg    FT03110   \n",
       "277    M-H         NaN  393.372915   6.879966   FT04068      neg    FT04014   \n",
       "\n",
       "    healthy_predicted  rt_error  ppm_error schiz_peak_WO_  corr_all   corr_HC  \\\n",
       "0             FT21454  0.010223   0.330946        FT24227  0.534097  0.977170   \n",
       "1             FT22500  0.014286   0.299755        FT25123  0.689857  0.875110   \n",
       "2             FT23044  0.014547  -0.445968        FT25655  0.588468  0.973725   \n",
       "3             FT23164  0.013258  -0.156961        FT25793  0.432344  0.979049   \n",
       "4             FT23296  0.004684   0.119584        FT25962  0.511568  0.976847   \n",
       "..                ...       ...        ...            ...       ...       ...   \n",
       "273           FT03483  0.004830   3.078660        FT03339  0.605616  0.834124   \n",
       "274           FT03357 -0.006055   2.595009        FT03175  0.295929  0.779195   \n",
       "275           FT03333  0.014429   1.940998        FT03147  0.080659  0.608905   \n",
       "276           FT03309 -0.003685   2.211804        FT03110  0.313259  0.627351   \n",
       "277           FT04068  0.003706   3.219777        FT04014  0.734729  0.849638   \n",
       "\n",
       "    polarity_schiz_peak  \n",
       "0            posFT24227  \n",
       "1            posFT25123  \n",
       "2            posFT25655  \n",
       "3            posFT25793  \n",
       "4            posFT25962  \n",
       "..                  ...  \n",
       "273          negFT03339  \n",
       "274          negFT03175  \n",
       "275          negFT03147  \n",
       "276          negFT03110  \n",
       "277          negFT04014  \n",
       "\n",
       "[379 rows x 18 columns]"
      ]
     },
     "execution_count": 26,
     "metadata": {},
     "output_type": "execute_result"
    }
   ],
   "source": [
    "TL_combined = pd.read_csv(\"TL_combined.csv\", index_col=0)\n",
    "TL_combined"
   ]
  },
  {
   "cell_type": "code",
   "execution_count": 30,
   "id": "4c5135dd",
   "metadata": {},
   "outputs": [],
   "source": [
    "import seaborn as sns"
   ]
  },
  {
   "cell_type": "code",
   "execution_count": 37,
   "id": "f5601aac",
   "metadata": {},
   "outputs": [
    {
     "data": {
      "text/plain": [
       "0      612.557849\n",
       "1      626.573761\n",
       "2      634.542347\n",
       "3      636.557585\n",
       "4      638.573939\n",
       "          ...    \n",
       "107    952.837921\n",
       "108    968.776193\n",
       "109    970.791378\n",
       "110    972.806689\n",
       "111    404.390110\n",
       "Name: MZ.target, Length: 112, dtype: float64"
      ]
     },
     "execution_count": 37,
     "metadata": {},
     "output_type": "execute_result"
    }
   ],
   "source": []
  },
  {
   "cell_type": "code",
   "execution_count": 44,
   "id": "480d3309",
   "metadata": {},
   "outputs": [
    {
     "data": {
      "text/plain": [
       "<AxesSubplot:xlabel='MZ.target', ylabel='Count'>"
      ]
     },
     "execution_count": 44,
     "metadata": {},
     "output_type": "execute_result"
    },
    {
     "data": {
      "image/png": "[encoded data removed]",
      "text/plain": [
       "<Figure size 640x480 with 1 Axes>"
      ]
     },
     "metadata": {},
     "output_type": "display_data"
    }
   ],
   "source": [
    "sns.histplot(TL_combined.loc[TL_combined.polarity == \"pos\", \"MZ.target\"], color=\"C0\")\n",
    "sns.histplot(TL_combined.loc[TL_combined.polarity == \"neg\", \"MZ.target\"], color=\"C1\")"
   ]
  },
  {
   "cell_type": "code",
   "execution_count": 45,
   "id": "5a86f475",
   "metadata": {},
   "outputs": [
    {
     "data": {
      "text/plain": [
       "<AxesSubplot:xlabel='RT.data', ylabel='Count'>"
      ]
     },
     "execution_count": 45,
     "metadata": {},
     "output_type": "execute_result"
    },
    {
     "data": {
      "image/png": "[encoded data removed]",
      "text/plain": [
       "<Figure size 640x480 with 1 Axes>"
      ]
     },
     "metadata": {},
     "output_type": "display_data"
    }
   ],
   "source": [
    "sns.histplot(TL_combined.loc[TL_combined.polarity == \"pos\", \"RT.data\"], color=\"C0\")\n",
    "sns.histplot(TL_combined.loc[TL_combined.polarity == \"neg\", \"RT.data\"], color=\"C1\")"
   ]
  },
  {
   "cell_type": "code",
   "execution_count": 28,
   "id": "891db0b0",
   "metadata": {},
   "outputs": [
    {
     "name": "stdout",
     "output_type": "stream",
     "text": [
      "<class 'pandas.core.frame.DataFrame'>\n",
      "Int64Index: 379 entries, 0 to 277\n",
      "Data columns (total 18 columns):\n",
      " #   Column               Non-Null Count  Dtype  \n",
      "---  ------               --------------  -----  \n",
      " 0   polarity_peak        379 non-null    object \n",
      " 1   Lipid.class          379 non-null    object \n",
      " 2   Lipid.species        379 non-null    object \n",
      " 3   fragmentation        330 non-null    object \n",
      " 4   adduct               379 non-null    object \n",
      " 5   other.mode           281 non-null    object \n",
      " 6   MZ.target            379 non-null    float64\n",
      " 7   RT.data              379 non-null    float64\n",
      " 8   init_peak            379 non-null    object \n",
      " 9   polarity             379 non-null    object \n",
      " 10  schiz_peak           379 non-null    object \n",
      " 11  healthy_predicted    379 non-null    object \n",
      " 12  rt_error             379 non-null    float64\n",
      " 13  ppm_error            379 non-null    float64\n",
      " 14  schiz_peak_WO_       379 non-null    object \n",
      " 15  corr_all             379 non-null    float64\n",
      " 16  corr_HC              379 non-null    float64\n",
      " 17  polarity_schiz_peak  379 non-null    object \n",
      "dtypes: float64(6), object(12)\n",
      "memory usage: 56.3+ KB\n"
     ]
    }
   ],
   "source": [
    "TL_combined.info()"
   ]
  },
  {
   "cell_type": "code",
   "execution_count": 27,
   "id": "dbef2a38",
   "metadata": {},
   "outputs": [
    {
     "name": "stdout",
     "output_type": "stream",
     "text": [
      "polarity_peak\n"
     ]
    },
    {
     "data": {
      "text/plain": [
       "posFT21454    1\n",
       "negFT14188    1\n",
       "negFT14245    1\n",
       "negFT14322    1\n",
       "negFT15517    1\n",
       "             ..\n",
       "negFT13295    1\n",
       "negFT12114    1\n",
       "negFT08742    1\n",
       "negFT08691    1\n",
       "negFT04068    1\n",
       "Name: polarity_peak, Length: 379, dtype: int64"
      ]
     },
     "metadata": {},
     "output_type": "display_data"
    },
    {
     "name": "stdout",
     "output_type": "stream",
     "text": [
      "Lipid.class\n"
     ]
    },
    {
     "data": {
      "text/plain": [
       "PC             66\n",
       "PE_P           44\n",
       "PE             38\n",
       "FA             30\n",
       "Cer            28\n",
       "SM             23\n",
       "TG             18\n",
       "HexCer         18\n",
       "PC_O           17\n",
       "PC_P           15\n",
       "DG             14\n",
       "SulfoHexCer    13\n",
       "LPC            13\n",
       "LPE            12\n",
       "PG              8\n",
       "PE_O            6\n",
       "CE              6\n",
       "PI              5\n",
       "PS              2\n",
       "CAR             2\n",
       "Cholesterol     1\n",
       "Name: Lipid.class, dtype: int64"
      ]
     },
     "metadata": {},
     "output_type": "display_data"
    },
    {
     "name": "stdout",
     "output_type": "stream",
     "text": [
      "Lipid.species\n"
     ]
    },
    {
     "data": {
      "text/plain": [
       "PE_P 38:3    3\n",
       "PE_P 40:3    3\n",
       "PC 40:6      3\n",
       "PE_P 40:5    2\n",
       "PC 32:2      2\n",
       "            ..\n",
       "PE 34:1      1\n",
       "LPC 22:4     1\n",
       "LPC 22:5     1\n",
       "LPC 22:6     1\n",
       "FA 26:1      1\n",
       "Name: Lipid.species, Length: 347, dtype: int64"
      ]
     },
     "metadata": {},
     "output_type": "display_data"
    },
    {
     "name": "stdout",
     "output_type": "stream",
     "text": [
      "fragmentation\n"
     ]
    },
    {
     "data": {
      "text/plain": [
       "Cer(d18:1/20:0). Cer(d20:1/18:0)               2\n",
       "Cer(d18:1/18:0)                                2\n",
       "LPC(16:0)                                      2\n",
       "LPC(18:2)                                      2\n",
       "PC(16:0_20:3). PC(18:1_18:2)                   2\n",
       "                                              ..\n",
       "PE(18:1_22:4). PE(18:0_22:5). PE(20:4_20:1)    1\n",
       "PE(18:0_22:5)                                  1\n",
       "PE(16:0_22:6)                                  1\n",
       "PE(18:0_20:4)                                  1\n",
       "SulfoHexCer (d18:1/h26:1)                      1\n",
       "Name: fragmentation, Length: 324, dtype: int64"
      ]
     },
     "metadata": {},
     "output_type": "display_data"
    },
    {
     "name": "stdout",
     "output_type": "stream",
     "text": [
      "adduct\n"
     ]
    },
    {
     "data": {
      "text/plain": [
       "M-H       156\n",
       "M-H+FA    111\n",
       "M+H        73\n",
       "M+NH4      39\n",
       "Name: adduct, dtype: int64"
      ]
     },
     "metadata": {},
     "output_type": "display_data"
    },
    {
     "name": "stdout",
     "output_type": "stream",
     "text": [
      "other.mode\n"
     ]
    },
    {
     "data": {
      "text/plain": [
       "negFT09400    1\n",
       "posFT35614    1\n",
       "posFT28191    1\n",
       "posFT28284    1\n",
       "posFT27312    1\n",
       "             ..\n",
       "posFT33604    1\n",
       "posFT33313    1\n",
       "posFT35119    1\n",
       "posFT35252    1\n",
       "posFT41648    1\n",
       "Name: other.mode, Length: 281, dtype: int64"
      ]
     },
     "metadata": {},
     "output_type": "display_data"
    },
    {
     "name": "stdout",
     "output_type": "stream",
     "text": [
      "MZ.target\n"
     ]
    },
    {
     "data": {
      "text/plain": [
       "612.557849    1\n",
       "768.591555    1\n",
       "770.513446    1\n",
       "772.528779    1\n",
       "802.576183    1\n",
       "             ..\n",
       "744.555322    1\n",
       "716.523734    1\n",
       "616.362286    1\n",
       "614.346594    1\n",
       "393.372915    1\n",
       "Name: MZ.target, Length: 379, dtype: int64"
      ]
     },
     "metadata": {},
     "output_type": "display_data"
    },
    {
     "name": "stdout",
     "output_type": "stream",
     "text": [
      "RT.data\n"
     ]
    },
    {
     "data": {
      "text/plain": [
       "9.833337    1\n",
       "9.978361    1\n",
       "6.367770    1\n",
       "6.970403    1\n",
       "8.055765    1\n",
       "           ..\n",
       "8.549267    1\n",
       "7.445466    1\n",
       "2.850809    1\n",
       "2.650325    1\n",
       "6.879966    1\n",
       "Name: RT.data, Length: 379, dtype: int64"
      ]
     },
     "metadata": {},
     "output_type": "display_data"
    },
    {
     "name": "stdout",
     "output_type": "stream",
     "text": [
      "init_peak\n"
     ]
    },
    {
     "data": {
      "text/plain": [
       "FT21454    1\n",
       "FT14188    1\n",
       "FT14245    1\n",
       "FT14322    1\n",
       "FT15517    1\n",
       "          ..\n",
       "FT13295    1\n",
       "FT12114    1\n",
       "FT08742    1\n",
       "FT08691    1\n",
       "FT04068    1\n",
       "Name: init_peak, Length: 379, dtype: int64"
      ]
     },
     "metadata": {},
     "output_type": "display_data"
    },
    {
     "name": "stdout",
     "output_type": "stream",
     "text": [
      "polarity\n"
     ]
    },
    {
     "data": {
      "text/plain": [
       "neg    267\n",
       "pos    112\n",
       "Name: polarity, dtype: int64"
      ]
     },
     "metadata": {},
     "output_type": "display_data"
    },
    {
     "name": "stdout",
     "output_type": "stream",
     "text": [
      "schiz_peak\n"
     ]
    },
    {
     "data": {
      "text/plain": [
       "FT24227    1\n",
       "FT16794    1\n",
       "FT16876    1\n",
       "FT16978    1\n",
       "FT18601    1\n",
       "          ..\n",
       "FT15590    1\n",
       "FT14241    1\n",
       "FT10237    1\n",
       "FT10167    1\n",
       "FT04014    1\n",
       "Name: schiz_peak, Length: 379, dtype: int64"
      ]
     },
     "metadata": {},
     "output_type": "display_data"
    },
    {
     "name": "stdout",
     "output_type": "stream",
     "text": [
      "healthy_predicted\n"
     ]
    },
    {
     "data": {
      "text/plain": [
       "FT21454    1\n",
       "FT14188    1\n",
       "FT14245    1\n",
       "FT14322    1\n",
       "FT15517    1\n",
       "          ..\n",
       "FT13295    1\n",
       "FT12114    1\n",
       "FT08742    1\n",
       "FT08691    1\n",
       "FT04068    1\n",
       "Name: healthy_predicted, Length: 379, dtype: int64"
      ]
     },
     "metadata": {},
     "output_type": "display_data"
    },
    {
     "name": "stdout",
     "output_type": "stream",
     "text": [
      "rt_error\n"
     ]
    },
    {
     "data": {
      "text/plain": [
       " 0.010223    1\n",
       " 0.000381    1\n",
       "-0.002964    1\n",
       " 0.006978    1\n",
       "-0.001339    1\n",
       "            ..\n",
       "-0.004232    1\n",
       " 0.007264    1\n",
       " 0.003424    1\n",
       " 0.001721    1\n",
       " 0.003706    1\n",
       "Name: rt_error, Length: 379, dtype: int64"
      ]
     },
     "metadata": {},
     "output_type": "display_data"
    },
    {
     "name": "stdout",
     "output_type": "stream",
     "text": [
      "ppm_error\n"
     ]
    },
    {
     "data": {
      "text/plain": [
       "0.330946    1\n",
       "0.337116    1\n",
       "0.237944    1\n",
       "0.294485    1\n",
       "0.109813    1\n",
       "           ..\n",
       "0.837177    1\n",
       "0.685882    1\n",
       "1.460076    1\n",
       "1.654524    1\n",
       "3.219777    1\n",
       "Name: ppm_error, Length: 379, dtype: int64"
      ]
     },
     "metadata": {},
     "output_type": "display_data"
    },
    {
     "name": "stdout",
     "output_type": "stream",
     "text": [
      "schiz_peak_WO_\n"
     ]
    },
    {
     "data": {
      "text/plain": [
       "FT24227    1\n",
       "FT16794    1\n",
       "FT16876    1\n",
       "FT16978    1\n",
       "FT18601    1\n",
       "          ..\n",
       "FT15590    1\n",
       "FT14241    1\n",
       "FT10237    1\n",
       "FT10167    1\n",
       "FT04014    1\n",
       "Name: schiz_peak_WO_, Length: 379, dtype: int64"
      ]
     },
     "metadata": {},
     "output_type": "display_data"
    },
    {
     "name": "stdout",
     "output_type": "stream",
     "text": [
      "corr_all\n"
     ]
    },
    {
     "data": {
      "text/plain": [
       "0.534097    1\n",
       "0.889231    1\n",
       "0.774809    1\n",
       "0.560486    1\n",
       "0.845113    1\n",
       "           ..\n",
       "0.546454    1\n",
       "0.585631    1\n",
       "0.301956    1\n",
       "0.534780    1\n",
       "0.734729    1\n",
       "Name: corr_all, Length: 379, dtype: int64"
      ]
     },
     "metadata": {},
     "output_type": "display_data"
    },
    {
     "name": "stdout",
     "output_type": "stream",
     "text": [
      "corr_HC\n"
     ]
    },
    {
     "data": {
      "text/plain": [
       "0.977170    1\n",
       "0.902138    1\n",
       "0.706931    1\n",
       "0.611168    1\n",
       "0.906908    1\n",
       "           ..\n",
       "0.454723    1\n",
       "0.517095    1\n",
       "0.741289    1\n",
       "0.759051    1\n",
       "0.849638    1\n",
       "Name: corr_HC, Length: 379, dtype: int64"
      ]
     },
     "metadata": {},
     "output_type": "display_data"
    },
    {
     "name": "stdout",
     "output_type": "stream",
     "text": [
      "polarity_schiz_peak\n"
     ]
    },
    {
     "data": {
      "text/plain": [
       "posFT24227    1\n",
       "negFT16794    1\n",
       "negFT16876    1\n",
       "negFT16978    1\n",
       "negFT18601    1\n",
       "             ..\n",
       "negFT15590    1\n",
       "negFT14241    1\n",
       "negFT10237    1\n",
       "negFT10167    1\n",
       "negFT04014    1\n",
       "Name: polarity_schiz_peak, Length: 379, dtype: int64"
      ]
     },
     "metadata": {},
     "output_type": "display_data"
    }
   ],
   "source": [
    "for column in TL_combined.columns:\n",
    "    print(column)\n",
    "    display(TL_combined[column].value_counts())"
   ]
  },
  {
   "cell_type": "code",
   "execution_count": null,
   "id": "ea1e2ded",
   "metadata": {},
   "outputs": [],
   "source": []
  },
  {
   "cell_type": "code",
   "execution_count": null,
   "id": "a0db7c26",
   "metadata": {},
   "outputs": [],
   "source": []
  },
  {
   "cell_type": "markdown",
   "id": "2f7d087b",
   "metadata": {},
   "source": [
    "# meta_pos_COMBINED"
   ]
  },
  {
   "cell_type": "code",
   "execution_count": 5,
   "id": "f6b020e6",
   "metadata": {},
   "outputs": [],
   "source": [
    "meta_pos_COMBINED = pd.read_csv(\"meta_pos_COMBINED.csv\", index_col=0)"
   ]
  },
  {
   "cell_type": "code",
   "execution_count": 7,
   "id": "6f9d1348",
   "metadata": {},
   "outputs": [
    {
     "data": {
      "text/plain": [
       "Index(['Batch_number', 'Sample', 'Data_type', 'MS#', 'MS#2', 'Brain_abbr',\n",
       "       'New#', 'Region_detailed', 'Region_bulk', 'parsed_names', 'pos_name',\n",
       "       'state', 'MS_number'],\n",
       "      dtype='object')"
      ]
     },
     "execution_count": 7,
     "metadata": {},
     "output_type": "execute_result"
    }
   ],
   "source": [
    "meta_pos_COMBINED.columns"
   ]
  },
  {
   "cell_type": "code",
   "execution_count": 8,
   "id": "08c26ba6",
   "metadata": {},
   "outputs": [
    {
     "data": {
      "text/html": [
       "<div>\n",
       "<style scoped>\n",
       "    .dataframe tbody tr th:only-of-type {\n",
       "        vertical-align: middle;\n",
       "    }\n",
       "\n",
       "    .dataframe tbody tr th {\n",
       "        vertical-align: top;\n",
       "    }\n",
       "\n",
       "    .dataframe thead th {\n",
       "        text-align: right;\n",
       "    }\n",
       "</style>\n",
       "<table border=\"1\" class=\"dataframe\">\n",
       "  <thead>\n",
       "    <tr style=\"text-align: right;\">\n",
       "      <th></th>\n",
       "      <th>Batch_number</th>\n",
       "      <th>Sample</th>\n",
       "      <th>Data_type</th>\n",
       "      <th>MS#</th>\n",
       "      <th>MS#2</th>\n",
       "      <th>Brain_abbr</th>\n",
       "      <th>New#</th>\n",
       "      <th>Region_detailed</th>\n",
       "      <th>Region_bulk</th>\n",
       "      <th>parsed_names</th>\n",
       "      <th>pos_name</th>\n",
       "      <th>state</th>\n",
       "      <th>MS_number</th>\n",
       "    </tr>\n",
       "  </thead>\n",
       "  <tbody>\n",
       "    <tr>\n",
       "      <th>0</th>\n",
       "      <td>1</td>\n",
       "      <td>170426_BM_pos_1-30_MS1_HA_259</td>\n",
       "      <td>MS</td>\n",
       "      <td>1.0</td>\n",
       "      <td>MS1</td>\n",
       "      <td>HA</td>\n",
       "      <td>259</td>\n",
       "      <td>25 Posterior Inferior Temporal (BA20p)</td>\n",
       "      <td>Associative cortex</td>\n",
       "      <td>HA_259</td>\n",
       "      <td>170426_BM_pos_1-30_MS1_HA_259.mzXML</td>\n",
       "      <td>healthy</td>\n",
       "      <td>NaN</td>\n",
       "    </tr>\n",
       "    <tr>\n",
       "      <th>1</th>\n",
       "      <td>1</td>\n",
       "      <td>170426_BM_pos_1-30_MS2_HA_502</td>\n",
       "      <td>MS</td>\n",
       "      <td>2.0</td>\n",
       "      <td>MS2</td>\n",
       "      <td>HA</td>\n",
       "      <td>502</td>\n",
       "      <td>2  Anterior Supramarginal (BA40a)</td>\n",
       "      <td>Associative cortex</td>\n",
       "      <td>HA_502</td>\n",
       "      <td>170426_BM_pos_1-30_MS2_HA_502.mzXML</td>\n",
       "      <td>healthy</td>\n",
       "      <td>NaN</td>\n",
       "    </tr>\n",
       "    <tr>\n",
       "      <th>2</th>\n",
       "      <td>1</td>\n",
       "      <td>170426_BM_pos_1-30_MS3_HA_16</td>\n",
       "      <td>MS</td>\n",
       "      <td>3.0</td>\n",
       "      <td>MS3</td>\n",
       "      <td>HA</td>\n",
       "      <td>16</td>\n",
       "      <td>21 FEF Lateral (BA8)</td>\n",
       "      <td>Secondary cortex</td>\n",
       "      <td>HA_16</td>\n",
       "      <td>170426_BM_pos_1-30_MS3_HA_16.mzXML</td>\n",
       "      <td>healthy</td>\n",
       "      <td>NaN</td>\n",
       "    </tr>\n",
       "    <tr>\n",
       "      <th>3</th>\n",
       "      <td>1</td>\n",
       "      <td>170426_BM_pos_1-30_MS4_HA_556</td>\n",
       "      <td>MS</td>\n",
       "      <td>4.0</td>\n",
       "      <td>MS4</td>\n",
       "      <td>HA</td>\n",
       "      <td>556</td>\n",
       "      <td>65 Hippocampus, CA1</td>\n",
       "      <td>Limbic cortex</td>\n",
       "      <td>HA_556</td>\n",
       "      <td>170426_BM_pos_1-30_MS4_HA_556.mzXML</td>\n",
       "      <td>healthy</td>\n",
       "      <td>NaN</td>\n",
       "    </tr>\n",
       "    <tr>\n",
       "      <th>4</th>\n",
       "      <td>1</td>\n",
       "      <td>170426_BM_pos_1-30_MS5_HA_98</td>\n",
       "      <td>MS</td>\n",
       "      <td>5.0</td>\n",
       "      <td>MS5</td>\n",
       "      <td>HA</td>\n",
       "      <td>98</td>\n",
       "      <td>29 Precuneus (BA7m)</td>\n",
       "      <td>Associative cortex</td>\n",
       "      <td>HA_98</td>\n",
       "      <td>170426_BM_pos_1-30_MS5_HA_98.mzXML</td>\n",
       "      <td>healthy</td>\n",
       "      <td>NaN</td>\n",
       "    </tr>\n",
       "  </tbody>\n",
       "</table>\n",
       "</div>"
      ],
      "text/plain": [
       "  Batch_number                         Sample Data_type  MS# MS#2 Brain_abbr  \\\n",
       "0            1  170426_BM_pos_1-30_MS1_HA_259        MS  1.0  MS1         HA   \n",
       "1            1  170426_BM_pos_1-30_MS2_HA_502        MS  2.0  MS2         HA   \n",
       "2            1   170426_BM_pos_1-30_MS3_HA_16        MS  3.0  MS3         HA   \n",
       "3            1  170426_BM_pos_1-30_MS4_HA_556        MS  4.0  MS4         HA   \n",
       "4            1   170426_BM_pos_1-30_MS5_HA_98        MS  5.0  MS5         HA   \n",
       "\n",
       "   New#                         Region_detailed         Region_bulk  \\\n",
       "0   259  25 Posterior Inferior Temporal (BA20p)  Associative cortex   \n",
       "1   502       2  Anterior Supramarginal (BA40a)  Associative cortex   \n",
       "2    16                    21 FEF Lateral (BA8)    Secondary cortex   \n",
       "3   556                     65 Hippocampus, CA1       Limbic cortex   \n",
       "4    98                     29 Precuneus (BA7m)  Associative cortex   \n",
       "\n",
       "  parsed_names                             pos_name    state  MS_number  \n",
       "0       HA_259  170426_BM_pos_1-30_MS1_HA_259.mzXML  healthy        NaN  \n",
       "1       HA_502  170426_BM_pos_1-30_MS2_HA_502.mzXML  healthy        NaN  \n",
       "2        HA_16   170426_BM_pos_1-30_MS3_HA_16.mzXML  healthy        NaN  \n",
       "3       HA_556  170426_BM_pos_1-30_MS4_HA_556.mzXML  healthy        NaN  \n",
       "4        HA_98   170426_BM_pos_1-30_MS5_HA_98.mzXML  healthy        NaN  "
      ]
     },
     "execution_count": 8,
     "metadata": {},
     "output_type": "execute_result"
    }
   ],
   "source": [
    "meta_pos_COMBINED.head()"
   ]
  },
  {
   "cell_type": "code",
   "execution_count": 46,
   "id": "af1cf9f1",
   "metadata": {},
   "outputs": [
    {
     "name": "stdout",
     "output_type": "stream",
     "text": [
      "<class 'pandas.core.frame.DataFrame'>\n",
      "Int64Index: 588 entries, 0 to 291\n",
      "Data columns (total 13 columns):\n",
      " #   Column           Non-Null Count  Dtype  \n",
      "---  ------           --------------  -----  \n",
      " 0   Batch_number     588 non-null    object \n",
      " 1   Sample           588 non-null    object \n",
      " 2   Data_type        588 non-null    object \n",
      " 3   MS#              296 non-null    float64\n",
      " 4   MS#2             296 non-null    object \n",
      " 5   Brain_abbr       588 non-null    object \n",
      " 6   New#             588 non-null    int64  \n",
      " 7   Region_detailed  588 non-null    object \n",
      " 8   Region_bulk      588 non-null    object \n",
      " 9   parsed_names     588 non-null    object \n",
      " 10  pos_name         588 non-null    object \n",
      " 11  state            588 non-null    object \n",
      " 12  MS_number        292 non-null    float64\n",
      "dtypes: float64(2), int64(1), object(10)\n",
      "memory usage: 64.3+ KB\n"
     ]
    }
   ],
   "source": [
    "meta_pos_COMBINED.info()"
   ]
  },
  {
   "cell_type": "code",
   "execution_count": 4,
   "id": "e20f45d0",
   "metadata": {},
   "outputs": [
    {
     "data": {
      "text/plain": [
       "600"
      ]
     },
     "execution_count": 4,
     "metadata": {},
     "output_type": "execute_result"
    }
   ],
   "source": [
    "75*8"
   ]
  },
  {
   "cell_type": "code",
   "execution_count": 47,
   "id": "f6501cf7",
   "metadata": {},
   "outputs": [
    {
     "name": "stdout",
     "output_type": "stream",
     "text": [
      "Batch_number\n"
     ]
    },
    {
     "data": {
      "text/plain": [
       "Batch1    75\n",
       "Batch2    74\n",
       "4         73\n",
       "Batch3    72\n",
       "8         71\n",
       "Batch4    71\n",
       "6         65\n",
       "1         48\n",
       "2         29\n",
       "7         10\n",
       "Name: Batch_number, dtype: int64"
      ]
     },
     "metadata": {},
     "output_type": "display_data"
    },
    {
     "name": "stdout",
     "output_type": "stream",
     "text": [
      "Sample\n"
     ]
    },
    {
     "data": {
      "text/plain": [
       "170426_BM_pos_1-30_MS1_HA_259           1\n",
       "Batch3_Sch_Br_x30_pos_3-34_190.mzXML    1\n",
       "Batch3_Sch_Br_x30_pos_3-30_228.mzXML    1\n",
       "Batch4_Sch_Br_x30_pos_5-30_322.mzXML    1\n",
       "Batch1_Sch_Br_x30_pos_1-31_27.mzXML     1\n",
       "                                       ..\n",
       "170426_pos_1-30_MS521_HC_126            1\n",
       "170426_pos_1-30_MS522_HC_447            1\n",
       "170426_pos_1-30_MS523_HC_232            1\n",
       "170426_pos_1-30_MS524_HC_341            1\n",
       "Batch4_Sch_Br_x30_pos_5-09_312.mzXML    1\n",
       "Name: Sample, Length: 588, dtype: int64"
      ]
     },
     "metadata": {},
     "output_type": "display_data"
    },
    {
     "name": "stdout",
     "output_type": "stream",
     "text": [
      "Data_type\n"
     ]
    },
    {
     "data": {
      "text/plain": [
       "MS    588\n",
       "Name: Data_type, dtype: int64"
      ]
     },
     "metadata": {},
     "output_type": "display_data"
    },
    {
     "name": "stdout",
     "output_type": "stream",
     "text": [
      "MS#\n"
     ]
    },
    {
     "data": {
      "text/plain": [
       "1.0      1\n",
       "529.0    1\n",
       "527.0    1\n",
       "525.0    1\n",
       "524.0    1\n",
       "        ..\n",
       "258.0    1\n",
       "257.0    1\n",
       "256.0    1\n",
       "255.0    1\n",
       "706.0    1\n",
       "Name: MS#, Length: 296, dtype: int64"
      ]
     },
     "metadata": {},
     "output_type": "display_data"
    },
    {
     "name": "stdout",
     "output_type": "stream",
     "text": [
      "MS#2\n"
     ]
    },
    {
     "data": {
      "text/plain": [
       "MS1      1\n",
       "MS529    1\n",
       "MS527    1\n",
       "MS525    1\n",
       "MS524    1\n",
       "        ..\n",
       "MS258    1\n",
       "MS257    1\n",
       "MS256    1\n",
       "MS255    1\n",
       "MS706    1\n",
       "Name: MS#2, Length: 296, dtype: int64"
      ]
     },
     "metadata": {},
     "output_type": "display_data"
    },
    {
     "name": "stdout",
     "output_type": "stream",
     "text": [
      "Brain_abbr\n"
     ]
    },
    {
     "data": {
      "text/plain": [
       "HA    77\n",
       "HC    75\n",
       "H1    75\n",
       "H2    74\n",
       "HB    73\n",
       "H3    72\n",
       "HD    71\n",
       "H5    71\n",
       "Name: Brain_abbr, dtype: int64"
      ]
     },
     "metadata": {},
     "output_type": "display_data"
    },
    {
     "name": "stdout",
     "output_type": "stream",
     "text": [
      "New#\n"
     ]
    },
    {
     "data": {
      "text/plain": [
       "259    2\n",
       "19     2\n",
       "339    2\n",
       "277    2\n",
       "205    2\n",
       "      ..\n",
       "199    1\n",
       "174    1\n",
       "587    1\n",
       "370    1\n",
       "312    1\n",
       "Name: New#, Length: 471, dtype: int64"
      ]
     },
     "metadata": {},
     "output_type": "display_data"
    },
    {
     "name": "stdout",
     "output_type": "stream",
     "text": [
      "Region_detailed\n"
     ]
    },
    {
     "data": {
      "text/plain": [
       "49 Cingulate Anterior (BA32)               9\n",
       "27 2ary/3ary Visual Anterior (BA18/19a)    9\n",
       "71 External Capsule                        9\n",
       "5  Retrosplenial (BA29/30)                 9\n",
       "11 2ary Auditory Posterior (BA21p)         9\n",
       "                                          ..\n",
       "60 Superior Colliculus                     7\n",
       "54 Entorhinal Cortex                       7\n",
       "12 Premotor Posterior (BA6p)               6\n",
       "62 Red Nucleus                             6\n",
       "13 Premotor Precentral (BA6prc)            6\n",
       "Name: Region_detailed, Length: 75, dtype: int64"
      ]
     },
     "metadata": {},
     "output_type": "display_data"
    },
    {
     "name": "stdout",
     "output_type": "stream",
     "text": [
      "Region_bulk\n"
     ]
    },
    {
     "data": {
      "text/plain": [
       "Associative cortex    165\n",
       "Secondary cortex      125\n",
       "Limbic cortex         103\n",
       "Primary cortex         48\n",
       "Basal Ganglia          39\n",
       "White matter           33\n",
       "Thalamus               31\n",
       "Cerebellum             24\n",
       "Midbrain               13\n",
       "Hypothalamus            7\n",
       "Name: Region_bulk, dtype: int64"
      ]
     },
     "metadata": {},
     "output_type": "display_data"
    },
    {
     "name": "stdout",
     "output_type": "stream",
     "text": [
      "parsed_names\n"
     ]
    },
    {
     "data": {
      "text/plain": [
       "HA_259    1\n",
       "3_34      1\n",
       "3_30      1\n",
       "5_30      1\n",
       "1_31      1\n",
       "         ..\n",
       "HC_126    1\n",
       "HC_447    1\n",
       "HC_232    1\n",
       "HC_341    1\n",
       "5_09      1\n",
       "Name: parsed_names, Length: 588, dtype: int64"
      ]
     },
     "metadata": {},
     "output_type": "display_data"
    },
    {
     "name": "stdout",
     "output_type": "stream",
     "text": [
      "pos_name\n"
     ]
    },
    {
     "data": {
      "text/plain": [
       "170426_BM_pos_1-30_MS1_HA_259.mzXML     1\n",
       "Batch3_Sch_Br_x30_pos_3-34_190.mzXML    1\n",
       "Batch3_Sch_Br_x30_pos_3-30_228.mzXML    1\n",
       "Batch4_Sch_Br_x30_pos_5-30_322.mzXML    1\n",
       "Batch1_Sch_Br_x30_pos_1-31_27.mzXML     1\n",
       "                                       ..\n",
       "170426_pos_1-30_MS521_HC_126.mzXML      1\n",
       "170426_pos_1-30_MS522_HC_447.mzXML      1\n",
       "170426_pos_1-30_MS523_HC_232.mzXML      1\n",
       "170426_pos_1-30_MS524_HC_341.mzXML      1\n",
       "Batch4_Sch_Br_x30_pos_5-09_312.mzXML    1\n",
       "Name: pos_name, Length: 588, dtype: int64"
      ]
     },
     "metadata": {},
     "output_type": "display_data"
    },
    {
     "name": "stdout",
     "output_type": "stream",
     "text": [
      "state\n"
     ]
    },
    {
     "data": {
      "text/plain": [
       "healthy    296\n",
       "schiz      292\n",
       "Name: state, dtype: int64"
      ]
     },
     "metadata": {},
     "output_type": "display_data"
    },
    {
     "name": "stdout",
     "output_type": "stream",
     "text": [
      "MS_number\n"
     ]
    },
    {
     "data": {
      "text/plain": [
       "29.0     1\n",
       "233.0    1\n",
       "66.0     1\n",
       "309.0    1\n",
       "128.0    1\n",
       "        ..\n",
       "238.0    1\n",
       "156.0    1\n",
       "27.0     1\n",
       "322.0    1\n",
       "312.0    1\n",
       "Name: MS_number, Length: 292, dtype: int64"
      ]
     },
     "metadata": {},
     "output_type": "display_data"
    }
   ],
   "source": [
    "for column in meta_pos_COMBINED.columns:\n",
    "    print(column)\n",
    "    display(meta_pos_COMBINED[column].value_counts())"
   ]
  },
  {
   "cell_type": "code",
   "execution_count": null,
   "id": "9db9c4d1",
   "metadata": {},
   "outputs": [],
   "source": []
  },
  {
   "cell_type": "code",
   "execution_count": null,
   "id": "565e667b",
   "metadata": {},
   "outputs": [],
   "source": []
  }
 ],
 "metadata": {
  "kernelspec": {
   "display_name": "Python 3 (ipykernel)",
   "language": "python",
   "name": "python3"
  },
  "language_info": {
   "codemirror_mode": {
    "name": "ipython",
    "version": 3
   },
   "file_extension": ".py",
   "mimetype": "text/x-python",
   "name": "python",
   "nbconvert_exporter": "python",
   "pygments_lexer": "ipython3",
   "version": "3.9.12"
  }
 },
 "nbformat": 4,
 "nbformat_minor": 5
}
