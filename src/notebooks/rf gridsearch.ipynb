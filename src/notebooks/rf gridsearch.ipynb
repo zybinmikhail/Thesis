{
 "cells": [
  {
   "cell_type": "code",
   "execution_count": 1,
   "id": "c9680a59",
   "metadata": {},
   "outputs": [],
   "source": [
    "import numpy as np\n",
    "import pandas as pd\n",
    "from sklearn.decomposition import PCA\n",
    "from sklearn.manifold import TSNE\n",
    "from sklearn.ensemble import RandomForestClassifier\n",
    "from sklearn.model_selection import KFold, GridSearchCV\n",
    "from sklearn.metrics import f1_score, accuracy_score\n",
    "from tqdm import tqdm\n",
    "import pickle"
   ]
  },
  {
   "cell_type": "code",
   "execution_count": 2,
   "id": "546a2a4c",
   "metadata": {},
   "outputs": [],
   "source": [
    "%load_ext autoreload\n",
    "%autoreload 2\n",
    "\n",
    "import sys\n",
    "sys.path.append(\"..\")\n",
    "from utils import get_tr_data"
   ]
  },
  {
   "cell_type": "code",
   "execution_count": 3,
   "id": "5a08476b",
   "metadata": {},
   "outputs": [],
   "source": [
    "healthy_data = get_tr_data(True)\n",
    "sz_data = get_tr_data(False)"
   ]
  },
  {
   "cell_type": "markdown",
   "id": "2293e474",
   "metadata": {},
   "source": [
    "# region prediction transcriptomis data RF gridsearch"
   ]
  },
  {
   "cell_type": "code",
   "execution_count": 12,
   "id": "59d8fbf8",
   "metadata": {},
   "outputs": [
    {
     "name": "stdout",
     "output_type": "stream",
     "text": [
      "(280, 14177) (280,)\n"
     ]
    }
   ],
   "source": [
    "from sklearn.preprocessing import LabelEncoder\n",
    "\n",
    "encoder = LabelEncoder()\n",
    "\n",
    "y = encoder.fit_transform(healthy_data.region)\n",
    "y = np.concatenate([y, encoder.transform(sz_data.region)])\n",
    "\n",
    "X = np.concatenate([healthy_data[common_genes].values, sz_data[common_genes].values])\n",
    "n_splits = 5\n",
    "kfold = KFold(n_splits=n_splits)\n",
    "print(X.shape, y.shape)\n",
    "means = X.mean(axis=0)\n",
    "sigma = X.std(axis=0)\n",
    "X = (X - means) / sigma"
   ]
  },
  {
   "cell_type": "code",
   "execution_count": 15,
   "id": "56a87742",
   "metadata": {},
   "outputs": [],
   "source": [
    "gridsearch = GridSearchCV(\n",
    "    estimator=RandomForestClassifier(n_jobs=-1, random_state=1298643),\n",
    "    cv=KFold(n_splits=280),\n",
    "    param_grid={\n",
    "        \"n_estimators\": [200, 300], \"criterion\": [\"gini\", \"entropy\"],\n",
    "        \"max_depth\": np.arange(30, 50, 4),\n",
    "        \"max_features\": [\"sqrt\", \"log2\"],\n",
    "    },\n",
    "    scoring=\"accuracy\",\n",
    "    verbose=2,\n",
    ")"
   ]
  },
  {
   "cell_type": "code",
   "execution_count": null,
   "id": "034ab995",
   "metadata": {},
   "outputs": [],
   "source": [
    "gridsearch.fit(X, y)"
   ]
  },
  {
   "cell_type": "code",
   "execution_count": 17,
   "id": "ccfead86",
   "metadata": {},
   "outputs": [
    {
     "data": {
      "text/plain": [
       "0.2357142857142857"
      ]
     },
     "execution_count": 17,
     "metadata": {},
     "output_type": "execute_result"
    }
   ],
   "source": [
    "gridsearch.best_score_"
   ]
  },
  {
   "cell_type": "code",
   "execution_count": 18,
   "id": "9dfc6c80",
   "metadata": {},
   "outputs": [
    {
     "data": {
      "text/plain": [
       "{'criterion': 'entropy',\n",
       " 'max_depth': 30,\n",
       " 'max_features': 'sqrt',\n",
       " 'n_estimators': 300}"
      ]
     },
     "execution_count": 18,
     "metadata": {},
     "output_type": "execute_result"
    }
   ],
   "source": [
    "gridsearch.best_params_"
   ]
  },
  {
   "cell_type": "code",
   "execution_count": 19,
   "id": "107c3cab",
   "metadata": {},
   "outputs": [],
   "source": []
  },
  {
   "cell_type": "code",
   "execution_count": 20,
   "id": "a1c6469f",
   "metadata": {},
   "outputs": [],
   "source": [
    "with open(\"../../data/intermediate/gridsearch_RF.pkl\", \"wb\") as fout:\n",
    "    pickle.dump(gridsearch, fout)"
   ]
  },
  {
   "cell_type": "code",
   "execution_count": null,
   "id": "4d4088c7",
   "metadata": {},
   "outputs": [],
   "source": []
  }
 ],
 "metadata": {
  "kernelspec": {
   "display_name": "thesis",
   "language": "python",
   "name": "thesis"
  },
  "language_info": {
   "codemirror_mode": {
    "name": "ipython",
    "version": 3
   },
   "file_extension": ".py",
   "mimetype": "text/x-python",
   "name": "python",
   "nbconvert_exporter": "python",
   "pygments_lexer": "ipython3",
   "version": "3.10.8"
  }
 },
 "nbformat": 4,
 "nbformat_minor": 5
}
